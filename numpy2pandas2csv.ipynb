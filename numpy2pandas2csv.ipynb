{
 "metadata": {
  "language_info": {
   "codemirror_mode": {
    "name": "ipython",
    "version": 3
   },
   "file_extension": ".py",
   "mimetype": "text/x-python",
   "name": "python",
   "nbconvert_exporter": "python",
   "pygments_lexer": "ipython3",
   "version": 3
  },
  "orig_nbformat": 2
 },
 "nbformat": 4,
 "nbformat_minor": 2,
 "cells": [
  {
   "cell_type": "code",
   "execution_count": null,
   "metadata": {},
   "outputs": [],
   "source": [
    "import pandas as pd\n",
    "import numpy as np\n",
    "import xarray as xr\n",
    "import arrow"
   ]
  },
  {
   "cell_type": "code",
   "execution_count": null,
   "metadata": {},
   "outputs": [],
   "source": [
    "ds = xr.open_dataset(\"\")\n",
    "toArrow = lambda t: arrow(t)\n",
    "timeArr = np.array([toArrow(v) for v in ds['time'].values])"
   ]
  },
  {
   "cell_type": "code",
   "execution_count": null,
   "metadata": {},
   "outputs": [],
   "source": [
    "df = pd.DataFrame()\n",
    "arr = np.random.rand(10)\n",
    "df['time'] = pd.Series(ds['time'].values)\n",
    "df['year'] = pd.Series(arr)\n",
    "df['month'] = pd.Series(arr)\n",
    "df['day'] = pd.Series(arr)\n",
    "df['hour'] = pd.Series(arr)\n",
    "varList = ['visi000', 'visi003', 'visi006', 'visi009', 'visi012']\n",
    "for varname in varList:\n",
    "    df[varname] = pd.Series(arr)\n",
    "\n",
    "df.to_csv('Result.csv')"
   ]
  },
  {
   "cell_type": "code",
   "execution_count": null,
   "metadata": {},
   "outputs": [],
   "source": [
    "ds['visi000'].attrs['missing_value'] = -999.9\n",
    "ds['visi000'].attrs['_FillValue'] = -999.9\n",
    "ds['visi000'].attrs['valid_min'] = 0.0\n",
    "ds['visi000'].attrs['standard_name'] = 'visibility_in_air'\n",
    "ds['visi000'].attrs['units'] = 'm'\n",
    "ds['visi000'].attrs['long_name'] = 'visibility'\n",
    "ds['visi000'].attrs['short_name'] = 'visibility'\n",
    "\n",
    "ds['sstk000'].attrs['missing_value'] = -999.9\n",
    "ds['sstk000'].attrs['_FillValue'] = -999.9\n",
    "ds['sstk000'].attrs['valid_min'] = 0.0\n",
    "ds['sstk000'].attrs['standard_name'] = 'sea_surface_skin_temperature'\n",
    "ds['sstk000'].attrs['units'] = 'K'\n",
    "ds['sstk000'].attrs['long_name'] = 'sea surface temperature'\n",
    "ds['sstk000'].attrs['short_name'] = 'SST'\n",
    "\n",
    "ds['t2md000'].attrs['missing_value'] = -999.9\n",
    "ds['t2md000'].attrs['_FillValue'] = -999.9\n",
    "ds['t2md000'].attrs['valid_min'] = 0.0\n",
    "ds['t2md000'].attrs['standard_name'] = 'dew_point_temperature'\n",
    "ds['t2md000'].attrs['units'] = 'K' # Celsius\n",
    "ds['t2md000'].attrs['long_name'] = 'dew point'\n",
    "ds['t2md000'].attrs['short_name'] = 'Td'\n",
    "\n",
    "ds['t2mm000'].attrs['missing_value'] = -999.9\n",
    "ds['t2mm000'].attrs['_FillValue'] = -999.9\n",
    "ds['t2mm000'].attrs['valid_min'] = 0.0\n",
    "ds['t2mm000'].attrs['standard_name'] = 'air_temperature'\n",
    "ds['t2mm000'].attrs['units'] = 'K' # Celsius\n",
    "ds['t2mm000'].attrs['long_name'] = 'ait temperature in 2 metre'\n",
    "ds['t2mm000'].attrs['short_name'] = 'T2m'\n"
   ]
  }
 ]
}