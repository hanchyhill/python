{
 "metadata": {
  "language_info": {
   "codemirror_mode": {
    "name": "ipython",
    "version": 3
   },
   "file_extension": ".py",
   "mimetype": "text/x-python",
   "name": "python",
   "nbconvert_exporter": "python",
   "pygments_lexer": "ipython3",
   "version": "3.9.1-final"
  },
  "orig_nbformat": 2,
  "kernelspec": {
   "name": "python391jvsc74a57bd07ec282adb609d267ea052698b1d12ba1fc8891075171e4264ee7608a3de20fed",
   "display_name": "Python 3.9.1 64-bit ('flask': conda)"
  }
 },
 "nbformat": 4,
 "nbformat_minor": 2,
 "cells": [
  {
   "cell_type": "code",
   "execution_count": 2,
   "metadata": {},
   "outputs": [],
   "source": [
    "import xarray as xr\n",
    "import arrow"
   ]
  },
  {
   "cell_type": "code",
   "execution_count": null,
   "metadata": {},
   "outputs": [],
   "source": [
    "fixLoc = [110.25, 20.125]\n",
    "url = 'http://10.148.8.71:7080/thredds/dodsC/ecmwf_fine_his/201805/visi.nc'\n",
    "dataset = xr.open_dataset(url)\n",
    "pointDs = dataset.loc[{'lat': fixLoc[1], 'lon': fixLoc[0]}]\n",
    "print(pointDs)\n",
    "\n"
   ]
  },
  {
   "cell_type": "code",
   "execution_count": null,
   "metadata": {},
   "outputs": [],
   "source": [
    "url2 = 'http://10.148.8.71:7080/thredds/dodsC/ecmwf_fine_his/201811/visi.nc'\n",
    "dataset2 = xr.open_dataset(url2)\n",
    "pointDs2 = dataset2.loc[{'lat': fixLoc[1], 'lon': fixLoc[0]}]\n",
    "print(pointDs2)"
   ]
  },
  {
   "cell_type": "code",
   "execution_count": null,
   "metadata": {},
   "outputs": [],
   "source": [
    "baseDs = xr.concat([pointDs, pointDs2], dim=\"time\")\n",
    "print(baseDs)"
   ]
  },
  {
   "cell_type": "code",
   "execution_count": null,
   "metadata": {},
   "outputs": [],
   "source": [
    "print(baseDs['time'])"
   ]
  },
  {
   "cell_type": "code",
   "execution_count": null,
   "metadata": {},
   "outputs": [],
   "source": [
    "initTime = arrow.get(2018, 10, 1)"
   ]
  },
  {
   "cell_type": "code",
   "execution_count": null,
   "metadata": {},
   "outputs": [],
   "source": [
    "initTime.month"
   ]
  },
  {
   "cell_type": "code",
   "execution_count": 4,
   "metadata": {},
   "outputs": [
    {
     "output_type": "stream",
     "name": "stdout",
     "text": [
      "[<Arrow [2018-10-01T00:00:00+00:00]>, <Arrow [2018-11-01T00:00:00+00:00]>, <Arrow [2018-12-01T00:00:00+00:00]>, <Arrow [2019-01-01T00:00:00+00:00]>, <Arrow [2019-02-01T00:00:00+00:00]>, <Arrow [2019-03-01T00:00:00+00:00]>, <Arrow [2019-04-01T00:00:00+00:00]>, <Arrow [2019-05-01T00:00:00+00:00]>, <Arrow [2019-06-01T00:00:00+00:00]>, <Arrow [2019-07-01T00:00:00+00:00]>, <Arrow [2019-08-01T00:00:00+00:00]>, <Arrow [2019-09-01T00:00:00+00:00]>, <Arrow [2019-10-01T00:00:00+00:00]>, <Arrow [2019-11-01T00:00:00+00:00]>, <Arrow [2019-12-01T00:00:00+00:00]>, <Arrow [2020-01-01T00:00:00+00:00]>, <Arrow [2020-02-01T00:00:00+00:00]>, <Arrow [2020-03-01T00:00:00+00:00]>, <Arrow [2020-04-01T00:00:00+00:00]>, <Arrow [2020-05-01T00:00:00+00:00]>, <Arrow [2020-06-01T00:00:00+00:00]>, <Arrow [2020-07-01T00:00:00+00:00]>, <Arrow [2020-08-01T00:00:00+00:00]>, <Arrow [2020-09-01T00:00:00+00:00]>, <Arrow [2020-10-01T00:00:00+00:00]>, <Arrow [2020-11-01T00:00:00+00:00]>, <Arrow [2020-12-01T00:00:00+00:00]>, <Arrow [2021-01-01T00:00:00+00:00]>, <Arrow [2021-02-01T00:00:00+00:00]>]\n"
     ]
    }
   ],
   "source": [
    "initTime = arrow.get(2018, 10, 1)\n",
    "endTime = arrow.get(2021,2,1)\n",
    "print(list(arrow.Arrow.range('month', initTime, endTime)))"
   ]
  },
  {
   "cell_type": "code",
   "execution_count": null,
   "metadata": {},
   "outputs": [],
   "source": []
  }
 ]
}