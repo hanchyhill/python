{
 "cells": [
  {
   "cell_type": "code",
   "execution_count": 1,
   "metadata": {},
   "outputs": [
    {
     "name": "stdout",
     "output_type": "stream",
     "text": [
      "2.2.0\n",
      "sys.version_info(major=3, minor=7, micro=7, releaselevel='final', serial=0)\n",
      "matplotlib 3.1.3\n",
      "numpy 1.21.5\n",
      "pandas 1.3.5\n",
      "sklearn 1.0.2\n",
      "tensorflow 2.2.0\n",
      "tensorflow.keras 2.3.0-tf\n"
     ]
    }
   ],
   "source": [
    "import matplotlib as mpl\n",
    "import matplotlib.pyplot as plt\n",
    "%matplotlib inline\n",
    "import numpy as np\n",
    "import sklearn\n",
    "import pandas as pd\n",
    "import os\n",
    "import sys\n",
    "import time\n",
    "import tensorflow as tf\n",
    "from sklearn.metrics import mean_squared_error\n",
    "\n",
    "from tensorflow import keras\n",
    "\n",
    "from sklearn.preprocessing import StandardScaler\n",
    "\n",
    "print(tf.__version__)\n",
    "print(sys.version_info)\n",
    "for module in mpl, np, pd, sklearn, tf, keras:\n",
    "    print(module.__name__, module.__version__)\n"
   ]
  },
  {
   "cell_type": "code",
   "execution_count": 2,
   "metadata": {},
   "outputs": [],
   "source": [
    "def linear_vis(x):\n",
    "    if(x <= 1000.0):\n",
    "      y = x/1000.0\n",
    "    elif(x > 1000.0 and x <= 10000.0):\n",
    "      y = (x-1000.0)/9000.0 + 1.0\n",
    "    elif( x > 10000.0  and x <= 30000.0):\n",
    "      y = (x-10000.0)/20000 + 2.0\n",
    "    else:\n",
    "      y = 3.0\n",
    "    return y"
   ]
  },
  {
   "cell_type": "code",
   "execution_count": 3,
   "metadata": {},
   "outputs": [
    {
     "name": "stdout",
     "output_type": "stream",
     "text": [
      "['/test', '/train', '/valid']\n",
      "(63311, 15)\n",
      "(63311,)\n"
     ]
    }
   ],
   "source": [
    "# fog_dataset_hdf = \"H:/github/python/seafog/data/collection/fog_dataset.hdf\"\n",
    "# fog_dataset_hdf = \"F:/github/pythonScript/seafog/data/collection/fog_dataset.hdf\"\n",
    "fog_dataset_hdf = \"F:/github/pythonScript/seafog/data/collection/extend/fog_dataset_extend.hdf\"\n",
    "store_dataset = pd.HDFStore(fog_dataset_hdf, mode='r')\n",
    "print(store_dataset.keys())\n",
    "df_train = store_dataset.get('train')\n",
    "df_valid =store_dataset.get('valid')\n",
    "df_test = store_dataset.get('test')\n",
    "\n",
    "# df_train.dropna(subset=['visi','v100','v10m','u100','u10m','t2mm','t2md','sstk','station_vis'],inplace=True)\n",
    "# df_valid.dropna(subset=['visi','v100','v10m','u100','u10m','t2mm','t2md','sstk','station_vis'],inplace=True)\n",
    "# df_test.dropna(subset=['visi','v100','v10m','u100','u10m','t2mm','t2md','sstk','station_vis'],inplace=True)\n",
    "x_columns = ['t_td', 'td_sst','t_sst','v100', 'v10m', 'u100', 'u10m', 't2mm', 't2md', 'sstk','year_sin','year_cos', 'day_sin', 'day_cos','fc_hour',]\n",
    "\n",
    "# x_columns = ['t_td', 'td_sst','t_sst','year_sin','year_cos', 'day_sin', 'day_cos','fc_hour',]\n",
    "df_train['t_td'] =  df_train['t2mm'] - df_train['t2md']\n",
    "df_train['td_sst'] =  df_train['t2md'] - df_train['sstk']\n",
    "df_train['t_sst'] =  df_train['t2mm'] - df_train['sstk']\n",
    "\n",
    "df_valid['t_td']   =  df_valid['t2mm'] - df_valid['t2md']\n",
    "df_valid['td_sst'] =  df_valid['t2md'] - df_valid['sstk']\n",
    "df_valid['t_sst']  =  df_valid['t2mm'] - df_valid['sstk']\n",
    "\n",
    "df_test['t_td']   =  df_test['t2mm'] - df_test['t2md']\n",
    "df_test['td_sst'] =  df_test['t2md'] - df_test['sstk']\n",
    "df_test['t_sst']  =  df_test['t2mm'] - df_test['sstk']\n",
    "\n",
    "df_train_x = df_train.loc[:, x_columns]\n",
    "df_train_y = df_train['station_vis_linear']\n",
    "\n",
    "df_valid_x = df_valid.loc[:, x_columns]\n",
    "df_valid_y = df_valid['station_vis_linear']\n",
    "\n",
    "df_test_x = df_test.loc[:, x_columns]\n",
    "df_test_y = df_test['station_vis_linear']\n",
    "\n",
    "train_x = df_train_x.to_numpy()\n",
    "train_y = df_train_y.to_numpy()\n",
    "\n",
    "valid_x = df_valid_x.to_numpy()\n",
    "valid_y = df_valid_y.to_numpy()\n",
    "\n",
    "test_x = df_test_x.to_numpy()\n",
    "test_y = df_test_y.to_numpy()\n",
    "\n",
    "print(train_x.shape)\n",
    "print(train_y.shape)\n"
   ]
  },
  {
   "cell_type": "code",
   "execution_count": 4,
   "metadata": {},
   "outputs": [],
   "source": [
    "scaler = StandardScaler()\n",
    "train_x_scaled = scaler.fit_transform(train_x)\n",
    "valid_x_scaled = scaler.fit_transform(valid_x)\n",
    "test_x_scaled  = scaler.fit_transform(test_x)\n",
    "\n",
    "train_x_scaled[:,0:3] = train_x[:,0:3]\n",
    "train_x_scaled[:,-5:-1] = train_x[:,-5:-1]\n",
    "valid_x_scaled[:,0:3]   = valid_x[:,0:3]\n",
    "valid_x_scaled[:,-5:-1] = valid_x[:,-5:-1]\n",
    "test_x_scaled[:,0:3]    = test_x[:,0:3]\n",
    "test_x_scaled[:,-5:-1]  = test_x[:,-5:-1]"
   ]
  },
  {
   "cell_type": "code",
   "execution_count": null,
   "metadata": {},
   "outputs": [],
   "source": []
  },
  {
   "cell_type": "code",
   "execution_count": null,
   "metadata": {},
   "outputs": [],
   "source": [
    "class WideDeepModel(keras.models.Model):\n",
    "    def __init__(self):\n",
    "        super(WideDeepModel, self).__init__()\n",
    "        \"\"\"定义模型的层次\"\"\"\n",
    "        self.hidden1_layer = keras.layers.Dense(30, activation='relu')\n",
    "        self.hidden2_layer = keras.layers.Dense(30, activation='relu')\n",
    "        self.output_layer = keras.layers.Dense(1)\n",
    "    \n",
    "    def call(self, input):\n",
    "        \"\"\"完成模型的正向计算\"\"\"\n",
    "        hidden1 = self.hidden1_layer(input)\n",
    "        hidden2 = self.hidden2_layer(hidden1)\n",
    "        concat = keras.layers.concatenate([input, hidden2])\n",
    "        output = self.output_layer(concat)\n",
    "        return output\n",
    "\n",
    "model = WideDeepModel()\n",
    "# model = keras.models.Sequential([\n",
    "#     WideDeepModel(),\n",
    "# ])\n",
    "\n",
    "model.build(input_shape=(None, train_x_scaled.shape[1:][0]))\n",
    "        \n",
    "model.summary()\n",
    "model.compile(loss=\"mean_squared_error\",\n",
    "              optimizer = keras.optimizers.SGD(0.001))"
   ]
  },
  {
   "cell_type": "code",
   "execution_count": 40,
   "metadata": {},
   "outputs": [
    {
     "name": "stdout",
     "output_type": "stream",
     "text": [
      "Model: \"model_12\"\n",
      "__________________________________________________________________________________________________\n",
      "Layer (type)                    Output Shape         Param #     Connected to                     \n",
      "==================================================================================================\n",
      "input_26 (InputLayer)           [(None, 12)]         0                                            \n",
      "__________________________________________________________________________________________________\n",
      "dense_101 (Dense)               (None, 30)           390         input_26[0][0]                   \n",
      "__________________________________________________________________________________________________\n",
      "alpha_dropout_16 (AlphaDropout) (None, 30)           0           dense_101[0][0]                  \n",
      "__________________________________________________________________________________________________\n",
      "dense_102 (Dense)               (None, 30)           930         alpha_dropout_16[0][0]           \n",
      "__________________________________________________________________________________________________\n",
      "alpha_dropout_17 (AlphaDropout) (None, 30)           0           dense_102[0][0]                  \n",
      "__________________________________________________________________________________________________\n",
      "dense_103 (Dense)               (None, 30)           930         alpha_dropout_17[0][0]           \n",
      "__________________________________________________________________________________________________\n",
      "alpha_dropout_18 (AlphaDropout) (None, 30)           0           dense_103[0][0]                  \n",
      "__________________________________________________________________________________________________\n",
      "dense_104 (Dense)               (None, 30)           930         alpha_dropout_18[0][0]           \n",
      "__________________________________________________________________________________________________\n",
      "input_25 (InputLayer)           [(None, 3)]          0                                            \n",
      "__________________________________________________________________________________________________\n",
      "alpha_dropout_19 (AlphaDropout) (None, 30)           0           dense_104[0][0]                  \n",
      "__________________________________________________________________________________________________\n",
      "concatenate_12 (Concatenate)    (None, 33)           0           input_25[0][0]                   \n",
      "                                                                 alpha_dropout_19[0][0]           \n",
      "__________________________________________________________________________________________________\n",
      "dense_105 (Dense)               (None, 6)            204         concatenate_12[0][0]             \n",
      "__________________________________________________________________________________________________\n",
      "dense_106 (Dense)               (None, 1)            7           dense_105[0][0]                  \n",
      "==================================================================================================\n",
      "Total params: 3,391\n",
      "Trainable params: 3,391\n",
      "Non-trainable params: 0\n",
      "__________________________________________________________________________________________________\n"
     ]
    }
   ],
   "source": [
    "# 多输入\n",
    "wide_index = [0,3]\n",
    "deep_index = [3,3]\n",
    "train_x_scaled_wide = train_x_scaled[:,wide_index[0]:wide_index[1]]\n",
    "train_x_scaled_deep = train_x_scaled[:,deep_index[0]:]\n",
    "valid_x_scaled_wide = valid_x_scaled[:,wide_index[0]:wide_index[1]]\n",
    "valid_x_scaled_deep = valid_x_scaled[:,deep_index[0]:]\n",
    "test_x_scaled_wide  = test_x_scaled[:,wide_index[0]:wide_index[1]]\n",
    "test_x_scaled_deep  = test_x_scaled[:,deep_index[0]:]\n",
    "\n",
    "\n",
    "input_wide = keras.layers.Input(shape=[train_x_scaled_wide.shape[1:][0]])\n",
    "input_deep = keras.layers.Input(shape=[train_x_scaled_deep.shape[1:][0]])\n",
    "\n",
    "hidden_loop = keras.layers.Dense(30, activation='selu')(input_deep)\n",
    "# hidden_loop = keras.layers.Dense(30, activation='selu')(hidden_loop)\n",
    "# hidden_loop = keras.layers.Dense(30, activation='selu')(hidden_loop)\n",
    "# hidden_loop = keras.layers.Dense(30, activation='selu')(hidden_loop)\n",
    "# hidden_loop = keras.layers.Dense(30, activation='selu')(hidden_loop)\n",
    "# hidden_loop = keras.layers.Dense(30, activation='selu')(hidden_loop)\n",
    "# hidden_loop = keras.layers.Dense(30, activation='selu')(hidden_loop)\n",
    "# hidden_loop = keras.layers.Dense(30, activation='selu')(hidden_loop)\n",
    "hidden_loop = keras.layers.AlphaDropout(rate=0.4)(hidden_loop)\n",
    "hidden_loop = keras.layers.Dense(30, activation='selu')(hidden_loop)\n",
    "hidden_loop = keras.layers.AlphaDropout(rate=0.5)(hidden_loop)\n",
    "hidden_loop = keras.layers.Dense(30, activation='selu')(hidden_loop)\n",
    "hidden_loop = keras.layers.AlphaDropout(rate=0.6)(hidden_loop)\n",
    "hidden_loop = keras.layers.Dense(30, activation='selu')(hidden_loop)\n",
    "hidden_loop = keras.layers.AlphaDropout(rate=0.7)(hidden_loop)\n",
    "# for _ in range(10):\n",
    "#   hidden_loop = keras.layers.Dense(30, activation='relu')(hidden_loop)\n",
    "\n",
    "\n",
    "concat = keras.layers.concatenate([input_wide, hidden_loop])\n",
    "concat2 = keras.layers.Dense(6)(concat)\n",
    "output = keras.layers.Dense(1)(concat2)\n",
    "model = keras.models.Model(inputs = [input_wide, input_deep],\n",
    "                           outputs = [output])\n",
    "        \n",
    "\n",
    "model.compile(loss=\"mean_squared_error\", optimizer=\"sgd\")\n",
    "callbacks = [keras.callbacks.EarlyStopping(\n",
    "    patience=5, min_delta=1e-2)]\n",
    "model.summary()\n",
    "\n"
   ]
  },
  {
   "cell_type": "code",
   "execution_count": null,
   "metadata": {},
   "outputs": [],
   "source": [
    "'''\n",
    "# 函数式API 功能API\n",
    "input = keras.layers.Input(shape=train_x_scaled.shape[1:])\n",
    "hidden1 = keras.layers.Dense(30, activation='relu')(input)\n",
    "hidden2 = keras.layers.Dense(30, activation='relu')(hidden1)\n",
    "# 复合函数: f(x) = h(g(x))\n",
    "\n",
    "concat = keras.layers.concatenate([input, hidden2])\n",
    "output = keras.layers.Dense(1)(concat)\n",
    "\n",
    "model = keras.models.Model(inputs = [input],\n",
    "                           outputs = [output])\n",
    "\n",
    "model.summary()\n",
    "model.compile(loss=\"mean_squared_error\",\n",
    "              optimizer = keras.optimizers.SGD(0.001))\n",
    "'''"
   ]
  },
  {
   "cell_type": "code",
   "execution_count": 41,
   "metadata": {},
   "outputs": [
    {
     "name": "stdout",
     "output_type": "stream",
     "text": [
      "Epoch 1/100\n",
      "   2/1979 [..............................] - ETA: 3:57 - loss: 2.7465WARNING:tensorflow:Method (on_train_batch_end) is slow compared to the batch update (0.120165). Check your callbacks.\n",
      "1979/1979 [==============================] - 7s 4ms/step - loss: 0.6679 - val_loss: 0.5409\n",
      "Epoch 2/100\n",
      "1979/1979 [==============================] - 7s 3ms/step - loss: 0.6417 - val_loss: 0.4631\n",
      "Epoch 3/100\n",
      "1979/1979 [==============================] - 7s 3ms/step - loss: 0.6388 - val_loss: 0.4109\n",
      "Epoch 4/100\n",
      "1979/1979 [==============================] - 6s 3ms/step - loss: 0.6339 - val_loss: 0.5399\n",
      "Epoch 5/100\n",
      "1979/1979 [==============================] - 6s 3ms/step - loss: 0.6148 - val_loss: 2.1641\n",
      "Epoch 6/100\n",
      "1979/1979 [==============================] - 6s 3ms/step - loss: 0.5697 - val_loss: 11.4395\n",
      "Epoch 7/100\n",
      "1979/1979 [==============================] - 6s 3ms/step - loss: 0.5222 - val_loss: 18.3974\n",
      "Epoch 8/100\n",
      "1979/1979 [==============================] - 6s 3ms/step - loss: 0.4931 - val_loss: 20.1436\n",
      "Epoch 9/100\n",
      "1979/1979 [==============================] - 6s 3ms/step - loss: 0.4720 - val_loss: 29.8760\n",
      "Epoch 10/100\n",
      "1979/1979 [==============================] - 6s 3ms/step - loss: 0.4549 - val_loss: 23.4879\n",
      "Epoch 11/100\n",
      "1979/1979 [==============================] - 6s 3ms/step - loss: 0.4410 - val_loss: 26.0966\n"
     ]
    }
   ],
   "source": [
    "# H:/github/python/seafog/\n",
    "logdir = './callbacks_reg_wd_multi'\n",
    "if not os.path.exists(logdir):\n",
    "    os.mkdir(logdir)\n",
    "output_model_file = os.path.join(logdir, \"sea_fog_reg_model.h5\")\n",
    "\n",
    "model_callbacks = [\n",
    "    keras.callbacks.TensorBoard(logdir),\n",
    "    keras.callbacks.ModelCheckpoint(output_model_file, save_best_only = True),\n",
    "    keras.callbacks.EarlyStopping(patience=8, min_delta=1e-4),\n",
    "    ]\n",
    "history = model.fit(\n",
    "                    [train_x_scaled_wide,train_x_scaled_deep],\n",
    "                    train_y, \n",
    "                    epochs=100,\n",
    "                    validation_data=([valid_x_scaled_wide,valid_x_scaled_deep], valid_y),\n",
    "                    callbacks = model_callbacks\n",
    "                    )"
   ]
  },
  {
   "cell_type": "code",
   "execution_count": null,
   "metadata": {},
   "outputs": [],
   "source": [
    "type(history)"
   ]
  },
  {
   "cell_type": "code",
   "execution_count": null,
   "metadata": {},
   "outputs": [],
   "source": [
    "history.history"
   ]
  },
  {
   "cell_type": "code",
   "execution_count": null,
   "metadata": {},
   "outputs": [],
   "source": [
    "def plot_learning_curves(history):\n",
    "    pd.DataFrame(history.history).plot(figsize=(8, 5))\n",
    "    plt.grid(True)\n",
    "    plt.gca().set_ylim(0, 1)\n",
    "    plt.show()\n",
    "\n",
    "plot_learning_curves(history)"
   ]
  },
  {
   "cell_type": "code",
   "execution_count": 33,
   "metadata": {},
   "outputs": [
    {
     "data": {
      "text/plain": [
       "73.94322204589844"
      ]
     },
     "execution_count": 33,
     "metadata": {},
     "output_type": "execute_result"
    }
   ],
   "source": [
    "model.evaluate([test_x_scaled_wide,test_x_scaled_deep], test_y, verbose=0)"
   ]
  },
  {
   "cell_type": "markdown",
   "metadata": {},
   "source": [
    "* 默认wide and deep 模型 MSE 0.31"
   ]
  },
  {
   "cell_type": "code",
   "execution_count": 34,
   "metadata": {},
   "outputs": [
    {
     "data": {
      "text/plain": [
       "array([[-8.886533],\n",
       "       [-8.942505],\n",
       "       [-8.863537],\n",
       "       ...,\n",
       "       [11.218258],\n",
       "       [16.87292 ],\n",
       "       [17.113884]], dtype=float32)"
      ]
     },
     "execution_count": 34,
     "metadata": {},
     "output_type": "execute_result"
    }
   ],
   "source": [
    "predictions = model([test_x_scaled_wide,test_x_scaled_deep]).numpy()\n",
    "predictions"
   ]
  },
  {
   "cell_type": "code",
   "execution_count": 35,
   "metadata": {},
   "outputs": [
    {
     "data": {
      "image/png": "[encoded data removed]",
      "text/plain": [
       "<Figure size 432x288 with 1 Axes>"
      ]
     },
     "metadata": {
      "needs_background": "light"
     },
     "output_type": "display_data"
    }
   ],
   "source": [
    "plt.plot(test_y, predictions,'.')\n",
    "plt.show()"
   ]
  },
  {
   "cell_type": "code",
   "execution_count": 38,
   "metadata": {},
   "outputs": [
    {
     "data": {
      "image/png": "[encoded data removed]",
      "text/plain": [
       "<Figure size 432x288 with 1 Axes>"
      ]
     },
     "metadata": {
      "needs_background": "light"
     },
     "output_type": "display_data"
    }
   ],
   "source": [
    "plt.plot(train_y,model([train_x_scaled_wide,train_x_scaled_deep]).numpy(),'.')\n",
    "plt.show()"
   ]
  },
  {
   "cell_type": "code",
   "execution_count": null,
   "metadata": {},
   "outputs": [],
   "source": [
    "plt.plot(df_train['station_vis'].values,train_y,'.')\n",
    "plt.show()"
   ]
  },
  {
   "cell_type": "code",
   "execution_count": null,
   "metadata": {},
   "outputs": [],
   "source": [
    "plt.plot(df_train['station_vis'].values,df_train['visi'],'.')\n",
    "plt.show()"
   ]
  },
  {
   "cell_type": "code",
   "execution_count": null,
   "metadata": {},
   "outputs": [],
   "source": [
    "plt.plot(df_train['station_vis'].apply(linear_vis),df_train['visi'].apply(linear_vis),'.')\n",
    "plt.show()\n",
    "print(mean_squared_error(df_train['station_vis'].apply(linear_vis),df_train['visi'].apply(linear_vis)))"
   ]
  },
  {
   "cell_type": "code",
   "execution_count": null,
   "metadata": {},
   "outputs": [],
   "source": []
  },
  {
   "cell_type": "code",
   "execution_count": null,
   "metadata": {},
   "outputs": [],
   "source": [
    "p_test = tf.nn.softmax(predictions).numpy()"
   ]
  },
  {
   "cell_type": "code",
   "execution_count": null,
   "metadata": {},
   "outputs": [],
   "source": [
    "p_test[:,0]"
   ]
  },
  {
   "cell_type": "code",
   "execution_count": null,
   "metadata": {},
   "outputs": [],
   "source": [
    "df_p_test = pd.DataFrame({'p_fog':p_test[:,0],'p_mist':p_test[:,1],'p_clear':p_test[:,2]})"
   ]
  },
  {
   "cell_type": "code",
   "execution_count": null,
   "metadata": {},
   "outputs": [],
   "source": [
    "df_p_test['p_clear'].plot()\n",
    "df_p_test['p_mist'].plot()\n",
    "df_p_test['p_fog'].plot()"
   ]
  },
  {
   "cell_type": "code",
   "execution_count": null,
   "metadata": {},
   "outputs": [],
   "source": [
    "\n",
    "df_test_result = df_test.join(df_p_test) \n",
    "print(df_test_result.head())\n",
    "df_test_result.to_csv('df_test_result.csv')"
   ]
  },
  {
   "cell_type": "code",
   "execution_count": null,
   "metadata": {},
   "outputs": [],
   "source": [
    "# 各类别预测准确性对比\n",
    "# 筛选出不同类别 df_all.loc[df_all['station_vis_cat'] == 2]\n",
    "# 计算输出的类别 "
   ]
  }
 ],
 "metadata": {
  "kernelspec": {
   "display_name": "Python 3.7.7 ('tf')",
   "language": "python",
   "name": "python3"
  },
  "language_info": {
   "codemirror_mode": {
    "name": "ipython",
    "version": 3
   },
   "file_extension": ".py",
   "mimetype": "text/x-python",
   "name": "python",
   "nbconvert_exporter": "python",
   "pygments_lexer": "ipython3",
   "version": "3.7.7"
  },
  "vscode": {
   "interpreter": {
    "hash": "e2677bb6edf47c876085224160586bcf922d69e5af689e1422860b4bba542019"
   }
  }
 },
 "nbformat": 4,
 "nbformat_minor": 2
}
