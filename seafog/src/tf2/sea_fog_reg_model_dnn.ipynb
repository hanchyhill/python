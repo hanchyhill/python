{
 "cells": [
  {
   "cell_type": "code",
   "execution_count": 1,
   "metadata": {},
   "outputs": [
    {
     "name": "stdout",
     "output_type": "stream",
     "text": [
      "2.2.0\n",
      "sys.version_info(major=3, minor=7, micro=7, releaselevel='final', serial=0)\n",
      "matplotlib 3.1.3\n",
      "numpy 1.21.5\n",
      "pandas 1.3.5\n",
      "sklearn 1.0.2\n",
      "tensorflow 2.2.0\n",
      "tensorflow.keras 2.3.0-tf\n"
     ]
    }
   ],
   "source": [
    "import matplotlib as mpl\n",
    "import matplotlib.pyplot as plt\n",
    "%matplotlib inline\n",
    "import numpy as np\n",
    "import sklearn\n",
    "import pandas as pd\n",
    "import os\n",
    "import sys\n",
    "import time\n",
    "import tensorflow as tf\n",
    "\n",
    "from tensorflow import keras\n",
    "\n",
    "from sklearn.preprocessing import StandardScaler\n",
    "\n",
    "print(tf.__version__)\n",
    "print(sys.version_info)\n",
    "for module in mpl, np, pd, sklearn, tf, keras:\n",
    "    print(module.__name__, module.__version__)\n"
   ]
  },
  {
   "cell_type": "code",
   "execution_count": 12,
   "metadata": {},
   "outputs": [
    {
     "name": "stdout",
     "output_type": "stream",
     "text": [
      "['/test', '/train', '/valid']\n",
      "(63311, 12)\n",
      "(63311,)\n"
     ]
    }
   ],
   "source": [
    "# fog_dataset_hdf = \"H:/github/python/seafog/data/collection/fog_dataset.hdf\"\n",
    "# fog_dataset_hdf = \"F:/github/pythonScript/seafog/data/collection/fog_dataset.hdf\"\n",
    "fog_dataset_hdf = \"F:/github/pythonScript/seafog/data/collection/extend/fog_dataset_extend.hdf\"\n",
    "store_dataset = pd.HDFStore(fog_dataset_hdf, mode='r')\n",
    "print(store_dataset.keys())\n",
    "df_train = store_dataset.get('train')\n",
    "df_valid =store_dataset.get('valid')\n",
    "df_test = store_dataset.get('test')\n",
    "\n",
    "x_columns = ['v100', 'v10m', 'u100', 'u10m', 't2mm', 't2md', 'sstk','year_sin','year_cos', 'day_sin', 'day_cos','fc_hour',]\n",
    "x_len = len(x_columns)\n",
    "df_train_x = df_train.loc[:, x_columns]\n",
    "df_train_y = df_train['station_vis_linear']\n",
    "\n",
    "df_valid_x = df_valid.loc[:, x_columns]\n",
    "df_valid_y = df_valid['station_vis_linear']\n",
    "\n",
    "df_test_x = df_test.loc[:, x_columns]\n",
    "df_test_y = df_test['station_vis_linear']\n",
    "\n",
    "train_x = df_train_x.to_numpy()\n",
    "train_y = df_train_y.to_numpy()\n",
    "\n",
    "valid_x = df_valid_x.to_numpy()\n",
    "valid_y = df_valid_y.to_numpy()\n",
    "\n",
    "test_x = df_test_x.to_numpy()\n",
    "test_y = df_test_y.to_numpy()\n",
    "\n",
    "print(train_x.shape)\n",
    "print(train_y.shape)\n"
   ]
  },
  {
   "cell_type": "code",
   "execution_count": 13,
   "metadata": {},
   "outputs": [],
   "source": [
    "scaler = StandardScaler()\n",
    "train_x_scaled = scaler.fit_transform(train_x)\n",
    "valid_x_scaled = scaler.fit_transform(valid_x)\n",
    "test_x_scaled = scaler.fit_transform(test_x)"
   ]
  },
  {
   "cell_type": "code",
   "execution_count": 14,
   "metadata": {},
   "outputs": [
    {
     "name": "stdout",
     "output_type": "stream",
     "text": [
      "6.4529692627123 -6.060409669500032\n"
     ]
    }
   ],
   "source": [
    "print(np.max(train_x_scaled), np.min(train_x_scaled))"
   ]
  },
  {
   "cell_type": "code",
   "execution_count": 29,
   "metadata": {},
   "outputs": [],
   "source": [
    "# tf.keras.models.Sequential()\n",
    "\n",
    "model = keras.models.Sequential()\n",
    "model.add(keras.layers.Dense(30, activation='selu',\n",
    "                       input_shape=train_x_scaled.shape[1:]))\n",
    "for _ in range(10):\n",
    "    model.add(keras.layers.Dense(30, activation=\"selu\"))\n",
    "for _ in range(3):\n",
    "    model.add(keras.layers.Dense(30, activation=\"selu\"))\n",
    "    model.add(keras.layers.AlphaDropout(rate=0.5))\n",
    "\n",
    "model.add(keras.layers.Dense(6, activation=\"relu\"))\n",
    "model.add(keras.layers.Dense(1))\n",
    "\n",
    "'''\n",
    "model = keras.models.Sequential([\n",
    "     keras.layers.Dense(30, activation='relu',\n",
    "                        input_shape=train_x_scaled.shape[1:]),\n",
    "     keras.layers.Dense(6, activation='relu'),\n",
    "     keras.layers.Dense(1),\n",
    "])\n",
    "'''\n",
    "\n",
    "# relu: y = max(0, x)\n",
    "# softmax: 将向量变成概率分布. x = [x1, x2, x3], \n",
    "#          y = [e^x1/sum, e^x2/sum, e^x3/sum], sum = e^x1 + e^x2 + e^x3\n",
    "\n",
    "# reason for sparse: y->index. y->one_hot->[] \n",
    "model.compile(loss=\"mean_squared_error\", optimizer=\"sgd\")"
   ]
  },
  {
   "cell_type": "code",
   "execution_count": 16,
   "metadata": {},
   "outputs": [
    {
     "data": {
      "text/plain": [
       "[<tensorflow.python.keras.layers.core.Dense at 0x22323ae7348>,\n",
       " <tensorflow.python.keras.layers.core.Dense at 0x223538d4f48>,\n",
       " <tensorflow.python.keras.layers.core.Dense at 0x22323adf588>,\n",
       " <tensorflow.python.keras.layers.core.Dense at 0x223538c5c88>,\n",
       " <tensorflow.python.keras.layers.core.Dense at 0x223538ddc88>,\n",
       " <tensorflow.python.keras.layers.core.Dense at 0x22352a255c8>,\n",
       " <tensorflow.python.keras.layers.core.Dense at 0x223527fbe08>,\n",
       " <tensorflow.python.keras.layers.core.Dense at 0x223538ecc48>,\n",
       " <tensorflow.python.keras.layers.core.Dense at 0x223538e3f48>,\n",
       " <tensorflow.python.keras.layers.core.Dense at 0x223538e7188>,\n",
       " <tensorflow.python.keras.layers.core.Dense at 0x22323aad648>,\n",
       " <tensorflow.python.keras.layers.core.Dense at 0x22323ac7748>,\n",
       " <tensorflow.python.keras.layers.core.Dense at 0x223538cca88>,\n",
       " <tensorflow.python.keras.layers.core.Dense at 0x2235297b908>,\n",
       " <tensorflow.python.keras.layers.core.Dense at 0x22352980c88>,\n",
       " <tensorflow.python.keras.layers.core.Dense at 0x2235297e908>,\n",
       " <tensorflow.python.keras.layers.core.Dense at 0x22352986848>,\n",
       " <tensorflow.python.keras.layers.core.Dense at 0x2235299bf08>,\n",
       " <tensorflow.python.keras.layers.noise.AlphaDropout at 0x223529a2208>,\n",
       " <tensorflow.python.keras.layers.core.Dense at 0x223529aa3c8>,\n",
       " <tensorflow.python.keras.layers.noise.AlphaDropout at 0x2235299b688>,\n",
       " <tensorflow.python.keras.layers.core.Dense at 0x22353194148>,\n",
       " <tensorflow.python.keras.layers.noise.AlphaDropout at 0x223529aa648>,\n",
       " <tensorflow.python.keras.layers.core.Dense at 0x2235319ab08>]"
      ]
     },
     "execution_count": 16,
     "metadata": {},
     "output_type": "execute_result"
    }
   ],
   "source": [
    "model.layers"
   ]
  },
  {
   "cell_type": "code",
   "execution_count": 17,
   "metadata": {},
   "outputs": [
    {
     "name": "stdout",
     "output_type": "stream",
     "text": [
      "Model: \"sequential_2\"\n",
      "_________________________________________________________________\n",
      "Layer (type)                 Output Shape              Param #   \n",
      "=================================================================\n",
      "dense_44 (Dense)             (None, 30)                390       \n",
      "_________________________________________________________________\n",
      "dense_45 (Dense)             (None, 30)                930       \n",
      "_________________________________________________________________\n",
      "dense_46 (Dense)             (None, 30)                930       \n",
      "_________________________________________________________________\n",
      "dense_47 (Dense)             (None, 30)                930       \n",
      "_________________________________________________________________\n",
      "dense_48 (Dense)             (None, 30)                930       \n",
      "_________________________________________________________________\n",
      "dense_49 (Dense)             (None, 30)                930       \n",
      "_________________________________________________________________\n",
      "dense_50 (Dense)             (None, 30)                930       \n",
      "_________________________________________________________________\n",
      "dense_51 (Dense)             (None, 30)                930       \n",
      "_________________________________________________________________\n",
      "dense_52 (Dense)             (None, 30)                930       \n",
      "_________________________________________________________________\n",
      "dense_53 (Dense)             (None, 30)                930       \n",
      "_________________________________________________________________\n",
      "dense_54 (Dense)             (None, 30)                930       \n",
      "_________________________________________________________________\n",
      "dense_55 (Dense)             (None, 30)                930       \n",
      "_________________________________________________________________\n",
      "dense_56 (Dense)             (None, 30)                930       \n",
      "_________________________________________________________________\n",
      "dense_57 (Dense)             (None, 30)                930       \n",
      "_________________________________________________________________\n",
      "dense_58 (Dense)             (None, 30)                930       \n",
      "_________________________________________________________________\n",
      "dense_59 (Dense)             (None, 30)                930       \n",
      "_________________________________________________________________\n",
      "dense_60 (Dense)             (None, 30)                930       \n",
      "_________________________________________________________________\n",
      "dense_61 (Dense)             (None, 30)                930       \n",
      "_________________________________________________________________\n",
      "alpha_dropout_8 (AlphaDropou (None, 30)                0         \n",
      "_________________________________________________________________\n",
      "dense_62 (Dense)             (None, 30)                930       \n",
      "_________________________________________________________________\n",
      "alpha_dropout_9 (AlphaDropou (None, 30)                0         \n",
      "_________________________________________________________________\n",
      "dense_63 (Dense)             (None, 30)                930       \n",
      "_________________________________________________________________\n",
      "alpha_dropout_10 (AlphaDropo (None, 30)                0         \n",
      "_________________________________________________________________\n",
      "dense_64 (Dense)             (None, 1)                 31        \n",
      "=================================================================\n",
      "Total params: 18,091\n",
      "Trainable params: 18,091\n",
      "Non-trainable params: 0\n",
      "_________________________________________________________________\n"
     ]
    }
   ],
   "source": [
    "model.summary()"
   ]
  },
  {
   "cell_type": "code",
   "execution_count": null,
   "metadata": {},
   "outputs": [],
   "source": [
    "# [None, 784] * W + b -> [None, 300] W.shape [784, 300], b = [300]"
   ]
  },
  {
   "cell_type": "code",
   "execution_count": 30,
   "metadata": {},
   "outputs": [
    {
     "name": "stdout",
     "output_type": "stream",
     "text": [
      "Epoch 1/100\n",
      "1979/1979 [==============================] - 8s 4ms/step - loss: 0.5021 - val_loss: 6.2447\n",
      "Epoch 2/100\n",
      "1979/1979 [==============================] - 8s 4ms/step - loss: 0.3005 - val_loss: 4.9456\n",
      "Epoch 3/100\n",
      "1979/1979 [==============================] - 8s 4ms/step - loss: 0.2916 - val_loss: 4.0813\n",
      "Epoch 4/100\n",
      "1979/1979 [==============================] - 7s 4ms/step - loss: 0.2656 - val_loss: 3.5895\n",
      "Epoch 5/100\n",
      "1979/1979 [==============================] - 7s 4ms/step - loss: 0.2320 - val_loss: 5.2534\n",
      "Epoch 6/100\n",
      "1979/1979 [==============================] - 7s 4ms/step - loss: 0.2217 - val_loss: 6.3733\n",
      "Epoch 7/100\n",
      "1979/1979 [==============================] - 8s 4ms/step - loss: 0.2201 - val_loss: 3.5795\n",
      "Epoch 8/100\n",
      "1979/1979 [==============================] - 8s 4ms/step - loss: 0.2072 - val_loss: 2.6705\n",
      "Epoch 9/100\n",
      "1979/1979 [==============================] - 8s 4ms/step - loss: 0.2068 - val_loss: 3.8497\n",
      "Epoch 10/100\n",
      "1979/1979 [==============================] - 7s 4ms/step - loss: 0.2004 - val_loss: 3.0860\n",
      "Epoch 11/100\n",
      "1979/1979 [==============================] - 7s 4ms/step - loss: 0.1927 - val_loss: 3.7125\n",
      "Epoch 12/100\n",
      "1979/1979 [==============================] - 8s 4ms/step - loss: 0.1935 - val_loss: 4.4573\n",
      "Epoch 13/100\n",
      "1979/1979 [==============================] - 7s 4ms/step - loss: 0.1903 - val_loss: 4.4627\n",
      "Epoch 14/100\n",
      "1979/1979 [==============================] - 7s 4ms/step - loss: 0.1853 - val_loss: 3.9991\n",
      "Epoch 15/100\n",
      "1979/1979 [==============================] - 8s 4ms/step - loss: 0.1873 - val_loss: 3.1033\n",
      "Epoch 16/100\n",
      "1979/1979 [==============================] - 7s 4ms/step - loss: 0.1825 - val_loss: 3.5923\n",
      "Epoch 17/100\n",
      "1979/1979 [==============================] - 7s 4ms/step - loss: 0.1808 - val_loss: 3.7850\n",
      "Epoch 18/100\n",
      "1979/1979 [==============================] - 7s 4ms/step - loss: 0.1782 - val_loss: 5.0456\n",
      "Epoch 19/100\n",
      "1979/1979 [==============================] - 7s 4ms/step - loss: 0.1847 - val_loss: 5.2204\n",
      "Epoch 20/100\n",
      "1979/1979 [==============================] - 7s 4ms/step - loss: 0.1747 - val_loss: 4.4355\n",
      "Epoch 21/100\n",
      "1979/1979 [==============================] - 7s 4ms/step - loss: 0.1720 - val_loss: 4.3029\n",
      "Epoch 22/100\n",
      "1979/1979 [==============================] - 7s 3ms/step - loss: 0.1698 - val_loss: 4.1489\n",
      "Epoch 23/100\n",
      "1979/1979 [==============================] - 7s 3ms/step - loss: 0.2074 - val_loss: 3.8068\n",
      "Epoch 24/100\n",
      "1979/1979 [==============================] - 7s 4ms/step - loss: 0.1762 - val_loss: 4.0760\n",
      "Epoch 25/100\n",
      "1979/1979 [==============================] - 7s 4ms/step - loss: 0.1713 - val_loss: 3.8349\n",
      "Epoch 26/100\n",
      "1979/1979 [==============================] - 7s 4ms/step - loss: 0.1635 - val_loss: 3.7670\n",
      "Epoch 27/100\n",
      "1979/1979 [==============================] - 7s 4ms/step - loss: 0.1629 - val_loss: 3.8634\n",
      "Epoch 28/100\n",
      "1979/1979 [==============================] - 7s 4ms/step - loss: 0.1580 - val_loss: 4.6168\n",
      "Epoch 29/100\n",
      "1979/1979 [==============================] - 7s 4ms/step - loss: 0.1601 - val_loss: 4.7827\n",
      "Epoch 30/100\n",
      "1979/1979 [==============================] - 7s 4ms/step - loss: 0.1550 - val_loss: 4.5642\n",
      "Epoch 31/100\n",
      "1979/1979 [==============================] - 8s 4ms/step - loss: 0.1605 - val_loss: 5.1592\n",
      "Epoch 32/100\n",
      "1979/1979 [==============================] - 8s 4ms/step - loss: 0.1531 - val_loss: 3.8533\n",
      "Epoch 33/100\n",
      "1979/1979 [==============================] - 7s 4ms/step - loss: 0.1525 - val_loss: 3.8307\n",
      "Epoch 34/100\n",
      "1979/1979 [==============================] - 7s 4ms/step - loss: 0.1498 - val_loss: 5.4032\n",
      "Epoch 35/100\n",
      "1979/1979 [==============================] - 7s 4ms/step - loss: 0.1472 - val_loss: 4.1788\n",
      "Epoch 36/100\n",
      "1979/1979 [==============================] - 7s 4ms/step - loss: 0.1470 - val_loss: 4.2424\n",
      "Epoch 37/100\n",
      "1979/1979 [==============================] - 7s 4ms/step - loss: 0.1585 - val_loss: 4.2986\n",
      "Epoch 38/100\n",
      "1979/1979 [==============================] - 8s 4ms/step - loss: 0.1451 - val_loss: 3.8282\n",
      "Epoch 39/100\n",
      "1979/1979 [==============================] - 7s 4ms/step - loss: 0.1456 - val_loss: 3.3366\n",
      "Epoch 40/100\n",
      "1979/1979 [==============================] - 7s 4ms/step - loss: 0.1421 - val_loss: 3.7310\n",
      "Epoch 41/100\n",
      "1979/1979 [==============================] - 8s 4ms/step - loss: 0.1439 - val_loss: 3.8741\n",
      "Epoch 42/100\n",
      "1979/1979 [==============================] - 7s 4ms/step - loss: 0.1420 - val_loss: 4.0432\n",
      "Epoch 43/100\n",
      "1979/1979 [==============================] - 7s 4ms/step - loss: 0.1438 - val_loss: 4.9924\n",
      "Epoch 44/100\n",
      "1979/1979 [==============================] - 7s 4ms/step - loss: 0.1420 - val_loss: 5.2078\n",
      "Epoch 45/100\n",
      "1979/1979 [==============================] - 7s 4ms/step - loss: 0.1389 - val_loss: 3.2949\n",
      "Epoch 46/100\n",
      "1979/1979 [==============================] - 8s 4ms/step - loss: 0.1371 - val_loss: 2.9276\n",
      "Epoch 47/100\n",
      "1979/1979 [==============================] - 8s 4ms/step - loss: 0.1376 - val_loss: 4.6718\n",
      "Epoch 48/100\n",
      "1979/1979 [==============================] - 8s 4ms/step - loss: 0.1381 - val_loss: 3.1430\n",
      "Epoch 49/100\n",
      "1979/1979 [==============================] - 7s 4ms/step - loss: 0.1380 - val_loss: 5.2663\n",
      "Epoch 50/100\n",
      "1979/1979 [==============================] - 8s 4ms/step - loss: 0.1344 - val_loss: 4.5806\n",
      "Epoch 51/100\n",
      "1979/1979 [==============================] - 8s 4ms/step - loss: 0.1311 - val_loss: 4.5475\n",
      "Epoch 52/100\n",
      "1979/1979 [==============================] - 7s 4ms/step - loss: 0.1328 - val_loss: 4.0552\n",
      "Epoch 53/100\n",
      "1979/1979 [==============================] - 8s 4ms/step - loss: 0.1299 - val_loss: 4.1400\n",
      "Epoch 54/100\n",
      "1979/1979 [==============================] - 7s 4ms/step - loss: 0.1309 - val_loss: 4.4967\n",
      "Epoch 55/100\n",
      "1979/1979 [==============================] - 7s 4ms/step - loss: 0.1317 - val_loss: 4.5645\n",
      "Epoch 56/100\n",
      "1979/1979 [==============================] - 7s 3ms/step - loss: 0.1420 - val_loss: 4.8034\n",
      "Epoch 57/100\n",
      "1979/1979 [==============================] - 7s 4ms/step - loss: 0.1522 - val_loss: 3.9143\n",
      "Epoch 58/100\n",
      "1979/1979 [==============================] - 8s 4ms/step - loss: 0.1377 - val_loss: 5.3667\n",
      "Epoch 59/100\n",
      "1979/1979 [==============================] - 7s 4ms/step - loss: 0.1340 - val_loss: 4.2514\n",
      "Epoch 60/100\n",
      "1979/1979 [==============================] - 8s 4ms/step - loss: 0.1351 - val_loss: 5.3833\n",
      "Epoch 61/100\n",
      "1979/1979 [==============================] - 7s 4ms/step - loss: 0.1302 - val_loss: 4.5750\n",
      "Epoch 62/100\n",
      "1979/1979 [==============================] - 7s 4ms/step - loss: 0.1300 - val_loss: 3.2523\n",
      "Epoch 63/100\n",
      "1979/1979 [==============================] - 8s 4ms/step - loss: 0.1336 - val_loss: 4.6836\n",
      "Epoch 64/100\n",
      "1979/1979 [==============================] - 7s 4ms/step - loss: 0.1264 - val_loss: 4.9864\n",
      "Epoch 65/100\n",
      "1979/1979 [==============================] - 7s 4ms/step - loss: 0.1274 - val_loss: 4.4415\n",
      "Epoch 66/100\n",
      "1979/1979 [==============================] - 7s 3ms/step - loss: 0.1262 - val_loss: 4.5425\n",
      "Epoch 67/100\n",
      "1979/1979 [==============================] - 6s 3ms/step - loss: 0.1227 - val_loss: 4.6347\n",
      "Epoch 68/100\n",
      "1979/1979 [==============================] - 7s 3ms/step - loss: 0.1292 - val_loss: 4.2589\n",
      "Epoch 69/100\n",
      "1979/1979 [==============================] - 7s 4ms/step - loss: 0.1210 - val_loss: 4.5560\n",
      "Epoch 70/100\n",
      "1979/1979 [==============================] - 7s 3ms/step - loss: 0.1237 - val_loss: 5.1084\n",
      "Epoch 71/100\n",
      "1979/1979 [==============================] - 7s 3ms/step - loss: 0.1226 - val_loss: 4.2231\n",
      "Epoch 72/100\n",
      "1979/1979 [==============================] - 7s 3ms/step - loss: 0.1209 - val_loss: 5.2100\n",
      "Epoch 73/100\n",
      "1979/1979 [==============================] - 7s 3ms/step - loss: 0.1256 - val_loss: 5.3746\n",
      "Epoch 74/100\n",
      "1979/1979 [==============================] - 7s 3ms/step - loss: 0.1205 - val_loss: 3.0538\n",
      "Epoch 75/100\n",
      "1979/1979 [==============================] - 7s 4ms/step - loss: 0.1196 - val_loss: 4.0591\n",
      "Epoch 76/100\n",
      "1979/1979 [==============================] - 7s 4ms/step - loss: 0.1170 - val_loss: 4.7289\n",
      "Epoch 77/100\n",
      "1979/1979 [==============================] - 7s 3ms/step - loss: 0.1253 - val_loss: 2.3549\n",
      "Epoch 78/100\n",
      "1979/1979 [==============================] - 7s 3ms/step - loss: 0.1178 - val_loss: 3.6298\n",
      "Epoch 79/100\n",
      "1979/1979 [==============================] - 7s 3ms/step - loss: 0.1166 - val_loss: 6.0498\n",
      "Epoch 80/100\n",
      "1979/1979 [==============================] - 7s 4ms/step - loss: 0.1229 - val_loss: 3.5236\n",
      "Epoch 81/100\n",
      "1979/1979 [==============================] - 7s 3ms/step - loss: 0.1221 - val_loss: 3.2075\n",
      "Epoch 82/100\n",
      "1979/1979 [==============================] - 7s 4ms/step - loss: 0.1222 - val_loss: 3.1482\n",
      "Epoch 83/100\n",
      "1979/1979 [==============================] - 7s 3ms/step - loss: 0.1181 - val_loss: 4.9451\n",
      "Epoch 84/100\n",
      "1979/1979 [==============================] - 7s 4ms/step - loss: 0.1421 - val_loss: 3.5892\n",
      "Epoch 85/100\n",
      "1979/1979 [==============================] - 7s 3ms/step - loss: 0.1287 - val_loss: 4.7825\n",
      "Epoch 86/100\n",
      "1979/1979 [==============================] - 7s 4ms/step - loss: 0.1554 - val_loss: 3.6047\n",
      "Epoch 87/100\n",
      "1979/1979 [==============================] - 7s 4ms/step - loss: 0.1574 - val_loss: 3.5940\n",
      "Epoch 88/100\n",
      "1979/1979 [==============================] - 7s 4ms/step - loss: 0.1396 - val_loss: 2.6561\n",
      "Epoch 89/100\n",
      "1979/1979 [==============================] - 7s 4ms/step - loss: 0.1358 - val_loss: 4.9188\n",
      "Epoch 90/100\n",
      "1979/1979 [==============================] - 7s 4ms/step - loss: 0.1366 - val_loss: 3.4268\n",
      "Epoch 91/100\n",
      "1979/1979 [==============================] - 7s 3ms/step - loss: 0.1285 - val_loss: 4.2934\n",
      "Epoch 92/100\n",
      "1979/1979 [==============================] - 7s 3ms/step - loss: 0.1244 - val_loss: 4.5672ETA: 0s - loss:\n",
      "Epoch 93/100\n",
      "1979/1979 [==============================] - 7s 3ms/step - loss: 0.1292 - val_loss: 4.3011\n",
      "Epoch 94/100\n",
      "1979/1979 [==============================] - 7s 3ms/step - loss: 0.1227 - val_loss: 4.4223 0s - lo\n",
      "Epoch 95/100\n",
      "1979/1979 [==============================] - 7s 4ms/step - loss: 0.1304 - val_loss: 3.3520\n",
      "Epoch 96/100\n",
      "1979/1979 [==============================] - 7s 3ms/step - loss: 0.1234 - val_loss: 3.3436\n",
      "Epoch 97/100\n",
      "1979/1979 [==============================] - 7s 3ms/step - loss: 0.1194 - val_loss: 5.1367\n",
      "Epoch 98/100\n",
      "1979/1979 [==============================] - 7s 3ms/step - loss: 0.1198 - val_loss: 4.3283\n",
      "Epoch 99/100\n",
      "1979/1979 [==============================] - 7s 4ms/step - loss: 0.1184 - val_loss: 3.8797\n",
      "Epoch 100/100\n",
      "1979/1979 [==============================] - 7s 4ms/step - loss: 0.1163 - val_loss: 4.2057\n"
     ]
    }
   ],
   "source": [
    "# H:/github/python/seafog/\n",
    "logdir = './callbacks_reg_dnn'\n",
    "if not os.path.exists(logdir):\n",
    "    os.mkdir(logdir)\n",
    "output_model_file = os.path.join(logdir, \"sea_fog_reg_dnn_model.h5\")\n",
    "\n",
    "model_callbacks = [\n",
    "    keras.callbacks.TensorBoard(logdir),\n",
    "    keras.callbacks.ModelCheckpoint(output_model_file, save_best_only = True),\n",
    "    keras.callbacks.EarlyStopping(patience=5, min_delta=1e-4),\n",
    "    ]\n",
    "history = model.fit(train_x_scaled, train_y, epochs=100,\n",
    "                    validation_data=(valid_x_scaled, valid_y),\n",
    "                    # callbacks = model_callbacks,\n",
    "                    )"
   ]
  },
  {
   "cell_type": "code",
   "execution_count": null,
   "metadata": {},
   "outputs": [],
   "source": [
    "type(history)"
   ]
  },
  {
   "cell_type": "code",
   "execution_count": null,
   "metadata": {},
   "outputs": [],
   "source": [
    "history.history"
   ]
  },
  {
   "cell_type": "code",
   "execution_count": 24,
   "metadata": {},
   "outputs": [
    {
     "data": {
      "image/png": "[encoded data removed]",
      "text/plain": [
       "<Figure size 576x360 with 1 Axes>"
      ]
     },
     "metadata": {
      "needs_background": "light"
     },
     "output_type": "display_data"
    }
   ],
   "source": [
    "def plot_learning_curves(history):\n",
    "    pd.DataFrame(history.history).plot(figsize=(8, 5))\n",
    "    plt.grid(True)\n",
    "    plt.gca().set_ylim(0, 1)\n",
    "    plt.show()\n",
    "\n",
    "plot_learning_curves(history)"
   ]
  },
  {
   "cell_type": "code",
   "execution_count": 25,
   "metadata": {},
   "outputs": [
    {
     "data": {
      "text/plain": [
       "4.56217098236084"
      ]
     },
     "execution_count": 25,
     "metadata": {},
     "output_type": "execute_result"
    }
   ],
   "source": [
    "model.evaluate(test_x_scaled, test_y, verbose=0)"
   ]
  },
  {
   "cell_type": "code",
   "execution_count": 26,
   "metadata": {},
   "outputs": [
    {
     "data": {
      "text/plain": [
       "array([[0.2108603],\n",
       "       [0.2108603],\n",
       "       [0.2108603],\n",
       "       ...,\n",
       "       [4.980668 ],\n",
       "       [5.8095527],\n",
       "       [5.5129027]], dtype=float32)"
      ]
     },
     "execution_count": 26,
     "metadata": {},
     "output_type": "execute_result"
    }
   ],
   "source": [
    "predictions = model(test_x_scaled).numpy()\n",
    "predictions"
   ]
  },
  {
   "cell_type": "code",
   "execution_count": 27,
   "metadata": {},
   "outputs": [
    {
     "data": {
      "image/png": "[encoded data removed]",
      "text/plain": [
       "<Figure size 432x288 with 1 Axes>"
      ]
     },
     "metadata": {
      "needs_background": "light"
     },
     "output_type": "display_data"
    }
   ],
   "source": [
    "plt.plot(test_y, predictions,'.')\n",
    "plt.show()"
   ]
  },
  {
   "cell_type": "code",
   "execution_count": 28,
   "metadata": {},
   "outputs": [
    {
     "data": {
      "image/png": "[encoded data removed]",
      "text/plain": [
       "<Figure size 432x288 with 1 Axes>"
      ]
     },
     "metadata": {
      "needs_background": "light"
     },
     "output_type": "display_data"
    }
   ],
   "source": [
    "plt.plot(train_y,model(train_x_scaled).numpy(),'.')\n",
    "plt.show()"
   ]
  },
  {
   "cell_type": "code",
   "execution_count": null,
   "metadata": {},
   "outputs": [],
   "source": [
    "plt.plot(df_train['station_vis'].values,train_y,'.')\n",
    "plt.show()"
   ]
  },
  {
   "cell_type": "code",
   "execution_count": null,
   "metadata": {},
   "outputs": [],
   "source": [
    "p_test = tf.nn.softmax(predictions).numpy()\n",
    "\n"
   ]
  },
  {
   "cell_type": "code",
   "execution_count": null,
   "metadata": {},
   "outputs": [],
   "source": [
    "p_test[:,0]"
   ]
  },
  {
   "cell_type": "code",
   "execution_count": null,
   "metadata": {},
   "outputs": [],
   "source": [
    "df_p_test = pd.DataFrame({'p_fog':p_test[:,0],'p_mist':p_test[:,1],'p_clear':p_test[:,2]})"
   ]
  },
  {
   "cell_type": "code",
   "execution_count": null,
   "metadata": {},
   "outputs": [],
   "source": [
    "df_p_test['p_clear'].plot()\n",
    "df_p_test['p_mist'].plot()\n",
    "df_p_test['p_fog'].plot()"
   ]
  },
  {
   "cell_type": "code",
   "execution_count": null,
   "metadata": {},
   "outputs": [],
   "source": [
    "\n",
    "df_test_result = df_test.join(df_p_test) \n",
    "print(df_test_result.head())\n",
    "df_test_result.to_csv('df_test_result.csv')"
   ]
  },
  {
   "cell_type": "code",
   "execution_count": null,
   "metadata": {},
   "outputs": [],
   "source": [
    "# 各类别预测准确性对比\n",
    "# 筛选出不同类别 df_all.loc[df_all['station_vis_cat'] == 2]\n",
    "# 计算输出的类别 "
   ]
  }
 ],
 "metadata": {
  "kernelspec": {
   "display_name": "Python 3.7.7 ('tf')",
   "language": "python",
   "name": "python3"
  },
  "language_info": {
   "codemirror_mode": {
    "name": "ipython",
    "version": 3
   },
   "file_extension": ".py",
   "mimetype": "text/x-python",
   "name": "python",
   "nbconvert_exporter": "python",
   "pygments_lexer": "ipython3",
   "version": "3.7.7"
  },
  "vscode": {
   "interpreter": {
    "hash": "e2677bb6edf47c876085224160586bcf922d69e5af689e1422860b4bba542019"
   }
  }
 },
 "nbformat": 4,
 "nbformat_minor": 2
}
