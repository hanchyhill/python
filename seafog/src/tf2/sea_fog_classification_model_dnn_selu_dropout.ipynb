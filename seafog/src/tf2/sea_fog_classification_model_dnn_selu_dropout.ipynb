{
 "cells": [
  {
   "cell_type": "code",
   "execution_count": 1,
   "metadata": {},
   "outputs": [
    {
     "name": "stdout",
     "output_type": "stream",
     "text": [
      "2.2.0\n",
      "sys.version_info(major=3, minor=7, micro=7, releaselevel='final', serial=0)\n",
      "matplotlib 3.1.3\n",
      "numpy 1.21.5\n",
      "pandas 1.3.5\n",
      "sklearn 1.0.2\n",
      "tensorflow 2.2.0\n",
      "tensorflow.keras 2.3.0-tf\n"
     ]
    }
   ],
   "source": [
    "import matplotlib as mpl\n",
    "import matplotlib.pyplot as plt\n",
    "%matplotlib inline\n",
    "import numpy as np\n",
    "import sklearn\n",
    "import pandas as pd\n",
    "import os\n",
    "import sys\n",
    "import time\n",
    "import tensorflow as tf\n",
    "\n",
    "from tensorflow import keras\n",
    "\n",
    "from sklearn.preprocessing import StandardScaler\n",
    "\n",
    "print(tf.__version__)\n",
    "print(sys.version_info)\n",
    "for module in mpl, np, pd, sklearn, tf, keras:\n",
    "    print(module.__name__, module.__version__)\n"
   ]
  },
  {
   "cell_type": "code",
   "execution_count": 2,
   "metadata": {},
   "outputs": [
    {
     "name": "stdout",
     "output_type": "stream",
     "text": [
      "['/test', '/train', '/valid']\n",
      "(63311, 11)\n",
      "(63311,)\n"
     ]
    }
   ],
   "source": [
    "# fog_dataset_hdf = \"H:/github/python/seafog/data/collection/fog_dataset.hdf\"\n",
    "# fog_dataset_hdf = \"F:/github/pythonScript/seafog/data/collection/fog_dataset.hdf\"\n",
    "fog_dataset_hdf = \"F:/github/pythonScript/seafog/data/collection/extend/fog_dataset_extend.hdf\"\n",
    "store_dataset = pd.HDFStore(fog_dataset_hdf, mode='r')\n",
    "print(store_dataset.keys())\n",
    "df_train = store_dataset.get('train')\n",
    "df_valid =store_dataset.get('valid')\n",
    "df_test = store_dataset.get('test')\n",
    "x_columns = ['v100', 'v10m', 'u100', 'u10m', 't2mm', 't2md', 'sstk','year_sin','year_cos', 'day_sin', 'day_cos',]\n",
    "\n",
    "df_train_x = df_train.loc[:, x_columns]\n",
    "df_train_y = df_train['station_vis_cat']\n",
    "\n",
    "df_valid_x = df_valid.loc[:, x_columns]\n",
    "df_valid_y = df_valid['station_vis_cat']\n",
    "\n",
    "df_test_x = df_test.loc[:, x_columns]\n",
    "df_test_y = df_test['station_vis_cat']\n",
    "\n",
    "train_x = df_train_x.to_numpy()\n",
    "train_y = df_train_y.to_numpy()\n",
    "\n",
    "valid_x = df_valid_x.to_numpy()\n",
    "valid_y = df_valid_y.to_numpy()\n",
    "\n",
    "test_x = df_test_x.to_numpy()\n",
    "test_y = df_test_y.to_numpy()\n",
    "\n",
    "print(train_x.shape)\n",
    "print(train_y.shape)\n"
   ]
  },
  {
   "cell_type": "code",
   "execution_count": null,
   "metadata": {},
   "outputs": [],
   "source": [
    "valid_y"
   ]
  },
  {
   "cell_type": "code",
   "execution_count": 3,
   "metadata": {},
   "outputs": [],
   "source": [
    "scaler = StandardScaler()\n",
    "train_x_scaled = scaler.fit_transform(train_x)\n",
    "valid_x_scaled = scaler.fit_transform(valid_x)\n",
    "test_x_scaled = scaler.fit_transform(test_x)"
   ]
  },
  {
   "cell_type": "code",
   "execution_count": 4,
   "metadata": {},
   "outputs": [
    {
     "name": "stdout",
     "output_type": "stream",
     "text": [
      "6.4529692627123 -6.060409669500032\n"
     ]
    }
   ],
   "source": [
    "print(np.max(train_x_scaled), np.min(train_x_scaled))"
   ]
  },
  {
   "cell_type": "code",
   "execution_count": 5,
   "metadata": {},
   "outputs": [
    {
     "data": {
      "text/plain": [
       "array([[-0.77730431, -0.78538985, -0.681154  , ..., -0.87874502,\n",
       "         1.247682  , -1.22375194],\n",
       "       [-0.49826761, -0.44862029, -1.40507479, ..., -0.07390625,\n",
       "        -0.85802556, -1.22375194],\n",
       "       [ 1.42379882,  1.29260154,  1.05573476, ..., -2.03012251,\n",
       "        -0.85802556, -1.22375194],\n",
       "       ...,\n",
       "       [ 0.793058  ,  0.76798605,  0.15200075, ..., -1.2489984 ,\n",
       "        -1.29413188, -0.22902426],\n",
       "       [-1.54543334, -1.60561773, -2.33698241, ...,  0.89902726,\n",
       "         1.68378831, -0.22902426],\n",
       "       [-0.34942302, -0.30821825, -0.40831392, ...,  1.00111465,\n",
       "         1.68378831, -0.22902426]])"
      ]
     },
     "execution_count": 5,
     "metadata": {},
     "output_type": "execute_result"
    }
   ],
   "source": [
    "train_x_scaled"
   ]
  },
  {
   "cell_type": "code",
   "execution_count": 15,
   "metadata": {},
   "outputs": [],
   "source": [
    "# tf.keras.models.Sequential()\n",
    "\n",
    "model = keras.models.Sequential()\n",
    "model.add(keras.layers.Flatten(input_shape=[11, ]))\n",
    "for _ in range(16):\n",
    "    model.add(keras.layers.Dense(20, activation=\"selu\"))\n",
    "for _ in range(4):\n",
    "    model.add(keras.layers.Dense(20, activation=\"selu\"))\n",
    "    model.add(keras.layers.AlphaDropout(rate=0.5))\n",
    "# AlphaDropout: 1. 均值和方差不变 2. 归一化性质也不变\n",
    "# model.add(keras.layers.Dropout(rate=0.5))\n",
    "model.add(keras.layers.Dense(3, activation=\"softmax\"))\n",
    "\n",
    "# model = keras.models.Sequential([\n",
    "#     keras.layers.Flatten(input_shape=[11,]),\n",
    "#     keras.layers.Dense(9, activation='relu'),\n",
    "#     keras.layers.Dense(6, activation='relu'),\n",
    "#     keras.layers.Dense(3, activation='softmax')\n",
    "# ])\n",
    "\n",
    "# relu: y = max(0, x)\n",
    "# softmax: 将向量变成概率分布. x = [x1, x2, x3], \n",
    "#          y = [e^x1/sum, e^x2/sum, e^x3/sum], sum = e^x1 + e^x2 + e^x3\n",
    "\n",
    "# reason for sparse: y->index. y->one_hot->[] \n",
    "model.compile(loss=\"sparse_categorical_crossentropy\",\n",
    "              optimizer = keras.optimizers.SGD(0.001),\n",
    "              metrics = [\"accuracy\"])"
   ]
  },
  {
   "cell_type": "code",
   "execution_count": 7,
   "metadata": {},
   "outputs": [
    {
     "data": {
      "text/plain": [
       "[<tensorflow.python.keras.layers.core.Flatten at 0x1ba8b8dd1c8>,\n",
       " <tensorflow.python.keras.layers.core.Dense at 0x1ba8b8dd508>,\n",
       " <tensorflow.python.keras.layers.core.Dense at 0x1ba8c453888>,\n",
       " <tensorflow.python.keras.layers.core.Dense at 0x1ba8b8c0bc8>,\n",
       " <tensorflow.python.keras.layers.core.Dense at 0x1ba8c41a988>,\n",
       " <tensorflow.python.keras.layers.core.Dense at 0x1ba8c441c08>,\n",
       " <tensorflow.python.keras.layers.core.Dense at 0x1ba8b911a88>,\n",
       " <tensorflow.python.keras.layers.core.Dense at 0x1ba8c4532c8>,\n",
       " <tensorflow.python.keras.layers.core.Dense at 0x1ba8c48cc88>,\n",
       " <tensorflow.python.keras.layers.core.Dense at 0x1ba8debee48>,\n",
       " <tensorflow.python.keras.layers.core.Dense at 0x1ba8dec6c88>,\n",
       " <tensorflow.python.keras.layers.core.Dense at 0x1ba8deb0dc8>,\n",
       " <tensorflow.python.keras.layers.core.Dense at 0x1ba8dec71c8>,\n",
       " <tensorflow.python.keras.layers.core.Dense at 0x1ba8ded7c48>,\n",
       " <tensorflow.python.keras.layers.core.Dense at 0x1ba8ded9848>,\n",
       " <tensorflow.python.keras.layers.core.Dense at 0x1ba8deb1588>,\n",
       " <tensorflow.python.keras.layers.core.Dense at 0x1ba8df2ce08>,\n",
       " <tensorflow.python.keras.layers.noise.AlphaDropout at 0x1ba8df33548>,\n",
       " <tensorflow.python.keras.layers.core.Dense at 0x1ba8dec6fc8>,\n",
       " <tensorflow.python.keras.layers.noise.AlphaDropout at 0x1ba8df739c8>,\n",
       " <tensorflow.python.keras.layers.core.Dense at 0x1ba8df34648>,\n",
       " <tensorflow.python.keras.layers.noise.AlphaDropout at 0x1ba8c41a648>,\n",
       " <tensorflow.python.keras.layers.core.Dense at 0x1ba8df72148>,\n",
       " <tensorflow.python.keras.layers.noise.AlphaDropout at 0x1ba940f3048>,\n",
       " <tensorflow.python.keras.layers.core.Dense at 0x1ba8df88fc8>,\n",
       " <tensorflow.python.keras.layers.noise.AlphaDropout at 0x1ba9410dd48>,\n",
       " <tensorflow.python.keras.layers.core.Dense at 0x1ba8b2dcf88>]"
      ]
     },
     "execution_count": 7,
     "metadata": {},
     "output_type": "execute_result"
    }
   ],
   "source": [
    "model.layers"
   ]
  },
  {
   "cell_type": "code",
   "execution_count": 11,
   "metadata": {},
   "outputs": [
    {
     "name": "stdout",
     "output_type": "stream",
     "text": [
      "Model: \"sequential_1\"\n",
      "_________________________________________________________________\n",
      "Layer (type)                 Output Shape              Param #   \n",
      "=================================================================\n",
      "flatten_1 (Flatten)          (None, 11)                0         \n",
      "_________________________________________________________________\n",
      "dense_21 (Dense)             (None, 100)               1200      \n",
      "_________________________________________________________________\n",
      "dense_22 (Dense)             (None, 100)               10100     \n",
      "_________________________________________________________________\n",
      "dense_23 (Dense)             (None, 100)               10100     \n",
      "_________________________________________________________________\n",
      "dense_24 (Dense)             (None, 100)               10100     \n",
      "_________________________________________________________________\n",
      "dense_25 (Dense)             (None, 100)               10100     \n",
      "_________________________________________________________________\n",
      "dense_26 (Dense)             (None, 100)               10100     \n",
      "_________________________________________________________________\n",
      "dense_27 (Dense)             (None, 100)               10100     \n",
      "_________________________________________________________________\n",
      "dense_28 (Dense)             (None, 100)               10100     \n",
      "_________________________________________________________________\n",
      "dense_29 (Dense)             (None, 100)               10100     \n",
      "_________________________________________________________________\n",
      "dense_30 (Dense)             (None, 100)               10100     \n",
      "_________________________________________________________________\n",
      "dense_31 (Dense)             (None, 100)               10100     \n",
      "_________________________________________________________________\n",
      "dense_32 (Dense)             (None, 100)               10100     \n",
      "_________________________________________________________________\n",
      "dense_33 (Dense)             (None, 100)               10100     \n",
      "_________________________________________________________________\n",
      "dense_34 (Dense)             (None, 100)               10100     \n",
      "_________________________________________________________________\n",
      "dense_35 (Dense)             (None, 100)               10100     \n",
      "_________________________________________________________________\n",
      "dense_36 (Dense)             (None, 100)               10100     \n",
      "_________________________________________________________________\n",
      "alpha_dropout_5 (AlphaDropou (None, 100)               0         \n",
      "_________________________________________________________________\n",
      "dense_37 (Dense)             (None, 100)               10100     \n",
      "_________________________________________________________________\n",
      "alpha_dropout_6 (AlphaDropou (None, 100)               0         \n",
      "_________________________________________________________________\n",
      "dense_38 (Dense)             (None, 100)               10100     \n",
      "_________________________________________________________________\n",
      "alpha_dropout_7 (AlphaDropou (None, 100)               0         \n",
      "_________________________________________________________________\n",
      "dense_39 (Dense)             (None, 100)               10100     \n",
      "_________________________________________________________________\n",
      "alpha_dropout_8 (AlphaDropou (None, 100)               0         \n",
      "_________________________________________________________________\n",
      "dense_40 (Dense)             (None, 100)               10100     \n",
      "_________________________________________________________________\n",
      "alpha_dropout_9 (AlphaDropou (None, 100)               0         \n",
      "_________________________________________________________________\n",
      "dense_41 (Dense)             (None, 3)                 303       \n",
      "=================================================================\n",
      "Total params: 193,403\n",
      "Trainable params: 193,403\n",
      "Non-trainable params: 0\n",
      "_________________________________________________________________\n"
     ]
    }
   ],
   "source": [
    "model.summary()"
   ]
  },
  {
   "cell_type": "code",
   "execution_count": null,
   "metadata": {},
   "outputs": [],
   "source": [
    "# [None, 784] * W + b -> [None, 300] W.shape [784, 300], b = [300]"
   ]
  },
  {
   "cell_type": "code",
   "execution_count": 16,
   "metadata": {},
   "outputs": [
    {
     "name": "stdout",
     "output_type": "stream",
     "text": [
      "Epoch 1/100\n",
      "   2/1979 [..............................] - ETA: 4:55 - loss: 1.7250 - accuracy: 0.3125WARNING:tensorflow:Method (on_train_batch_end) is slow compared to the batch update (0.146171). Check your callbacks.\n",
      "1979/1979 [==============================] - 12s 6ms/step - loss: 1.4331 - accuracy: 0.3432 - val_loss: 1.1600 - val_accuracy: 0.5716\n",
      "Epoch 2/100\n",
      "1979/1979 [==============================] - 10s 5ms/step - loss: 1.2072 - accuracy: 0.3618 - val_loss: 0.9853 - val_accuracy: 0.6356\n",
      "Epoch 3/100\n",
      "1979/1979 [==============================] - 10s 5ms/step - loss: 1.1194 - accuracy: 0.3803 - val_loss: 0.9428 - val_accuracy: 0.6361\n",
      "Epoch 4/100\n",
      "1979/1979 [==============================] - 10s 5ms/step - loss: 1.0869 - accuracy: 0.4026 - val_loss: 0.9569 - val_accuracy: 0.6376\n",
      "Epoch 5/100\n",
      "1979/1979 [==============================] - 10s 5ms/step - loss: 1.0682 - accuracy: 0.4224 - val_loss: 1.0313 - val_accuracy: 0.6400\n",
      "Epoch 6/100\n",
      "1979/1979 [==============================] - 10s 5ms/step - loss: 1.0559 - accuracy: 0.4390 - val_loss: 1.1698 - val_accuracy: 0.6448\n",
      "Epoch 7/100\n",
      "1979/1979 [==============================] - 10s 5ms/step - loss: 1.0428 - accuracy: 0.4518 - val_loss: 1.3850 - val_accuracy: 0.6460\n",
      "Epoch 8/100\n",
      "1979/1979 [==============================] - 10s 5ms/step - loss: 1.0294 - accuracy: 0.4644 - val_loss: 1.6175 - val_accuracy: 0.6446 -  - ETA: 0s - loss: 1.0298 - accuracy: 0.\n",
      "Epoch 9/100\n",
      "1979/1979 [==============================] - 11s 5ms/step - loss: 1.0099 - accuracy: 0.4830 - val_loss: 1.8499 - val_accuracy: 0.6478\n",
      "Epoch 10/100\n",
      "1979/1979 [==============================] - 10s 5ms/step - loss: 0.9884 - accuracy: 0.5006 - val_loss: 2.1983 - val_accuracy: 0.6440\n",
      "Epoch 11/100\n",
      "1979/1979 [==============================] - 10s 5ms/step - loss: 0.9618 - accuracy: 0.5191 - val_loss: 2.8710 - val_accuracy: 0.6430\n",
      "Epoch 12/100\n",
      "1979/1979 [==============================] - 10s 5ms/step - loss: 0.9374 - accuracy: 0.5404 - val_loss: 3.5278 - val_accuracy: 0.6348\n",
      "Epoch 13/100\n",
      "1979/1979 [==============================] - 10s 5ms/step - loss: 0.9144 - accuracy: 0.5554 - val_loss: 3.7355 - val_accuracy: 0.6384\n",
      "Epoch 14/100\n",
      "1979/1979 [==============================] - 10s 5ms/step - loss: 0.8941 - accuracy: 0.5702 - val_loss: 4.3112 - val_accuracy: 0.6288\n",
      "Epoch 15/100\n",
      "1979/1979 [==============================] - 10s 5ms/step - loss: 0.8727 - accuracy: 0.5809 - val_loss: 4.6749 - val_accuracy: 0.6411\n",
      "Epoch 16/100\n",
      "1979/1979 [==============================] - 10s 5ms/step - loss: 0.8602 - accuracy: 0.5902 - val_loss: 5.0796 - val_accuracy: 0.6281\n",
      "Epoch 17/100\n",
      "1979/1979 [==============================] - 10s 5ms/step - loss: 0.8409 - accuracy: 0.6007 - val_loss: 5.0748 - val_accuracy: 0.6308\n",
      "Epoch 18/100\n",
      "1979/1979 [==============================] - 11s 5ms/step - loss: 0.8319 - accuracy: 0.6043 - val_loss: 5.1610 - val_accuracy: 0.6317\n",
      "Epoch 19/100\n",
      "1979/1979 [==============================] - 10s 5ms/step - loss: 0.8177 - accuracy: 0.6131 - val_loss: 6.4391 - val_accuracy: 0.6342\n",
      "Epoch 20/100\n",
      "1979/1979 [==============================] - 10s 5ms/step - loss: 0.8047 - accuracy: 0.6181 - val_loss: 6.3807 - val_accuracy: 0.6040\n",
      "Epoch 21/100\n",
      "1979/1979 [==============================] - 10s 5ms/step - loss: 0.7918 - accuracy: 0.6244 - val_loss: 4.7652 - val_accuracy: 0.6360\n",
      "Epoch 22/100\n",
      "1979/1979 [==============================] - 11s 5ms/step - loss: 0.7782 - accuracy: 0.6266 - val_loss: 6.3665 - val_accuracy: 0.6198\n",
      "Epoch 23/100\n",
      "1979/1979 [==============================] - 9s 5ms/step - loss: 0.7635 - accuracy: 0.6359 - val_loss: 11.6397 - val_accuracy: 0.5736\n",
      "Epoch 24/100\n",
      "1979/1979 [==============================] - 10s 5ms/step - loss: 0.7527 - accuracy: 0.6417 - val_loss: 6.5978 - val_accuracy: 0.6263\n",
      "Epoch 25/100\n",
      "1979/1979 [==============================] - 9s 5ms/step - loss: 0.7474 - accuracy: 0.6436 - val_loss: 10.1902 - val_accuracy: 0.6173\n",
      "Epoch 26/100\n",
      "1979/1979 [==============================] - 9s 5ms/step - loss: 0.7313 - accuracy: 0.6472 - val_loss: 10.5696 - val_accuracy: 0.6055\n",
      "Epoch 27/100\n",
      "1979/1979 [==============================] - 10s 5ms/step - loss: 0.7204 - accuracy: 0.6520 - val_loss: 7.9622 - val_accuracy: 0.6499\n",
      "Epoch 28/100\n",
      "1979/1979 [==============================] - 10s 5ms/step - loss: 0.7039 - accuracy: 0.6552 - val_loss: 13.3728 - val_accuracy: 0.5860\n",
      "Epoch 29/100\n",
      "1979/1979 [==============================] - 10s 5ms/step - loss: 0.6904 - accuracy: 0.6563 - val_loss: 12.2002 - val_accuracy: 0.6363\n",
      "Epoch 30/100\n",
      "1979/1979 [==============================] - 10s 5ms/step - loss: 0.6852 - accuracy: 0.6596 - val_loss: 21.2164 - val_accuracy: 0.4762\n",
      "Epoch 31/100\n",
      "1979/1979 [==============================] - 10s 5ms/step - loss: 0.6711 - accuracy: 0.6623 - val_loss: 21.3078 - val_accuracy: 0.5946\n",
      "Epoch 32/100\n",
      "1979/1979 [==============================] - 10s 5ms/step - loss: 0.6624 - accuracy: 0.6625 - val_loss: 9.0733 - val_accuracy: 0.6601\n",
      "Epoch 33/100\n",
      "1979/1979 [==============================] - 10s 5ms/step - loss: 0.6640 - accuracy: 0.6629 - val_loss: 9.6772 - val_accuracy: 0.6523\n",
      "Epoch 34/100\n",
      "1979/1979 [==============================] - 9s 5ms/step - loss: 0.6555 - accuracy: 0.6648 - val_loss: 32.8155 - val_accuracy: 0.5689\n",
      "Epoch 35/100\n",
      "1979/1979 [==============================] - 10s 5ms/step - loss: 0.6540 - accuracy: 0.6633 - val_loss: 18.8902 - val_accuracy: 0.6152\n",
      "Epoch 36/100\n",
      "1979/1979 [==============================] - 9s 5ms/step - loss: 0.6337 - accuracy: 0.6683 - val_loss: 18.0402 - val_accuracy: 0.6346\n",
      "Epoch 37/100\n",
      "1979/1979 [==============================] - 10s 5ms/step - loss: 0.6359 - accuracy: 0.6717 - val_loss: 18.1456 - val_accuracy: 0.6286\n",
      "Epoch 38/100\n",
      "1979/1979 [==============================] - 10s 5ms/step - loss: 0.6410 - accuracy: 0.6724 - val_loss: 25.4835 - val_accuracy: 0.6260\n",
      "Epoch 39/100\n",
      "1979/1979 [==============================] - 10s 5ms/step - loss: 0.6310 - accuracy: 0.6764 - val_loss: 28.4404 - val_accuracy: 0.6080\n",
      "Epoch 40/100\n",
      "1979/1979 [==============================] - 10s 5ms/step - loss: 0.6280 - accuracy: 0.6799 - val_loss: 28.6892 - val_accuracy: 0.5784\n",
      "Epoch 41/100\n",
      "1979/1979 [==============================] - 10s 5ms/step - loss: 0.6190 - accuracy: 0.6861 - val_loss: 20.3360 - val_accuracy: 0.6345\n",
      "Epoch 42/100\n",
      "1979/1979 [==============================] - 10s 5ms/step - loss: 0.6124 - accuracy: 0.6903 - val_loss: 28.1441 - val_accuracy: 0.5891\n",
      "Epoch 43/100\n",
      "1979/1979 [==============================] - 10s 5ms/step - loss: 0.6060 - accuracy: 0.6937 - val_loss: 17.6198 - val_accuracy: 0.6511\n",
      "Epoch 44/100\n",
      "1979/1979 [==============================] - 10s 5ms/step - loss: 0.6066 - accuracy: 0.6950 - val_loss: 27.0909 - val_accuracy: 0.6035\n",
      "Epoch 45/100\n",
      "1979/1979 [==============================] - 10s 5ms/step - loss: 0.6012 - accuracy: 0.6959 - val_loss: 30.4962 - val_accuracy: 0.6183\n",
      "Epoch 46/100\n",
      "1979/1979 [==============================] - 10s 5ms/step - loss: 0.6000 - accuracy: 0.6991 - val_loss: 30.1183 - val_accuracy: 0.5924\n",
      "Epoch 47/100\n",
      "1979/1979 [==============================] - 10s 5ms/step - loss: 0.6051 - accuracy: 0.6979 - val_loss: 25.7558 - val_accuracy: 0.6150TA: 1s - los - ETA: 0s - loss: 0.6052 - accura\n",
      "Epoch 48/100\n",
      "1979/1979 [==============================] - 10s 5ms/step - loss: 0.5953 - accuracy: 0.7035 - val_loss: 32.1016 - val_accuracy: 0.6161\n",
      "Epoch 49/100\n",
      "1979/1979 [==============================] - 9s 5ms/step - loss: 0.5894 - accuracy: 0.7058 - val_loss: 26.5371 - val_accuracy: 0.5838\n",
      "Epoch 50/100\n",
      "1979/1979 [==============================] - 10s 5ms/step - loss: 0.5909 - accuracy: 0.7088 - val_loss: 25.6549 - val_accuracy: 0.6056\n",
      "Epoch 51/100\n",
      "1979/1979 [==============================] - 10s 5ms/step - loss: 0.5955 - accuracy: 0.7102 - val_loss: 25.8721 - val_accuracy: 0.5983\n",
      "Epoch 52/100\n",
      "1979/1979 [==============================] - 10s 5ms/step - loss: 0.5776 - accuracy: 0.7133 - val_loss: 25.0049 - val_accuracy: 0.6066\n",
      "Epoch 53/100\n",
      "1979/1979 [==============================] - 10s 5ms/step - loss: 0.5858 - accuracy: 0.7134 - val_loss: 30.5854 - val_accuracy: 0.5923\n",
      "Epoch 54/100\n",
      "1979/1979 [==============================] - 9s 5ms/step - loss: 0.5757 - accuracy: 0.7160 - val_loss: 41.7704 - val_accuracy: 0.5810\n",
      "Epoch 55/100\n",
      "1979/1979 [==============================] - 10s 5ms/step - loss: 0.5774 - accuracy: 0.7137 - val_loss: 35.3317 - val_accuracy: 0.5982\n",
      "Epoch 56/100\n",
      "1979/1979 [==============================] - 10s 5ms/step - loss: 0.5834 - accuracy: 0.7146 - val_loss: 16.3431 - val_accuracy: 0.6406\n",
      "Epoch 57/100\n",
      "1979/1979 [==============================] - 10s 5ms/step - loss: 0.5768 - accuracy: 0.7209 - val_loss: 25.1423 - val_accuracy: 0.6302\n",
      "Epoch 58/100\n",
      "1979/1979 [==============================] - 10s 5ms/step - loss: 0.5729 - accuracy: 0.7209 - val_loss: 28.1661 - val_accuracy: 0.6235\n",
      "Epoch 59/100\n",
      "1979/1979 [==============================] - 9s 5ms/step - loss: 0.5680 - accuracy: 0.7243 - val_loss: 32.7761 - val_accuracy: 0.6014\n",
      "Epoch 60/100\n",
      "1979/1979 [==============================] - 10s 5ms/step - loss: 0.5659 - accuracy: 0.7241 - val_loss: 44.4204 - val_accuracy: 0.5647\n",
      "Epoch 61/100\n",
      "1979/1979 [==============================] - 10s 5ms/step - loss: 0.5591 - accuracy: 0.7272 - val_loss: 29.3800 - val_accuracy: 0.6155\n",
      "Epoch 62/100\n",
      "1979/1979 [==============================] - 10s 5ms/step - loss: 0.5561 - accuracy: 0.7278 - val_loss: 24.1638 - val_accuracy: 0.6120\n",
      "Epoch 63/100\n",
      "1979/1979 [==============================] - 10s 5ms/step - loss: 0.5575 - accuracy: 0.7289 - val_loss: 56.3138 - val_accuracy: 0.5644\n",
      "Epoch 64/100\n",
      "1979/1979 [==============================] - 10s 5ms/step - loss: 0.5602 - accuracy: 0.7316 - val_loss: 29.2516 - val_accuracy: 0.6073\n",
      "Epoch 65/100\n",
      "1979/1979 [==============================] - 10s 5ms/step - loss: 0.5580 - accuracy: 0.7297 - val_loss: 33.8513 - val_accuracy: 0.6208\n",
      "Epoch 66/100\n",
      "1979/1979 [==============================] - 10s 5ms/step - loss: 0.5548 - accuracy: 0.7316 - val_loss: 39.2705 - val_accuracy: 0.5875\n",
      "Epoch 67/100\n",
      "1979/1979 [==============================] - 10s 5ms/step - loss: 0.5453 - accuracy: 0.7343 - val_loss: 30.6461 - val_accuracy: 0.6288\n",
      "Epoch 68/100\n",
      "1979/1979 [==============================] - 10s 5ms/step - loss: 0.5546 - accuracy: 0.7346 - val_loss: 48.1845 - val_accuracy: 0.5834\n",
      "Epoch 69/100\n",
      "1979/1979 [==============================] - 10s 5ms/step - loss: 0.5465 - accuracy: 0.7352 - val_loss: 35.7857 - val_accuracy: 0.5810\n",
      "Epoch 70/100\n",
      "1979/1979 [==============================] - 10s 5ms/step - loss: 0.5733 - accuracy: 0.7277 - val_loss: 42.3617 - val_accuracy: 0.5812\n",
      "Epoch 71/100\n",
      "1979/1979 [==============================] - 10s 5ms/step - loss: 0.5542 - accuracy: 0.7334 - val_loss: 40.9733 - val_accuracy: 0.5844\n",
      "Epoch 72/100\n",
      "1062/1979 [===============>..............] - ETA: 4s - loss: 0.5498 - accuracy: 0.7388"
     ]
    },
    {
     "ename": "KeyboardInterrupt",
     "evalue": "",
     "output_type": "error",
     "traceback": [
      "\u001b[1;31m---------------------------------------------------------------------------\u001b[0m",
      "\u001b[1;31mKeyboardInterrupt\u001b[0m                         Traceback (most recent call last)",
      "\u001b[1;32m<ipython-input-16-1503e22eed52>\u001b[0m in \u001b[0;36m<module>\u001b[1;34m\u001b[0m\n\u001b[0;32m     12\u001b[0m history = model.fit(train_x_scaled, train_y, epochs=100,\n\u001b[0;32m     13\u001b[0m                     \u001b[0mvalidation_data\u001b[0m\u001b[1;33m=\u001b[0m\u001b[1;33m(\u001b[0m\u001b[0mvalid_x_scaled\u001b[0m\u001b[1;33m,\u001b[0m \u001b[0mvalid_y\u001b[0m\u001b[1;33m)\u001b[0m\u001b[1;33m,\u001b[0m\u001b[1;33m\u001b[0m\u001b[1;33m\u001b[0m\u001b[0m\n\u001b[1;32m---> 14\u001b[1;33m                     callbacks = model_callbacks)\n\u001b[0m",
      "\u001b[1;32me:\\greenProgram\\anaconda\\envs\\tf\\lib\\site-packages\\tensorflow\\python\\keras\\engine\\training.py\u001b[0m in \u001b[0;36m_method_wrapper\u001b[1;34m(self, *args, **kwargs)\u001b[0m\n\u001b[0;32m     64\u001b[0m   \u001b[1;32mdef\u001b[0m \u001b[0m_method_wrapper\u001b[0m\u001b[1;33m(\u001b[0m\u001b[0mself\u001b[0m\u001b[1;33m,\u001b[0m \u001b[1;33m*\u001b[0m\u001b[0margs\u001b[0m\u001b[1;33m,\u001b[0m \u001b[1;33m**\u001b[0m\u001b[0mkwargs\u001b[0m\u001b[1;33m)\u001b[0m\u001b[1;33m:\u001b[0m\u001b[1;33m\u001b[0m\u001b[1;33m\u001b[0m\u001b[0m\n\u001b[0;32m     65\u001b[0m     \u001b[1;32mif\u001b[0m \u001b[1;32mnot\u001b[0m \u001b[0mself\u001b[0m\u001b[1;33m.\u001b[0m\u001b[0m_in_multi_worker_mode\u001b[0m\u001b[1;33m(\u001b[0m\u001b[1;33m)\u001b[0m\u001b[1;33m:\u001b[0m  \u001b[1;31m# pylint: disable=protected-access\u001b[0m\u001b[1;33m\u001b[0m\u001b[1;33m\u001b[0m\u001b[0m\n\u001b[1;32m---> 66\u001b[1;33m       \u001b[1;32mreturn\u001b[0m \u001b[0mmethod\u001b[0m\u001b[1;33m(\u001b[0m\u001b[0mself\u001b[0m\u001b[1;33m,\u001b[0m \u001b[1;33m*\u001b[0m\u001b[0margs\u001b[0m\u001b[1;33m,\u001b[0m \u001b[1;33m**\u001b[0m\u001b[0mkwargs\u001b[0m\u001b[1;33m)\u001b[0m\u001b[1;33m\u001b[0m\u001b[1;33m\u001b[0m\u001b[0m\n\u001b[0m\u001b[0;32m     67\u001b[0m \u001b[1;33m\u001b[0m\u001b[0m\n\u001b[0;32m     68\u001b[0m     \u001b[1;31m# Running inside `run_distribute_coordinator` already.\u001b[0m\u001b[1;33m\u001b[0m\u001b[1;33m\u001b[0m\u001b[1;33m\u001b[0m\u001b[0m\n",
      "\u001b[1;32me:\\greenProgram\\anaconda\\envs\\tf\\lib\\site-packages\\tensorflow\\python\\keras\\engine\\training.py\u001b[0m in \u001b[0;36mfit\u001b[1;34m(self, x, y, batch_size, epochs, verbose, callbacks, validation_split, validation_data, shuffle, class_weight, sample_weight, initial_epoch, steps_per_epoch, validation_steps, validation_batch_size, validation_freq, max_queue_size, workers, use_multiprocessing)\u001b[0m\n\u001b[0;32m    846\u001b[0m                 batch_size=batch_size):\n\u001b[0;32m    847\u001b[0m               \u001b[0mcallbacks\u001b[0m\u001b[1;33m.\u001b[0m\u001b[0mon_train_batch_begin\u001b[0m\u001b[1;33m(\u001b[0m\u001b[0mstep\u001b[0m\u001b[1;33m)\u001b[0m\u001b[1;33m\u001b[0m\u001b[1;33m\u001b[0m\u001b[0m\n\u001b[1;32m--> 848\u001b[1;33m               \u001b[0mtmp_logs\u001b[0m \u001b[1;33m=\u001b[0m \u001b[0mtrain_function\u001b[0m\u001b[1;33m(\u001b[0m\u001b[0miterator\u001b[0m\u001b[1;33m)\u001b[0m\u001b[1;33m\u001b[0m\u001b[1;33m\u001b[0m\u001b[0m\n\u001b[0m\u001b[0;32m    849\u001b[0m               \u001b[1;31m# Catch OutOfRangeError for Datasets of unknown size.\u001b[0m\u001b[1;33m\u001b[0m\u001b[1;33m\u001b[0m\u001b[1;33m\u001b[0m\u001b[0m\n\u001b[0;32m    850\u001b[0m               \u001b[1;31m# This blocks until the batch has finished executing.\u001b[0m\u001b[1;33m\u001b[0m\u001b[1;33m\u001b[0m\u001b[1;33m\u001b[0m\u001b[0m\n",
      "\u001b[1;32me:\\greenProgram\\anaconda\\envs\\tf\\lib\\site-packages\\tensorflow\\python\\eager\\def_function.py\u001b[0m in \u001b[0;36m__call__\u001b[1;34m(self, *args, **kwds)\u001b[0m\n\u001b[0;32m    578\u001b[0m         \u001b[0mxla_context\u001b[0m\u001b[1;33m.\u001b[0m\u001b[0mExit\u001b[0m\u001b[1;33m(\u001b[0m\u001b[1;33m)\u001b[0m\u001b[1;33m\u001b[0m\u001b[1;33m\u001b[0m\u001b[0m\n\u001b[0;32m    579\u001b[0m     \u001b[1;32melse\u001b[0m\u001b[1;33m:\u001b[0m\u001b[1;33m\u001b[0m\u001b[1;33m\u001b[0m\u001b[0m\n\u001b[1;32m--> 580\u001b[1;33m       \u001b[0mresult\u001b[0m \u001b[1;33m=\u001b[0m \u001b[0mself\u001b[0m\u001b[1;33m.\u001b[0m\u001b[0m_call\u001b[0m\u001b[1;33m(\u001b[0m\u001b[1;33m*\u001b[0m\u001b[0margs\u001b[0m\u001b[1;33m,\u001b[0m \u001b[1;33m**\u001b[0m\u001b[0mkwds\u001b[0m\u001b[1;33m)\u001b[0m\u001b[1;33m\u001b[0m\u001b[1;33m\u001b[0m\u001b[0m\n\u001b[0m\u001b[0;32m    581\u001b[0m \u001b[1;33m\u001b[0m\u001b[0m\n\u001b[0;32m    582\u001b[0m     \u001b[1;32mif\u001b[0m \u001b[0mtracing_count\u001b[0m \u001b[1;33m==\u001b[0m \u001b[0mself\u001b[0m\u001b[1;33m.\u001b[0m\u001b[0m_get_tracing_count\u001b[0m\u001b[1;33m(\u001b[0m\u001b[1;33m)\u001b[0m\u001b[1;33m:\u001b[0m\u001b[1;33m\u001b[0m\u001b[1;33m\u001b[0m\u001b[0m\n",
      "\u001b[1;32me:\\greenProgram\\anaconda\\envs\\tf\\lib\\site-packages\\tensorflow\\python\\eager\\def_function.py\u001b[0m in \u001b[0;36m_call\u001b[1;34m(self, *args, **kwds)\u001b[0m\n\u001b[0;32m    609\u001b[0m       \u001b[1;31m# In this case we have created variables on the first call, so we run the\u001b[0m\u001b[1;33m\u001b[0m\u001b[1;33m\u001b[0m\u001b[1;33m\u001b[0m\u001b[0m\n\u001b[0;32m    610\u001b[0m       \u001b[1;31m# defunned version which is guaranteed to never create variables.\u001b[0m\u001b[1;33m\u001b[0m\u001b[1;33m\u001b[0m\u001b[1;33m\u001b[0m\u001b[0m\n\u001b[1;32m--> 611\u001b[1;33m       \u001b[1;32mreturn\u001b[0m \u001b[0mself\u001b[0m\u001b[1;33m.\u001b[0m\u001b[0m_stateless_fn\u001b[0m\u001b[1;33m(\u001b[0m\u001b[1;33m*\u001b[0m\u001b[0margs\u001b[0m\u001b[1;33m,\u001b[0m \u001b[1;33m**\u001b[0m\u001b[0mkwds\u001b[0m\u001b[1;33m)\u001b[0m  \u001b[1;31m# pylint: disable=not-callable\u001b[0m\u001b[1;33m\u001b[0m\u001b[1;33m\u001b[0m\u001b[0m\n\u001b[0m\u001b[0;32m    612\u001b[0m     \u001b[1;32melif\u001b[0m \u001b[0mself\u001b[0m\u001b[1;33m.\u001b[0m\u001b[0m_stateful_fn\u001b[0m \u001b[1;32mis\u001b[0m \u001b[1;32mnot\u001b[0m \u001b[1;32mNone\u001b[0m\u001b[1;33m:\u001b[0m\u001b[1;33m\u001b[0m\u001b[1;33m\u001b[0m\u001b[0m\n\u001b[0;32m    613\u001b[0m       \u001b[1;31m# Release the lock early so that multiple threads can perform the call\u001b[0m\u001b[1;33m\u001b[0m\u001b[1;33m\u001b[0m\u001b[1;33m\u001b[0m\u001b[0m\n",
      "\u001b[1;32me:\\greenProgram\\anaconda\\envs\\tf\\lib\\site-packages\\tensorflow\\python\\eager\\function.py\u001b[0m in \u001b[0;36m__call__\u001b[1;34m(self, *args, **kwargs)\u001b[0m\n\u001b[0;32m   2418\u001b[0m     \u001b[1;32mwith\u001b[0m \u001b[0mself\u001b[0m\u001b[1;33m.\u001b[0m\u001b[0m_lock\u001b[0m\u001b[1;33m:\u001b[0m\u001b[1;33m\u001b[0m\u001b[1;33m\u001b[0m\u001b[0m\n\u001b[0;32m   2419\u001b[0m       \u001b[0mgraph_function\u001b[0m\u001b[1;33m,\u001b[0m \u001b[0margs\u001b[0m\u001b[1;33m,\u001b[0m \u001b[0mkwargs\u001b[0m \u001b[1;33m=\u001b[0m \u001b[0mself\u001b[0m\u001b[1;33m.\u001b[0m\u001b[0m_maybe_define_function\u001b[0m\u001b[1;33m(\u001b[0m\u001b[0margs\u001b[0m\u001b[1;33m,\u001b[0m \u001b[0mkwargs\u001b[0m\u001b[1;33m)\u001b[0m\u001b[1;33m\u001b[0m\u001b[1;33m\u001b[0m\u001b[0m\n\u001b[1;32m-> 2420\u001b[1;33m     \u001b[1;32mreturn\u001b[0m \u001b[0mgraph_function\u001b[0m\u001b[1;33m.\u001b[0m\u001b[0m_filtered_call\u001b[0m\u001b[1;33m(\u001b[0m\u001b[0margs\u001b[0m\u001b[1;33m,\u001b[0m \u001b[0mkwargs\u001b[0m\u001b[1;33m)\u001b[0m  \u001b[1;31m# pylint: disable=protected-access\u001b[0m\u001b[1;33m\u001b[0m\u001b[1;33m\u001b[0m\u001b[0m\n\u001b[0m\u001b[0;32m   2421\u001b[0m \u001b[1;33m\u001b[0m\u001b[0m\n\u001b[0;32m   2422\u001b[0m   \u001b[1;33m@\u001b[0m\u001b[0mproperty\u001b[0m\u001b[1;33m\u001b[0m\u001b[1;33m\u001b[0m\u001b[0m\n",
      "\u001b[1;32me:\\greenProgram\\anaconda\\envs\\tf\\lib\\site-packages\\tensorflow\\python\\eager\\function.py\u001b[0m in \u001b[0;36m_filtered_call\u001b[1;34m(self, args, kwargs)\u001b[0m\n\u001b[0;32m   1663\u001b[0m          if isinstance(t, (ops.Tensor,\n\u001b[0;32m   1664\u001b[0m                            resource_variable_ops.BaseResourceVariable))),\n\u001b[1;32m-> 1665\u001b[1;33m         self.captured_inputs)\n\u001b[0m\u001b[0;32m   1666\u001b[0m \u001b[1;33m\u001b[0m\u001b[0m\n\u001b[0;32m   1667\u001b[0m   \u001b[1;32mdef\u001b[0m \u001b[0m_call_flat\u001b[0m\u001b[1;33m(\u001b[0m\u001b[0mself\u001b[0m\u001b[1;33m,\u001b[0m \u001b[0margs\u001b[0m\u001b[1;33m,\u001b[0m \u001b[0mcaptured_inputs\u001b[0m\u001b[1;33m,\u001b[0m \u001b[0mcancellation_manager\u001b[0m\u001b[1;33m=\u001b[0m\u001b[1;32mNone\u001b[0m\u001b[1;33m)\u001b[0m\u001b[1;33m:\u001b[0m\u001b[1;33m\u001b[0m\u001b[1;33m\u001b[0m\u001b[0m\n",
      "\u001b[1;32me:\\greenProgram\\anaconda\\envs\\tf\\lib\\site-packages\\tensorflow\\python\\eager\\function.py\u001b[0m in \u001b[0;36m_call_flat\u001b[1;34m(self, args, captured_inputs, cancellation_manager)\u001b[0m\n\u001b[0;32m   1744\u001b[0m       \u001b[1;31m# No tape is watching; skip to running the function.\u001b[0m\u001b[1;33m\u001b[0m\u001b[1;33m\u001b[0m\u001b[1;33m\u001b[0m\u001b[0m\n\u001b[0;32m   1745\u001b[0m       return self._build_call_outputs(self._inference_function.call(\n\u001b[1;32m-> 1746\u001b[1;33m           ctx, args, cancellation_manager=cancellation_manager))\n\u001b[0m\u001b[0;32m   1747\u001b[0m     forward_backward = self._select_forward_and_backward_functions(\n\u001b[0;32m   1748\u001b[0m         \u001b[0margs\u001b[0m\u001b[1;33m,\u001b[0m\u001b[1;33m\u001b[0m\u001b[1;33m\u001b[0m\u001b[0m\n",
      "\u001b[1;32me:\\greenProgram\\anaconda\\envs\\tf\\lib\\site-packages\\tensorflow\\python\\eager\\function.py\u001b[0m in \u001b[0;36mcall\u001b[1;34m(self, ctx, args, cancellation_manager)\u001b[0m\n\u001b[0;32m    596\u001b[0m               \u001b[0minputs\u001b[0m\u001b[1;33m=\u001b[0m\u001b[0margs\u001b[0m\u001b[1;33m,\u001b[0m\u001b[1;33m\u001b[0m\u001b[1;33m\u001b[0m\u001b[0m\n\u001b[0;32m    597\u001b[0m               \u001b[0mattrs\u001b[0m\u001b[1;33m=\u001b[0m\u001b[0mattrs\u001b[0m\u001b[1;33m,\u001b[0m\u001b[1;33m\u001b[0m\u001b[1;33m\u001b[0m\u001b[0m\n\u001b[1;32m--> 598\u001b[1;33m               ctx=ctx)\n\u001b[0m\u001b[0;32m    599\u001b[0m         \u001b[1;32melse\u001b[0m\u001b[1;33m:\u001b[0m\u001b[1;33m\u001b[0m\u001b[1;33m\u001b[0m\u001b[0m\n\u001b[0;32m    600\u001b[0m           outputs = execute.execute_with_cancellation(\n",
      "\u001b[1;32me:\\greenProgram\\anaconda\\envs\\tf\\lib\\site-packages\\tensorflow\\python\\eager\\execute.py\u001b[0m in \u001b[0;36mquick_execute\u001b[1;34m(op_name, num_outputs, inputs, attrs, ctx, name)\u001b[0m\n\u001b[0;32m     58\u001b[0m     \u001b[0mctx\u001b[0m\u001b[1;33m.\u001b[0m\u001b[0mensure_initialized\u001b[0m\u001b[1;33m(\u001b[0m\u001b[1;33m)\u001b[0m\u001b[1;33m\u001b[0m\u001b[1;33m\u001b[0m\u001b[0m\n\u001b[0;32m     59\u001b[0m     tensors = pywrap_tfe.TFE_Py_Execute(ctx._handle, device_name, op_name,\n\u001b[1;32m---> 60\u001b[1;33m                                         inputs, attrs, num_outputs)\n\u001b[0m\u001b[0;32m     61\u001b[0m   \u001b[1;32mexcept\u001b[0m \u001b[0mcore\u001b[0m\u001b[1;33m.\u001b[0m\u001b[0m_NotOkStatusException\u001b[0m \u001b[1;32mas\u001b[0m \u001b[0me\u001b[0m\u001b[1;33m:\u001b[0m\u001b[1;33m\u001b[0m\u001b[1;33m\u001b[0m\u001b[0m\n\u001b[0;32m     62\u001b[0m     \u001b[1;32mif\u001b[0m \u001b[0mname\u001b[0m \u001b[1;32mis\u001b[0m \u001b[1;32mnot\u001b[0m \u001b[1;32mNone\u001b[0m\u001b[1;33m:\u001b[0m\u001b[1;33m\u001b[0m\u001b[1;33m\u001b[0m\u001b[0m\n",
      "\u001b[1;31mKeyboardInterrupt\u001b[0m: "
     ]
    }
   ],
   "source": [
    "# H:/github/python/seafog/\n",
    "logdir = './callbacks_class_dnn_selu_dropout'\n",
    "if not os.path.exists(logdir):\n",
    "    os.mkdir(logdir)\n",
    "output_model_file = os.path.join(logdir, \"sea_fog_classi_dnn_selu_dropout_model.h5\")\n",
    "\n",
    "model_callbacks = [\n",
    "    keras.callbacks.TensorBoard(logdir),\n",
    "    # keras.callbacks.ModelCheckpoint(output_model_file, save_best_only = True),\n",
    "    # keras.callbacks.EarlyStopping(patience=5, min_delta=1e-3),\n",
    "    ]\n",
    "history = model.fit(train_x_scaled, train_y, epochs=100,\n",
    "                    validation_data=(valid_x_scaled, valid_y),\n",
    "                    callbacks = model_callbacks)"
   ]
  },
  {
   "cell_type": "code",
   "execution_count": null,
   "metadata": {},
   "outputs": [],
   "source": [
    "type(history)"
   ]
  },
  {
   "cell_type": "code",
   "execution_count": null,
   "metadata": {},
   "outputs": [],
   "source": [
    "history.history"
   ]
  },
  {
   "cell_type": "code",
   "execution_count": 13,
   "metadata": {},
   "outputs": [
    {
     "data": {
      "image/png": "[encoded data removed]",
      "text/plain": [
       "<Figure size 576x360 with 1 Axes>"
      ]
     },
     "metadata": {
      "needs_background": "light"
     },
     "output_type": "display_data"
    }
   ],
   "source": [
    "def plot_learning_curves(history):\n",
    "    pd.DataFrame(history.history).plot(figsize=(8, 5))\n",
    "    plt.grid(True)\n",
    "    plt.gca().set_ylim(0, 1)\n",
    "    plt.show()\n",
    "\n",
    "plot_learning_curves(history)"
   ]
  },
  {
   "cell_type": "code",
   "execution_count": 14,
   "metadata": {},
   "outputs": [
    {
     "data": {
      "text/plain": [
       "[15.821459770202637, 0.561163604259491]"
      ]
     },
     "execution_count": 14,
     "metadata": {},
     "output_type": "execute_result"
    }
   ],
   "source": [
    "model.evaluate(test_x_scaled, test_y, verbose=0)"
   ]
  },
  {
   "cell_type": "code",
   "execution_count": null,
   "metadata": {},
   "outputs": [],
   "source": [
    "predictions = model(test_x_scaled).numpy()\n",
    "predictions"
   ]
  },
  {
   "cell_type": "code",
   "execution_count": null,
   "metadata": {},
   "outputs": [],
   "source": [
    "p_test = tf.nn.softmax(predictions).numpy()\n",
    "\n"
   ]
  },
  {
   "cell_type": "code",
   "execution_count": null,
   "metadata": {},
   "outputs": [],
   "source": [
    "p_test[:,0]"
   ]
  },
  {
   "cell_type": "code",
   "execution_count": null,
   "metadata": {},
   "outputs": [],
   "source": [
    "df_p_test = pd.DataFrame({'p_fog':p_test[:,0],'p_mist':p_test[:,1],'p_clear':p_test[:,2]})"
   ]
  },
  {
   "cell_type": "code",
   "execution_count": null,
   "metadata": {},
   "outputs": [],
   "source": [
    "df_p_test['p_clear'].plot()\n",
    "df_p_test['p_mist'].plot()\n",
    "df_p_test['p_fog'].plot()"
   ]
  },
  {
   "cell_type": "code",
   "execution_count": null,
   "metadata": {},
   "outputs": [],
   "source": [
    "\n",
    "df_test_result = df_test.join(df_p_test) \n",
    "print(df_test_result.head())\n",
    "df_test_result.to_csv('df_test_result.csv')"
   ]
  },
  {
   "cell_type": "code",
   "execution_count": null,
   "metadata": {},
   "outputs": [],
   "source": [
    "# 各类别预测准确性对比\n",
    "# 筛选出不同类别 df_all.loc[df_all['station_vis_cat'] == 2]\n",
    "# 计算输出的类别 "
   ]
  }
 ],
 "metadata": {
  "kernelspec": {
   "display_name": "Python 3.7.7 ('tf')",
   "language": "python",
   "name": "python3"
  },
  "language_info": {
   "codemirror_mode": {
    "name": "ipython",
    "version": 3
   },
   "file_extension": ".py",
   "mimetype": "text/x-python",
   "name": "python",
   "nbconvert_exporter": "python",
   "pygments_lexer": "ipython3",
   "version": "3.7.7"
  },
  "vscode": {
   "interpreter": {
    "hash": "e2677bb6edf47c876085224160586bcf922d69e5af689e1422860b4bba542019"
   }
  }
 },
 "nbformat": 4,
 "nbformat_minor": 2
}
