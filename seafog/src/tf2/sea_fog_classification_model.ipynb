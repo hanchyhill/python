{
 "cells": [
  {
   "cell_type": "code",
   "execution_count": 1,
   "metadata": {},
   "outputs": [
    {
     "name": "stdout",
     "output_type": "stream",
     "text": [
      "2.10.0\n",
      "sys.version_info(major=3, minor=10, micro=5, releaselevel='final', serial=0)\n",
      "matplotlib 3.5.2\n",
      "numpy 1.23.1\n",
      "pandas 1.4.3\n",
      "sklearn 1.1.2\n",
      "tensorflow 2.10.0\n",
      "keras.api._v2.keras 2.10.0\n"
     ]
    }
   ],
   "source": [
    "import matplotlib as mpl\n",
    "import matplotlib.pyplot as plt\n",
    "%matplotlib inline\n",
    "import numpy as np\n",
    "import sklearn\n",
    "import pandas as pd\n",
    "import os\n",
    "import sys\n",
    "import time\n",
    "import tensorflow as tf\n",
    "\n",
    "from tensorflow import keras\n",
    "\n",
    "from sklearn.preprocessing import StandardScaler\n",
    "\n",
    "print(tf.__version__)\n",
    "print(sys.version_info)\n",
    "for module in mpl, np, pd, sklearn, tf, keras:\n",
    "    print(module.__name__, module.__version__)\n"
   ]
  },
  {
   "cell_type": "code",
   "execution_count": 2,
   "metadata": {},
   "outputs": [
    {
     "name": "stdout",
     "output_type": "stream",
     "text": [
      "['/test', '/train', '/valid']\n",
      "(44751, 11)\n",
      "(44751,)\n"
     ]
    }
   ],
   "source": [
    "fog_dataset_hdf = \"H:/github/python/seafog/data/collection/fog_dataset.hdf\"\n",
    "store_dataset = pd.HDFStore(fog_dataset_hdf, mode='r')\n",
    "print(store_dataset.keys())\n",
    "df_train = store_dataset.get('train')\n",
    "df_valid =store_dataset.get('valid')\n",
    "df_test = store_dataset.get('test')\n",
    "x_columns = ['v100', 'v10m', 'u100', 'u10m', 't2mm', 't2md', 'sstk','year_sin','year_cos', 'day_sin', 'day_cos',]\n",
    "\n",
    "df_train_x = df_train.loc[:, x_columns]\n",
    "df_train_y = df_train['station_vis_cat']\n",
    "\n",
    "df_valid_x = df_valid.loc[:, x_columns]\n",
    "df_valid_y = df_valid['station_vis_cat']\n",
    "\n",
    "df_test_x = df_test.loc[:, x_columns]\n",
    "df_test_y = df_test['station_vis_cat']\n",
    "\n",
    "train_x = df_train_x.to_numpy()\n",
    "train_y = df_train_y.to_numpy()\n",
    "\n",
    "valid_x = df_valid_x.to_numpy()\n",
    "valid_y = df_valid_y.to_numpy()\n",
    "\n",
    "test_x = df_test_x.to_numpy()\n",
    "test_y = df_test_y.to_numpy()\n",
    "\n",
    "print(train_x.shape)\n",
    "print(train_y.shape)\n"
   ]
  },
  {
   "cell_type": "code",
   "execution_count": 3,
   "metadata": {},
   "outputs": [
    {
     "data": {
      "text/plain": [
       "array([2, 2, 2, ..., 1, 1, 1], dtype=int64)"
      ]
     },
     "execution_count": 3,
     "metadata": {},
     "output_type": "execute_result"
    }
   ],
   "source": [
    "valid_y"
   ]
  },
  {
   "cell_type": "code",
   "execution_count": 4,
   "metadata": {},
   "outputs": [],
   "source": [
    "scaler = StandardScaler()\n",
    "train_x_scaled = scaler.fit_transform(train_x)\n",
    "valid_x_scaled = scaler.fit_transform(valid_x)\n",
    "test_x_scaled = scaler.fit_transform(test_x)"
   ]
  },
  {
   "cell_type": "code",
   "execution_count": 5,
   "metadata": {},
   "outputs": [
    {
     "name": "stdout",
     "output_type": "stream",
     "text": [
      "5.062937084595556 -5.515961514148879\n"
     ]
    }
   ],
   "source": [
    "print(np.max(train_x_scaled), np.min(train_x_scaled))"
   ]
  },
  {
   "cell_type": "code",
   "execution_count": 6,
   "metadata": {},
   "outputs": [],
   "source": [
    "# tf.keras.models.Sequential()\n",
    "\n",
    "\"\"\"\n",
    "model = keras.models.Sequential()\n",
    "model.add(keras.layers.Flatten(input_shape=[28, 28]))\n",
    "model.add(keras.layers.Dense(300, activation=\"relu\"))\n",
    "model.add(keras.layers.Dense(100, activation=\"relu\"))\n",
    "model.add(keras.layers.Dense(10, activation=\"softmax\"))\n",
    "\"\"\"\n",
    "\n",
    "model = keras.models.Sequential([\n",
    "    keras.layers.Flatten(input_shape=[11,]),\n",
    "    keras.layers.Dense(9, activation='relu'),\n",
    "    keras.layers.Dense(6, activation='relu'),\n",
    "    keras.layers.Dense(3, activation='softmax')\n",
    "])\n",
    "\n",
    "# relu: y = max(0, x)\n",
    "# softmax: 将向量变成概率分布. x = [x1, x2, x3], \n",
    "#          y = [e^x1/sum, e^x2/sum, e^x3/sum], sum = e^x1 + e^x2 + e^x3\n",
    "\n",
    "# reason for sparse: y->index. y->one_hot->[] \n",
    "model.compile(loss=\"sparse_categorical_crossentropy\",\n",
    "              optimizer = keras.optimizers.SGD(0.001),\n",
    "              metrics = [\"accuracy\"])"
   ]
  },
  {
   "cell_type": "code",
   "execution_count": 7,
   "metadata": {},
   "outputs": [
    {
     "data": {
      "text/plain": [
       "[<keras.layers.reshaping.flatten.Flatten at 0x1d3bc266c20>,\n",
       " <keras.layers.core.dense.Dense at 0x1d3bc266b00>,\n",
       " <keras.layers.core.dense.Dense at 0x1d3bc267af0>,\n",
       " <keras.layers.core.dense.Dense at 0x1d3bc266d70>]"
      ]
     },
     "execution_count": 7,
     "metadata": {},
     "output_type": "execute_result"
    }
   ],
   "source": [
    "model.layers"
   ]
  },
  {
   "cell_type": "code",
   "execution_count": 8,
   "metadata": {},
   "outputs": [
    {
     "name": "stdout",
     "output_type": "stream",
     "text": [
      "Model: \"sequential\"\n",
      "_________________________________________________________________\n",
      " Layer (type)                Output Shape              Param #   \n",
      "=================================================================\n",
      " flatten (Flatten)           (None, 11)                0         \n",
      "                                                                 \n",
      " dense (Dense)               (None, 9)                 108       \n",
      "                                                                 \n",
      " dense_1 (Dense)             (None, 6)                 60        \n",
      "                                                                 \n",
      " dense_2 (Dense)             (None, 3)                 21        \n",
      "                                                                 \n",
      "=================================================================\n",
      "Total params: 189\n",
      "Trainable params: 189\n",
      "Non-trainable params: 0\n",
      "_________________________________________________________________\n"
     ]
    }
   ],
   "source": [
    "model.summary()"
   ]
  },
  {
   "cell_type": "code",
   "execution_count": 9,
   "metadata": {},
   "outputs": [],
   "source": [
    "# [None, 784] * W + b -> [None, 300] W.shape [784, 300], b = [300]"
   ]
  },
  {
   "cell_type": "code",
   "execution_count": 10,
   "metadata": {},
   "outputs": [
    {
     "name": "stdout",
     "output_type": "stream",
     "text": [
      "Epoch 1/50\n",
      "1399/1399 [==============================] - 2s 1ms/step - loss: 0.9382 - accuracy: 0.5820 - val_loss: 0.7941 - val_accuracy: 0.6082\n",
      "Epoch 2/50\n",
      "1399/1399 [==============================] - 2s 1ms/step - loss: 0.7345 - accuracy: 0.6293 - val_loss: 0.6952 - val_accuracy: 0.6481\n",
      "Epoch 3/50\n",
      "1399/1399 [==============================] - 2s 1ms/step - loss: 0.6626 - accuracy: 0.6773 - val_loss: 0.6427 - val_accuracy: 0.6924\n",
      "Epoch 4/50\n",
      "1399/1399 [==============================] - 2s 1ms/step - loss: 0.6224 - accuracy: 0.7059 - val_loss: 0.6141 - val_accuracy: 0.7077\n",
      "Epoch 5/50\n",
      "1399/1399 [==============================] - 2s 1ms/step - loss: 0.6013 - accuracy: 0.7148 - val_loss: 0.5994 - val_accuracy: 0.7114\n",
      "Epoch 6/50\n",
      "1399/1399 [==============================] - 2s 1ms/step - loss: 0.5897 - accuracy: 0.7184 - val_loss: 0.5912 - val_accuracy: 0.7152\n",
      "Epoch 7/50\n",
      "1399/1399 [==============================] - 2s 1ms/step - loss: 0.5827 - accuracy: 0.7212 - val_loss: 0.5857 - val_accuracy: 0.7169\n",
      "Epoch 8/50\n",
      "1399/1399 [==============================] - 2s 1ms/step - loss: 0.5779 - accuracy: 0.7240 - val_loss: 0.5818 - val_accuracy: 0.7209\n",
      "Epoch 9/50\n",
      "1399/1399 [==============================] - 2s 1ms/step - loss: 0.5742 - accuracy: 0.7258 - val_loss: 0.5784 - val_accuracy: 0.7232\n",
      "Epoch 10/50\n",
      "1399/1399 [==============================] - 2s 1ms/step - loss: 0.5712 - accuracy: 0.7274 - val_loss: 0.5757 - val_accuracy: 0.7225\n",
      "Epoch 11/50\n",
      "1399/1399 [==============================] - 2s 1ms/step - loss: 0.5685 - accuracy: 0.7289 - val_loss: 0.5734 - val_accuracy: 0.7246\n",
      "Epoch 12/50\n",
      "1399/1399 [==============================] - 2s 1ms/step - loss: 0.5662 - accuracy: 0.7295 - val_loss: 0.5712 - val_accuracy: 0.7239\n",
      "Epoch 13/50\n",
      "1399/1399 [==============================] - 2s 1ms/step - loss: 0.5641 - accuracy: 0.7306 - val_loss: 0.5693 - val_accuracy: 0.7251\n",
      "Epoch 14/50\n",
      "1399/1399 [==============================] - 2s 1ms/step - loss: 0.5622 - accuracy: 0.7315 - val_loss: 0.5676 - val_accuracy: 0.7278\n",
      "Epoch 15/50\n",
      "1399/1399 [==============================] - 2s 1ms/step - loss: 0.5605 - accuracy: 0.7324 - val_loss: 0.5659 - val_accuracy: 0.7284\n",
      "Epoch 16/50\n",
      "1399/1399 [==============================] - 2s 1ms/step - loss: 0.5588 - accuracy: 0.7339 - val_loss: 0.5645 - val_accuracy: 0.7298\n",
      "Epoch 17/50\n",
      "1399/1399 [==============================] - 2s 1ms/step - loss: 0.5573 - accuracy: 0.7348 - val_loss: 0.5632 - val_accuracy: 0.7314\n",
      "Epoch 18/50\n",
      "1399/1399 [==============================] - 2s 1ms/step - loss: 0.5559 - accuracy: 0.7355 - val_loss: 0.5618 - val_accuracy: 0.7313\n",
      "Epoch 19/50\n",
      "1399/1399 [==============================] - 2s 1ms/step - loss: 0.5545 - accuracy: 0.7365 - val_loss: 0.5605 - val_accuracy: 0.7330\n",
      "Epoch 20/50\n",
      "1399/1399 [==============================] - 2s 1ms/step - loss: 0.5531 - accuracy: 0.7376 - val_loss: 0.5592 - val_accuracy: 0.7335\n",
      "Epoch 21/50\n",
      "1399/1399 [==============================] - 2s 1ms/step - loss: 0.5517 - accuracy: 0.7385 - val_loss: 0.5581 - val_accuracy: 0.7337\n",
      "Epoch 22/50\n",
      "1399/1399 [==============================] - 2s 1ms/step - loss: 0.5505 - accuracy: 0.7391 - val_loss: 0.5568 - val_accuracy: 0.7346\n",
      "Epoch 23/50\n",
      "1399/1399 [==============================] - 2s 1ms/step - loss: 0.5491 - accuracy: 0.7405 - val_loss: 0.5558 - val_accuracy: 0.7341\n",
      "Epoch 24/50\n",
      "1399/1399 [==============================] - 2s 1ms/step - loss: 0.5479 - accuracy: 0.7410 - val_loss: 0.5546 - val_accuracy: 0.7350\n",
      "Epoch 25/50\n",
      "1399/1399 [==============================] - 2s 1ms/step - loss: 0.5468 - accuracy: 0.7419 - val_loss: 0.5535 - val_accuracy: 0.7356\n",
      "Epoch 26/50\n",
      "1399/1399 [==============================] - 2s 1ms/step - loss: 0.5456 - accuracy: 0.7427 - val_loss: 0.5526 - val_accuracy: 0.7350\n",
      "Epoch 27/50\n",
      "1399/1399 [==============================] - 2s 1ms/step - loss: 0.5446 - accuracy: 0.7436 - val_loss: 0.5518 - val_accuracy: 0.7356\n",
      "Epoch 28/50\n",
      "1399/1399 [==============================] - 2s 1ms/step - loss: 0.5435 - accuracy: 0.7436 - val_loss: 0.5508 - val_accuracy: 0.7365\n",
      "Epoch 29/50\n",
      "1399/1399 [==============================] - 2s 1ms/step - loss: 0.5427 - accuracy: 0.7451 - val_loss: 0.5499 - val_accuracy: 0.7376\n",
      "Epoch 30/50\n",
      "1399/1399 [==============================] - 2s 1ms/step - loss: 0.5417 - accuracy: 0.7456 - val_loss: 0.5492 - val_accuracy: 0.7368\n",
      "Epoch 31/50\n",
      "1399/1399 [==============================] - 2s 1ms/step - loss: 0.5409 - accuracy: 0.7460 - val_loss: 0.5484 - val_accuracy: 0.7382\n",
      "Epoch 32/50\n",
      "1399/1399 [==============================] - 2s 1ms/step - loss: 0.5401 - accuracy: 0.7459 - val_loss: 0.5478 - val_accuracy: 0.7390\n",
      "Epoch 33/50\n",
      "1399/1399 [==============================] - 2s 1ms/step - loss: 0.5394 - accuracy: 0.7469 - val_loss: 0.5472 - val_accuracy: 0.7382\n",
      "Epoch 34/50\n",
      "1399/1399 [==============================] - 2s 1ms/step - loss: 0.5386 - accuracy: 0.7473 - val_loss: 0.5466 - val_accuracy: 0.7385\n",
      "Epoch 35/50\n",
      "1399/1399 [==============================] - 2s 1ms/step - loss: 0.5379 - accuracy: 0.7481 - val_loss: 0.5460 - val_accuracy: 0.7381\n",
      "Epoch 36/50\n",
      "1399/1399 [==============================] - 2s 1ms/step - loss: 0.5373 - accuracy: 0.7485 - val_loss: 0.5454 - val_accuracy: 0.7394\n",
      "Epoch 37/50\n",
      "1399/1399 [==============================] - 2s 1ms/step - loss: 0.5366 - accuracy: 0.7488 - val_loss: 0.5448 - val_accuracy: 0.7396\n",
      "Epoch 38/50\n",
      "1399/1399 [==============================] - 2s 1ms/step - loss: 0.5360 - accuracy: 0.7493 - val_loss: 0.5444 - val_accuracy: 0.7385\n",
      "Epoch 39/50\n",
      "1399/1399 [==============================] - 2s 1ms/step - loss: 0.5354 - accuracy: 0.7502 - val_loss: 0.5440 - val_accuracy: 0.7394\n",
      "Epoch 40/50\n",
      "1399/1399 [==============================] - 2s 1ms/step - loss: 0.5348 - accuracy: 0.7504 - val_loss: 0.5433 - val_accuracy: 0.7408\n",
      "Epoch 41/50\n",
      "1399/1399 [==============================] - 2s 1ms/step - loss: 0.5342 - accuracy: 0.7512 - val_loss: 0.5428 - val_accuracy: 0.7416\n",
      "Epoch 42/50\n",
      "1399/1399 [==============================] - 2s 1ms/step - loss: 0.5336 - accuracy: 0.7511 - val_loss: 0.5423 - val_accuracy: 0.7427\n",
      "Epoch 43/50\n",
      "1399/1399 [==============================] - 2s 1ms/step - loss: 0.5330 - accuracy: 0.7516 - val_loss: 0.5419 - val_accuracy: 0.7429\n",
      "Epoch 44/50\n",
      "1399/1399 [==============================] - 2s 1ms/step - loss: 0.5325 - accuracy: 0.7525 - val_loss: 0.5414 - val_accuracy: 0.7429\n",
      "Epoch 45/50\n",
      "1399/1399 [==============================] - 2s 1ms/step - loss: 0.5319 - accuracy: 0.7527 - val_loss: 0.5410 - val_accuracy: 0.7443\n",
      "Epoch 46/50\n",
      "1399/1399 [==============================] - 2s 1ms/step - loss: 0.5314 - accuracy: 0.7531 - val_loss: 0.5407 - val_accuracy: 0.7441\n",
      "Epoch 47/50\n",
      "1399/1399 [==============================] - 2s 1ms/step - loss: 0.5308 - accuracy: 0.7536 - val_loss: 0.5401 - val_accuracy: 0.7448\n",
      "Epoch 48/50\n",
      "1399/1399 [==============================] - 2s 1ms/step - loss: 0.5303 - accuracy: 0.7542 - val_loss: 0.5398 - val_accuracy: 0.7437\n",
      "Epoch 49/50\n",
      "1399/1399 [==============================] - 2s 1ms/step - loss: 0.5298 - accuracy: 0.7545 - val_loss: 0.5393 - val_accuracy: 0.7443\n",
      "Epoch 50/50\n",
      "1399/1399 [==============================] - 2s 1ms/step - loss: 0.5293 - accuracy: 0.7551 - val_loss: 0.5390 - val_accuracy: 0.7444\n"
     ]
    }
   ],
   "source": [
    "# H:/github/python/seafog/\n",
    "logdir = './callbacks'\n",
    "if not os.path.exists(logdir):\n",
    "    os.mkdir(logdir)\n",
    "output_model_file = os.path.join(logdir, \"sea_fog_model.h5\")\n",
    "\n",
    "model_callbacks = [\n",
    "    keras.callbacks.TensorBoard(logdir),\n",
    "    keras.callbacks.ModelCheckpoint(output_model_file, save_best_only = True),\n",
    "    keras.callbacks.EarlyStopping(patience=5, min_delta=1e-3),\n",
    "    ]\n",
    "history = model.fit(train_x_scaled, train_y, epochs=100,\n",
    "                    validation_data=(valid_x_scaled, valid_y),\n",
    "                    callbacks = model_callbacks)"
   ]
  },
  {
   "cell_type": "code",
   "execution_count": 11,
   "metadata": {},
   "outputs": [
    {
     "data": {
      "text/plain": [
       "keras.callbacks.History"
      ]
     },
     "execution_count": 11,
     "metadata": {},
     "output_type": "execute_result"
    }
   ],
   "source": [
    "type(history)"
   ]
  },
  {
   "cell_type": "code",
   "execution_count": 12,
   "metadata": {},
   "outputs": [
    {
     "data": {
      "text/plain": [
       "{'loss': [0.9381838440895081,\n",
       "  0.7344799041748047,\n",
       "  0.6626395583152771,\n",
       "  0.6224440932273865,\n",
       "  0.6012665629386902,\n",
       "  0.5897480249404907,\n",
       "  0.5826829671859741,\n",
       "  0.5778592228889465,\n",
       "  0.5741618871688843,\n",
       "  0.5711502432823181,\n",
       "  0.5685144066810608,\n",
       "  0.5661860704421997,\n",
       "  0.5641008019447327,\n",
       "  0.5621850490570068,\n",
       "  0.5604530572891235,\n",
       "  0.5588465929031372,\n",
       "  0.5572978854179382,\n",
       "  0.5558663606643677,\n",
       "  0.5544814467430115,\n",
       "  0.5530815124511719,\n",
       "  0.5517003536224365,\n",
       "  0.5504615306854248,\n",
       "  0.549138605594635,\n",
       "  0.5479077696800232,\n",
       "  0.5467715859413147,\n",
       "  0.5456334352493286,\n",
       "  0.5445889234542847,\n",
       "  0.5435330867767334,\n",
       "  0.5426521301269531,\n",
       "  0.541702926158905,\n",
       "  0.5409215092658997,\n",
       "  0.5401182770729065,\n",
       "  0.5393742322921753,\n",
       "  0.5386379957199097,\n",
       "  0.5379133820533752,\n",
       "  0.5373148918151855,\n",
       "  0.5366363525390625,\n",
       "  0.5359809398651123,\n",
       "  0.5353657603263855,\n",
       "  0.5347800254821777,\n",
       "  0.5341824293136597,\n",
       "  0.5336117744445801,\n",
       "  0.5330126881599426,\n",
       "  0.5324660539627075,\n",
       "  0.5318775773048401,\n",
       "  0.5313571095466614,\n",
       "  0.530842661857605,\n",
       "  0.5303223133087158,\n",
       "  0.5298150777816772,\n",
       "  0.5293006896972656],\n",
       " 'accuracy': [0.5819981694221497,\n",
       "  0.6292819976806641,\n",
       "  0.6773033142089844,\n",
       "  0.7059060335159302,\n",
       "  0.714821994304657,\n",
       "  0.7184196710586548,\n",
       "  0.7212129235267639,\n",
       "  0.724006175994873,\n",
       "  0.7258385419845581,\n",
       "  0.7274250984191895,\n",
       "  0.7288998961448669,\n",
       "  0.7294809222221375,\n",
       "  0.7305982112884521,\n",
       "  0.7314920425415039,\n",
       "  0.7324082255363464,\n",
       "  0.7339053750038147,\n",
       "  0.734843909740448,\n",
       "  0.7355366349220276,\n",
       "  0.7365198731422424,\n",
       "  0.7375701069831848,\n",
       "  0.7385086417198181,\n",
       "  0.7390672564506531,\n",
       "  0.7404527068138123,\n",
       "  0.741011381149292,\n",
       "  0.741882860660553,\n",
       "  0.7426872849464417,\n",
       "  0.7435588240623474,\n",
       "  0.7436481714248657,\n",
       "  0.7450783252716064,\n",
       "  0.7456369400024414,\n",
       "  0.7460392117500305,\n",
       "  0.7458604574203491,\n",
       "  0.7468883395195007,\n",
       "  0.7472905516624451,\n",
       "  0.7481173872947693,\n",
       "  0.7485419511795044,\n",
       "  0.7487654089927673,\n",
       "  0.7493016719818115,\n",
       "  0.7501731514930725,\n",
       "  0.7503519654273987,\n",
       "  0.7512010931968689,\n",
       "  0.7511116862297058,\n",
       "  0.751625657081604,\n",
       "  0.7524524331092834,\n",
       "  0.7527429461479187,\n",
       "  0.753145158290863,\n",
       "  0.7536144256591797,\n",
       "  0.7541954517364502,\n",
       "  0.7545306086540222,\n",
       "  0.7551339864730835],\n",
       " 'val_loss': [0.7940751314163208,\n",
       "  0.695168137550354,\n",
       "  0.6427015066146851,\n",
       "  0.6140917539596558,\n",
       "  0.5994269847869873,\n",
       "  0.5911716222763062,\n",
       "  0.585712730884552,\n",
       "  0.5817529559135437,\n",
       "  0.5784271955490112,\n",
       "  0.5756914615631104,\n",
       "  0.5734174847602844,\n",
       "  0.5711816549301147,\n",
       "  0.5693314075469971,\n",
       "  0.5675598978996277,\n",
       "  0.565911591053009,\n",
       "  0.5644927024841309,\n",
       "  0.5632358193397522,\n",
       "  0.561839759349823,\n",
       "  0.5604957342147827,\n",
       "  0.5591955184936523,\n",
       "  0.5581272840499878,\n",
       "  0.5567602515220642,\n",
       "  0.5557925701141357,\n",
       "  0.5545681715011597,\n",
       "  0.55350261926651,\n",
       "  0.5526313781738281,\n",
       "  0.5518497824668884,\n",
       "  0.5508330464363098,\n",
       "  0.5499482154846191,\n",
       "  0.549168050289154,\n",
       "  0.5483665466308594,\n",
       "  0.5477533340454102,\n",
       "  0.5472469925880432,\n",
       "  0.5465565919876099,\n",
       "  0.5459840297698975,\n",
       "  0.5454332828521729,\n",
       "  0.5447915196418762,\n",
       "  0.5443894863128662,\n",
       "  0.5439937114715576,\n",
       "  0.5432689189910889,\n",
       "  0.5427989363670349,\n",
       "  0.5422524809837341,\n",
       "  0.5419272184371948,\n",
       "  0.5413824915885925,\n",
       "  0.540983259677887,\n",
       "  0.540735125541687,\n",
       "  0.5400565266609192,\n",
       "  0.5397575497627258,\n",
       "  0.5393120646476746,\n",
       "  0.5389809608459473],\n",
       " 'val_accuracy': [0.6081534028053284,\n",
       "  0.648115873336792,\n",
       "  0.6923695802688599,\n",
       "  0.7076572179794312,\n",
       "  0.7114120721817017,\n",
       "  0.7151669859886169,\n",
       "  0.7169103026390076,\n",
       "  0.7209333777427673,\n",
       "  0.7232130765914917,\n",
       "  0.7225425839424133,\n",
       "  0.7245541214942932,\n",
       "  0.7238836288452148,\n",
       "  0.725090503692627,\n",
       "  0.7277725338935852,\n",
       "  0.7284430861473083,\n",
       "  0.7297840714454651,\n",
       "  0.7313933372497559,\n",
       "  0.7312592267990112,\n",
       "  0.7330025434494019,\n",
       "  0.7335389852523804,\n",
       "  0.7336730360984802,\n",
       "  0.7346117496490479,\n",
       "  0.7340753674507141,\n",
       "  0.7350140810012817,\n",
       "  0.7355504631996155,\n",
       "  0.7350140810012817,\n",
       "  0.7355504631996155,\n",
       "  0.7364891767501831,\n",
       "  0.7375620007514954,\n",
       "  0.7367573976516724,\n",
       "  0.7382325530052185,\n",
       "  0.7390371561050415,\n",
       "  0.7382325530052185,\n",
       "  0.738500714302063,\n",
       "  0.7380984425544739,\n",
       "  0.7394394278526306,\n",
       "  0.7395735383033752,\n",
       "  0.738500714302063,\n",
       "  0.7394394278526306,\n",
       "  0.7407804727554321,\n",
       "  0.7415850758552551,\n",
       "  0.7426578998565674,\n",
       "  0.7429261207580566,\n",
       "  0.7429261207580566,\n",
       "  0.7442671060562134,\n",
       "  0.7441330552101135,\n",
       "  0.7448035478591919,\n",
       "  0.7437307238578796,\n",
       "  0.7442671060562134,\n",
       "  0.744401216506958]}"
      ]
     },
     "execution_count": 12,
     "metadata": {},
     "output_type": "execute_result"
    }
   ],
   "source": [
    "history.history"
   ]
  },
  {
   "cell_type": "code",
   "execution_count": 13,
   "metadata": {},
   "outputs": [
    {
     "data": {
      "image/png": "[encoded data removed]",
      "text/plain": [
       "<Figure size 576x360 with 1 Axes>"
      ]
     },
     "metadata": {
      "needs_background": "light"
     },
     "output_type": "display_data"
    }
   ],
   "source": [
    "def plot_learning_curves(history):\n",
    "    pd.DataFrame(history.history).plot(figsize=(8, 5))\n",
    "    plt.grid(True)\n",
    "    plt.gca().set_ylim(0, 1)\n",
    "    plt.show()\n",
    "\n",
    "plot_learning_curves(history)"
   ]
  },
  {
   "cell_type": "code",
   "execution_count": 14,
   "metadata": {},
   "outputs": [
    {
     "data": {
      "text/plain": [
       "[0.555449903011322, 0.74073326587677]"
      ]
     },
     "execution_count": 14,
     "metadata": {},
     "output_type": "execute_result"
    }
   ],
   "source": [
    "model.evaluate(test_x_scaled, test_y, verbose=0)"
   ]
  },
  {
   "cell_type": "code",
   "execution_count": 15,
   "metadata": {},
   "outputs": [
    {
     "data": {
      "text/plain": [
       "array([[2.4078640e-03, 6.4952868e-01, 3.4806356e-01],\n",
       "       [1.2383425e-04, 8.9175500e-02, 9.1070068e-01],\n",
       "       [5.3073990e-04, 3.4899646e-01, 6.5047282e-01],\n",
       "       ...,\n",
       "       [1.7594192e-03, 2.1497180e-01, 7.8326875e-01],\n",
       "       [2.3320245e-03, 1.5212163e-01, 8.4554636e-01],\n",
       "       [3.8411923e-02, 6.0971349e-01, 3.5187462e-01]], dtype=float32)"
      ]
     },
     "execution_count": 15,
     "metadata": {},
     "output_type": "execute_result"
    }
   ],
   "source": [
    "predictions = model(test_x_scaled).numpy()\n",
    "predictions"
   ]
  },
  {
   "cell_type": "code",
   "execution_count": 17,
   "metadata": {},
   "outputs": [],
   "source": [
    "p_test = tf.nn.softmax(predictions).numpy()\n",
    "\n"
   ]
  },
  {
   "cell_type": "code",
   "execution_count": 19,
   "metadata": {},
   "outputs": [
    {
     "data": {
      "text/plain": [
       "array([0.23132351, 0.21839339, 0.23082308, ..., 0.22612081, 0.22294484,\n",
       "       0.24162032], dtype=float32)"
      ]
     },
     "execution_count": 19,
     "metadata": {},
     "output_type": "execute_result"
    }
   ],
   "source": [
    "p_test[:,0]"
   ]
  },
  {
   "cell_type": "code",
   "execution_count": 20,
   "metadata": {},
   "outputs": [],
   "source": [
    "df_p_test = pd.DataFrame({'p_fog':p_test[:,0],'p_mist':p_test[:,1],'p_clear':p_test[:,2]})"
   ]
  },
  {
   "cell_type": "code",
   "execution_count": 31,
   "metadata": {},
   "outputs": [
    {
     "data": {
      "text/plain": [
       "<AxesSubplot:>"
      ]
     },
     "execution_count": 31,
     "metadata": {},
     "output_type": "execute_result"
    },
    {
     "data": {
      "image/png": "[encoded data removed]",
      "text/plain": [
       "<Figure size 432x288 with 1 Axes>"
      ]
     },
     "metadata": {
      "needs_background": "light"
     },
     "output_type": "display_data"
    }
   ],
   "source": [
    "df_p_test['p_clear'].plot()\n",
    "df_p_test['p_mist'].plot()\n",
    "df_p_test['p_fog'].plot()"
   ]
  },
  {
   "cell_type": "code",
   "execution_count": 42,
   "metadata": {},
   "outputs": [
    {
     "name": "stdout",
     "output_type": "stream",
     "text": [
      "               visi      v100      v10m      u100      u10m       t2mm  \\\n",
      "1475   20431.679688 -4.196533 -3.690186 -8.414566 -7.320053  18.827423   \n",
      "9178   26983.423828 -4.011703 -4.113556 -7.659546 -6.213837  28.906128   \n",
      "6034    2959.770264 -2.936829 -2.561752 -9.737274 -8.392441  26.130096   \n",
      "5946   14644.379883  0.843018  0.139984 -7.069595 -5.046249  22.987518   \n",
      "13080  27919.111328  3.941437  2.233749 -1.736786 -2.094391  31.063965   \n",
      "\n",
      "            t2md       sstk         actual_time           init_time  ...  \\\n",
      "1475   15.851593  20.140778 2022-01-02 06:00:00 2021-12-28 00:00:00  ...   \n",
      "9178   26.968628  30.554840 2021-07-05 06:00:00 2021-06-30 00:00:00  ...   \n",
      "6034   22.008514  28.215973 2019-10-17 12:00:00 2019-10-10 12:00:00  ...   \n",
      "5946   21.988525  22.522125 2018-12-21 12:00:00 2018-12-14 12:00:00  ...   \n",
      "13080  24.990570  28.686920 2021-05-11 06:00:00 2021-05-07 12:00:00  ...   \n",
      "\n",
      "       year_cos       day_sin       day_cos  station_vis  station_rain1  \\\n",
      "1475   0.999408  1.000000e+00  6.123234e-17       4599.0            0.0   \n",
      "9178  -0.998315  1.000000e+00  6.123234e-17      30000.0            0.0   \n",
      "6034   0.272811  1.224647e-16 -1.000000e+00       9775.0            0.0   \n",
      "5946   0.984495  1.224647e-16 -1.000000e+00       5733.0            0.0   \n",
      "13080 -0.630907  1.000000e+00  6.123234e-17      30000.0            0.0   \n",
      "\n",
      "       fc_hour  station_vis_cat     p_fog    p_mist   p_clear  \n",
      "1475       126                1  0.230143  0.452634  0.317223  \n",
      "9178       126                2  0.214422  0.221547  0.564031  \n",
      "6034       168                1  0.267624  0.436539  0.295836  \n",
      "5946       168                1  0.240372  0.481857  0.277771  \n",
      "13080       90                2  0.229621  0.471143  0.299236  \n",
      "\n",
      "[5 rows x 25 columns]\n"
     ]
    }
   ],
   "source": [
    "\n",
    "df_test_result = df_test.join(df_p_test) \n",
    "print(df_test_result.head())\n",
    "df_test_result.to_csv('df_test_result.csv')"
   ]
  },
  {
   "cell_type": "code",
   "execution_count": 34,
   "metadata": {},
   "outputs": [
    {
     "data": {
      "text/plain": [
       "14919"
      ]
     },
     "execution_count": 34,
     "metadata": {},
     "output_type": "execute_result"
    }
   ],
   "source": [
    "# 各类别预测准确性对比\n",
    "# 筛选出不同类别 df_all.loc[df_all['station_vis_cat'] == 2]\n",
    "# 计算输出的类别 "
   ]
  }
 ],
 "metadata": {
  "kernelspec": {
   "display_name": "Python 3.10.5 ('seafog')",
   "language": "python",
   "name": "python3"
  },
  "language_info": {
   "codemirror_mode": {
    "name": "ipython",
    "version": 3
   },
   "file_extension": ".py",
   "mimetype": "text/x-python",
   "name": "python",
   "nbconvert_exporter": "python",
   "pygments_lexer": "ipython3",
   "version": "3.10.5"
  },
  "vscode": {
   "interpreter": {
    "hash": "ae08cd30d92db8a1edc812f83a7627fb116745d6d213918c84c8c873d5e0dd91"
   }
  }
 },
 "nbformat": 4,
 "nbformat_minor": 2
}
