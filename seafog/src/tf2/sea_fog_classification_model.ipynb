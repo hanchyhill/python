{
 "cells": [
  {
   "cell_type": "code",
   "execution_count": 1,
   "metadata": {},
   "outputs": [
    {
     "name": "stdout",
     "output_type": "stream",
     "text": [
      "2.10.0\n",
      "sys.version_info(major=3, minor=10, micro=5, releaselevel='final', serial=0)\n",
      "matplotlib 3.5.2\n",
      "numpy 1.23.1\n",
      "pandas 1.4.3\n",
      "sklearn 1.1.2\n",
      "tensorflow 2.10.0\n",
      "keras.api._v2.keras 2.10.0\n"
     ]
    }
   ],
   "source": [
    "import matplotlib as mpl\n",
    "import matplotlib.pyplot as plt\n",
    "%matplotlib inline\n",
    "import numpy as np\n",
    "import sklearn\n",
    "import pandas as pd\n",
    "import os\n",
    "import sys\n",
    "import time\n",
    "import tensorflow as tf\n",
    "\n",
    "from tensorflow import keras\n",
    "\n",
    "from sklearn.preprocessing import StandardScaler\n",
    "\n",
    "print(tf.__version__)\n",
    "print(sys.version_info)\n",
    "for module in mpl, np, pd, sklearn, tf, keras:\n",
    "    print(module.__name__, module.__version__)\n"
   ]
  },
  {
   "cell_type": "code",
   "execution_count": 2,
   "metadata": {},
   "outputs": [
    {
     "name": "stdout",
     "output_type": "stream",
     "text": [
      "['/test', '/train', '/valid']\n",
      "(44751, 11)\n",
      "(44751,)\n"
     ]
    }
   ],
   "source": [
    "fog_dataset_hdf = \"H:/github/python/seafog/data/collection/fog_dataset.hdf\"\n",
    "store_dataset = pd.HDFStore(fog_dataset_hdf, mode='r')\n",
    "print(store_dataset.keys())\n",
    "df_train = store_dataset.get('train')\n",
    "df_valid =store_dataset.get('valid')\n",
    "df_test = store_dataset.get('test')\n",
    "x_columns = ['v100', 'v10m', 'u100', 'u10m', 't2mm', 't2md', 'sstk','year_sin','year_cos', 'day_sin', 'day_cos',]\n",
    "\n",
    "df_train_x = df_train.loc[:, x_columns]\n",
    "df_train_y = df_train['station_vis_cat']\n",
    "\n",
    "df_valid_x = df_valid.loc[:, x_columns]\n",
    "df_valid_y = df_valid['station_vis_cat']\n",
    "\n",
    "df_test_x = df_test.loc[:, x_columns]\n",
    "df_test_y = df_test['station_vis_cat']\n",
    "\n",
    "train_x = df_train_x.to_numpy()\n",
    "train_y = df_train_y.to_numpy()\n",
    "\n",
    "valid_x = df_valid_x.to_numpy()\n",
    "valid_y = df_valid_y.to_numpy()\n",
    "\n",
    "test_x = df_test_x.to_numpy()\n",
    "test_y = df_test_y.to_numpy()\n",
    "\n",
    "print(train_x.shape)\n",
    "print(train_y.shape)\n"
   ]
  },
  {
   "cell_type": "code",
   "execution_count": 4,
   "metadata": {},
   "outputs": [
    {
     "data": {
      "text/plain": [
       "array([2, 2, 2, ..., 1, 1, 1], dtype=int64)"
      ]
     },
     "execution_count": 4,
     "metadata": {},
     "output_type": "execute_result"
    }
   ],
   "source": [
    "valid_y"
   ]
  },
  {
   "cell_type": "code",
   "execution_count": 3,
   "metadata": {},
   "outputs": [],
   "source": [
    "scaler = StandardScaler()\n",
    "train_x_scaled = scaler.fit_transform(train_x)\n",
    "valid_x_scaled = scaler.fit_transform(valid_x)\n",
    "test_x_scaled = scaler.fit_transform(test_x)"
   ]
  },
  {
   "cell_type": "code",
   "execution_count": 5,
   "metadata": {},
   "outputs": [
    {
     "name": "stdout",
     "output_type": "stream",
     "text": [
      "5.062937084595556 -5.515961514148879\n"
     ]
    }
   ],
   "source": [
    "print(np.max(train_x_scaled), np.min(train_x_scaled))"
   ]
  },
  {
   "cell_type": "code",
   "execution_count": 6,
   "metadata": {},
   "outputs": [],
   "source": [
    "# tf.keras.models.Sequential()\n",
    "\n",
    "\"\"\"\n",
    "model = keras.models.Sequential()\n",
    "model.add(keras.layers.Flatten(input_shape=[28, 28]))\n",
    "model.add(keras.layers.Dense(300, activation=\"relu\"))\n",
    "model.add(keras.layers.Dense(100, activation=\"relu\"))\n",
    "model.add(keras.layers.Dense(10, activation=\"softmax\"))\n",
    "\"\"\"\n",
    "\n",
    "model = keras.models.Sequential([\n",
    "    keras.layers.Flatten(input_shape=[11,]),\n",
    "    keras.layers.Dense(9, activation='relu'),\n",
    "    keras.layers.Dense(6, activation='relu'),\n",
    "    keras.layers.Dense(3, activation='softmax')\n",
    "])\n",
    "\n",
    "# relu: y = max(0, x)\n",
    "# softmax: 将向量变成概率分布. x = [x1, x2, x3], \n",
    "#          y = [e^x1/sum, e^x2/sum, e^x3/sum], sum = e^x1 + e^x2 + e^x3\n",
    "\n",
    "# reason for sparse: y->index. y->one_hot->[] \n",
    "model.compile(loss=\"sparse_categorical_crossentropy\",\n",
    "              optimizer = keras.optimizers.SGD(0.001),\n",
    "              metrics = [\"accuracy\"])"
   ]
  },
  {
   "cell_type": "code",
   "execution_count": null,
   "metadata": {},
   "outputs": [],
   "source": [
    "model.layers"
   ]
  },
  {
   "cell_type": "code",
   "execution_count": null,
   "metadata": {},
   "outputs": [],
   "source": [
    "model.summary()"
   ]
  },
  {
   "cell_type": "code",
   "execution_count": null,
   "metadata": {},
   "outputs": [],
   "source": [
    "# [None, 784] * W + b -> [None, 300] W.shape [784, 300], b = [300]"
   ]
  },
  {
   "cell_type": "code",
   "execution_count": 7,
   "metadata": {},
   "outputs": [
    {
     "name": "stdout",
     "output_type": "stream",
     "text": [
      "Epoch 1/20\n",
      "1399/1399 [==============================] - 2s 1ms/step - loss: 0.9056 - accuracy: 0.6108 - val_loss: 0.7550 - val_accuracy: 0.6753\n",
      "Epoch 2/20\n",
      "1399/1399 [==============================] - 1s 1ms/step - loss: 0.7049 - accuracy: 0.6927 - val_loss: 0.6779 - val_accuracy: 0.6894\n",
      "Epoch 3/20\n",
      "1399/1399 [==============================] - 1s 1ms/step - loss: 0.6518 - accuracy: 0.7026 - val_loss: 0.6440 - val_accuracy: 0.7008\n",
      "Epoch 4/20\n",
      "1399/1399 [==============================] - 1s 1ms/step - loss: 0.6275 - accuracy: 0.7096 - val_loss: 0.6254 - val_accuracy: 0.7062\n",
      "Epoch 5/20\n",
      "1399/1399 [==============================] - 1s 1ms/step - loss: 0.6132 - accuracy: 0.7144 - val_loss: 0.6130 - val_accuracy: 0.7122\n",
      "Epoch 6/20\n",
      "1399/1399 [==============================] - 1s 1ms/step - loss: 0.6033 - accuracy: 0.7183 - val_loss: 0.6039 - val_accuracy: 0.7192\n",
      "Epoch 7/20\n",
      "1399/1399 [==============================] - 1s 1ms/step - loss: 0.5957 - accuracy: 0.7210 - val_loss: 0.5967 - val_accuracy: 0.7200\n",
      "Epoch 8/20\n",
      "1399/1399 [==============================] - 1s 1ms/step - loss: 0.5896 - accuracy: 0.7244 - val_loss: 0.5907 - val_accuracy: 0.7224\n",
      "Epoch 9/20\n",
      "1399/1399 [==============================] - 1s 1ms/step - loss: 0.5845 - accuracy: 0.7262 - val_loss: 0.5856 - val_accuracy: 0.7233\n",
      "Epoch 10/20\n",
      "1399/1399 [==============================] - 1s 1ms/step - loss: 0.5801 - accuracy: 0.7271 - val_loss: 0.5812 - val_accuracy: 0.7247\n",
      "Epoch 11/20\n",
      "1399/1399 [==============================] - 1s 1ms/step - loss: 0.5762 - accuracy: 0.7267 - val_loss: 0.5775 - val_accuracy: 0.7267\n",
      "Epoch 12/20\n",
      "1399/1399 [==============================] - 2s 1ms/step - loss: 0.5728 - accuracy: 0.7269 - val_loss: 0.5740 - val_accuracy: 0.7272\n",
      "Epoch 13/20\n",
      "1399/1399 [==============================] - 1s 1ms/step - loss: 0.5697 - accuracy: 0.7277 - val_loss: 0.5709 - val_accuracy: 0.7276\n",
      "Epoch 14/20\n",
      "1399/1399 [==============================] - 1s 1ms/step - loss: 0.5670 - accuracy: 0.7271 - val_loss: 0.5682 - val_accuracy: 0.7291\n",
      "Epoch 15/20\n",
      "1399/1399 [==============================] - 1s 1ms/step - loss: 0.5645 - accuracy: 0.7287 - val_loss: 0.5655 - val_accuracy: 0.7287\n",
      "Epoch 16/20\n",
      "1399/1399 [==============================] - 1s 1ms/step - loss: 0.5621 - accuracy: 0.7297 - val_loss: 0.5633 - val_accuracy: 0.7290\n",
      "Epoch 17/20\n",
      "1399/1399 [==============================] - 2s 1ms/step - loss: 0.5600 - accuracy: 0.7307 - val_loss: 0.5612 - val_accuracy: 0.7310\n",
      "Epoch 18/20\n",
      "1399/1399 [==============================] - 1s 1ms/step - loss: 0.5580 - accuracy: 0.7323 - val_loss: 0.5592 - val_accuracy: 0.7315\n",
      "Epoch 19/20\n",
      "1399/1399 [==============================] - 1s 1ms/step - loss: 0.5561 - accuracy: 0.7335 - val_loss: 0.5576 - val_accuracy: 0.7313\n",
      "Epoch 20/20\n",
      "1399/1399 [==============================] - 1s 1ms/step - loss: 0.5544 - accuracy: 0.7336 - val_loss: 0.5560 - val_accuracy: 0.7331\n"
     ]
    }
   ],
   "source": [
    "history = model.fit(train_x_scaled, train_y, epochs=20,\n",
    "                    validation_data=(valid_x_scaled, valid_y))"
   ]
  },
  {
   "cell_type": "code",
   "execution_count": 8,
   "metadata": {},
   "outputs": [
    {
     "data": {
      "text/plain": [
       "keras.callbacks.History"
      ]
     },
     "execution_count": 8,
     "metadata": {},
     "output_type": "execute_result"
    }
   ],
   "source": [
    "type(history)"
   ]
  },
  {
   "cell_type": "code",
   "execution_count": 9,
   "metadata": {},
   "outputs": [
    {
     "data": {
      "text/plain": [
       "{'loss': [0.9055534601211548,\n",
       "  0.7049453258514404,\n",
       "  0.6518025994300842,\n",
       "  0.6274932026863098,\n",
       "  0.613239586353302,\n",
       "  0.6032715439796448,\n",
       "  0.5957240462303162,\n",
       "  0.5896061062812805,\n",
       "  0.5844876170158386,\n",
       "  0.5800958275794983,\n",
       "  0.5761984586715698,\n",
       "  0.572785496711731,\n",
       "  0.5697392821311951,\n",
       "  0.5669621229171753,\n",
       "  0.5644859075546265,\n",
       "  0.5621298551559448,\n",
       "  0.5599613785743713,\n",
       "  0.5579574108123779,\n",
       "  0.556101381778717,\n",
       "  0.554385244846344],\n",
       " 'accuracy': [0.6108243465423584,\n",
       "  0.6926772594451904,\n",
       "  0.7026435136795044,\n",
       "  0.7096154093742371,\n",
       "  0.7143974304199219,\n",
       "  0.7183303236961365,\n",
       "  0.7209671139717102,\n",
       "  0.7243860363960266,\n",
       "  0.7262407541275024,\n",
       "  0.7270675301551819,\n",
       "  0.7266653180122375,\n",
       "  0.7268664240837097,\n",
       "  0.7277156114578247,\n",
       "  0.7271122336387634,\n",
       "  0.7287434935569763,\n",
       "  0.7297490835189819,\n",
       "  0.7306652069091797,\n",
       "  0.7323188185691833,\n",
       "  0.7334808111190796,\n",
       "  0.7335925698280334],\n",
       " 'val_loss': [0.7549945116043091,\n",
       "  0.6779111623764038,\n",
       "  0.6440075635910034,\n",
       "  0.6254367232322693,\n",
       "  0.6129528880119324,\n",
       "  0.6038837432861328,\n",
       "  0.5966712236404419,\n",
       "  0.5906677842140198,\n",
       "  0.5856199860572815,\n",
       "  0.5812365412712097,\n",
       "  0.5774850845336914,\n",
       "  0.5739948153495789,\n",
       "  0.5709354877471924,\n",
       "  0.5681910514831543,\n",
       "  0.5655497312545776,\n",
       "  0.5633029937744141,\n",
       "  0.5611854195594788,\n",
       "  0.5592100620269775,\n",
       "  0.5575538873672485,\n",
       "  0.5560289025306702],\n",
       " 'val_accuracy': [0.675338625907898,\n",
       "  0.6894193291664124,\n",
       "  0.7008180022239685,\n",
       "  0.7061821222305298,\n",
       "  0.7122167348861694,\n",
       "  0.7191900014877319,\n",
       "  0.7199946641921997,\n",
       "  0.7224084734916687,\n",
       "  0.7233471870422363,\n",
       "  0.7246882319450378,\n",
       "  0.7266997694969177,\n",
       "  0.7272361516952515,\n",
       "  0.7276384830474854,\n",
       "  0.7291135787963867,\n",
       "  0.7287113070487976,\n",
       "  0.7289794683456421,\n",
       "  0.730991005897522,\n",
       "  0.7315274477005005,\n",
       "  0.7312592267990112,\n",
       "  0.7331366539001465]}"
      ]
     },
     "execution_count": 9,
     "metadata": {},
     "output_type": "execute_result"
    }
   ],
   "source": [
    "history.history"
   ]
  },
  {
   "cell_type": "code",
   "execution_count": 10,
   "metadata": {},
   "outputs": [
    {
     "data": {
      "image/png": "[encoded data removed]",
      "text/plain": [
       "<Figure size 576x360 with 1 Axes>"
      ]
     },
     "metadata": {
      "needs_background": "light"
     },
     "output_type": "display_data"
    }
   ],
   "source": [
    "def plot_learning_curves(history):\n",
    "    pd.DataFrame(history.history).plot(figsize=(8, 5))\n",
    "    plt.grid(True)\n",
    "    plt.gca().set_ylim(0, 1)\n",
    "    plt.show()\n",
    "\n",
    "plot_learning_curves(history)"
   ]
  },
  {
   "cell_type": "code",
   "execution_count": 12,
   "metadata": {},
   "outputs": [
    {
     "data": {
      "text/plain": [
       "[0.5686219334602356, 0.7342315316200256]"
      ]
     },
     "execution_count": 12,
     "metadata": {},
     "output_type": "execute_result"
    }
   ],
   "source": [
    "model.evaluate(test_x_scaled, test_y, verbose=0)"
   ]
  },
  {
   "cell_type": "code",
   "execution_count": null,
   "metadata": {},
   "outputs": [],
   "source": []
  }
 ],
 "metadata": {
  "kernelspec": {
   "display_name": "Python 3.10.5 ('seafog')",
   "language": "python",
   "name": "python3"
  },
  "language_info": {
   "codemirror_mode": {
    "name": "ipython",
    "version": 3
   },
   "file_extension": ".py",
   "mimetype": "text/x-python",
   "name": "python",
   "nbconvert_exporter": "python",
   "pygments_lexer": "ipython3",
   "version": "3.10.5"
  },
  "vscode": {
   "interpreter": {
    "hash": "ae08cd30d92db8a1edc812f83a7627fb116745d6d213918c84c8c873d5e0dd91"
   }
  }
 },
 "nbformat": 4,
 "nbformat_minor": 2
}
