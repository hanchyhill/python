{
 "cells": [
  {
   "cell_type": "code",
   "execution_count": 1,
   "metadata": {},
   "outputs": [],
   "source": [
    "import xarray as xr\n",
    "import numpy as np\n",
    "import os\n",
    "import arrow\n",
    "import pandas as pd"
   ]
  },
  {
   "cell_type": "code",
   "execution_count": 2,
   "metadata": {},
   "outputs": [
    {
     "name": "stdout",
     "output_type": "stream",
     "text": [
      "['/df_000', '/df_003', '/df_006', '/df_009', '/df_012', '/df_015', '/df_018', '/df_021', '/df_024', '/df_027', '/df_030', '/df_033', '/df_036', '/df_039', '/df_042', '/df_045', '/df_048', '/df_051', '/df_054', '/df_057', '/df_060', '/df_063', '/df_066', '/df_069', '/df_072', '/df_078', '/df_084', '/df_090', '/df_096', '/df_102', '/df_108', '/df_114', '/df_120', '/df_126', '/df_132', '/df_138', '/df_144', '/df_150', '/df_156', '/df_162', '/df_168', '/df_174', '/df_180', '/df_186', '/df_192', '/df_198', '/df_204', '/df_210', '/df_216', '/df_222', '/df_228', '/df_234', '/df_240']\n"
     ]
    }
   ],
   "source": [
    "file_hdf = \"H:/github/python/seafog/data/collection/ec201810-202205.hdf\"\n",
    "store_hdf = pd.HDFStore(file_hdf, mode='r')\n",
    "print(store_hdf.keys())"
   ]
  },
  {
   "cell_type": "code",
   "execution_count": 8,
   "metadata": {},
   "outputs": [
    {
     "data": {
      "text/plain": [
       "visi                      float32\n",
       "v100                      float32\n",
       "v10m                      float32\n",
       "u100                      float32\n",
       "u10m                      float32\n",
       "t2mm                      float32\n",
       "t2md                      float32\n",
       "sstk                      float32\n",
       "actual_time        datetime64[ns]\n",
       "init_time          datetime64[ns]\n",
       "year                        int64\n",
       "month                       int64\n",
       "day                         int64\n",
       "hour                        int64\n",
       "year_sin                  float64\n",
       "year_cos                  float64\n",
       "day_sin                   float64\n",
       "day_cos                   float64\n",
       "station_vis               float64\n",
       "station_rain1             float64\n",
       "fc_hour                     int64\n",
       "station_vis_cat             int64\n",
       "dtype: object"
      ]
     },
     "execution_count": 8,
     "metadata": {},
     "output_type": "execute_result"
    }
   ],
   "source": [
    "store_hdf.get('df_000').dtypes"
   ]
  },
  {
   "cell_type": "code",
   "execution_count": 3,
   "metadata": {},
   "outputs": [],
   "source": [
    "fcHour_list = list(range(0, 72+1, 3)) + list(range(78, 168+1, 6))\n",
    "df_list = []\n",
    "for iHour in fcHour_list:\n",
    "    i_df = store_hdf.get(f'df_{iHour:0>3d}')\n",
    "    df_list.append(i_df)\n"
   ]
  },
  {
   "cell_type": "code",
   "execution_count": 4,
   "metadata": {
    "tags": []
   },
   "outputs": [
    {
     "name": "stdout",
     "output_type": "stream",
     "text": [
      "                visi      v100      v10m      u100      u10m       t2mm  \\\n",
      "0                NaN -4.216614 -3.825562 -5.980148 -5.197968  26.704132   \n",
      "1                NaN -1.952545 -1.704575 -8.517914 -7.353165  26.063812   \n",
      "2                NaN -4.839691 -4.271530 -5.275482 -4.495422  27.667206   \n",
      "3                NaN -2.585587 -2.226852 -8.449860 -7.285568  27.022125   \n",
      "4                NaN -3.704269 -3.301163 -7.487183 -6.585602  26.959686   \n",
      "...              ...       ...       ...       ...       ...        ...   \n",
      "104288  24816.580078  1.745605  1.309647 -3.343811 -2.905838  29.508759   \n",
      "104289  30597.847656  6.154083  5.305450  5.172195  4.246368  29.167603   \n",
      "104290  11988.353516  1.679657  1.414215  9.496231  7.925568  28.753448   \n",
      "104291  10508.394531  4.651825  4.102783  5.518433  4.695557  28.230042   \n",
      "104292  16544.072266 -0.748978 -0.719742  3.466263  3.241425  28.059601   \n",
      "\n",
      "             t2md       sstk         actual_time           init_time  ...  \\\n",
      "0       21.493073  28.490143 2018-10-01 00:00:00 2018-10-01 00:00:00  ...   \n",
      "1       22.595062  28.387604 2018-10-01 12:00:00 2018-10-01 12:00:00  ...   \n",
      "2       20.742676  28.387604 2018-10-02 00:00:00 2018-10-02 00:00:00  ...   \n",
      "3       21.519745  28.169830 2018-10-02 12:00:00 2018-10-02 12:00:00  ...   \n",
      "4       21.129242  28.169830 2018-10-03 00:00:00 2018-10-03 00:00:00  ...   \n",
      "...           ...        ...                 ...                 ...  ...   \n",
      "104288  27.258759  29.623932 2022-06-05 12:00:00 2022-05-29 12:00:00  ...   \n",
      "104289  24.355103  29.582184 2022-06-06 00:00:00 2022-05-30 00:00:00  ...   \n",
      "104290  26.190948  29.383942 2022-06-06 12:00:00 2022-05-30 12:00:00  ...   \n",
      "104291  24.698792  29.456207 2022-06-07 00:00:00 2022-05-31 00:00:00  ...   \n",
      "104292  24.840851  29.193512 2022-06-07 12:00:00 2022-05-31 12:00:00  ...   \n",
      "\n",
      "        day  hour  year_sin  year_cos       day_sin  day_cos  station_vis  \\\n",
      "0         1     0 -0.999999  0.001075  0.000000e+00      1.0       3984.0   \n",
      "1         1    12 -0.999999  0.001075  1.224647e-16     -1.0      15523.0   \n",
      "2         2     0 -0.999833  0.018277  0.000000e+00      1.0       5884.0   \n",
      "3         2    12 -0.999833  0.018277  1.224647e-16     -1.0       9856.0   \n",
      "4         3     0 -0.999371  0.035473  0.000000e+00      1.0       5334.0   \n",
      "...     ...   ...       ...       ...           ...      ...          ...   \n",
      "104288    5    12  0.442168 -0.896932  1.224647e-16     -1.0      30000.0   \n",
      "104289    6     0  0.426674 -0.904405  0.000000e+00      1.0      23029.0   \n",
      "104290    6    12  0.426674 -0.904405  1.224647e-16     -1.0      19318.0   \n",
      "104291    7     0  0.411054 -0.911611  0.000000e+00      1.0      30000.0   \n",
      "104292    7    12  0.411054 -0.911611  1.224647e-16     -1.0      19153.0   \n",
      "\n",
      "        station_rain1  fc_hour  station_vis_cat  \n",
      "0                 0.0        0                1  \n",
      "1                 0.0        0                2  \n",
      "2                 0.0        0                1  \n",
      "3                 0.0        0                1  \n",
      "4                 0.0        0                1  \n",
      "...               ...      ...              ...  \n",
      "104288            0.0      168                2  \n",
      "104289            0.0      168                2  \n",
      "104290            0.0      168                2  \n",
      "104291            0.0      168                2  \n",
      "104292            0.0      168                2  \n",
      "\n",
      "[104293 rows x 22 columns]\n"
     ]
    }
   ],
   "source": [
    "df_all = pd.concat(df_list, ignore_index=True)\n",
    "print(df_all)"
   ]
  },
  {
   "cell_type": "code",
   "execution_count": 5,
   "metadata": {},
   "outputs": [
    {
     "data": {
      "text/plain": [
       "Index(['visi', 'v100', 'v10m', 'u100', 'u10m', 't2mm', 't2md', 'sstk',\n",
       "       'actual_time', 'init_time', 'year', 'month', 'day', 'hour', 'year_sin',\n",
       "       'year_cos', 'day_sin', 'day_cos', 'station_vis', 'station_rain1',\n",
       "       'fc_hour', 'station_vis_cat'],\n",
       "      dtype='object')"
      ]
     },
     "execution_count": 5,
     "metadata": {},
     "output_type": "execute_result"
    }
   ],
   "source": [
    "df_all.keys()"
   ]
  },
  {
   "cell_type": "code",
   "execution_count": 6,
   "metadata": {},
   "outputs": [],
   "source": [
    "df_fog = df_all.loc[df_all['station_vis_cat'] == 0]\n",
    "df_mist =  df_all.loc[df_all['station_vis_cat'] == 1]\n",
    "df_clear =  df_all.loc[df_all['station_vis_cat'] == 2]"
   ]
  },
  {
   "cell_type": "code",
   "execution_count": 6,
   "metadata": {},
   "outputs": [
    {
     "name": "stdout",
     "output_type": "stream",
     "text": [
      "960\n",
      "29001\n",
      "74332\n"
     ]
    }
   ],
   "source": [
    "print(len(df_fog))\n",
    "print(len(df_mist))\n",
    "print(len(df_clear))"
   ]
  },
  {
   "cell_type": "code",
   "execution_count": 7,
   "metadata": {},
   "outputs": [
    {
     "name": "stdout",
     "output_type": "stream",
     "text": [
      "37166\n"
     ]
    }
   ],
   "source": [
    "df_clear_sample = df_clear.sample(frac=0.5)\n",
    "print(len(df_clear_sample))"
   ]
  },
  {
   "cell_type": "code",
   "execution_count": 8,
   "metadata": {},
   "outputs": [],
   "source": [
    "# train, valid, test的比例\n",
    "# 合并 fog, mist, clear\n",
    "# 随机打散\n",
    "# train:valid : test = 6:1:2\n",
    "\n",
    "partial_train = 6.0/9.0\n",
    "partial_valid = 1.0/9.0\n",
    "partial_test = 2.0/9.0\n",
    "\n",
    "df_fog_train = df_fog[:int(len(df_fog)*partial_train)] # 训练集\n",
    "df_fog_valid = df_fog[int(len(df_fog)*partial_train):int(len(df_fog)*partial_train)+int(len(df_fog)*partial_valid)] # 验证集\n",
    "df_fog_test  = df_fog[int(len(df_fog)*partial_train)+int(len(df_fog)*partial_valid):] # 测试集\n",
    "\n",
    "df_mist_train = df_mist[:int(len(df_mist)*partial_train)] # 训练集\n",
    "df_mist_valid = df_mist[int(len(df_mist)*partial_train):int(len(df_mist)*partial_train)+int(len(df_mist)*partial_valid)] # 验证集\n",
    "df_mist_test  = df_mist[int(len(df_mist)*partial_train)+int(len(df_mist)*partial_valid):] # 测试集\n",
    "\n",
    "df_clear_train = df_clear_sample[:int(len(df_clear_sample)*partial_train)] # 训练集\n",
    "df_clear_valid = df_clear_sample[int(len(df_clear_sample)*partial_train) : int(len(df_clear_sample) * partial_train) + int(len(df_clear_sample)*partial_valid)] # 验证集\n",
    "df_clear_test  = df_clear_sample[int(len(df_clear_sample)*partial_train) + int(len(df_clear_sample) * partial_valid) :] # 测试集\n"
   ]
  },
  {
   "cell_type": "code",
   "execution_count": 9,
   "metadata": {},
   "outputs": [],
   "source": [
    "df_train = pd.concat([df_fog_train, df_mist_train, df_clear_train], ignore_index=True)\n",
    "df_valid = pd.concat([df_fog_valid, df_mist_valid, df_clear_valid], ignore_index=True)\n",
    "df_test = pd.concat([df_fog_test, df_mist_test, df_clear_test], ignore_index=True)"
   ]
  },
  {
   "cell_type": "code",
   "execution_count": 10,
   "metadata": {},
   "outputs": [],
   "source": [
    "df_train = df_train.sample(frac=1)\n",
    "df_valid = df_valid.sample(frac=1)\n",
    "# df_test = df_test.sample(frac=1)\n"
   ]
  },
  {
   "cell_type": "code",
   "execution_count": 11,
   "metadata": {},
   "outputs": [
    {
     "name": "stdout",
     "output_type": "stream",
     "text": [
      "44751\n",
      "7457\n",
      "14919\n"
     ]
    }
   ],
   "source": [
    "print(len(df_train))\n",
    "print(len(df_valid))\n",
    "print(len(df_test))"
   ]
  },
  {
   "cell_type": "code",
   "execution_count": null,
   "metadata": {},
   "outputs": [],
   "source": []
  },
  {
   "cell_type": "code",
   "execution_count": 14,
   "metadata": {},
   "outputs": [],
   "source": [
    "fog_dataset_hdf = \"H:/github/python/seafog/data/collection/fog_dataset.hdf\"\n",
    "store_dataset = pd.HDFStore(fog_dataset_hdf, mode='w')\n",
    "df_train.to_hdf(store_dataset, key=f'train', mode='a')\n",
    "df_valid.to_hdf(store_dataset, key=f'valid', mode='a')\n",
    "df_test.to_hdf( store_dataset, key=f'test' , mode='a')\n",
    "\n",
    "df_train.to_csv('train.csv')\n",
    "df_valid.to_csv('valid.csv')\n",
    "df_test.to_csv('test.csv')"
   ]
  },
  {
   "cell_type": "code",
   "execution_count": null,
   "metadata": {},
   "outputs": [],
   "source": [
    "# 提取需要的变量组成x, 提取vis_cat作为y"
   ]
  },
  {
   "cell_type": "code",
   "execution_count": 13,
   "metadata": {},
   "outputs": [],
   "source": [
    "x_columns = ['v100', 'v10m', 'u100', 'u10m', 't2mm', 't2md', 'sstk','year_sin','year_cos', 'day_sin', 'day_cos',]\n",
    "\n",
    "df_train_x = df_train.loc[:, x_columns]\n",
    "df_train_y = df_train['station_vis_cat']\n",
    "\n",
    "df_valid_x = df_valid.loc[:, x_columns]\n",
    "df_valid_y = df_valid['station_vis_cat']\n",
    "\n",
    "df_test_x = df_test.loc[:, x_columns]\n",
    "df_test_y = df_test['station_vis_cat']\n",
    "\n"
   ]
  },
  {
   "cell_type": "code",
   "execution_count": 14,
   "metadata": {},
   "outputs": [],
   "source": [
    "train_x = df_train_x.to_numpy()\n",
    "train_y = df_train_y.to_numpy()\n",
    "\n",
    "valid_x = df_valid_x.to_numpy()\n",
    "valid_y = df_valid_y.to_numpy()\n",
    "\n",
    "test_x = df_test_x.to_numpy()\n",
    "test_y = df_test_y.to_numpy()\n"
   ]
  },
  {
   "cell_type": "code",
   "execution_count": 15,
   "metadata": {},
   "outputs": [
    {
     "name": "stdout",
     "output_type": "stream",
     "text": [
      "(44751, 11)\n",
      "(44751,)\n"
     ]
    }
   ],
   "source": [
    "print(train_x.shape)\n",
    "print(train_y.shape)"
   ]
  },
  {
   "cell_type": "code",
   "execution_count": 12,
   "metadata": {},
   "outputs": [
    {
     "data": {
      "text/plain": [
       "array([[4046.435546875, -3.0660858154296875, -2.6463775634765625, ...,\n",
       "        0.0, 12, 2],\n",
       "       [13515.86328125, 8.642013549804688, 5.7971038818359375, ..., 0.0,\n",
       "        39, 2],\n",
       "       [9900.552734375, -3.7729339599609375, -3.2535247802734375, ...,\n",
       "        0.0, 24, 1],\n",
       "       ...,\n",
       "       [9310.4619140625, 4.059478759765625, 2.4014892578125, ..., 0.0,\n",
       "        30, 1],\n",
       "       [21499.46875, -3.150909423828125, -2.913055419921875, ..., 0.0,\n",
       "        57, 1],\n",
       "       [3296.634033203125, -0.6565093994140625, -0.273406982421875, ...,\n",
       "        0.0, 45, 2]], dtype=object)"
      ]
     },
     "execution_count": 12,
     "metadata": {},
     "output_type": "execute_result"
    }
   ],
   "source": [
    "df_train.to_numpy()"
   ]
  }
 ],
 "metadata": {
  "kernelspec": {
   "display_name": "Python 3.10.5 ('seafog')",
   "language": "python",
   "name": "python3"
  },
  "language_info": {
   "codemirror_mode": {
    "name": "ipython",
    "version": 3
   },
   "file_extension": ".py",
   "mimetype": "text/x-python",
   "name": "python",
   "nbconvert_exporter": "python",
   "pygments_lexer": "ipython3",
   "version": "3.10.5"
  },
  "orig_nbformat": 4,
  "vscode": {
   "interpreter": {
    "hash": "ae08cd30d92db8a1edc812f83a7627fb116745d6d213918c84c8c873d5e0dd91"
   }
  }
 },
 "nbformat": 4,
 "nbformat_minor": 2
}
