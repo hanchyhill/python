{
 "cells": [
  {
   "cell_type": "code",
   "execution_count": 20,
   "metadata": {},
   "outputs": [],
   "source": [
    "import xarray as xr\n",
    "import numpy as np\n",
    "import os\n",
    "import arrow\n",
    "import pandas as pd"
   ]
  },
  {
   "cell_type": "code",
   "execution_count": 21,
   "metadata": {},
   "outputs": [],
   "source": [
    "if os.environ['COMPUTERNAME'] == 'DESKTOP-EQAO3M5':\n",
    "  computer_flag = 'home'\n",
    "else:\n",
    "  computer_flag = 'office'\n",
    "\n",
    "if computer_flag == 'home':\n",
    "  file_dir = \"F:/github/pythonScript/seafog/data/collection/\"\n",
    "else:\n",
    "  file_dir = \"H:/github/python/seafog/data/collection/\""
   ]
  },
  {
   "cell_type": "code",
   "execution_count": 22,
   "metadata": {},
   "outputs": [
    {
     "name": "stdout",
     "output_type": "stream",
     "text": [
      "['/df_000', '/df_003', '/df_006', '/df_009', '/df_012', '/df_015', '/df_018', '/df_021', '/df_024', '/df_027', '/df_030', '/df_033', '/df_036', '/df_039', '/df_042', '/df_045', '/df_048', '/df_051', '/df_054', '/df_057', '/df_060', '/df_063', '/df_066', '/df_069', '/df_072', '/df_078', '/df_084', '/df_090', '/df_096', '/df_102', '/df_108', '/df_114', '/df_120', '/df_126', '/df_132', '/df_138', '/df_144', '/df_150', '/df_156', '/df_162', '/df_168', '/df_174', '/df_180', '/df_186', '/df_192', '/df_198', '/df_204', '/df_210', '/df_216', '/df_222', '/df_228', '/df_234', '/df_240']\n"
     ]
    }
   ],
   "source": [
    "# file_hdf = \"H:/github/python/seafog/data/collection/ec201810-202205.hdf\"\n",
    "# file_hdf = \"F:/github/pythonScript/seafog/data/collection/ec201810-202205.hdf\"\n",
    "file_hdf = os.path.normpath(os.path.join(file_dir, './multi_level/ec201810-202205_multiLevel.hdf'))\n",
    "# file_hdf = \"H:/github/python/seafog/data/collection/multi_level/ec201810-202205_multiLevel.hdf\"\n",
    "store_hdf = pd.HDFStore(file_hdf, mode='r')\n",
    "print(store_hdf.keys())"
   ]
  },
  {
   "cell_type": "code",
   "execution_count": 23,
   "metadata": {},
   "outputs": [],
   "source": [
    "fcHour_list = list(range(0, 72+1, 3)) + list(range(78, 168+1, 6))\n",
    "df_list = []\n",
    "for iHour in fcHour_list:\n",
    "    i_df = store_hdf.get(f'df_{iHour:0>3d}')\n",
    "    df_list.append(i_df)\n"
   ]
  },
  {
   "cell_type": "code",
   "execution_count": 24,
   "metadata": {},
   "outputs": [],
   "source": [
    "def linear_vis(x):\n",
    "    if(x <= 1000.0):\n",
    "      y = x/1000.0\n",
    "    elif(x > 1000.0 and x <= 10000.0):\n",
    "      y = (x-1000.0)/9000.0 + 1.0\n",
    "    elif( x > 10000.0  and x <= 30000.0):\n",
    "      y = (x-10000.0)/20000 + 2.0\n",
    "    else:\n",
    "      y = 3.0\n",
    "    return y"
   ]
  },
  {
   "cell_type": "code",
   "execution_count": 25,
   "metadata": {
    "tags": []
   },
   "outputs": [],
   "source": [
    "df_all = pd.concat(df_list, ignore_index=True)\n"
   ]
  },
  {
   "cell_type": "code",
   "execution_count": 26,
   "metadata": {},
   "outputs": [],
   "source": [
    "df_all['station_vis_linear'] = -1.0\n",
    "df_all['station_vis_linear'] = df_all['station_vis'].apply(linear_vis)"
   ]
  },
  {
   "cell_type": "code",
   "execution_count": 27,
   "metadata": {},
   "outputs": [
    {
     "data": {
      "text/plain": [
       "Index(['visi', 'v100', 'v10m', 'u100', 'u10m', 't2mm', 't2md', 'sstk',\n",
       "       'vwnd1000', 'vwnd950', 'vwnd925', 'vwnd900', 'vwnd850', 'uwnd1000',\n",
       "       'uwnd950', 'uwnd925', 'uwnd900', 'uwnd850', 'temp1000', 'temp950',\n",
       "       'temp925', 'temp900', 'temp850', 'rhum1000', 'rhum950', 'rhum925',\n",
       "       'rhum900', 'rhum850', 'theta_e1000', 'theta1000', 'theta_e950',\n",
       "       'theta950', 'theta_e925', 'theta925', 'theta_e900', 'theta900',\n",
       "       'theta_e850', 'theta850', 'actual_time', 'init_time', 'year', 'month',\n",
       "       'day', 'hour', 'year_sin', 'year_cos', 'day_sin', 'day_cos',\n",
       "       'station_vis', 'station_rain1', 'fc_hour', 'station_vis_cat',\n",
       "       'station_vis_linear'],\n",
       "      dtype='object')"
      ]
     },
     "execution_count": 27,
     "metadata": {},
     "output_type": "execute_result"
    }
   ],
   "source": [
    "df_all.keys()"
   ]
  },
  {
   "cell_type": "code",
   "execution_count": 28,
   "metadata": {},
   "outputs": [],
   "source": [
    "df_fog = df_all.loc[df_all['station_vis_cat'] == 0]\n",
    "df_mist =  df_all.loc[df_all['station_vis_cat'] == 1]\n",
    "df_clear =  df_all.loc[df_all['station_vis_cat'] == 2]"
   ]
  },
  {
   "cell_type": "code",
   "execution_count": 29,
   "metadata": {},
   "outputs": [
    {
     "name": "stdout",
     "output_type": "stream",
     "text": [
      "959\n",
      "28959\n",
      "74218\n"
     ]
    }
   ],
   "source": [
    "print(len(df_fog))\n",
    "print(len(df_mist))\n",
    "print(len(df_clear))"
   ]
  },
  {
   "cell_type": "code",
   "execution_count": 30,
   "metadata": {},
   "outputs": [
    {
     "name": "stdout",
     "output_type": "stream",
     "text": [
      "37109\n"
     ]
    }
   ],
   "source": [
    "df_clear_sample = df_clear.sample(frac=0.5)\n",
    "print(len(df_clear_sample))"
   ]
  },
  {
   "cell_type": "code",
   "execution_count": 31,
   "metadata": {},
   "outputs": [],
   "source": [
    "# train, valid, test的比例\n",
    "# 合并 fog, mist, clear\n",
    "# 随机打散\n",
    "# train:valid : test = 6:1:2\n",
    "\n",
    "partial_train = 6.0/9.0\n",
    "partial_valid = 1.0/9.0\n",
    "partial_test = 2.0/9.0\n",
    "\n",
    "df_fog_train = df_fog[:int(len(df_fog)*partial_train)] # 训练集\n",
    "df_fog_valid = df_fog[int(len(df_fog)*partial_train):int(len(df_fog)*partial_train)+int(len(df_fog)*partial_valid)] # 验证集\n",
    "df_fog_test  = df_fog[int(len(df_fog)*partial_train)+int(len(df_fog)*partial_valid):] # 测试集\n",
    "\n",
    "df_mist_train = df_mist[:int(len(df_mist)*partial_train)] # 训练集\n",
    "df_mist_valid = df_mist[int(len(df_mist)*partial_train):int(len(df_mist)*partial_train)+int(len(df_mist)*partial_valid)] # 验证集\n",
    "df_mist_test  = df_mist[int(len(df_mist)*partial_train)+int(len(df_mist)*partial_valid):] # 测试集\n",
    "\n",
    "df_clear_train = df_clear_sample[:int(len(df_clear_sample)*partial_train)] # 训练集\n",
    "df_clear_valid = df_clear_sample[int(len(df_clear_sample)*partial_train) : int(len(df_clear_sample) * partial_train) + int(len(df_clear_sample)*partial_valid)] # 验证集\n",
    "df_clear_test  = df_clear_sample[int(len(df_clear_sample)*partial_train) + int(len(df_clear_sample) * partial_valid) :] # 测试集\n"
   ]
  },
  {
   "cell_type": "code",
   "execution_count": 34,
   "metadata": {},
   "outputs": [],
   "source": [
    "# 增加雾的数量\n",
    "df_fog_train_extend = pd.concat([df_fog_train]*50, ignore_index=True)\n",
    "df_fog_valid_extend = pd.concat([df_fog_valid]*50, ignore_index=True)"
   ]
  },
  {
   "cell_type": "code",
   "execution_count": 35,
   "metadata": {},
   "outputs": [
    {
     "name": "stdout",
     "output_type": "stream",
     "text": [
      "31950\n"
     ]
    }
   ],
   "source": [
    "print(len(df_fog_train_extend))"
   ]
  },
  {
   "cell_type": "code",
   "execution_count": 36,
   "metadata": {},
   "outputs": [],
   "source": [
    "df_train = pd.concat([df_fog_train_extend, df_mist_train, df_clear_train], ignore_index=True)\n",
    "df_valid = pd.concat([df_fog_valid_extend, df_mist_valid, df_clear_valid], ignore_index=True)\n",
    "df_test = pd.concat([df_fog_test, df_mist_test, df_clear_test], ignore_index=True)"
   ]
  },
  {
   "cell_type": "code",
   "execution_count": 37,
   "metadata": {},
   "outputs": [],
   "source": [
    "df_train = df_train.sample(frac=1)\n",
    "df_valid = df_valid.sample(frac=1)\n",
    "# df_test = df_test.sample(frac=1)\n"
   ]
  },
  {
   "cell_type": "code",
   "execution_count": 38,
   "metadata": {},
   "outputs": [
    {
     "name": "stdout",
     "output_type": "stream",
     "text": [
      "75995\n",
      "12640\n",
      "14897\n"
     ]
    }
   ],
   "source": [
    "print(len(df_train))\n",
    "print(len(df_valid))\n",
    "print(len(df_test))"
   ]
  },
  {
   "cell_type": "code",
   "execution_count": 41,
   "metadata": {},
   "outputs": [],
   "source": [
    "# fog_dataset_hdf = \"H:/github/python/seafog/data/collection/fog_dataset.hdf\"\n",
    "# fog_dataset_hdf = \"F:/github/pythonScript/seafog/data/collection/extend/fog_dataset_extend_multilevels.hdf\"\n",
    "fog_dataset_hdf = os.path.normpath(os.path.join(file_dir, './multi_level/fog_dataset_extend_multilevels.hdf'))\n",
    "# \"H:/github/python/seafog/data/collection/multi_level/fog_dataset_extend_multilevels.hdf\"\n",
    "store_dataset = pd.HDFStore(fog_dataset_hdf, mode='w')\n",
    "\n",
    "df_train.to_hdf(store_dataset, key=f'train', mode='a')\n",
    "df_valid.to_hdf(store_dataset, key=f'valid', mode='a')\n",
    "df_test.to_hdf( store_dataset, key=f'test' , mode='a')\n",
    "\n",
    "train_file = os.path.normpath(os.path.join(file_dir, './multi_level/train_extend.csv'))\n",
    "valid_file = os.path.normpath(os.path.join(file_dir, './multi_level/valid_extend.csv'))\n",
    "test_file = os.path.normpath(os.path.join(file_dir, './multi_level/test.csv'))\n",
    "df_train.to_csv(train_file)\n",
    "df_valid.to_csv(valid_file)\n",
    "df_test.to_csv(test_file)\n",
    "store_dataset.close()"
   ]
  },
  {
   "cell_type": "code",
   "execution_count": 42,
   "metadata": {},
   "outputs": [],
   "source": []
  },
  {
   "cell_type": "code",
   "execution_count": null,
   "metadata": {},
   "outputs": [],
   "source": [
    "# 提取需要的变量组成x, 提取vis_cat作为y"
   ]
  },
  {
   "cell_type": "code",
   "execution_count": 13,
   "metadata": {},
   "outputs": [],
   "source": [
    "x_columns = ['v100', 'v10m', 'u100', 'u10m', 't2mm', 't2md', 'sstk','year_sin','year_cos', 'day_sin', 'day_cos',]\n",
    "\n",
    "df_train_x = df_train.loc[:, x_columns]\n",
    "df_train_y = df_train['station_vis_cat']\n",
    "\n",
    "df_valid_x = df_valid.loc[:, x_columns]\n",
    "df_valid_y = df_valid['station_vis_cat']\n",
    "\n",
    "df_test_x = df_test.loc[:, x_columns]\n",
    "df_test_y = df_test['station_vis_cat']\n",
    "\n"
   ]
  },
  {
   "cell_type": "code",
   "execution_count": 14,
   "metadata": {},
   "outputs": [],
   "source": [
    "train_x = df_train_x.to_numpy()\n",
    "train_y = df_train_y.to_numpy()\n",
    "\n",
    "valid_x = df_valid_x.to_numpy()\n",
    "valid_y = df_valid_y.to_numpy()\n",
    "\n",
    "test_x = df_test_x.to_numpy()\n",
    "test_y = df_test_y.to_numpy()\n"
   ]
  },
  {
   "cell_type": "code",
   "execution_count": 15,
   "metadata": {},
   "outputs": [
    {
     "name": "stdout",
     "output_type": "stream",
     "text": [
      "(44751, 11)\n",
      "(44751,)\n"
     ]
    }
   ],
   "source": [
    "print(train_x.shape)\n",
    "print(train_y.shape)"
   ]
  },
  {
   "cell_type": "code",
   "execution_count": 12,
   "metadata": {},
   "outputs": [
    {
     "data": {
      "text/plain": [
       "array([[4046.435546875, -3.0660858154296875, -2.6463775634765625, ...,\n",
       "        0.0, 12, 2],\n",
       "       [13515.86328125, 8.642013549804688, 5.7971038818359375, ..., 0.0,\n",
       "        39, 2],\n",
       "       [9900.552734375, -3.7729339599609375, -3.2535247802734375, ...,\n",
       "        0.0, 24, 1],\n",
       "       ...,\n",
       "       [9310.4619140625, 4.059478759765625, 2.4014892578125, ..., 0.0,\n",
       "        30, 1],\n",
       "       [21499.46875, -3.150909423828125, -2.913055419921875, ..., 0.0,\n",
       "        57, 1],\n",
       "       [3296.634033203125, -0.6565093994140625, -0.273406982421875, ...,\n",
       "        0.0, 45, 2]], dtype=object)"
      ]
     },
     "execution_count": 12,
     "metadata": {},
     "output_type": "execute_result"
    }
   ],
   "source": [
    "df_train.to_numpy()"
   ]
  }
 ],
 "metadata": {
  "kernelspec": {
   "display_name": "Python 3.10.5 ('seafog')",
   "language": "python",
   "name": "python3"
  },
  "language_info": {
   "codemirror_mode": {
    "name": "ipython",
    "version": 3
   },
   "file_extension": ".py",
   "mimetype": "text/x-python",
   "name": "python",
   "nbconvert_exporter": "python",
   "pygments_lexer": "ipython3",
   "version": "3.10.5"
  },
  "orig_nbformat": 4,
  "vscode": {
   "interpreter": {
    "hash": "25aa29f62e92ae76799ea789abce1a506387a87d8f1f604731622aeb3dfcad13"
   }
  }
 },
 "nbformat": 4,
 "nbformat_minor": 2
}
