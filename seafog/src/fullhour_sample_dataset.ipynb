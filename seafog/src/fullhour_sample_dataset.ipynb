{
 "cells": [
  {
   "cell_type": "code",
   "execution_count": 1,
   "metadata": {},
   "outputs": [],
   "source": [
    "import xarray as xr\n",
    "import numpy as np\n",
    "import os\n",
    "import arrow\n",
    "import pandas as pd\n",
    "import matplotlib as mpl\n",
    "import matplotlib.pyplot as plt"
   ]
  },
  {
   "cell_type": "code",
   "execution_count": 2,
   "metadata": {},
   "outputs": [],
   "source": [
    "if os.environ['COMPUTERNAME'] == 'DESKTOP-EQAO3M5':\n",
    "  computer_flag = 'home'\n",
    "else:\n",
    "  computer_flag = 'office'\n",
    "\n",
    "if computer_flag == 'home':\n",
    "  file_dir = \"F:/github/pythonScript/seafog/data/collection/\"\n",
    "else:\n",
    "  file_dir = \"H:/github/python/seafog/data/collection/\""
   ]
  },
  {
   "cell_type": "code",
   "execution_count": 3,
   "metadata": {},
   "outputs": [
    {
     "name": "stdout",
     "output_type": "stream",
     "text": [
      "['/df_000', '/df_001', '/df_002', '/df_003', '/df_004', '/df_005', '/df_006', '/df_007', '/df_008', '/df_009', '/df_010', '/df_011', '/df_012', '/df_013', '/df_014', '/df_015', '/df_016', '/df_017', '/df_018', '/df_019', '/df_020', '/df_021', '/df_022', '/df_023', '/df_024', '/df_025', '/df_026', '/df_027', '/df_028', '/df_029', '/df_030', '/df_031', '/df_032', '/df_033', '/df_034', '/df_035', '/df_036', '/df_037', '/df_038', '/df_039', '/df_040', '/df_041', '/df_042', '/df_043', '/df_044', '/df_045', '/df_046', '/df_047', '/df_048', '/df_049', '/df_050', '/df_051', '/df_052', '/df_053', '/df_054', '/df_055', '/df_056', '/df_057', '/df_058', '/df_059', '/df_060', '/df_061', '/df_062', '/df_063', '/df_064', '/df_065', '/df_066', '/df_067', '/df_068', '/df_069', '/df_070', '/df_071', '/df_072', '/df_073', '/df_074', '/df_075', '/df_076', '/df_077', '/df_078', '/df_079', '/df_080', '/df_081', '/df_082', '/df_083', '/df_084', '/df_085', '/df_086', '/df_087', '/df_088', '/df_089', '/df_090', '/df_091', '/df_092', '/df_093', '/df_094', '/df_095', '/df_096', '/df_097', '/df_098', '/df_099', '/df_100', '/df_101', '/df_102', '/df_103', '/df_104', '/df_105', '/df_106', '/df_107', '/df_108', '/df_109', '/df_110', '/df_111', '/df_112', '/df_113', '/df_114', '/df_115', '/df_116', '/df_117', '/df_118', '/df_119', '/df_120', '/df_121', '/df_122', '/df_123', '/df_124', '/df_125', '/df_126', '/df_127', '/df_128', '/df_129', '/df_130', '/df_131', '/df_132', '/df_133', '/df_134', '/df_135', '/df_136', '/df_137', '/df_138', '/df_139', '/df_140', '/df_141', '/df_142', '/df_143', '/df_144', '/df_145', '/df_146', '/df_147', '/df_148', '/df_149', '/df_150', '/df_151', '/df_152', '/df_153', '/df_154', '/df_155', '/df_156', '/df_157', '/df_158', '/df_159', '/df_160', '/df_161', '/df_162', '/df_163', '/df_164', '/df_165', '/df_166', '/df_167', '/df_168', '/df_169', '/df_170', '/df_171', '/df_172', '/df_173', '/df_174', '/df_175', '/df_176', '/df_177', '/df_178', '/df_179', '/df_180', '/df_181', '/df_182', '/df_183', '/df_184', '/df_185', '/df_186', '/df_187', '/df_188', '/df_189', '/df_190', '/df_191', '/df_192', '/df_193', '/df_194', '/df_195', '/df_196', '/df_197', '/df_198', '/df_199', '/df_200', '/df_201', '/df_202', '/df_203', '/df_204', '/df_205', '/df_206', '/df_207', '/df_208', '/df_209', '/df_210', '/df_211', '/df_212', '/df_213', '/df_214', '/df_215', '/df_216', '/df_217', '/df_218', '/df_219', '/df_220', '/df_221', '/df_222', '/df_223', '/df_224', '/df_225', '/df_226', '/df_227', '/df_228', '/df_229', '/df_230', '/df_231', '/df_232', '/df_233', '/df_234', '/df_235', '/df_236', '/df_237', '/df_238', '/df_239', '/df_240']\n"
     ]
    }
   ],
   "source": [
    "# file_hdf = \"H:/github/python/seafog/data/collection/ec201810-202205.hdf\"\n",
    "# file_hdf = \"F:/github/pythonScript/seafog/data/collection/ec201810-202205.hdf\"\n",
    "# file_hdf = \"H:/github/python/seafog/data/collection/fullhour/fullhour.ec201810-202205.hdf\"\n",
    "file_hdf = os.path.normpath(os.path.join(file_dir, './fullhour/fullhour.ec201810-202205.hdf'))\n",
    "store_hdf = pd.HDFStore(file_hdf, mode='r')\n",
    "print(store_hdf.keys())"
   ]
  },
  {
   "cell_type": "code",
   "execution_count": 4,
   "metadata": {},
   "outputs": [],
   "source": [
    "# fcHour_list = np.array(range(0, 240+1, 1))#list(range(0, 72+1, 3)) + list(range(78, 168+1, 6))\n",
    "fcHour_list = list(range(0, 72+1, 1)) + list(range(78, 168+1, 6))\n",
    "df_list = []\n",
    "for iHour in fcHour_list:\n",
    "    i_df = store_hdf.get(f'df_{iHour:0>3d}')\n",
    "    df_list.append(i_df)\n"
   ]
  },
  {
   "cell_type": "code",
   "execution_count": 5,
   "metadata": {},
   "outputs": [],
   "source": [
    "def linear_vis(x):\n",
    "    if(x <= 1000.0):\n",
    "      y = x/1000.0\n",
    "    elif(x > 1000.0 and x <= 10000.0):\n",
    "      y = (x-1000.0)/9000.0 + 1.0\n",
    "    elif( x > 10000.0  and x <= 30000.0):\n",
    "      y = (x-10000.0)/20000 + 2.0\n",
    "    else:\n",
    "      y = 3.0\n",
    "    return y"
   ]
  },
  {
   "cell_type": "code",
   "execution_count": 32,
   "metadata": {
    "tags": []
   },
   "outputs": [],
   "source": [
    "\n",
    "df_all = pd.concat(df_list, ignore_index=True)\n",
    "df_all.sort_values(by=['init_time','fc_hour'], inplace=True, ignore_index=True)"
   ]
  },
  {
   "cell_type": "code",
   "execution_count": 39,
   "metadata": {},
   "outputs": [],
   "source": [
    "df_all['station_vis_linear'] = -1.0\n",
    "df_all['station_vis_linear'] = df_all['station_vis'].apply(linear_vis)"
   ]
  },
  {
   "cell_type": "code",
   "execution_count": 40,
   "metadata": {},
   "outputs": [
    {
     "data": {
      "image/png": "[encoded data removed]",
      "text/plain": [
       "<Figure size 432x288 with 1 Axes>"
      ]
     },
     "metadata": {
      "needs_background": "light"
     },
     "output_type": "display_data"
    }
   ],
   "source": [
    "\n",
    "plt.plot(df_all['station_vis_linear'],df_all['station_vis_linear'],'.')\n",
    "plt.show()"
   ]
  },
  {
   "cell_type": "code",
   "execution_count": 41,
   "metadata": {},
   "outputs": [
    {
     "data": {
      "text/plain": [
       "Index(['visi', 'v100', 'v10m', 'u100', 'u10m', 't2mm', 't2md', 'sstk',\n",
       "       'vwnd1000', 'vwnd950', 'vwnd925', 'vwnd900', 'vwnd850', 'uwnd1000',\n",
       "       'uwnd950', 'uwnd925', 'uwnd900', 'uwnd850', 'temp1000', 'temp950',\n",
       "       'temp925', 'temp900', 'temp850', 'rhum1000', 'rhum950', 'rhum925',\n",
       "       'rhum900', 'rhum850', 'theta_e1000', 'theta1000', 'theta_e950',\n",
       "       'theta950', 'theta_e925', 'theta925', 'theta_e900', 'theta900',\n",
       "       'theta_e850', 'theta850', 'actual_time', 'init_time', 'year', 'month',\n",
       "       'day', 'hour', 'year_sin', 'year_cos', 'day_sin', 'day_cos',\n",
       "       'station_vis', 'station_rain1', 'fc_hour', 'station_vis_cat',\n",
       "       'station_vis_linear'],\n",
       "      dtype='object')"
      ]
     },
     "execution_count": 41,
     "metadata": {},
     "output_type": "execute_result"
    }
   ],
   "source": [
    "df_all.keys()"
   ]
  },
  {
   "cell_type": "code",
   "execution_count": 42,
   "metadata": {},
   "outputs": [],
   "source": [
    "df_fog = df_all.loc[df_all['station_vis_cat'] == 0]\n",
    "df_mist =  df_all.loc[df_all['station_vis_cat'] == 1]\n",
    "df_clear =  df_all.loc[df_all['station_vis_cat'] == 2]"
   ]
  },
  {
   "cell_type": "code",
   "execution_count": 43,
   "metadata": {},
   "outputs": [
    {
     "name": "stdout",
     "output_type": "stream",
     "text": [
      "1979\n",
      "62045\n",
      "161305\n"
     ]
    }
   ],
   "source": [
    "print(len(df_fog))\n",
    "print(len(df_mist))\n",
    "print(len(df_clear))"
   ]
  },
  {
   "cell_type": "code",
   "execution_count": 44,
   "metadata": {},
   "outputs": [],
   "source": [
    "# train, valid, test的比例\n",
    "# 合并 fog, mist, clear\n",
    "# 随机打散\n",
    "# train:valid : test = 6:1:2\n",
    "\n",
    "partial_train = 7.0/10.0\n",
    "partial_valid = 1.0/10.0\n",
    "partial_test = 2.0/10.0\n",
    "\n",
    "df_fog_train = df_fog[:int(len(df_fog)*partial_train)] # 训练集\n",
    "df_fog_valid = df_fog[int(len(df_fog)*partial_train):int(len(df_fog)*partial_train)+int(len(df_fog)*partial_valid)] # 验证集\n",
    "df_fog_test  = df_fog[int(len(df_fog)*partial_train)+int(len(df_fog)*partial_valid):] # 测试集\n",
    "\n",
    "df_mist_train = df_mist[:int(len(df_mist)*partial_train)] # 训练集\n",
    "df_mist_valid = df_mist[int(len(df_mist)*partial_train):int(len(df_mist)*partial_train)+int(len(df_mist)*partial_valid)] # 验证集\n",
    "df_mist_test  = df_mist[int(len(df_mist)*partial_train)+int(len(df_mist)*partial_valid):] # 测试集\n",
    "\n",
    "df_clear_train = df_clear[:int(len(df_clear)*partial_train)] # 训练集\n",
    "df_clear_valid = df_clear[int(len(df_clear)*partial_train) : int(len(df_clear) * partial_train) + int(len(df_clear)*partial_valid)] # 验证集\n",
    "df_clear_test  = df_clear[int(len(df_clear)*partial_train) + int(len(df_clear) * partial_valid) :] # 测试集\n"
   ]
  },
  {
   "cell_type": "code",
   "execution_count": 45,
   "metadata": {},
   "outputs": [
    {
     "name": "stdout",
     "output_type": "stream",
     "text": [
      "1385\n",
      "397\n"
     ]
    }
   ],
   "source": [
    "print(len(df_fog_train))\n",
    "print(len(df_fog_test))"
   ]
  },
  {
   "cell_type": "code",
   "execution_count": null,
   "metadata": {},
   "outputs": [],
   "source": []
  },
  {
   "cell_type": "code",
   "execution_count": 46,
   "metadata": {},
   "outputs": [
    {
     "name": "stdout",
     "output_type": "stream",
     "text": [
      "43431\n",
      "112913\n",
      "13850\n"
     ]
    }
   ],
   "source": [
    "# 增加雾的数量\n",
    "df_fog_train_extend = pd.concat([df_fog_train]*10, ignore_index=True)\n",
    "df_fog_valid_extend = pd.concat([df_fog_valid]*10, ignore_index=True)\n",
    "\n",
    "# fog顺序排列, mist和clear数量保持一致\n",
    "df_mist_train.sample(n=len(df_fog_train_extend), replace=True)\n",
    "df_clear_train.sample(n=len(df_fog_train_extend), replace=True)\n",
    "df_mist_valid.sample(n=len(df_fog_train_extend), replace=True)\n",
    "df_clear_valid.sample(n=len(df_fog_train_extend), replace=True)\n",
    "\n",
    "# df_clear_sample = df_clear.sample(n=20000)\n",
    "# df_mist_sample = df_mist.sample(n=20000)\n",
    "print(len(df_mist_train))\n",
    "print(len(df_clear_train))\n",
    "print(len(df_fog_train_extend))\n"
   ]
  },
  {
   "cell_type": "code",
   "execution_count": 47,
   "metadata": {},
   "outputs": [],
   "source": [
    "df_train = pd.concat([df_fog_train_extend, df_mist_train, df_clear_train], ignore_index=True)\n",
    "df_valid = pd.concat([df_fog_valid_extend, df_mist_valid, df_clear_valid], ignore_index=True)\n",
    "df_test = pd.concat([df_fog_test, df_mist_test, df_clear_test], ignore_index=True)"
   ]
  },
  {
   "cell_type": "code",
   "execution_count": 48,
   "metadata": {},
   "outputs": [],
   "source": [
    "df_train = df_train.sample(frac=1)\n",
    "df_valid = df_valid.sample(frac=1)\n",
    "# df_test = df_test.sample(frac=1)\n"
   ]
  },
  {
   "cell_type": "code",
   "execution_count": 49,
   "metadata": {},
   "outputs": [
    {
     "name": "stdout",
     "output_type": "stream",
     "text": [
      "170194\n",
      "24304\n",
      "45069\n"
     ]
    }
   ],
   "source": [
    "print(len(df_train))\n",
    "print(len(df_valid))\n",
    "print(len(df_test))"
   ]
  },
  {
   "cell_type": "code",
   "execution_count": 50,
   "metadata": {},
   "outputs": [
    {
     "name": "stdout",
     "output_type": "stream",
     "text": [
      "20684\n"
     ]
    }
   ],
   "source": [
    "real_fcHour_list = list(range(0, 72+1, 3)) + list(range(78, 168+1, 6))\n",
    "df_test_real = df_test[df_test['fc_hour'].isin(real_fcHour_list) ]\n",
    "print(len(df_test_real))"
   ]
  },
  {
   "cell_type": "code",
   "execution_count": 23,
   "metadata": {},
   "outputs": [],
   "source": [
    "# fog_dataset_hdf = \"H:/github/python/seafog/data/collection/fog_dataset.hdf\"\n",
    "# fog_dataset_hdf = \"F:/github/pythonScript/seafog/data/collection/extend/fog_dataset_extend_multilevels.hdf\"\n",
    "# dirpath = 'H:/github/python/seafog/data/collection/fullhour/'\n",
    "# fog_dataset_hdf = f\"{dirpath}fog_dataset_72h1_168h6.hdf\"\n",
    "\n",
    "fog_dataset_hdf = os.path.normpath(os.path.join(file_dir, './fullhour/fog_dataset_72h1_168h6_v2.hdf'))\n",
    "\n",
    "store_dataset = pd.HDFStore(fog_dataset_hdf, mode='w')\n",
    "\n",
    "df_train.to_hdf(store_dataset, key=f'train', mode='a')\n",
    "df_valid.to_hdf(store_dataset, key=f'valid', mode='a')\n",
    "# df_test.to_hdf( store_dataset, key=f'test' , mode='a')\n",
    "df_test_real.to_hdf( store_dataset, key=f'test' , mode='a')\n",
    "\n",
    "df_train.to_csv(f'{file_dir}fullhour/train_extend_72h1_168h6.csv')\n",
    "df_valid.to_csv(f'{file_dir}fullhour/valid_extend_72h1_168h6.csv')\n",
    "\n",
    "df_test_real.to_csv(f'{file_dir}fullhour/test_72h1_168h6.csv')\n",
    "store_dataset.close()"
   ]
  },
  {
   "cell_type": "code",
   "execution_count": 21,
   "metadata": {},
   "outputs": [],
   "source": []
  },
  {
   "cell_type": "code",
   "execution_count": null,
   "metadata": {},
   "outputs": [],
   "source": [
    "# 提取需要的变量组成x, 提取vis_cat作为y"
   ]
  },
  {
   "cell_type": "code",
   "execution_count": 13,
   "metadata": {},
   "outputs": [],
   "source": [
    "x_columns = ['v100', 'v10m', 'u100', 'u10m', 't2mm', 't2md', 'sstk','year_sin','year_cos', 'day_sin', 'day_cos',]\n",
    "\n",
    "df_train_x = df_train.loc[:, x_columns]\n",
    "df_train_y = df_train['station_vis_cat']\n",
    "\n",
    "df_valid_x = df_valid.loc[:, x_columns]\n",
    "df_valid_y = df_valid['station_vis_cat']\n",
    "\n",
    "df_test_x = df_test.loc[:, x_columns]\n",
    "df_test_y = df_test['station_vis_cat']\n",
    "\n"
   ]
  },
  {
   "cell_type": "code",
   "execution_count": 14,
   "metadata": {},
   "outputs": [],
   "source": [
    "train_x = df_train_x.to_numpy()\n",
    "train_y = df_train_y.to_numpy()\n",
    "\n",
    "valid_x = df_valid_x.to_numpy()\n",
    "valid_y = df_valid_y.to_numpy()\n",
    "\n",
    "test_x = df_test_x.to_numpy()\n",
    "test_y = df_test_y.to_numpy()\n"
   ]
  },
  {
   "cell_type": "code",
   "execution_count": 15,
   "metadata": {},
   "outputs": [
    {
     "name": "stdout",
     "output_type": "stream",
     "text": [
      "(44751, 11)\n",
      "(44751,)\n"
     ]
    }
   ],
   "source": [
    "print(train_x.shape)\n",
    "print(train_y.shape)"
   ]
  },
  {
   "cell_type": "code",
   "execution_count": 12,
   "metadata": {},
   "outputs": [
    {
     "data": {
      "text/plain": [
       "array([[4046.435546875, -3.0660858154296875, -2.6463775634765625, ...,\n",
       "        0.0, 12, 2],\n",
       "       [13515.86328125, 8.642013549804688, 5.7971038818359375, ..., 0.0,\n",
       "        39, 2],\n",
       "       [9900.552734375, -3.7729339599609375, -3.2535247802734375, ...,\n",
       "        0.0, 24, 1],\n",
       "       ...,\n",
       "       [9310.4619140625, 4.059478759765625, 2.4014892578125, ..., 0.0,\n",
       "        30, 1],\n",
       "       [21499.46875, -3.150909423828125, -2.913055419921875, ..., 0.0,\n",
       "        57, 1],\n",
       "       [3296.634033203125, -0.6565093994140625, -0.273406982421875, ...,\n",
       "        0.0, 45, 2]], dtype=object)"
      ]
     },
     "execution_count": 12,
     "metadata": {},
     "output_type": "execute_result"
    }
   ],
   "source": [
    "df_train.to_numpy()"
   ]
  }
 ],
 "metadata": {
  "kernelspec": {
   "display_name": "Python 3.10.5 ('seafog')",
   "language": "python",
   "name": "python3"
  },
  "language_info": {
   "codemirror_mode": {
    "name": "ipython",
    "version": 3
   },
   "file_extension": ".py",
   "mimetype": "text/x-python",
   "name": "python",
   "nbconvert_exporter": "python",
   "pygments_lexer": "ipython3",
   "version": "3.10.5"
  },
  "orig_nbformat": 4,
  "vscode": {
   "interpreter": {
    "hash": "25aa29f62e92ae76799ea789abce1a506387a87d8f1f604731622aeb3dfcad13"
   }
  }
 },
 "nbformat": 4,
 "nbformat_minor": 2
}
