{
 "cells": [
  {
   "cell_type": "code",
   "execution_count": 1,
   "metadata": {},
   "outputs": [
    {
     "ename": "ModuleNotFoundError",
     "evalue": "No module named 'tensorflow'",
     "output_type": "error",
     "traceback": [
      "\u001b[1;31m---------------------------------------------------------------------------\u001b[0m",
      "\u001b[1;31mModuleNotFoundError\u001b[0m                       Traceback (most recent call last)",
      "\u001b[1;32mf:\\github\\pythonScript\\seafog\\src\\drawmap\\remote_TDS_read.ipynb 单元格 1\u001b[0m in \u001b[0;36m<cell line: 11>\u001b[1;34m()\u001b[0m\n\u001b[0;32m      <a href='vscode-notebook-cell:/f%3A/github/pythonScript/seafog/src/drawmap/remote_TDS_read.ipynb#W0sZmlsZQ%3D%3D?line=8'>9</a>\u001b[0m \u001b[39mimport\u001b[39;00m \u001b[39mmetpy\u001b[39;00m\u001b[39m.\u001b[39;00m\u001b[39mcalc\u001b[39;00m \u001b[39mas\u001b[39;00m \u001b[39mmpcalc\u001b[39;00m\n\u001b[0;32m     <a href='vscode-notebook-cell:/f%3A/github/pythonScript/seafog/src/drawmap/remote_TDS_read.ipynb#W0sZmlsZQ%3D%3D?line=9'>10</a>\u001b[0m \u001b[39mfrom\u001b[39;00m \u001b[39mmetpy\u001b[39;00m\u001b[39m.\u001b[39;00m\u001b[39munits\u001b[39;00m \u001b[39mimport\u001b[39;00m units\n\u001b[1;32m---> <a href='vscode-notebook-cell:/f%3A/github/pythonScript/seafog/src/drawmap/remote_TDS_read.ipynb#W0sZmlsZQ%3D%3D?line=10'>11</a>\u001b[0m \u001b[39mimport\u001b[39;00m \u001b[39mtensorflow\u001b[39;00m \u001b[39mas\u001b[39;00m \u001b[39mtf\u001b[39;00m\n\u001b[0;32m     <a href='vscode-notebook-cell:/f%3A/github/pythonScript/seafog/src/drawmap/remote_TDS_read.ipynb#W0sZmlsZQ%3D%3D?line=11'>12</a>\u001b[0m \u001b[39mfrom\u001b[39;00m \u001b[39msklearn\u001b[39;00m\u001b[39m.\u001b[39;00m\u001b[39mpreprocessing\u001b[39;00m \u001b[39mimport\u001b[39;00m StandardScaler\n",
      "\u001b[1;31mModuleNotFoundError\u001b[0m: No module named 'tensorflow'"
     ]
    }
   ],
   "source": [
    "import xarray as xr\n",
    "import numpy as np\n",
    "import os\n",
    "import arrow\n",
    "import json\n",
    "import time\n",
    "import pandas as pd\n",
    "import datetime\n",
    "import metpy.calc as mpcalc\n",
    "from metpy.units import units\n",
    "import tensorflow as tf\n",
    "from sklearn.preprocessing import StandardScaler"
   ]
  },
  {
   "cell_type": "code",
   "execution_count": 71,
   "metadata": {},
   "outputs": [],
   "source": [
    "import matplotlib as mpl\n",
    "# mpl.use(\"cairo\")\n",
    "import matplotlib.pyplot as plt\n",
    "import matplotlib.dates as mdates\n",
    "import matplotlib.colors as mcolors\n",
    "plt.rcParams['font.sans-serif']=['SimHei']\n",
    "plt.rcParams['axes.unicode_minus'] = False  # 用来正常显示负号\n",
    "\n",
    "import cartopy.crs as ccrs\n",
    "import cartopy.io.shapereader as shpreader\n",
    "from cartopy.mpl.ticker import LongitudeFormatter,LatitudeFormatter"
   ]
  },
  {
   "cell_type": "code",
   "execution_count": 76,
   "metadata": {},
   "outputs": [],
   "source": [
    "timeStrList = ['000', '003', '006', '009', '012', '015', '018', '021', '024', '027', '030', '033', '036', '039', '042', '045', '048', '051', '054', '057', '060', '063', '066', '069', '072', '078', '084', '090',\n",
    "               '096', '102', '108', '114', '120', '126', '132', '138', '144', '150', '156', '162', '168', '174', '180', '186', '192', '198', '204', '210', '216', '222', '228', '234', '240', ]\n",
    "fcHour_list = list(range(0, 72+1, 3)) + list(range(78, 240+1, 6))\n",
    "\n",
    "config = {\n",
    "    'sstk':{\n",
    "        'name':'sstk',\n",
    "        'missing_value': -999.9,\n",
    "        # '_FillValue':  -999.9,\n",
    "        'valid_min': 273.16,\n",
    "        'standard_name': 'sea_surface_skin_temperature',\n",
    "        'units': 'K',\n",
    "        'long_name': 'sea surface temperature',\n",
    "        'short_name': 'SST',\n",
    "    },\n",
    "    'visi':{\n",
    "        'name':'visi',\n",
    "        'missing_value': -999.9,\n",
    "        # '_FillValue':  -999.9,\n",
    "        'valid_min': 0.0,\n",
    "        'standard_name': 'visibility_in_air',\n",
    "        'units': 'm',\n",
    "        'long_name': 'visibility',\n",
    "        'short_name': 'visibility',\n",
    "    },\n",
    "    't2md':{\n",
    "        'name':'t2md',\n",
    "        'missing_value': -999.9,\n",
    "        # '_FillValue':  -999.9,\n",
    "        'valid_min': 0.0,\n",
    "        'standard_name': 'dew_point_temperature',\n",
    "        'units': 'K',\n",
    "        'long_name': 'dew point',\n",
    "        'short_name': 'Td',\n",
    "    },\n",
    "    't2mm':{\n",
    "        'name':'t2mm',\n",
    "        'missing_value': -999.9,\n",
    "        # '_FillValue':  -999.9,\n",
    "        'valid_min': 0.0,\n",
    "        'standard_name': 'air_temperature',\n",
    "        'units': 'K',\n",
    "        'long_name': 'air temperature in 2 metre',\n",
    "        'short_name': 'T2m',\n",
    "    },\n",
    "    'sktk':{\n",
    "        'name':'sktk',\n",
    "        'missing_value': -999.9,\n",
    "        # '_FillValue':  -999.9,\n",
    "        'valid_min': 0.0,\n",
    "        'standard_name': 'surface_temperature',\n",
    "        'units': 'K',\n",
    "        'long_name': 'surface temperature',\n",
    "        'short_name': 'sktk',\n",
    "    },\n",
    "    'mn2t':{\n",
    "        'name':'mn2t',\n",
    "        'missing_value': -999.9,\n",
    "        # '_FillValue':  -999.9,\n",
    "        'valid_min': 0.0,\n",
    "        'standard_name': 'air_temperature',\n",
    "        'units': 'K',\n",
    "        'long_name': 'air temperature minimum in 2 metre since 6 hr before',\n",
    "        'short_name': 'T2m',\n",
    "    },\n",
    "    'mx2t':{\n",
    "        'name':'mx2t',\n",
    "        'missing_value': -999.9,\n",
    "        # '_FillValue':  -999.9,\n",
    "        'valid_min': 0.0,\n",
    "        'standard_name': 'air_temperature',\n",
    "        'units': 'K',\n",
    "        'long_name': 'air temperature maxium in 2 metre since 6 hr before',\n",
    "        'short_name': 'T2m',\n",
    "    },\n",
    "    'rhum':{\n",
    "        'name':'rhum',\n",
    "        'missing_value': -999.9,\n",
    "        # '_FillValue':  -999.9,\n",
    "        'valid_min': 0.0,\n",
    "        'standard_name': 'relative_humidity',\n",
    "        'units': '0.01',\n",
    "        'long_name': 'relative_humidity',\n",
    "        'short_name': 'RH',\n",
    "    },\n",
    "    'temp':{\n",
    "        'name':'temp',\n",
    "        'missing_value': -999.9,\n",
    "        # '_FillValue':  -999.9,\n",
    "        'valid_min': 0.0,\n",
    "        'standard_name': 'air_temperature',\n",
    "        'units': 'K',\n",
    "        'long_name': 'air temperature',\n",
    "        'short_name': 'Temp',\n",
    "    },\n",
    "    'uwnd':{\n",
    "        'name':'uwnd',\n",
    "        'missing_value': -999.9,\n",
    "        # '_FillValue':  -999.9,\n",
    "        'standard_name': 'eastward_wind',\n",
    "        'units': 'm/s',\n",
    "        'long_name': 'u wind',\n",
    "        'short_name': 'Uwnd',\n",
    "    },\n",
    "    'vwnd':{\n",
    "        'name':'vwnd',\n",
    "        'missing_value': -999.9,\n",
    "        # '_FillValue':  -999.9,\n",
    "        'standard_name': 'northward_wind',\n",
    "        'units': 'm/s',\n",
    "        'long_name': 'v wind',\n",
    "        'short_name': 'Vwnd',\n",
    "    },\n",
    "    'u10m':{\n",
    "        'name':'u10m',\n",
    "        'missing_value': -999.9,\n",
    "        # '_FillValue':  -999.9,\n",
    "        'standard_name': 'eastward_wind',\n",
    "        'units': 'm/s',\n",
    "        'long_name': 'u wind',\n",
    "        'short_name': 'Uwnd',\n",
    "    },\n",
    "    'v10m':{\n",
    "        'name':'v10m',\n",
    "        'missing_value': -999.9,\n",
    "        # '_FillValue':  -999.9,\n",
    "        'standard_name': 'northward_wind',\n",
    "        'units': 'm/s',\n",
    "        'long_name': 'v wind',\n",
    "        'short_name': 'Vwnd',\n",
    "    },\n",
    "    'u100':{\n",
    "        'name':'u100',\n",
    "        'missing_value': -999.9,\n",
    "        # '_FillValue':  -999.9,\n",
    "        'standard_name': 'eastward_wind',\n",
    "        'units': 'm/s',\n",
    "        'long_name': 'u wind',\n",
    "        'short_name': 'Uwnd',\n",
    "    },\n",
    "    'v100':{\n",
    "        'name':'v100',\n",
    "        'missing_value': -999.9,\n",
    "        # '_FillValue':  -999.9,\n",
    "        'standard_name': 'northward_wind',\n",
    "        'units': 'm/s',\n",
    "        'long_name': 'v wind',\n",
    "        'short_name': 'Vwnd',\n",
    "    },\n",
    "}"
   ]
  },
  {
   "cell_type": "code",
   "execution_count": 198,
   "metadata": {},
   "outputs": [],
   "source": [
    "def linear_vis(x):\n",
    "    if(x <= 1000.0):\n",
    "      y = x/1000.0\n",
    "    elif(x > 1000.0 and x <= 10000.0):\n",
    "      y = (x-1000.0)/9000.0 + 1.0\n",
    "    elif( x > 10000.0  and x <= 30000.0):\n",
    "      y = (x-10000.0)/20000 + 2.0\n",
    "    else:\n",
    "      y = 3.0\n",
    "    return y\n",
    "\n",
    "def reverse_linear_vis(x):\n",
    "    if(np.isnan(x)):\n",
    "      y = np.nan\n",
    "    elif(x<0):\n",
    "      y = 1\n",
    "    elif(x <= 1.0):\n",
    "      y = x*1000.0\n",
    "    elif(x <= 2.0):\n",
    "      y = (x - 1.0)*9000.0 + 1000.0\n",
    "    elif(x <= 3.0):\n",
    "      y = (x-2.0)*20000 + 10000.0\n",
    "    else:\n",
    "      y = 30000.0\n",
    "    return y\n",
    "\n",
    "def setDataset(df, x_columns):\n",
    "    df['t_td'] =  df['t2mm'] - df['t2md']\n",
    "    df['td_sst'] =  df['t2md'] - df['sstk']\n",
    "    df['t_sst'] =  df['t2mm'] - df['sstk']\n",
    "    df['delta_theta'] = df['theta925'] - df['theta1000']\n",
    "    df['delta_theta_e'] = df['theta_e925'] - df['theta_e1000']\n",
    "    df_x = df.loc[:, x_columns]\n",
    "    df_y = df['station_vis_linear']\n",
    "    _x = df_x.to_numpy()\n",
    "    _y = df_y.to_numpy()\n",
    "    return (_x, _y)"
   ]
  },
  {
   "cell_type": "code",
   "execution_count": 3,
   "metadata": {},
   "outputs": [],
   "source": [
    "dir_path = 'H:/data/ec_thin/'\n",
    "var_symbols = [\n",
    "'t2md',\n",
    "'t2mm',\n",
    "'sstk',\n",
    "'u100',\n",
    "'v100',\n",
    "'u10m',\n",
    "'v10m',\n",
    "'rhum',\n",
    "'temp',]\n"
   ]
  },
  {
   "cell_type": "code",
   "execution_count": 4,
   "metadata": {},
   "outputs": [],
   "source": [
    "# ds_list = []\n",
    "# for iSymbol in var_symbols:\n",
    "#     i_dataset = xr.open_dataset(f'{dir_path}{iSymbol}.nc')\n",
    "#     ds_list.append(i_dataset)\n",
    "\n",
    "ds_list = []\n",
    "for iSymbol in var_symbols:\n",
    "    i_dataset = xr.open_dataset(f'http://10.148.8.71:7080/thredds/dodsC/ecmwfthin/202210/{iSymbol}.nc')\n",
    "    ds_list.append(i_dataset)"
   ]
  },
  {
   "cell_type": "code",
   "execution_count": 5,
   "metadata": {},
   "outputs": [
    {
     "data": {
      "text/html": [
       "<div><svg style=\"position: absolute; width: 0; height: 0; overflow: hidden\">\n",
       "<defs>\n",
       "<symbol id=\"icon-database\" viewBox=\"0 0 32 32\">\n",
       "<path d=\"M16 0c-8.837 0-16 2.239-16 5v4c0 2.761 7.163 5 16 5s16-2.239 16-5v-4c0-2.761-7.163-5-16-5z\"></path>\n",
       "<path d=\"M16 17c-8.837 0-16-2.239-16-5v6c0 2.761 7.163 5 16 5s16-2.239 16-5v-6c0 2.761-7.163 5-16 5z\"></path>\n",
       "<path d=\"M16 26c-8.837 0-16-2.239-16-5v6c0 2.761 7.163 5 16 5s16-2.239 16-5v-6c0 2.761-7.163 5-16 5z\"></path>\n",
       "</symbol>\n",
       "<symbol id=\"icon-file-text2\" viewBox=\"0 0 32 32\">\n",
       "<path d=\"M28.681 7.159c-0.694-0.947-1.662-2.053-2.724-3.116s-2.169-2.030-3.116-2.724c-1.612-1.182-2.393-1.319-2.841-1.319h-15.5c-1.378 0-2.5 1.121-2.5 2.5v27c0 1.378 1.122 2.5 2.5 2.5h23c1.378 0 2.5-1.122 2.5-2.5v-19.5c0-0.448-0.137-1.23-1.319-2.841zM24.543 5.457c0.959 0.959 1.712 1.825 2.268 2.543h-4.811v-4.811c0.718 0.556 1.584 1.309 2.543 2.268zM28 29.5c0 0.271-0.229 0.5-0.5 0.5h-23c-0.271 0-0.5-0.229-0.5-0.5v-27c0-0.271 0.229-0.5 0.5-0.5 0 0 15.499-0 15.5 0v7c0 0.552 0.448 1 1 1h7v19.5z\"></path>\n",
       "<path d=\"M23 26h-14c-0.552 0-1-0.448-1-1s0.448-1 1-1h14c0.552 0 1 0.448 1 1s-0.448 1-1 1z\"></path>\n",
       "<path d=\"M23 22h-14c-0.552 0-1-0.448-1-1s0.448-1 1-1h14c0.552 0 1 0.448 1 1s-0.448 1-1 1z\"></path>\n",
       "<path d=\"M23 18h-14c-0.552 0-1-0.448-1-1s0.448-1 1-1h14c0.552 0 1 0.448 1 1s-0.448 1-1 1z\"></path>\n",
       "</symbol>\n",
       "</defs>\n",
       "</svg>\n",
       "<style>/* CSS stylesheet for displaying xarray objects in jupyterlab.\n",
       " *\n",
       " */\n",
       "\n",
       ":root {\n",
       "  --xr-font-color0: var(--jp-content-font-color0, rgba(0, 0, 0, 1));\n",
       "  --xr-font-color2: var(--jp-content-font-color2, rgba(0, 0, 0, 0.54));\n",
       "  --xr-font-color3: var(--jp-content-font-color3, rgba(0, 0, 0, 0.38));\n",
       "  --xr-border-color: var(--jp-border-color2, #e0e0e0);\n",
       "  --xr-disabled-color: var(--jp-layout-color3, #bdbdbd);\n",
       "  --xr-background-color: var(--jp-layout-color0, white);\n",
       "  --xr-background-color-row-even: var(--jp-layout-color1, white);\n",
       "  --xr-background-color-row-odd: var(--jp-layout-color2, #eeeeee);\n",
       "}\n",
       "\n",
       "html[theme=dark],\n",
       "body.vscode-dark {\n",
       "  --xr-font-color0: rgba(255, 255, 255, 1);\n",
       "  --xr-font-color2: rgba(255, 255, 255, 0.54);\n",
       "  --xr-font-color3: rgba(255, 255, 255, 0.38);\n",
       "  --xr-border-color: #1F1F1F;\n",
       "  --xr-disabled-color: #515151;\n",
       "  --xr-background-color: #111111;\n",
       "  --xr-background-color-row-even: #111111;\n",
       "  --xr-background-color-row-odd: #313131;\n",
       "}\n",
       "\n",
       ".xr-wrap {\n",
       "  display: block !important;\n",
       "  min-width: 300px;\n",
       "  max-width: 700px;\n",
       "}\n",
       "\n",
       ".xr-text-repr-fallback {\n",
       "  /* fallback to plain text repr when CSS is not injected (untrusted notebook) */\n",
       "  display: none;\n",
       "}\n",
       "\n",
       ".xr-header {\n",
       "  padding-top: 6px;\n",
       "  padding-bottom: 6px;\n",
       "  margin-bottom: 4px;\n",
       "  border-bottom: solid 1px var(--xr-border-color);\n",
       "}\n",
       "\n",
       ".xr-header > div,\n",
       ".xr-header > ul {\n",
       "  display: inline;\n",
       "  margin-top: 0;\n",
       "  margin-bottom: 0;\n",
       "}\n",
       "\n",
       ".xr-obj-type,\n",
       ".xr-array-name {\n",
       "  margin-left: 2px;\n",
       "  margin-right: 10px;\n",
       "}\n",
       "\n",
       ".xr-obj-type {\n",
       "  color: var(--xr-font-color2);\n",
       "}\n",
       "\n",
       ".xr-sections {\n",
       "  padding-left: 0 !important;\n",
       "  display: grid;\n",
       "  grid-template-columns: 150px auto auto 1fr 20px 20px;\n",
       "}\n",
       "\n",
       ".xr-section-item {\n",
       "  display: contents;\n",
       "}\n",
       "\n",
       ".xr-section-item input {\n",
       "  display: none;\n",
       "}\n",
       "\n",
       ".xr-section-item input + label {\n",
       "  color: var(--xr-disabled-color);\n",
       "}\n",
       "\n",
       ".xr-section-item input:enabled + label {\n",
       "  cursor: pointer;\n",
       "  color: var(--xr-font-color2);\n",
       "}\n",
       "\n",
       ".xr-section-item input:enabled + label:hover {\n",
       "  color: var(--xr-font-color0);\n",
       "}\n",
       "\n",
       ".xr-section-summary {\n",
       "  grid-column: 1;\n",
       "  color: var(--xr-font-color2);\n",
       "  font-weight: 500;\n",
       "}\n",
       "\n",
       ".xr-section-summary > span {\n",
       "  display: inline-block;\n",
       "  padding-left: 0.5em;\n",
       "}\n",
       "\n",
       ".xr-section-summary-in:disabled + label {\n",
       "  color: var(--xr-font-color2);\n",
       "}\n",
       "\n",
       ".xr-section-summary-in + label:before {\n",
       "  display: inline-block;\n",
       "  content: '►';\n",
       "  font-size: 11px;\n",
       "  width: 15px;\n",
       "  text-align: center;\n",
       "}\n",
       "\n",
       ".xr-section-summary-in:disabled + label:before {\n",
       "  color: var(--xr-disabled-color);\n",
       "}\n",
       "\n",
       ".xr-section-summary-in:checked + label:before {\n",
       "  content: '▼';\n",
       "}\n",
       "\n",
       ".xr-section-summary-in:checked + label > span {\n",
       "  display: none;\n",
       "}\n",
       "\n",
       ".xr-section-summary,\n",
       ".xr-section-inline-details {\n",
       "  padding-top: 4px;\n",
       "  padding-bottom: 4px;\n",
       "}\n",
       "\n",
       ".xr-section-inline-details {\n",
       "  grid-column: 2 / -1;\n",
       "}\n",
       "\n",
       ".xr-section-details {\n",
       "  display: none;\n",
       "  grid-column: 1 / -1;\n",
       "  margin-bottom: 5px;\n",
       "}\n",
       "\n",
       ".xr-section-summary-in:checked ~ .xr-section-details {\n",
       "  display: contents;\n",
       "}\n",
       "\n",
       ".xr-array-wrap {\n",
       "  grid-column: 1 / -1;\n",
       "  display: grid;\n",
       "  grid-template-columns: 20px auto;\n",
       "}\n",
       "\n",
       ".xr-array-wrap > label {\n",
       "  grid-column: 1;\n",
       "  vertical-align: top;\n",
       "}\n",
       "\n",
       ".xr-preview {\n",
       "  color: var(--xr-font-color3);\n",
       "}\n",
       "\n",
       ".xr-array-preview,\n",
       ".xr-array-data {\n",
       "  padding: 0 5px !important;\n",
       "  grid-column: 2;\n",
       "}\n",
       "\n",
       ".xr-array-data,\n",
       ".xr-array-in:checked ~ .xr-array-preview {\n",
       "  display: none;\n",
       "}\n",
       "\n",
       ".xr-array-in:checked ~ .xr-array-data,\n",
       ".xr-array-preview {\n",
       "  display: inline-block;\n",
       "}\n",
       "\n",
       ".xr-dim-list {\n",
       "  display: inline-block !important;\n",
       "  list-style: none;\n",
       "  padding: 0 !important;\n",
       "  margin: 0;\n",
       "}\n",
       "\n",
       ".xr-dim-list li {\n",
       "  display: inline-block;\n",
       "  padding: 0;\n",
       "  margin: 0;\n",
       "}\n",
       "\n",
       ".xr-dim-list:before {\n",
       "  content: '(';\n",
       "}\n",
       "\n",
       ".xr-dim-list:after {\n",
       "  content: ')';\n",
       "}\n",
       "\n",
       ".xr-dim-list li:not(:last-child):after {\n",
       "  content: ',';\n",
       "  padding-right: 5px;\n",
       "}\n",
       "\n",
       ".xr-has-index {\n",
       "  font-weight: bold;\n",
       "}\n",
       "\n",
       ".xr-var-list,\n",
       ".xr-var-item {\n",
       "  display: contents;\n",
       "}\n",
       "\n",
       ".xr-var-item > div,\n",
       ".xr-var-item label,\n",
       ".xr-var-item > .xr-var-name span {\n",
       "  background-color: var(--xr-background-color-row-even);\n",
       "  margin-bottom: 0;\n",
       "}\n",
       "\n",
       ".xr-var-item > .xr-var-name:hover span {\n",
       "  padding-right: 5px;\n",
       "}\n",
       "\n",
       ".xr-var-list > li:nth-child(odd) > div,\n",
       ".xr-var-list > li:nth-child(odd) > label,\n",
       ".xr-var-list > li:nth-child(odd) > .xr-var-name span {\n",
       "  background-color: var(--xr-background-color-row-odd);\n",
       "}\n",
       "\n",
       ".xr-var-name {\n",
       "  grid-column: 1;\n",
       "}\n",
       "\n",
       ".xr-var-dims {\n",
       "  grid-column: 2;\n",
       "}\n",
       "\n",
       ".xr-var-dtype {\n",
       "  grid-column: 3;\n",
       "  text-align: right;\n",
       "  color: var(--xr-font-color2);\n",
       "}\n",
       "\n",
       ".xr-var-preview {\n",
       "  grid-column: 4;\n",
       "}\n",
       "\n",
       ".xr-var-name,\n",
       ".xr-var-dims,\n",
       ".xr-var-dtype,\n",
       ".xr-preview,\n",
       ".xr-attrs dt {\n",
       "  white-space: nowrap;\n",
       "  overflow: hidden;\n",
       "  text-overflow: ellipsis;\n",
       "  padding-right: 10px;\n",
       "}\n",
       "\n",
       ".xr-var-name:hover,\n",
       ".xr-var-dims:hover,\n",
       ".xr-var-dtype:hover,\n",
       ".xr-attrs dt:hover {\n",
       "  overflow: visible;\n",
       "  width: auto;\n",
       "  z-index: 1;\n",
       "}\n",
       "\n",
       ".xr-var-attrs,\n",
       ".xr-var-data {\n",
       "  display: none;\n",
       "  background-color: var(--xr-background-color) !important;\n",
       "  padding-bottom: 5px !important;\n",
       "}\n",
       "\n",
       ".xr-var-attrs-in:checked ~ .xr-var-attrs,\n",
       ".xr-var-data-in:checked ~ .xr-var-data {\n",
       "  display: block;\n",
       "}\n",
       "\n",
       ".xr-var-data > table {\n",
       "  float: right;\n",
       "}\n",
       "\n",
       ".xr-var-name span,\n",
       ".xr-var-data,\n",
       ".xr-attrs {\n",
       "  padding-left: 25px !important;\n",
       "}\n",
       "\n",
       ".xr-attrs,\n",
       ".xr-var-attrs,\n",
       ".xr-var-data {\n",
       "  grid-column: 1 / -1;\n",
       "}\n",
       "\n",
       "dl.xr-attrs {\n",
       "  padding: 0;\n",
       "  margin: 0;\n",
       "  display: grid;\n",
       "  grid-template-columns: 125px auto;\n",
       "}\n",
       "\n",
       ".xr-attrs dt,\n",
       ".xr-attrs dd {\n",
       "  padding: 0;\n",
       "  margin: 0;\n",
       "  float: left;\n",
       "  padding-right: 10px;\n",
       "  width: auto;\n",
       "}\n",
       "\n",
       ".xr-attrs dt {\n",
       "  font-weight: normal;\n",
       "  grid-column: 1;\n",
       "}\n",
       "\n",
       ".xr-attrs dt:hover span {\n",
       "  display: inline-block;\n",
       "  background: var(--xr-background-color);\n",
       "  padding-right: 10px;\n",
       "}\n",
       "\n",
       ".xr-attrs dd {\n",
       "  grid-column: 2;\n",
       "  white-space: pre-wrap;\n",
       "  word-break: break-all;\n",
       "}\n",
       "\n",
       ".xr-icon-database,\n",
       ".xr-icon-file-text2 {\n",
       "  display: inline-block;\n",
       "  vertical-align: middle;\n",
       "  width: 1em;\n",
       "  height: 1.5em !important;\n",
       "  stroke-width: 0;\n",
       "  stroke: currentColor;\n",
       "  fill: currentColor;\n",
       "}\n",
       "</style><pre class='xr-text-repr-fallback'>&lt;xarray.DataArray &#x27;u100024&#x27; (level: 1, lat: 561, lon: 2880)&gt;\n",
       "[1615680 values with dtype=float32]\n",
       "Coordinates:\n",
       "  * lon      (lon) float32 0.0 0.125 0.25 0.375 0.5 ... 359.5 359.6 359.8 359.9\n",
       "  * lat      (lat) float32 -10.0 -9.875 -9.75 -9.625 ... 59.62 59.75 59.88 60.0\n",
       "  * level    (level) float32 0.0\n",
       "    time     datetime64[ns] 2022-10-01</pre><div class='xr-wrap' style='display:none'><div class='xr-header'><div class='xr-obj-type'>xarray.DataArray</div><div class='xr-array-name'>'u100024'</div><ul class='xr-dim-list'><li><span class='xr-has-index'>level</span>: 1</li><li><span class='xr-has-index'>lat</span>: 561</li><li><span class='xr-has-index'>lon</span>: 2880</li></ul></div><ul class='xr-sections'><li class='xr-section-item'><div class='xr-array-wrap'><input id='section-93b2439c-931d-4a7c-b40d-1548cab1ffb7' class='xr-array-in' type='checkbox' checked><label for='section-93b2439c-931d-4a7c-b40d-1548cab1ffb7' title='Show/hide data repr'><svg class='icon xr-icon-database'><use xlink:href='#icon-database'></use></svg></label><div class='xr-array-preview xr-preview'><span>...</span></div><div class='xr-array-data'><pre>[1615680 values with dtype=float32]</pre></div></div></li><li class='xr-section-item'><input id='section-2fffe7ff-a407-4bb7-b662-bfb80d1026e6' class='xr-section-summary-in' type='checkbox'  checked><label for='section-2fffe7ff-a407-4bb7-b662-bfb80d1026e6' class='xr-section-summary' >Coordinates: <span>(4)</span></label><div class='xr-section-inline-details'></div><div class='xr-section-details'><ul class='xr-var-list'><li class='xr-var-item'><div class='xr-var-name'><span class='xr-has-index'>lon</span></div><div class='xr-var-dims'>(lon)</div><div class='xr-var-dtype'>float32</div><div class='xr-var-preview xr-preview'>0.0 0.125 0.25 ... 359.8 359.9</div><input id='attrs-d7b7edb1-3962-4e74-aefb-8975d5af3123' class='xr-var-attrs-in' type='checkbox' ><label for='attrs-d7b7edb1-3962-4e74-aefb-8975d5af3123' title='Show/Hide attributes'><svg class='icon xr-icon-file-text2'><use xlink:href='#icon-file-text2'></use></svg></label><input id='data-9b1a98c7-c707-4938-a914-1a58a2461c79' class='xr-var-data-in' type='checkbox'><label for='data-9b1a98c7-c707-4938-a914-1a58a2461c79' title='Show/Hide data repr'><svg class='icon xr-icon-database'><use xlink:href='#icon-database'></use></svg></label><div class='xr-var-attrs'><dl class='xr-attrs'><dt><span>units :</span></dt><dd>degrees_east</dd></dl></div><div class='xr-var-data'><pre>array([0.00000e+00, 1.25000e-01, 2.50000e-01, ..., 3.59625e+02, 3.59750e+02,\n",
       "       3.59875e+02], dtype=float32)</pre></div></li><li class='xr-var-item'><div class='xr-var-name'><span class='xr-has-index'>lat</span></div><div class='xr-var-dims'>(lat)</div><div class='xr-var-dtype'>float32</div><div class='xr-var-preview xr-preview'>-10.0 -9.875 -9.75 ... 59.88 60.0</div><input id='attrs-71bbc72d-6a94-41d5-89a8-ab34ba25e738' class='xr-var-attrs-in' type='checkbox' ><label for='attrs-71bbc72d-6a94-41d5-89a8-ab34ba25e738' title='Show/Hide attributes'><svg class='icon xr-icon-file-text2'><use xlink:href='#icon-file-text2'></use></svg></label><input id='data-a7ee6875-8fa3-48a5-adb9-75c249007570' class='xr-var-data-in' type='checkbox'><label for='data-a7ee6875-8fa3-48a5-adb9-75c249007570' title='Show/Hide data repr'><svg class='icon xr-icon-database'><use xlink:href='#icon-database'></use></svg></label><div class='xr-var-attrs'><dl class='xr-attrs'><dt><span>units :</span></dt><dd>degrees_north</dd></dl></div><div class='xr-var-data'><pre>array([-10.   ,  -9.875,  -9.75 , ...,  59.75 ,  59.875,  60.   ],\n",
       "      dtype=float32)</pre></div></li><li class='xr-var-item'><div class='xr-var-name'><span class='xr-has-index'>level</span></div><div class='xr-var-dims'>(level)</div><div class='xr-var-dtype'>float32</div><div class='xr-var-preview xr-preview'>0.0</div><input id='attrs-555a3624-8c60-45cd-8f93-57c2d5afb2e9' class='xr-var-attrs-in' type='checkbox' ><label for='attrs-555a3624-8c60-45cd-8f93-57c2d5afb2e9' title='Show/Hide attributes'><svg class='icon xr-icon-file-text2'><use xlink:href='#icon-file-text2'></use></svg></label><input id='data-78e708ba-254d-49d2-9b97-13f8859928c4' class='xr-var-data-in' type='checkbox'><label for='data-78e708ba-254d-49d2-9b97-13f8859928c4' title='Show/Hide data repr'><svg class='icon xr-icon-database'><use xlink:href='#icon-database'></use></svg></label><div class='xr-var-attrs'><dl class='xr-attrs'><dt><span>units :</span></dt><dd>millibars</dd></dl></div><div class='xr-var-data'><pre>array([0.], dtype=float32)</pre></div></li><li class='xr-var-item'><div class='xr-var-name'><span>time</span></div><div class='xr-var-dims'>()</div><div class='xr-var-dtype'>datetime64[ns]</div><div class='xr-var-preview xr-preview'>2022-10-01</div><input id='attrs-10b55ef2-15c7-4e45-a86f-4451cc0a75b3' class='xr-var-attrs-in' type='checkbox' disabled><label for='attrs-10b55ef2-15c7-4e45-a86f-4451cc0a75b3' title='Show/Hide attributes'><svg class='icon xr-icon-file-text2'><use xlink:href='#icon-file-text2'></use></svg></label><input id='data-8f57f3e6-8634-4f83-ad83-a2100676f6f7' class='xr-var-data-in' type='checkbox'><label for='data-8f57f3e6-8634-4f83-ad83-a2100676f6f7' title='Show/Hide data repr'><svg class='icon xr-icon-database'><use xlink:href='#icon-database'></use></svg></label><div class='xr-var-attrs'><dl class='xr-attrs'></dl></div><div class='xr-var-data'><pre>array(&#x27;2022-10-01T00:00:00.000000000&#x27;, dtype=&#x27;datetime64[ns]&#x27;)</pre></div></li></ul></div></li><li class='xr-section-item'><input id='section-10774188-6833-40e2-90a3-3a3702ee1e61' class='xr-section-summary-in' type='checkbox' disabled ><label for='section-10774188-6833-40e2-90a3-3a3702ee1e61' class='xr-section-summary'  title='Expand/collapse section'>Attributes: <span>(0)</span></label><div class='xr-section-inline-details'></div><div class='xr-section-details'><dl class='xr-attrs'></dl></div></li></ul></div></div>"
      ],
      "text/plain": [
       "<xarray.DataArray 'u100024' (level: 1, lat: 561, lon: 2880)>\n",
       "[1615680 values with dtype=float32]\n",
       "Coordinates:\n",
       "  * lon      (lon) float32 0.0 0.125 0.25 0.375 0.5 ... 359.5 359.6 359.8 359.9\n",
       "  * lat      (lat) float32 -10.0 -9.875 -9.75 -9.625 ... 59.62 59.75 59.88 60.0\n",
       "  * level    (level) float32 0.0\n",
       "    time     datetime64[ns] 2022-10-01"
      ]
     },
     "execution_count": 5,
     "metadata": {},
     "output_type": "execute_result"
    }
   ],
   "source": [
    "area = [105, 125, 15, 28]\n",
    "da_test = ds_list[3]['u100024']\n",
    "# print(da_test)\n",
    "da_test.sel(time = da_test.time[0].values)"
   ]
  },
  {
   "cell_type": "code",
   "execution_count": 6,
   "metadata": {},
   "outputs": [
    {
     "name": "stdout",
     "output_type": "stream",
     "text": [
      "t2md\n",
      "t2mm\n",
      "sstk\n",
      "u100\n",
      "v100\n",
      "u10m\n",
      "v10m\n",
      "rhum\n",
      "temp\n"
     ]
    }
   ],
   "source": [
    "time_step = '024'\n",
    "area = [105, 125, 15, 28]\n",
    "da_list = []\n",
    "for iSymbol, i_ds in zip(var_symbols, ds_list):\n",
    "    i_dataArray = i_ds[f'{iSymbol}{time_step}']\n",
    "    print(iSymbol)\n",
    "    if iSymbol == 'rhum' or iSymbol == 'temp':\n",
    "        sud_dataArray = i_dataArray.sel(time=i_dataArray.time[0].values, level=[1000.0, 925.0], lat=slice(area[2], area[3]), lon=slice(area[0], area[1]))\n",
    "    else:\n",
    "        sud_dataArray = i_dataArray.sel(time=i_dataArray.time[0].values, level=0.0, lat=slice(area[2], area[3]), lon=slice(area[0], area[1]))\n",
    "    da_list.append(sud_dataArray)\n",
    "\n"
   ]
  },
  {
   "cell_type": "code",
   "execution_count": 7,
   "metadata": {},
   "outputs": [],
   "source": [
    "(t2md, t2mm,sstk,u100,v100,u10m,v10m,rhum,temp) = da_list"
   ]
  },
  {
   "cell_type": "code",
   "execution_count": 86,
   "metadata": {},
   "outputs": [],
   "source": [
    "sstk = xr.where(sstk>273.16, sstk, np.nan)"
   ]
  },
  {
   "cell_type": "code",
   "execution_count": 30,
   "metadata": {},
   "outputs": [
    {
     "name": "stdout",
     "output_type": "stream",
     "text": [
      "<xarray.DataArray 'rhum024' (level: 2, lat: 53, lon: 81)>\n",
      "array([[[96.049126, 92.549126, ..., 79.049126, 75.049126],\n",
      "        [94.549126, 92.549126, ..., 78.549126, 77.549126],\n",
      "        ...,\n",
      "        [83.049126, 80.549126, ..., 84.049126, 81.549126],\n",
      "        [93.549126, 87.049126, ..., 84.549126, 81.049126]],\n",
      "\n",
      "       [[99.498184, 98.498184, ..., 93.498184, 92.998184],\n",
      "        [99.498184, 98.498184, ..., 93.498184, 93.998184],\n",
      "        ...,\n",
      "        [82.998184, 80.998184, ..., 83.998184, 83.498184],\n",
      "        [93.498184, 86.498184, ..., 87.498184, 83.998184]]], dtype=float32)\n",
      "Coordinates:\n",
      "  * lon      (lon) float32 105.0 105.2 105.5 105.8 ... 124.2 124.5 124.8 125.0\n",
      "  * lat      (lat) float32 15.0 15.25 15.5 15.75 16.0 ... 27.25 27.5 27.75 28.0\n",
      "  * level    (level) float32 1e+03 925.0\n",
      "    time     datetime64[ns] 2022-10-01\n"
     ]
    }
   ],
   "source": [
    "print(rhum)"
   ]
  },
  {
   "cell_type": "code",
   "execution_count": 230,
   "metadata": {},
   "outputs": [
    {
     "name": "stdout",
     "output_type": "stream",
     "text": [
      "-0.999832969770105 0.018276557681691223 0.0 1.0\n"
     ]
    }
   ],
   "source": [
    "iTime = pd.Timestamp(t2md.time.dt.date.values.item())  + pd.Timedelta(24,unit='h')\n",
    "year_sin = np.sin((iTime.dayofyear / 365.25) * 2 * np.pi)\n",
    "year_cos = np.cos((iTime.dayofyear / 365.25) * 2 * np.pi)\n",
    "day_sin = np.sin((iTime.hour / 24) * 2 * np.pi)\n",
    "day_cos = np.cos((iTime.hour / 24) * 2 * np.pi)\n",
    "print(year_sin, year_cos, day_sin, day_cos)"
   ]
  },
  {
   "cell_type": "code",
   "execution_count": 9,
   "metadata": {},
   "outputs": [
    {
     "data": {
      "text/plain": [
       "(2, 53, 81)"
      ]
     },
     "execution_count": 9,
     "metadata": {},
     "output_type": "execute_result"
    }
   ],
   "source": [
    "temp.shape"
   ]
  },
  {
   "cell_type": "code",
   "execution_count": 10,
   "metadata": {},
   "outputs": [
    {
     "name": "stdout",
     "output_type": "stream",
     "text": [
      "<xarray.DataArray (level: 2, lat: 53, lon: 81)>\n",
      "<Quantity([[[78.6026   78.53525  79.74249  ... 81.50897  81.95941  81.10321 ]\n",
      "  [79.08856  78.24948  78.58316  ... 81.245636 81.74356  80.887085]\n",
      "  [78.64548  78.0004   78.74225  ... 80.9487   81.429535 80.739685]\n",
      "  ...\n",
      "  [93.39929  91.862274 89.30914  ... 76.8248   77.14114  76.16571 ]\n",
      "  [93.73312  90.188324 88.94571  ... 77.113434 76.935486 75.89676 ]\n",
      "  [91.90082  89.29764  89.007355 ... 77.29501  76.701935 75.579865]]\n",
      "\n",
      " [[78.46161  77.17966  77.454315 ... 78.89252  79.664185 80.07892 ]\n",
      "  [78.46161  77.72977  77.618805 ... 79.733765 79.664185 80.29477 ]\n",
      "  [78.37463  78.39194  77.89398  ... 80.015015 80.08453  80.57669 ]\n",
      "  ...\n",
      "  [85.40427  83.40671  81.4205   ... 67.82391  68.460785 68.35693 ]\n",
      "  [85.238434 82.50644  81.27893  ... 67.40573  68.6651   68.239136]\n",
      "  [82.92325  80.85257  80.90384  ... 68.948456 69.74277  68.310394]]], 'degree_Celsius')>\n",
      "Coordinates:\n",
      "  * lon      (lon) float32 105.0 105.2 105.5 105.8 ... 124.2 124.5 124.8 125.0\n",
      "  * lat      (lat) float32 15.0 15.25 15.5 15.75 16.0 ... 27.25 27.5 27.75 28.0\n",
      "  * level    (level) float32 1e+03 925.0\n",
      "    time     datetime64[ns] 2022-10-01\n"
     ]
    }
   ],
   "source": [
    "rhum_unit = np.clip(rhum, 0, 100)*units.percent\n",
    "temp_unit = temp*units.kelvin\n",
    "td_upper = mpcalc.dewpoint_from_relative_humidity(temp_unit, rhum_unit)\n",
    "\n",
    "_x, level_mesh, _z = np.meshgrid(temp.lat, temp.level,temp.lon)\n",
    "level_mesh = np.array(level_mesh)*units.hPa\n",
    "theta_e = mpcalc.equivalent_potential_temperature(level_mesh, temp_unit, td_upper)\n",
    "theta = mpcalc.potential_temperature(level_mesh, temp_unit)\n",
    "theta_e = theta_e.metpy.convert_units('degC')\n",
    "theta = theta.metpy.convert_units('degC')\n",
    "print(theta_e)\n"
   ]
  },
  {
   "cell_type": "code",
   "execution_count": 14,
   "metadata": {},
   "outputs": [],
   "source": [
    "def interpolate(dataArray,  resolution:float = 0.125 ):\n",
    "    lons = np.arange(dataArray.lon[0], dataArray.lon[-1]+resolution, resolution)\n",
    "    lats = np.arange(dataArray.lat[0], dataArray.lat[-1]+resolution, resolution) \n",
    "    newDa = dataArray.interp(lon=lons, lat=lats, method=\"linear\")\n",
    "    return newDa"
   ]
  },
  {
   "cell_type": "code",
   "execution_count": 19,
   "metadata": {},
   "outputs": [],
   "source": [
    "theta_e_interp = interpolate(theta_e)\n",
    "theta_interp = interpolate(theta)"
   ]
  },
  {
   "cell_type": "code",
   "execution_count": 17,
   "metadata": {},
   "outputs": [
    {
     "data": {
      "text/html": [
       "<div><svg style=\"position: absolute; width: 0; height: 0; overflow: hidden\">\n",
       "<defs>\n",
       "<symbol id=\"icon-database\" viewBox=\"0 0 32 32\">\n",
       "<path d=\"M16 0c-8.837 0-16 2.239-16 5v4c0 2.761 7.163 5 16 5s16-2.239 16-5v-4c0-2.761-7.163-5-16-5z\"></path>\n",
       "<path d=\"M16 17c-8.837 0-16-2.239-16-5v6c0 2.761 7.163 5 16 5s16-2.239 16-5v-6c0 2.761-7.163 5-16 5z\"></path>\n",
       "<path d=\"M16 26c-8.837 0-16-2.239-16-5v6c0 2.761 7.163 5 16 5s16-2.239 16-5v-6c0 2.761-7.163 5-16 5z\"></path>\n",
       "</symbol>\n",
       "<symbol id=\"icon-file-text2\" viewBox=\"0 0 32 32\">\n",
       "<path d=\"M28.681 7.159c-0.694-0.947-1.662-2.053-2.724-3.116s-2.169-2.030-3.116-2.724c-1.612-1.182-2.393-1.319-2.841-1.319h-15.5c-1.378 0-2.5 1.121-2.5 2.5v27c0 1.378 1.122 2.5 2.5 2.5h23c1.378 0 2.5-1.122 2.5-2.5v-19.5c0-0.448-0.137-1.23-1.319-2.841zM24.543 5.457c0.959 0.959 1.712 1.825 2.268 2.543h-4.811v-4.811c0.718 0.556 1.584 1.309 2.543 2.268zM28 29.5c0 0.271-0.229 0.5-0.5 0.5h-23c-0.271 0-0.5-0.229-0.5-0.5v-27c0-0.271 0.229-0.5 0.5-0.5 0 0 15.499-0 15.5 0v7c0 0.552 0.448 1 1 1h7v19.5z\"></path>\n",
       "<path d=\"M23 26h-14c-0.552 0-1-0.448-1-1s0.448-1 1-1h14c0.552 0 1 0.448 1 1s-0.448 1-1 1z\"></path>\n",
       "<path d=\"M23 22h-14c-0.552 0-1-0.448-1-1s0.448-1 1-1h14c0.552 0 1 0.448 1 1s-0.448 1-1 1z\"></path>\n",
       "<path d=\"M23 18h-14c-0.552 0-1-0.448-1-1s0.448-1 1-1h14c0.552 0 1 0.448 1 1s-0.448 1-1 1z\"></path>\n",
       "</symbol>\n",
       "</defs>\n",
       "</svg>\n",
       "<style>/* CSS stylesheet for displaying xarray objects in jupyterlab.\n",
       " *\n",
       " */\n",
       "\n",
       ":root {\n",
       "  --xr-font-color0: var(--jp-content-font-color0, rgba(0, 0, 0, 1));\n",
       "  --xr-font-color2: var(--jp-content-font-color2, rgba(0, 0, 0, 0.54));\n",
       "  --xr-font-color3: var(--jp-content-font-color3, rgba(0, 0, 0, 0.38));\n",
       "  --xr-border-color: var(--jp-border-color2, #e0e0e0);\n",
       "  --xr-disabled-color: var(--jp-layout-color3, #bdbdbd);\n",
       "  --xr-background-color: var(--jp-layout-color0, white);\n",
       "  --xr-background-color-row-even: var(--jp-layout-color1, white);\n",
       "  --xr-background-color-row-odd: var(--jp-layout-color2, #eeeeee);\n",
       "}\n",
       "\n",
       "html[theme=dark],\n",
       "body.vscode-dark {\n",
       "  --xr-font-color0: rgba(255, 255, 255, 1);\n",
       "  --xr-font-color2: rgba(255, 255, 255, 0.54);\n",
       "  --xr-font-color3: rgba(255, 255, 255, 0.38);\n",
       "  --xr-border-color: #1F1F1F;\n",
       "  --xr-disabled-color: #515151;\n",
       "  --xr-background-color: #111111;\n",
       "  --xr-background-color-row-even: #111111;\n",
       "  --xr-background-color-row-odd: #313131;\n",
       "}\n",
       "\n",
       ".xr-wrap {\n",
       "  display: block !important;\n",
       "  min-width: 300px;\n",
       "  max-width: 700px;\n",
       "}\n",
       "\n",
       ".xr-text-repr-fallback {\n",
       "  /* fallback to plain text repr when CSS is not injected (untrusted notebook) */\n",
       "  display: none;\n",
       "}\n",
       "\n",
       ".xr-header {\n",
       "  padding-top: 6px;\n",
       "  padding-bottom: 6px;\n",
       "  margin-bottom: 4px;\n",
       "  border-bottom: solid 1px var(--xr-border-color);\n",
       "}\n",
       "\n",
       ".xr-header > div,\n",
       ".xr-header > ul {\n",
       "  display: inline;\n",
       "  margin-top: 0;\n",
       "  margin-bottom: 0;\n",
       "}\n",
       "\n",
       ".xr-obj-type,\n",
       ".xr-array-name {\n",
       "  margin-left: 2px;\n",
       "  margin-right: 10px;\n",
       "}\n",
       "\n",
       ".xr-obj-type {\n",
       "  color: var(--xr-font-color2);\n",
       "}\n",
       "\n",
       ".xr-sections {\n",
       "  padding-left: 0 !important;\n",
       "  display: grid;\n",
       "  grid-template-columns: 150px auto auto 1fr 20px 20px;\n",
       "}\n",
       "\n",
       ".xr-section-item {\n",
       "  display: contents;\n",
       "}\n",
       "\n",
       ".xr-section-item input {\n",
       "  display: none;\n",
       "}\n",
       "\n",
       ".xr-section-item input + label {\n",
       "  color: var(--xr-disabled-color);\n",
       "}\n",
       "\n",
       ".xr-section-item input:enabled + label {\n",
       "  cursor: pointer;\n",
       "  color: var(--xr-font-color2);\n",
       "}\n",
       "\n",
       ".xr-section-item input:enabled + label:hover {\n",
       "  color: var(--xr-font-color0);\n",
       "}\n",
       "\n",
       ".xr-section-summary {\n",
       "  grid-column: 1;\n",
       "  color: var(--xr-font-color2);\n",
       "  font-weight: 500;\n",
       "}\n",
       "\n",
       ".xr-section-summary > span {\n",
       "  display: inline-block;\n",
       "  padding-left: 0.5em;\n",
       "}\n",
       "\n",
       ".xr-section-summary-in:disabled + label {\n",
       "  color: var(--xr-font-color2);\n",
       "}\n",
       "\n",
       ".xr-section-summary-in + label:before {\n",
       "  display: inline-block;\n",
       "  content: '►';\n",
       "  font-size: 11px;\n",
       "  width: 15px;\n",
       "  text-align: center;\n",
       "}\n",
       "\n",
       ".xr-section-summary-in:disabled + label:before {\n",
       "  color: var(--xr-disabled-color);\n",
       "}\n",
       "\n",
       ".xr-section-summary-in:checked + label:before {\n",
       "  content: '▼';\n",
       "}\n",
       "\n",
       ".xr-section-summary-in:checked + label > span {\n",
       "  display: none;\n",
       "}\n",
       "\n",
       ".xr-section-summary,\n",
       ".xr-section-inline-details {\n",
       "  padding-top: 4px;\n",
       "  padding-bottom: 4px;\n",
       "}\n",
       "\n",
       ".xr-section-inline-details {\n",
       "  grid-column: 2 / -1;\n",
       "}\n",
       "\n",
       ".xr-section-details {\n",
       "  display: none;\n",
       "  grid-column: 1 / -1;\n",
       "  margin-bottom: 5px;\n",
       "}\n",
       "\n",
       ".xr-section-summary-in:checked ~ .xr-section-details {\n",
       "  display: contents;\n",
       "}\n",
       "\n",
       ".xr-array-wrap {\n",
       "  grid-column: 1 / -1;\n",
       "  display: grid;\n",
       "  grid-template-columns: 20px auto;\n",
       "}\n",
       "\n",
       ".xr-array-wrap > label {\n",
       "  grid-column: 1;\n",
       "  vertical-align: top;\n",
       "}\n",
       "\n",
       ".xr-preview {\n",
       "  color: var(--xr-font-color3);\n",
       "}\n",
       "\n",
       ".xr-array-preview,\n",
       ".xr-array-data {\n",
       "  padding: 0 5px !important;\n",
       "  grid-column: 2;\n",
       "}\n",
       "\n",
       ".xr-array-data,\n",
       ".xr-array-in:checked ~ .xr-array-preview {\n",
       "  display: none;\n",
       "}\n",
       "\n",
       ".xr-array-in:checked ~ .xr-array-data,\n",
       ".xr-array-preview {\n",
       "  display: inline-block;\n",
       "}\n",
       "\n",
       ".xr-dim-list {\n",
       "  display: inline-block !important;\n",
       "  list-style: none;\n",
       "  padding: 0 !important;\n",
       "  margin: 0;\n",
       "}\n",
       "\n",
       ".xr-dim-list li {\n",
       "  display: inline-block;\n",
       "  padding: 0;\n",
       "  margin: 0;\n",
       "}\n",
       "\n",
       ".xr-dim-list:before {\n",
       "  content: '(';\n",
       "}\n",
       "\n",
       ".xr-dim-list:after {\n",
       "  content: ')';\n",
       "}\n",
       "\n",
       ".xr-dim-list li:not(:last-child):after {\n",
       "  content: ',';\n",
       "  padding-right: 5px;\n",
       "}\n",
       "\n",
       ".xr-has-index {\n",
       "  font-weight: bold;\n",
       "}\n",
       "\n",
       ".xr-var-list,\n",
       ".xr-var-item {\n",
       "  display: contents;\n",
       "}\n",
       "\n",
       ".xr-var-item > div,\n",
       ".xr-var-item label,\n",
       ".xr-var-item > .xr-var-name span {\n",
       "  background-color: var(--xr-background-color-row-even);\n",
       "  margin-bottom: 0;\n",
       "}\n",
       "\n",
       ".xr-var-item > .xr-var-name:hover span {\n",
       "  padding-right: 5px;\n",
       "}\n",
       "\n",
       ".xr-var-list > li:nth-child(odd) > div,\n",
       ".xr-var-list > li:nth-child(odd) > label,\n",
       ".xr-var-list > li:nth-child(odd) > .xr-var-name span {\n",
       "  background-color: var(--xr-background-color-row-odd);\n",
       "}\n",
       "\n",
       ".xr-var-name {\n",
       "  grid-column: 1;\n",
       "}\n",
       "\n",
       ".xr-var-dims {\n",
       "  grid-column: 2;\n",
       "}\n",
       "\n",
       ".xr-var-dtype {\n",
       "  grid-column: 3;\n",
       "  text-align: right;\n",
       "  color: var(--xr-font-color2);\n",
       "}\n",
       "\n",
       ".xr-var-preview {\n",
       "  grid-column: 4;\n",
       "}\n",
       "\n",
       ".xr-var-name,\n",
       ".xr-var-dims,\n",
       ".xr-var-dtype,\n",
       ".xr-preview,\n",
       ".xr-attrs dt {\n",
       "  white-space: nowrap;\n",
       "  overflow: hidden;\n",
       "  text-overflow: ellipsis;\n",
       "  padding-right: 10px;\n",
       "}\n",
       "\n",
       ".xr-var-name:hover,\n",
       ".xr-var-dims:hover,\n",
       ".xr-var-dtype:hover,\n",
       ".xr-attrs dt:hover {\n",
       "  overflow: visible;\n",
       "  width: auto;\n",
       "  z-index: 1;\n",
       "}\n",
       "\n",
       ".xr-var-attrs,\n",
       ".xr-var-data {\n",
       "  display: none;\n",
       "  background-color: var(--xr-background-color) !important;\n",
       "  padding-bottom: 5px !important;\n",
       "}\n",
       "\n",
       ".xr-var-attrs-in:checked ~ .xr-var-attrs,\n",
       ".xr-var-data-in:checked ~ .xr-var-data {\n",
       "  display: block;\n",
       "}\n",
       "\n",
       ".xr-var-data > table {\n",
       "  float: right;\n",
       "}\n",
       "\n",
       ".xr-var-name span,\n",
       ".xr-var-data,\n",
       ".xr-attrs {\n",
       "  padding-left: 25px !important;\n",
       "}\n",
       "\n",
       ".xr-attrs,\n",
       ".xr-var-attrs,\n",
       ".xr-var-data {\n",
       "  grid-column: 1 / -1;\n",
       "}\n",
       "\n",
       "dl.xr-attrs {\n",
       "  padding: 0;\n",
       "  margin: 0;\n",
       "  display: grid;\n",
       "  grid-template-columns: 125px auto;\n",
       "}\n",
       "\n",
       ".xr-attrs dt,\n",
       ".xr-attrs dd {\n",
       "  padding: 0;\n",
       "  margin: 0;\n",
       "  float: left;\n",
       "  padding-right: 10px;\n",
       "  width: auto;\n",
       "}\n",
       "\n",
       ".xr-attrs dt {\n",
       "  font-weight: normal;\n",
       "  grid-column: 1;\n",
       "}\n",
       "\n",
       ".xr-attrs dt:hover span {\n",
       "  display: inline-block;\n",
       "  background: var(--xr-background-color);\n",
       "  padding-right: 10px;\n",
       "}\n",
       "\n",
       ".xr-attrs dd {\n",
       "  grid-column: 2;\n",
       "  white-space: pre-wrap;\n",
       "  word-break: break-all;\n",
       "}\n",
       "\n",
       ".xr-icon-database,\n",
       ".xr-icon-file-text2 {\n",
       "  display: inline-block;\n",
       "  vertical-align: middle;\n",
       "  width: 1em;\n",
       "  height: 1.5em !important;\n",
       "  stroke-width: 0;\n",
       "  stroke: currentColor;\n",
       "  fill: currentColor;\n",
       "}\n",
       "</style><pre class='xr-text-repr-fallback'>&lt;xarray.DataArray &#x27;lon&#x27; (lon: 161)&gt;\n",
       "array([105.   , 105.125, 105.25 , 105.375, 105.5  , 105.625, 105.75 , 105.875,\n",
       "       106.   , 106.125, 106.25 , 106.375, 106.5  , 106.625, 106.75 , 106.875,\n",
       "       107.   , 107.125, 107.25 , 107.375, 107.5  , 107.625, 107.75 , 107.875,\n",
       "       108.   , 108.125, 108.25 , 108.375, 108.5  , 108.625, 108.75 , 108.875,\n",
       "       109.   , 109.125, 109.25 , 109.375, 109.5  , 109.625, 109.75 , 109.875,\n",
       "       110.   , 110.125, 110.25 , 110.375, 110.5  , 110.625, 110.75 , 110.875,\n",
       "       111.   , 111.125, 111.25 , 111.375, 111.5  , 111.625, 111.75 , 111.875,\n",
       "       112.   , 112.125, 112.25 , 112.375, 112.5  , 112.625, 112.75 , 112.875,\n",
       "       113.   , 113.125, 113.25 , 113.375, 113.5  , 113.625, 113.75 , 113.875,\n",
       "       114.   , 114.125, 114.25 , 114.375, 114.5  , 114.625, 114.75 , 114.875,\n",
       "       115.   , 115.125, 115.25 , 115.375, 115.5  , 115.625, 115.75 , 115.875,\n",
       "       116.   , 116.125, 116.25 , 116.375, 116.5  , 116.625, 116.75 , 116.875,\n",
       "       117.   , 117.125, 117.25 , 117.375, 117.5  , 117.625, 117.75 , 117.875,\n",
       "       118.   , 118.125, 118.25 , 118.375, 118.5  , 118.625, 118.75 , 118.875,\n",
       "       119.   , 119.125, 119.25 , 119.375, 119.5  , 119.625, 119.75 , 119.875,\n",
       "       120.   , 120.125, 120.25 , 120.375, 120.5  , 120.625, 120.75 , 120.875,\n",
       "       121.   , 121.125, 121.25 , 121.375, 121.5  , 121.625, 121.75 , 121.875,\n",
       "       122.   , 122.125, 122.25 , 122.375, 122.5  , 122.625, 122.75 , 122.875,\n",
       "       123.   , 123.125, 123.25 , 123.375, 123.5  , 123.625, 123.75 , 123.875,\n",
       "       124.   , 124.125, 124.25 , 124.375, 124.5  , 124.625, 124.75 , 124.875,\n",
       "       125.   ])\n",
       "Coordinates:\n",
       "    time     datetime64[ns] 2022-10-01\n",
       "  * lon      (lon) float64 105.0 105.1 105.2 105.4 ... 124.6 124.8 124.9 125.0\n",
       "Attributes:\n",
       "    units:    degrees_east</pre><div class='xr-wrap' style='display:none'><div class='xr-header'><div class='xr-obj-type'>xarray.DataArray</div><div class='xr-array-name'>'lon'</div><ul class='xr-dim-list'><li><span class='xr-has-index'>lon</span>: 161</li></ul></div><ul class='xr-sections'><li class='xr-section-item'><div class='xr-array-wrap'><input id='section-6edeb57d-c3c2-4969-a11f-a4f03f7d832a' class='xr-array-in' type='checkbox' checked><label for='section-6edeb57d-c3c2-4969-a11f-a4f03f7d832a' title='Show/hide data repr'><svg class='icon xr-icon-database'><use xlink:href='#icon-database'></use></svg></label><div class='xr-array-preview xr-preview'><span>105.0 105.1 105.2 105.4 105.5 105.6 ... 124.5 124.6 124.8 124.9 125.0</span></div><div class='xr-array-data'><pre>array([105.   , 105.125, 105.25 , 105.375, 105.5  , 105.625, 105.75 , 105.875,\n",
       "       106.   , 106.125, 106.25 , 106.375, 106.5  , 106.625, 106.75 , 106.875,\n",
       "       107.   , 107.125, 107.25 , 107.375, 107.5  , 107.625, 107.75 , 107.875,\n",
       "       108.   , 108.125, 108.25 , 108.375, 108.5  , 108.625, 108.75 , 108.875,\n",
       "       109.   , 109.125, 109.25 , 109.375, 109.5  , 109.625, 109.75 , 109.875,\n",
       "       110.   , 110.125, 110.25 , 110.375, 110.5  , 110.625, 110.75 , 110.875,\n",
       "       111.   , 111.125, 111.25 , 111.375, 111.5  , 111.625, 111.75 , 111.875,\n",
       "       112.   , 112.125, 112.25 , 112.375, 112.5  , 112.625, 112.75 , 112.875,\n",
       "       113.   , 113.125, 113.25 , 113.375, 113.5  , 113.625, 113.75 , 113.875,\n",
       "       114.   , 114.125, 114.25 , 114.375, 114.5  , 114.625, 114.75 , 114.875,\n",
       "       115.   , 115.125, 115.25 , 115.375, 115.5  , 115.625, 115.75 , 115.875,\n",
       "       116.   , 116.125, 116.25 , 116.375, 116.5  , 116.625, 116.75 , 116.875,\n",
       "       117.   , 117.125, 117.25 , 117.375, 117.5  , 117.625, 117.75 , 117.875,\n",
       "       118.   , 118.125, 118.25 , 118.375, 118.5  , 118.625, 118.75 , 118.875,\n",
       "       119.   , 119.125, 119.25 , 119.375, 119.5  , 119.625, 119.75 , 119.875,\n",
       "       120.   , 120.125, 120.25 , 120.375, 120.5  , 120.625, 120.75 , 120.875,\n",
       "       121.   , 121.125, 121.25 , 121.375, 121.5  , 121.625, 121.75 , 121.875,\n",
       "       122.   , 122.125, 122.25 , 122.375, 122.5  , 122.625, 122.75 , 122.875,\n",
       "       123.   , 123.125, 123.25 , 123.375, 123.5  , 123.625, 123.75 , 123.875,\n",
       "       124.   , 124.125, 124.25 , 124.375, 124.5  , 124.625, 124.75 , 124.875,\n",
       "       125.   ])</pre></div></div></li><li class='xr-section-item'><input id='section-2423663e-268c-42a7-95f5-de0e48e0f2d8' class='xr-section-summary-in' type='checkbox'  checked><label for='section-2423663e-268c-42a7-95f5-de0e48e0f2d8' class='xr-section-summary' >Coordinates: <span>(2)</span></label><div class='xr-section-inline-details'></div><div class='xr-section-details'><ul class='xr-var-list'><li class='xr-var-item'><div class='xr-var-name'><span>time</span></div><div class='xr-var-dims'>()</div><div class='xr-var-dtype'>datetime64[ns]</div><div class='xr-var-preview xr-preview'>2022-10-01</div><input id='attrs-46df6135-6cf1-4485-907b-b6a37540508f' class='xr-var-attrs-in' type='checkbox' disabled><label for='attrs-46df6135-6cf1-4485-907b-b6a37540508f' title='Show/Hide attributes'><svg class='icon xr-icon-file-text2'><use xlink:href='#icon-file-text2'></use></svg></label><input id='data-199d52e4-e518-4eb4-8fba-4e3c3160921a' class='xr-var-data-in' type='checkbox'><label for='data-199d52e4-e518-4eb4-8fba-4e3c3160921a' title='Show/Hide data repr'><svg class='icon xr-icon-database'><use xlink:href='#icon-database'></use></svg></label><div class='xr-var-attrs'><dl class='xr-attrs'></dl></div><div class='xr-var-data'><pre>array(&#x27;2022-10-01T00:00:00.000000000&#x27;, dtype=&#x27;datetime64[ns]&#x27;)</pre></div></li><li class='xr-var-item'><div class='xr-var-name'><span class='xr-has-index'>lon</span></div><div class='xr-var-dims'>(lon)</div><div class='xr-var-dtype'>float64</div><div class='xr-var-preview xr-preview'>105.0 105.1 105.2 ... 124.9 125.0</div><input id='attrs-8e8fffdc-1195-4683-8408-29e7e3ff9aef' class='xr-var-attrs-in' type='checkbox' ><label for='attrs-8e8fffdc-1195-4683-8408-29e7e3ff9aef' title='Show/Hide attributes'><svg class='icon xr-icon-file-text2'><use xlink:href='#icon-file-text2'></use></svg></label><input id='data-0c049963-4795-4bdf-8009-191688ec9e9f' class='xr-var-data-in' type='checkbox'><label for='data-0c049963-4795-4bdf-8009-191688ec9e9f' title='Show/Hide data repr'><svg class='icon xr-icon-database'><use xlink:href='#icon-database'></use></svg></label><div class='xr-var-attrs'><dl class='xr-attrs'><dt><span>units :</span></dt><dd>degrees_east</dd></dl></div><div class='xr-var-data'><pre>array([105.   , 105.125, 105.25 , 105.375, 105.5  , 105.625, 105.75 , 105.875,\n",
       "       106.   , 106.125, 106.25 , 106.375, 106.5  , 106.625, 106.75 , 106.875,\n",
       "       107.   , 107.125, 107.25 , 107.375, 107.5  , 107.625, 107.75 , 107.875,\n",
       "       108.   , 108.125, 108.25 , 108.375, 108.5  , 108.625, 108.75 , 108.875,\n",
       "       109.   , 109.125, 109.25 , 109.375, 109.5  , 109.625, 109.75 , 109.875,\n",
       "       110.   , 110.125, 110.25 , 110.375, 110.5  , 110.625, 110.75 , 110.875,\n",
       "       111.   , 111.125, 111.25 , 111.375, 111.5  , 111.625, 111.75 , 111.875,\n",
       "       112.   , 112.125, 112.25 , 112.375, 112.5  , 112.625, 112.75 , 112.875,\n",
       "       113.   , 113.125, 113.25 , 113.375, 113.5  , 113.625, 113.75 , 113.875,\n",
       "       114.   , 114.125, 114.25 , 114.375, 114.5  , 114.625, 114.75 , 114.875,\n",
       "       115.   , 115.125, 115.25 , 115.375, 115.5  , 115.625, 115.75 , 115.875,\n",
       "       116.   , 116.125, 116.25 , 116.375, 116.5  , 116.625, 116.75 , 116.875,\n",
       "       117.   , 117.125, 117.25 , 117.375, 117.5  , 117.625, 117.75 , 117.875,\n",
       "       118.   , 118.125, 118.25 , 118.375, 118.5  , 118.625, 118.75 , 118.875,\n",
       "       119.   , 119.125, 119.25 , 119.375, 119.5  , 119.625, 119.75 , 119.875,\n",
       "       120.   , 120.125, 120.25 , 120.375, 120.5  , 120.625, 120.75 , 120.875,\n",
       "       121.   , 121.125, 121.25 , 121.375, 121.5  , 121.625, 121.75 , 121.875,\n",
       "       122.   , 122.125, 122.25 , 122.375, 122.5  , 122.625, 122.75 , 122.875,\n",
       "       123.   , 123.125, 123.25 , 123.375, 123.5  , 123.625, 123.75 , 123.875,\n",
       "       124.   , 124.125, 124.25 , 124.375, 124.5  , 124.625, 124.75 , 124.875,\n",
       "       125.   ])</pre></div></li></ul></div></li><li class='xr-section-item'><input id='section-68290926-edd5-4d9b-a002-cf5ffe1cd5f3' class='xr-section-summary-in' type='checkbox'  checked><label for='section-68290926-edd5-4d9b-a002-cf5ffe1cd5f3' class='xr-section-summary' >Attributes: <span>(1)</span></label><div class='xr-section-inline-details'></div><div class='xr-section-details'><dl class='xr-attrs'><dt><span>units :</span></dt><dd>degrees_east</dd></dl></div></li></ul></div></div>"
      ],
      "text/plain": [
       "<xarray.DataArray 'lon' (lon: 161)>\n",
       "array([105.   , 105.125, 105.25 , 105.375, 105.5  , 105.625, 105.75 , 105.875,\n",
       "       106.   , 106.125, 106.25 , 106.375, 106.5  , 106.625, 106.75 , 106.875,\n",
       "       107.   , 107.125, 107.25 , 107.375, 107.5  , 107.625, 107.75 , 107.875,\n",
       "       108.   , 108.125, 108.25 , 108.375, 108.5  , 108.625, 108.75 , 108.875,\n",
       "       109.   , 109.125, 109.25 , 109.375, 109.5  , 109.625, 109.75 , 109.875,\n",
       "       110.   , 110.125, 110.25 , 110.375, 110.5  , 110.625, 110.75 , 110.875,\n",
       "       111.   , 111.125, 111.25 , 111.375, 111.5  , 111.625, 111.75 , 111.875,\n",
       "       112.   , 112.125, 112.25 , 112.375, 112.5  , 112.625, 112.75 , 112.875,\n",
       "       113.   , 113.125, 113.25 , 113.375, 113.5  , 113.625, 113.75 , 113.875,\n",
       "       114.   , 114.125, 114.25 , 114.375, 114.5  , 114.625, 114.75 , 114.875,\n",
       "       115.   , 115.125, 115.25 , 115.375, 115.5  , 115.625, 115.75 , 115.875,\n",
       "       116.   , 116.125, 116.25 , 116.375, 116.5  , 116.625, 116.75 , 116.875,\n",
       "       117.   , 117.125, 117.25 , 117.375, 117.5  , 117.625, 117.75 , 117.875,\n",
       "       118.   , 118.125, 118.25 , 118.375, 118.5  , 118.625, 118.75 , 118.875,\n",
       "       119.   , 119.125, 119.25 , 119.375, 119.5  , 119.625, 119.75 , 119.875,\n",
       "       120.   , 120.125, 120.25 , 120.375, 120.5  , 120.625, 120.75 , 120.875,\n",
       "       121.   , 121.125, 121.25 , 121.375, 121.5  , 121.625, 121.75 , 121.875,\n",
       "       122.   , 122.125, 122.25 , 122.375, 122.5  , 122.625, 122.75 , 122.875,\n",
       "       123.   , 123.125, 123.25 , 123.375, 123.5  , 123.625, 123.75 , 123.875,\n",
       "       124.   , 124.125, 124.25 , 124.375, 124.5  , 124.625, 124.75 , 124.875,\n",
       "       125.   ])\n",
       "Coordinates:\n",
       "    time     datetime64[ns] 2022-10-01\n",
       "  * lon      (lon) float64 105.0 105.1 105.2 105.4 ... 124.6 124.8 124.9 125.0\n",
       "Attributes:\n",
       "    units:    degrees_east"
      ]
     },
     "execution_count": 17,
     "metadata": {},
     "output_type": "execute_result"
    }
   ],
   "source": [
    "theta_e_interp.lon"
   ]
  },
  {
   "cell_type": "code",
   "execution_count": 21,
   "metadata": {},
   "outputs": [
    {
     "data": {
      "text/plain": [
       "'H1809-P014'"
      ]
     },
     "execution_count": 21,
     "metadata": {},
     "output_type": "execute_result"
    }
   ],
   "source": [
    "os.environ['COMPUTERNAME']"
   ]
  },
  {
   "cell_type": "code",
   "execution_count": 23,
   "metadata": {},
   "outputs": [],
   "source": [
    "if os.environ['COMPUTERNAME'] == 'DESKTOP-EQAO3M5':\n",
    "  computer_flag = 'home'\n",
    "elif  os.environ['COMPUTERNAME'] == 'H1809-P014':\n",
    "  computer_flag = 'office'\n",
    "else:\n",
    "  computer_flag = 'office2'\n",
    "\n",
    "\n",
    "if computer_flag == 'home':\n",
    "  root_dir = \"F:/github/pythonScript/seafog/\"\n",
    "else:\n",
    "  root_dir = \"H:/github/python/seafog/\""
   ]
  },
  {
   "cell_type": "code",
   "execution_count": 87,
   "metadata": {},
   "outputs": [
    {
     "name": "stdout",
     "output_type": "stream",
     "text": [
      "['/test', '/train', '/valid', '/valid_test']\n",
      "(469269, 17)\n",
      "(469269,)\n"
     ]
    }
   ],
   "source": [
    "fog_dataset_hdf = os.path.normpath(os.path.join(root_dir, './data/hdf/fog_dataset_hdf66_fc120h_v2.h5'))\n",
    "store_dataset = pd.HDFStore(fog_dataset_hdf, mode='r')\n",
    "print(store_dataset.keys())\n",
    "df_train = store_dataset.get('train')\n",
    "df_valid =store_dataset.get('valid')\n",
    "df_test = store_dataset.get('test')\n",
    "df_valid_test = store_dataset.get('valid_test')\n",
    "x_columns = ['t_td', 'td_sst','t_sst','v100', 'v10m', 'u100', 'u10m', 't2mm', 't2md', 'sstk','year_sin','year_cos', 'day_sin', 'day_cos','delta_theta','delta_theta_e','theta_e925']\n",
    "\n",
    "(train_x, train_y) = setDataset(df_train, x_columns)\n",
    "(valid_x, valid_y) = setDataset(df_valid, x_columns)\n",
    "(test_x,  test_y)  = setDataset(df_test, x_columns)\n",
    "(valid_test_x, valid_test_y) = setDataset(df_valid_test, x_columns)\n",
    "\n",
    "\n",
    "\n",
    "print(train_x.shape)\n",
    "print(train_y.shape)\n",
    "\n",
    "scaler = StandardScaler()\n",
    "train_x_scaled = scaler.fit_transform(train_x)\n",
    "test_x_scaled  = scaler.transform(test_x)\n",
    "valid_x_scaled = scaler.transform(valid_x)\n",
    "valid_test_x_scaled = scaler.transform(valid_test_x)\n",
    "\n",
    "\n",
    "keep_cols = ['t_td', 'td_sst','t_sst','year_sin','year_cos', 'day_sin', 'day_cos','delta_theta','delta_theta_e'] # 不需要标准化变量的参数\n",
    "\n",
    "for iColumn in keep_cols:\n",
    "    index = x_columns.index(iColumn)\n",
    "    train_x_scaled[:,index] = train_x[:,index]\n",
    "    valid_x_scaled[:,index] = valid_x[:,index]\n",
    "    test_x_scaled[:,index]  = test_x[:,index]\n",
    "    valid_test_x_scaled[:,index]  = valid_test_x[:,index]"
   ]
  },
  {
   "cell_type": "code",
   "execution_count": 122,
   "metadata": {},
   "outputs": [
    {
     "data": {
      "text/plain": [
       "array([-8.19717407, -0.75378418, -0.95080566, ...,  3.40359497,\n",
       "       -3.66430664, -1.84567261])"
      ]
     },
     "execution_count": 122,
     "metadata": {},
     "output_type": "execute_result"
    }
   ],
   "source": [
    "train_x[:,2]"
   ]
  },
  {
   "cell_type": "code",
   "execution_count": 123,
   "metadata": {},
   "outputs": [
    {
     "data": {
      "text/plain": [
       "440236   -8.197174\n",
       "201956   -0.753784\n",
       "182830   -0.950806\n",
       "28555     0.381805\n",
       "377472   -1.759003\n",
       "            ...   \n",
       "35470    -2.062683\n",
       "289749   -0.477173\n",
       "418130    3.403595\n",
       "243929   -3.664307\n",
       "394751   -1.845673\n",
       "Name: t_sst, Length: 469269, dtype: float32"
      ]
     },
     "execution_count": 123,
     "metadata": {},
     "output_type": "execute_result"
    }
   ],
   "source": [
    "df_train['t_sst']"
   ]
  },
  {
   "cell_type": "code",
   "execution_count": 30,
   "metadata": {},
   "outputs": [
    {
     "name": "stdout",
     "output_type": "stream",
     "text": [
      "[ 1.97833201  4.09911624  3.26444358  4.18354527  3.25615019  3.37824326\n",
      "  2.70599268  3.95002623  3.99820856  4.90342882  0.67624848  0.6251678\n",
      "  0.65930821  0.71423223  1.73999737  4.97796997 13.24905271]\n",
      "[ 2.58056535 -1.88579295  0.6947724  -0.18032674 -0.52429002 -4.54404442\n",
      " -3.5676635  22.93255603 20.35199067 22.23778363  0.08341111  0.38065181\n",
      " -0.15661821  0.17508784  3.33270731 -3.04193444 62.84389222]\n",
      "[  3.91379754  16.80275392  10.65659191  17.50205102  10.60251407\n",
      "  11.41252755   7.32239637  15.60270724  15.98567166  24.04361415\n",
      "   0.457312     0.39083478   0.43468731   0.51012767   3.02759086\n",
      "  24.78018501 175.53739782]\n"
     ]
    }
   ],
   "source": [
    "scaler = StandardScaler()\n",
    "train_x_scaled_fit = scaler.fit(train_x)\n",
    "print(train_x_scaled_fit.scale_)\n",
    "print(train_x_scaled_fit.mean_)\n",
    "print(train_x_scaled_fit.var_)"
   ]
  },
  {
   "cell_type": "code",
   "execution_count": 24,
   "metadata": {},
   "outputs": [],
   "source": [
    "model = tf.keras.models.load_model(os.path.normpath(os.path.join(root_dir, './data/model/model_singletest_fog_dataset_hdf66_fc120h_v2')))"
   ]
  },
  {
   "cell_type": "code",
   "execution_count": null,
   "metadata": {},
   "outputs": [],
   "source": [
    "# TODO apply_ufunc测试 https://docs.xarray.dev/en/stable/generated/xarray.apply_ufunc.html\n",
    "# TODO 加载fog_dataset_hdf66_fc120h_v2.h5\n",
    "# TODO 转换实时数据为标准格式\n",
    "# TODO 测试自定义标准化和transform有何区别"
   ]
  },
  {
   "cell_type": "code",
   "execution_count": 88,
   "metadata": {},
   "outputs": [],
   "source": [
    "t_td = t2mm - t2md\n",
    "td_sst = t2md - sstk\n",
    "t_sst = t2mm - sstk\n",
    "delta_theta = theta_interp.sel(level=925.0) - theta_interp.sel(level=1000.0)\n",
    "delta_theta_e = theta_e_interp.sel(level=925.0) - theta_e_interp.sel(level=1000.0)\n",
    "theta_e925 = theta_e_interp.sel(level=925.0)"
   ]
  },
  {
   "cell_type": "code",
   "execution_count": 182,
   "metadata": {},
   "outputs": [],
   "source": [
    "t2mm = t2mm -273.16\n",
    "t2md = t2md -273.16\n",
    "sstk = sstk -273.16\n"
   ]
  },
  {
   "cell_type": "code",
   "execution_count": 126,
   "metadata": {},
   "outputs": [
    {
     "name": "stdout",
     "output_type": "stream",
     "text": [
      "<xarray.DataArray (lat: 105, lon: 161)>\n",
      "array([[        nan,         nan,         nan, ..., -1.4803467 ,\n",
      "        -1.1971436 , -1.0057373 ],\n",
      "       [        nan,         nan,         nan, ..., -1.5408936 ,\n",
      "        -1.2908936 , -1.3221436 ],\n",
      "       [        nan,         nan,         nan, ..., -1.3153076 ,\n",
      "        -1.3328857 , -1.3826904 ],\n",
      "       ...,\n",
      "       [        nan,         nan,         nan, ..., -0.2947998 ,\n",
      "        -0.42956543, -0.7244873 ],\n",
      "       [        nan,         nan,         nan, ..., -0.32019043,\n",
      "        -0.34069824, -0.430542  ],\n",
      "       [        nan,         nan,         nan, ..., -0.36608887,\n",
      "        -0.25964355, -0.24401855]], dtype=float32)\n",
      "Coordinates:\n",
      "  * lon      (lon) float32 105.0 105.1 105.2 105.4 ... 124.6 124.8 124.9 125.0\n",
      "  * lat      (lat) float32 15.0 15.12 15.25 15.38 ... 27.62 27.75 27.88 28.0\n",
      "    level    float32 0.0\n",
      "    time     datetime64[ns] 2022-10-01\n"
     ]
    }
   ],
   "source": [
    "print(t_sst)"
   ]
  },
  {
   "cell_type": "code",
   "execution_count": 89,
   "metadata": {},
   "outputs": [
    {
     "name": "stdout",
     "output_type": "stream",
     "text": [
      "<xarray.DataArray (z: 16905)>\n",
      "array([0.90625, 0.90625, 1.65625, ..., 3.28125, 3.78125, 4.     ],\n",
      "      dtype=float32)\n",
      "Coordinates:\n",
      "    level    float32 0.0\n",
      "    time     datetime64[ns] 2022-10-01\n",
      "  * z        (z) MultiIndex\n",
      "  - lat      (z) float64 15.0 15.0 15.0 15.0 15.0 ... 28.0 28.0 28.0 28.0 28.0\n",
      "  - lon      (z) float64 105.0 105.1 105.2 105.4 ... 124.6 124.8 124.9 125.0\n"
     ]
    }
   ],
   "source": [
    "t_td_stack = t_td.stack(z=(\"lat\",\"lon\"))\n",
    "td_sst_stack = td_sst.stack(z=(\"lat\",\"lon\"))\n",
    "t_sst_stack = t_sst.stack(z=(\"lat\",\"lon\"))\n",
    "print(t_td_stack)"
   ]
  },
  {
   "cell_type": "code",
   "execution_count": 35,
   "metadata": {},
   "outputs": [
    {
     "data": {
      "text/plain": [
       "(16905,)"
      ]
     },
     "execution_count": 35,
     "metadata": {},
     "output_type": "execute_result"
    }
   ],
   "source": [
    "t_td_stack.values.shape"
   ]
  },
  {
   "cell_type": "code",
   "execution_count": 183,
   "metadata": {},
   "outputs": [],
   "source": [
    "stack_list = [t_td, td_sst, t_sst, v100, v10m, u100, u10m, t2mm, t2md, sstk,delta_theta,delta_theta_e,theta_e925]\n",
    "one_dim_list = []\n",
    "for arr in stack_list:\n",
    "    stacked = arr.stack(z=(\"lat\",\"lon\"))\n",
    "    one_dim_list.append(stacked.values)"
   ]
  },
  {
   "cell_type": "code",
   "execution_count": 184,
   "metadata": {},
   "outputs": [],
   "source": [
    "year_sin_list = np.full_like(one_dim_list[0], year_sin)\n",
    "year_cos_list = np.full_like(one_dim_list[0], year_cos)\n",
    "day_sin_list = np.full_like(one_dim_list[0], day_sin)\n",
    "day_cos_list = np.full_like(one_dim_list[0], day_cos)\n",
    "time_list = [year_sin_list, year_cos_list, day_sin_list, day_cos_list]"
   ]
  },
  {
   "cell_type": "code",
   "execution_count": 107,
   "metadata": {},
   "outputs": [
    {
     "data": {
      "text/plain": [
       "4"
      ]
     },
     "execution_count": 107,
     "metadata": {},
     "output_type": "execute_result"
    }
   ],
   "source": [
    "len(one_dim_list[9:])"
   ]
  },
  {
   "cell_type": "code",
   "execution_count": 185,
   "metadata": {},
   "outputs": [],
   "source": [
    "full_list = one_dim_list[:10] + time_list + one_dim_list[10:]"
   ]
  },
  {
   "cell_type": "code",
   "execution_count": 186,
   "metadata": {},
   "outputs": [
    {
     "data": {
      "text/plain": [
       "(17, 16905)"
      ]
     },
     "execution_count": 186,
     "metadata": {},
     "output_type": "execute_result"
    }
   ],
   "source": [
    "order_arr = np.array(full_list)\n",
    "order_arr.shape\n"
   ]
  },
  {
   "cell_type": "code",
   "execution_count": 187,
   "metadata": {},
   "outputs": [],
   "source": [
    "order_x = order_arr.T"
   ]
  },
  {
   "cell_type": "code",
   "execution_count": 95,
   "metadata": {},
   "outputs": [
    {
     "data": {
      "text/plain": [
       "array([[ 0.90625   ,         nan,         nan, ...,  3.44189453,\n",
       "        -0.14099121, 78.46160889],\n",
       "       [ 0.90625   ,         nan,         nan, ...,  3.13526917,\n",
       "        -0.74829102, 77.82063293],\n",
       "       [ 1.65625   ,         nan,         nan, ...,  2.8286438 ,\n",
       "        -1.35559082, 77.17965698],\n",
       "       ...,\n",
       "       [ 3.28125   , -3.64733887, -0.36608887, ...,  1.67779541,\n",
       "        -6.95916748, 69.74276733],\n",
       "       [ 3.78125   , -4.04089355, -0.25964355, ...,  1.59274292,\n",
       "        -7.11431885, 69.02658081],\n",
       "       [ 4.        , -4.24401855, -0.24401855, ...,  1.50769043,\n",
       "        -7.26947021, 68.31039429]])"
      ]
     },
     "execution_count": 95,
     "metadata": {},
     "output_type": "execute_result"
    }
   ],
   "source": [
    "order_x"
   ]
  },
  {
   "cell_type": "code",
   "execution_count": 96,
   "metadata": {},
   "outputs": [
    {
     "data": {
      "text/plain": [
       "array([0.90625, 0.90625, 1.65625, ..., 3.28125, 3.78125, 4.     ])"
      ]
     },
     "execution_count": 96,
     "metadata": {},
     "output_type": "execute_result"
    }
   ],
   "source": [
    "order_x[:,0]"
   ]
  },
  {
   "cell_type": "code",
   "execution_count": 188,
   "metadata": {},
   "outputs": [],
   "source": [
    "order_x_scale = scaler.transform(order_x)"
   ]
  },
  {
   "cell_type": "code",
   "execution_count": 189,
   "metadata": {},
   "outputs": [],
   "source": [
    "keep_cols = ['t_td', 'td_sst','t_sst','year_sin','year_cos', 'day_sin', 'day_cos','delta_theta','delta_theta_e']\n",
    "x_columns = ['t_td', 'td_sst','t_sst','v100', 'v10m', 'u100', 'u10m', 't2mm', 't2md', 'sstk','year_sin','year_cos', 'day_sin', 'day_cos','delta_theta','delta_theta_e','theta_e925']\n",
    "for iColumn in keep_cols:\n",
    "    index = x_columns.index(iColumn)\n",
    "    order_x_scale[:,index] = order_x[:,index]\n"
   ]
  },
  {
   "cell_type": "code",
   "execution_count": 167,
   "metadata": {},
   "outputs": [
    {
     "data": {
      "text/plain": [
       "array([        nan,         nan,         nan, ..., -3.64733887,\n",
       "       -4.04089355, -4.24401855])"
      ]
     },
     "execution_count": 167,
     "metadata": {},
     "output_type": "execute_result"
    }
   ],
   "source": [
    "order_x_scale[:,1]"
   ]
  },
  {
   "cell_type": "code",
   "execution_count": 168,
   "metadata": {},
   "outputs": [
    {
     "data": {
      "text/plain": [
       "'day_cos'"
      ]
     },
     "execution_count": 168,
     "metadata": {},
     "output_type": "execute_result"
    }
   ],
   "source": [
    "x_columns[13]"
   ]
  },
  {
   "cell_type": "code",
   "execution_count": 191,
   "metadata": {},
   "outputs": [
    {
     "data": {
      "image/png": "[encoded data removed]",
      "text/plain": [
       "<Figure size 432x288 with 1 Axes>"
      ]
     },
     "metadata": {
      "needs_background": "light"
     },
     "output_type": "display_data"
    }
   ],
   "source": [
    "plt.plot(order_x_scale[:,9])\n",
    "plt.show()\n",
    "# ERROR index -> 7,8,9,13"
   ]
  },
  {
   "cell_type": "code",
   "execution_count": null,
   "metadata": {},
   "outputs": [],
   "source": []
  },
  {
   "cell_type": "code",
   "execution_count": 180,
   "metadata": {},
   "outputs": [
    {
     "data": {
      "image/png": "[encoded data removed]",
      "text/plain": [
       "<Figure size 432x288 with 1 Axes>"
      ]
     },
     "metadata": {
      "needs_background": "light"
     },
     "output_type": "display_data"
    }
   ],
   "source": [
    "plt.plot(train_x_scaled[:,9])\n",
    "plt.show()"
   ]
  },
  {
   "cell_type": "code",
   "execution_count": 192,
   "metadata": {},
   "outputs": [],
   "source": [
    "predictions = model(order_x_scale).numpy()"
   ]
  },
  {
   "cell_type": "code",
   "execution_count": 132,
   "metadata": {},
   "outputs": [
    {
     "data": {
      "text/plain": [
       "array([[1.4585195],\n",
       "       [1.4730177],\n",
       "       [1.4788129],\n",
       "       ...,\n",
       "       [2.5617461],\n",
       "       [2.3556101],\n",
       "       [1.6090164]], dtype=float32)"
      ]
     },
     "execution_count": 132,
     "metadata": {},
     "output_type": "execute_result"
    }
   ],
   "source": [
    "model(test_x_scaled).numpy()"
   ]
  },
  {
   "cell_type": "code",
   "execution_count": null,
   "metadata": {},
   "outputs": [],
   "source": []
  },
  {
   "cell_type": "code",
   "execution_count": 193,
   "metadata": {},
   "outputs": [],
   "source": [
    "stack_sample = t_td.stack(z=(\"lat\",\"lon\"))"
   ]
  },
  {
   "cell_type": "code",
   "execution_count": 103,
   "metadata": {},
   "outputs": [
    {
     "name": "stdout",
     "output_type": "stream",
     "text": [
      "(16905,) (16905,)\n"
     ]
    }
   ],
   "source": [
    "print(stack_sample.shape, predictions[:,0].shape)"
   ]
  },
  {
   "cell_type": "code",
   "execution_count": 199,
   "metadata": {},
   "outputs": [],
   "source": [
    "vis = np.vectorize(reverse_linear_vis)(predictions[:,0])"
   ]
  },
  {
   "cell_type": "code",
   "execution_count": 200,
   "metadata": {},
   "outputs": [],
   "source": [
    "stack_sample.values = vis"
   ]
  },
  {
   "cell_type": "code",
   "execution_count": 201,
   "metadata": {},
   "outputs": [
    {
     "name": "stdout",
     "output_type": "stream",
     "text": [
      "<xarray.DataArray (lat: 105, lon: 161)>\n",
      "array([[           nan,            nan,            nan, ...,\n",
      "        15764.62268829, 15265.26451111, 14404.46376801],\n",
      "       [           nan,            nan,            nan, ...,\n",
      "        15178.87115479, 14936.14196777, 14293.53713989],\n",
      "       [           nan,            nan,            nan, ...,\n",
      "        15145.55454254, 14719.26689148, 14218.23501587],\n",
      "       ...,\n",
      "       [           nan,            nan,            nan, ...,\n",
      "         7235.82696915,  7500.56314468,  7713.43183517],\n",
      "       [           nan,            nan,            nan, ...,\n",
      "         7946.39348984,  8115.81897736,  8001.37662888],\n",
      "       [           nan,            nan,            nan, ...,\n",
      "         8350.15070438,  8374.81307983,  7984.08281803]])\n",
      "Coordinates:\n",
      "    level    float32 0.0\n",
      "    time     datetime64[ns] 2022-10-01\n",
      "  * lat      (lat) float64 15.0 15.12 15.25 15.38 ... 27.62 27.75 27.88 28.0\n",
      "  * lon      (lon) float64 105.0 105.1 105.2 105.4 ... 124.6 124.8 124.9 125.0\n"
     ]
    }
   ],
   "source": [
    "prediction_vis = stack_sample.unstack(\"z\")\n",
    "print(prediction_vis)"
   ]
  },
  {
   "cell_type": "code",
   "execution_count": 215,
   "metadata": {},
   "outputs": [],
   "source": [
    "colordict_fog=['#6100BF','#8815D9','#AF30F2','#C340FF','#00014D','#0003BF','#0004FD','#2629FD','#2280F9','#6EB9F7','#59E144','#BBE7BB','#E6F5E6','#FFFEFF']\n",
    "clrmap_fog = mcolors.ListedColormap(colordict_fog)\n",
    "bound_fog = [0, 0.1, 0.2, 0.3, 0.5, 0.8, 1.3, 2.1, 3.4, 5.5]\n",
    "bound_fog = [0.,50.,200.,500.,1_000.,2_000.,3_000.,4_000.,6_000.,8_000.,10_000.,15_000.,20_000.,25_000.,30_000]\n",
    "norms_fog = mcolors.BoundaryNorm(bound_fog, clrmap_fog.N)"
   ]
  },
  {
   "cell_type": "code",
   "execution_count": 216,
   "metadata": {},
   "outputs": [
    {
     "data": {
      "text/plain": [
       "<Figure size 432x288 with 0 Axes>"
      ]
     },
     "metadata": {},
     "output_type": "display_data"
    },
    {
     "data": {
      "image/png": "[encoded data removed]",
      "text/plain": [
       "<Figure size 1152x648 with 2 Axes>"
      ]
     },
     "metadata": {
      "needs_background": "light"
     },
     "output_type": "display_data"
    }
   ],
   "source": [
    "plt.clf()\n",
    "lon=sstk.coords['lon'][:]#读取经度\n",
    "lat=sstk.coords['lat'][:]#读取纬度\n",
    "figure = plt.figure(figsize=(16, 9))  # 加载画布\n",
    "fogMap = plt.axes(projection=ccrs.PlateCarree())  # 设置投影方式\n",
    "shpFilePath01  = os.path.join(root_dir, './data/shapefiles/natural_earth/physical/ne_50m_coastline.shp')\n",
    "coastmap = shpreader.Reader(shpFilePath01).geometries()  # 读取地图数据\n",
    "fogMap.set_extent([105, 125, 15, 28], crs=ccrs.PlateCarree())  # 设置绘图范围\n",
    "fogMap.add_geometries(coastmap, ccrs.PlateCarree(),\n",
    "                          facecolor='none', edgecolor='black')  # 设置边界样式\n",
    "shpFilePath02  = os.path.join(root_dir, './data/shapefiles/china_basic_map/bou2_4l.shp')\n",
    "chinamap = shpreader.Reader(shpFilePath02).geometries()  # 读取地图数据\n",
    "fogMap.set_extent([105, 125, 15, 28], crs=ccrs.PlateCarree())  # 设置绘图范围\n",
    "fogMap.add_geometries(chinamap, ccrs.PlateCarree(),\n",
    "                      facecolor='none', edgecolor='black')  # 设置边界样式\n",
    "\n",
    "fogMap.set_xticks([105, 110, 115, 120, 125])  # 需要显示的经度，一般可用np.arange\n",
    "fogMap.set_yticks([15, 17.5, 20, 22.5, 25, 27.5])  # 需要显示的纬度\n",
    "fogMap.xaxis.set_major_formatter(LongitudeFormatter())  # 将横坐标转换为经度格式\n",
    "fogMap.yaxis.set_major_formatter(LatitudeFormatter())  # 将纵坐标转换为纬度格式\n",
    "fogMap.tick_params(axis='both', labelsize=15, direction='in',\n",
    "                   length=5, width=0.55, right=True, top=True)  # 修改刻度样式\n",
    "fogMap.grid(linewidth=0.4, color='k', alpha=0.45, linestyle='--')  # 开启网格线\n",
    "\n",
    "fogContourf = fogMap.contourf(lon, lat, prediction_vis, bound_fog,\n",
    "                                    cmap=clrmap_fog, norm=norms_fog)\n",
    "cb = figure.colorbar(fogContourf, extend='max', shrink=0.8, pad=0.01)\n",
    "cb.set_label('海上能见度 单位: km', fontdict={'size': 12})\n",
    "cb.ax.tick_params(which='major', direction='in', length=6, labelsize=15)\n",
    "cb.ax.set_yticklabels(np.array(bound_fog)/1000.0)\n",
    "fogMap.set_title(f'机器学习华南海上能见度定量预报', fontsize=20)\n",
    "plt.show()"
   ]
  },
  {
   "cell_type": "code",
   "execution_count": null,
   "metadata": {},
   "outputs": [],
   "source": []
  }
 ],
 "metadata": {
  "kernelspec": {
   "display_name": "Python 3.10.5 ('seafog')",
   "language": "python",
   "name": "python3"
  },
  "language_info": {
   "codemirror_mode": {
    "name": "ipython",
    "version": 3
   },
   "file_extension": ".py",
   "mimetype": "text/x-python",
   "name": "python",
   "nbconvert_exporter": "python",
   "pygments_lexer": "ipython3",
   "version": "3.10.5"
  },
  "orig_nbformat": 4,
  "vscode": {
   "interpreter": {
    "hash": "ae08cd30d92db8a1edc812f83a7627fb116745d6d213918c84c8c873d5e0dd91"
   }
  }
 },
 "nbformat": 4,
 "nbformat_minor": 2
}
