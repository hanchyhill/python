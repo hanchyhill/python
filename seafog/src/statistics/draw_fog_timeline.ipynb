{
 "cells": [
  {
   "cell_type": "code",
   "execution_count": 1,
   "metadata": {},
   "outputs": [],
   "source": [
    "import pandas as pd\n",
    "import numpy as np\n",
    "import matplotlib as mpl\n",
    "import matplotlib.pyplot as plt\n",
    "plt.rcParams['font.sans-serif'] = ['SimHei']\n",
    "plt.rcParams['axes.unicode_minus'] = False  # 用来正常显示负号\n",
    "%matplotlib inline\n",
    "import os\n",
    "from scipy.stats import gaussian_kde\n",
    "import metpy.calc as mpcalc\n",
    "from metpy.units import units"
   ]
  },
  {
   "cell_type": "code",
   "execution_count": 4,
   "metadata": {},
   "outputs": [],
   "source": [
    "if os.environ['COMPUTERNAME'] == 'DESKTOP-EQAO3M5':\n",
    "  computer_flag = 'home'\n",
    "else:\n",
    "  computer_flag = 'office'\n",
    "\n",
    "if computer_flag == 'home':\n",
    "  file_dir = \"F:/github/pythonScript/seafog/\"\n",
    "else:\n",
    "  file_dir = \"H:/github/python/seafog/\"\n",
    "\n",
    "def randrange(n, vmin, vmax):\n",
    "    \"\"\"\n",
    "    Helper function to make an array of random numbers having shape (n, )\n",
    "    with each number distributed Uniform(vmin, vmax).\n",
    "    \"\"\"\n",
    "    return (vmax - vmin)*np.random.rand(n) + vmin\n",
    "\n",
    "def linear_vis(x):\n",
    "    if(x <= 1000.0):\n",
    "      y = x/1000.0\n",
    "    elif(x > 1000.0 and x <= 10000.0):\n",
    "      y = (x-1000.0)/9000.0 + 1.0\n",
    "    elif( x > 10000.0  and x <= 30000.0):\n",
    "      y = (x-10000.0)/20000 + 2.0\n",
    "    else:\n",
    "      y = 3.0\n",
    "    return y\n",
    "\n",
    "def reverse_linear_vis(x):\n",
    "    if(x<0):\n",
    "      y = 1\n",
    "    elif(x <= 1.0):\n",
    "      y = x*1000.0\n",
    "    elif(x <= 2.0):\n",
    "      y = (x - 1.0)*9000.0 + 1000.0\n",
    "    elif(x <= 3.0):\n",
    "      y = (x-2.0)*20000 + 10000.0\n",
    "    else:\n",
    "      y = 30000.0\n",
    "    return y"
   ]
  },
  {
   "cell_type": "code",
   "execution_count": 5,
   "metadata": {},
   "outputs": [
    {
     "name": "stderr",
     "output_type": "stream",
     "text": [
      "C:\\Users\\henry_Hill\\AppData\\Local\\Temp\\ipykernel_11548\\673614758.py:2: DtypeWarning: Columns (12,112) have mixed types. Specify dtype option on import or set low_memory=False.\n",
      "  df_59754 = pd.read_csv(file_59754,sep=',',na_values=[9999])\n"
     ]
    }
   ],
   "source": [
    "file_59754 = os.path.normpath(os.path.join(file_dir, './data/station/59754.by_5min_20200101-20221029.csv')) # 读取徐闻站分钟级数据\n",
    "df_59754 = pd.read_csv(file_59754,sep=',',na_values=[9999])\n",
    "df_59754.index = pd.to_datetime(df_59754[\"DDATETIME\"])\n",
    "\n",
    "df_code = pd.read_csv(os.path.normpath(os.path.join(file_dir, './code_readme.csv')),sep=',')"
   ]
  },
  {
   "cell_type": "code",
   "execution_count": 7,
   "metadata": {},
   "outputs": [],
   "source": [
    "bjtime_index_59754 = df_59754.index.to_series() + pd.Timedelta(8,unit='h')"
   ]
  },
  {
   "cell_type": "code",
   "execution_count": 6,
   "metadata": {},
   "outputs": [],
   "source": [
    "code_info = {\n",
    "  'vis01':'V20059',\n",
    "  'vis_01min':'V20001_701_01',\n",
    "  'vis_10min':'V20001_701_10',\n",
    "  'vis':'V20001',\n",
    "  'td': 'V12003',\n",
    "  't2m': 'V12001',\n",
    "  \"year\":\"V04001\",\n",
    "  \"month\": \"V04002\",\n",
    "  \"day\": \"V04003\",\n",
    "  \"hour\":\"V04004\",\n",
    "  \"minute\":\"V04005\",\n",
    "  \"rhum\":\"V13003\",\n",
    "  'rain01':'V13019',\n",
    "}"
   ]
  },
  {
   "cell_type": "code",
   "execution_count": 8,
   "metadata": {},
   "outputs": [
    {
     "ename": "FileNotFoundError",
     "evalue": "File H:\\github\\python\\seafog\\data\\G7425\\G7425_202012to202209.hdf does not exist",
     "output_type": "error",
     "traceback": [
      "\u001b[1;31m---------------------------------------------------------------------------\u001b[0m",
      "\u001b[1;31mFileNotFoundError\u001b[0m                         Traceback (most recent call last)",
      "\u001b[1;32mh:\\github\\python\\seafog\\src\\statistics\\draw_fog_timeline.ipynb Cell 6\u001b[0m in \u001b[0;36m<cell line: 1>\u001b[1;34m()\u001b[0m\n\u001b[1;32m----> <a href='vscode-notebook-cell:/h%3A/github/python/seafog/src/statistics/draw_fog_timeline.ipynb#W4sZmlsZQ%3D%3D?line=0'>1</a>\u001b[0m ds_G7425 \u001b[39m=\u001b[39m pd\u001b[39m.\u001b[39;49mread_hdf(os\u001b[39m.\u001b[39;49mpath\u001b[39m.\u001b[39;49mnormpath(os\u001b[39m.\u001b[39;49mpath\u001b[39m.\u001b[39;49mjoin(file_dir, \u001b[39m'\u001b[39;49m\u001b[39m./data/G7425/G7425_202012to202209.hdf\u001b[39;49m\u001b[39m'\u001b[39;49m)), mode\u001b[39m=\u001b[39;49m\u001b[39m'\u001b[39;49m\u001b[39mr\u001b[39;49m\u001b[39m'\u001b[39;49m)\n",
      "File \u001b[1;32me:\\GreenApp\\miniconda\\envs\\seafog\\lib\\site-packages\\pandas\\io\\pytables.py:427\u001b[0m, in \u001b[0;36mread_hdf\u001b[1;34m(path_or_buf, key, mode, errors, where, start, stop, columns, iterator, chunksize, **kwargs)\u001b[0m\n\u001b[0;32m    424\u001b[0m     exists \u001b[39m=\u001b[39m \u001b[39mFalse\u001b[39;00m\n\u001b[0;32m    426\u001b[0m \u001b[39mif\u001b[39;00m \u001b[39mnot\u001b[39;00m exists:\n\u001b[1;32m--> 427\u001b[0m     \u001b[39mraise\u001b[39;00m \u001b[39mFileNotFoundError\u001b[39;00m(\u001b[39mf\u001b[39m\u001b[39m\"\u001b[39m\u001b[39mFile \u001b[39m\u001b[39m{\u001b[39;00mpath_or_buf\u001b[39m}\u001b[39;00m\u001b[39m does not exist\u001b[39m\u001b[39m\"\u001b[39m)\n\u001b[0;32m    429\u001b[0m store \u001b[39m=\u001b[39m HDFStore(path_or_buf, mode\u001b[39m=\u001b[39mmode, errors\u001b[39m=\u001b[39merrors, \u001b[39m*\u001b[39m\u001b[39m*\u001b[39mkwargs)\n\u001b[0;32m    430\u001b[0m \u001b[39m# can't auto open/close if we are using an iterator\u001b[39;00m\n\u001b[0;32m    431\u001b[0m \u001b[39m# so delegate to the iterator\u001b[39;00m\n",
      "\u001b[1;31mFileNotFoundError\u001b[0m: File H:\\github\\python\\seafog\\data\\G7425\\G7425_202012to202209.hdf does not exist"
     ]
    }
   ],
   "source": [
    "ds_G7425 = pd.read_hdf(os.path.normpath(os.path.join(file_dir, './data/G7425/G7425_202012to202209.hdf')), mode='r') # 浮标站数据"
   ]
  },
  {
   "cell_type": "code",
   "execution_count": 15,
   "metadata": {},
   "outputs": [
    {
     "name": "stdout",
     "output_type": "stream",
     "text": [
      "                 start                 end\n",
      "0  2020-12-27 18:30:00 2020-12-27 23:55:00\n",
      "1  2021-01-15 16:40:00 2021-01-15 19:25:00\n",
      "2  2021-01-20 16:10:00 2021-01-20 16:35:00\n",
      "3  2021-01-22 04:20:00 2021-01-22 05:25:00\n",
      "4  2021-01-22 12:55:00 2021-01-23 04:35:00\n",
      "5  2021-01-23 12:45:00 2021-01-25 02:05:00\n",
      "6  2021-01-25 14:00:00 2021-01-26 00:10:00\n",
      "7  2021-01-26 09:10:00 2021-01-27 00:45:00\n",
      "8  2021-02-02 13:10:00 2021-02-02 23:30:00\n",
      "9  2021-02-05 17:25:00 2021-02-05 22:50:00\n",
      "10 2021-02-06 21:45:00 2021-02-06 23:20:00\n",
      "11 2021-02-08 18:10:00 2021-02-08 19:35:00\n",
      "12 2021-02-09 00:35:00 2021-02-09 19:05:00\n",
      "13 2021-02-11 20:55:00 2021-02-12 00:55:00\n",
      "14 2021-02-12 16:35:00 2021-02-13 00:45:00\n",
      "15 2021-02-14 14:00:00 2021-02-15 00:25:00\n",
      "16 2021-02-15 23:15:00 2021-02-16 00:00:00\n",
      "17 2021-02-16 16:05:00 2021-02-17 01:25:00\n",
      "18 2021-02-20 21:50:00 2021-02-21 00:05:00\n",
      "19 2021-02-21 20:50:00 2021-02-22 00:05:00\n",
      "20 2021-02-22 18:05:00 2021-02-23 00:10:00\n",
      "21 2021-02-23 20:15:00 2021-02-24 00:05:00\n",
      "22 2021-02-25 23:00:00 2021-02-25 23:15:00\n",
      "23 2021-03-28 21:50:00 2021-03-28 21:55:00\n",
      "24 2021-04-03 22:15:00 2021-04-03 23:45:00\n",
      "25 2021-11-21 19:50:00 2021-11-21 22:40:00\n",
      "26 2022-01-05 19:35:00 2022-01-06 00:50:00\n",
      "27 2022-01-31 23:50:00 2022-02-01 01:25:00\n",
      "28 2022-02-09 16:25:00 2022-02-09 16:30:00\n",
      "29 2022-02-27 17:30:00 2022-02-27 17:30:00\n",
      "30 2022-03-01 17:25:00 2022-03-01 18:40:00\n",
      "31 2022-03-02 00:20:00 2022-03-02 01:50:00\n",
      "32 2022-03-13 18:50:00 2022-03-14 23:55:00\n",
      "33 2022-03-15 00:00:00 2022-03-15 00:10:00\n",
      "34 2022-03-16 20:35:00 2022-03-16 21:10:00\n",
      "35 2022-04-21 21:45:00 2022-04-21 22:20:00\n"
     ]
    }
   ],
   "source": [
    "df_start_end = pd.read_csv(os.path.normpath(os.path.join(file_dir, './src/statistics/分钟级-开始结束时间.csv')))\n",
    "df_start_end['start'] = pd.to_datetime(df_start_end['start'], format='%Y/%m/%d  %H:%M')\n",
    "df_start_end['end'] = pd.to_datetime(df_start_end['end'], format='%Y/%m/%d  %H:%M')\n",
    "print(df_start_end)"
   ]
  },
  {
   "cell_type": "code",
   "execution_count": 14,
   "metadata": {},
   "outputs": [
    {
     "name": "stdout",
     "output_type": "stream",
     "text": [
      "0    2020-12-27 18:30:00\n",
      "1    2021-01-15 16:40:00\n",
      "2    2021-01-20 16:10:00\n",
      "3    2021-01-22 04:20:00\n",
      "4    2021-01-22 12:55:00\n",
      "5    2021-01-23 12:45:00\n",
      "6    2021-01-25 14:00:00\n",
      "7    2021-01-26 09:10:00\n",
      "8    2021-02-02 13:10:00\n",
      "9    2021-02-05 17:25:00\n",
      "10   2021-02-06 21:45:00\n",
      "11   2021-02-08 18:10:00\n",
      "12   2021-02-09 00:35:00\n",
      "13   2021-02-11 20:55:00\n",
      "14   2021-02-12 16:35:00\n",
      "15   2021-02-14 14:00:00\n",
      "16   2021-02-15 23:15:00\n",
      "17   2021-02-16 16:05:00\n",
      "18   2021-02-20 21:50:00\n",
      "19   2021-02-21 20:50:00\n",
      "20   2021-02-22 18:05:00\n",
      "21   2021-02-23 20:15:00\n",
      "22   2021-02-25 23:00:00\n",
      "23   2021-03-28 21:50:00\n",
      "24   2021-04-03 22:15:00\n",
      "25   2021-11-21 19:50:00\n",
      "26   2022-01-05 19:35:00\n",
      "27   2022-01-31 23:50:00\n",
      "28   2022-02-09 16:25:00\n",
      "29   2022-02-27 17:30:00\n",
      "30   2022-03-01 17:25:00\n",
      "31   2022-03-02 00:20:00\n",
      "32   2022-03-13 18:50:00\n",
      "33   2022-03-15 00:00:00\n",
      "34   2022-03-16 20:35:00\n",
      "35   2022-04-21 21:45:00\n",
      "Name: start, dtype: datetime64[ns]\n"
     ]
    }
   ],
   "source": [
    "\n",
    "print(df_start_end['start'])"
   ]
  }
 ],
 "metadata": {
  "kernelspec": {
   "display_name": "Python 3.10.5 ('seafog')",
   "language": "python",
   "name": "python3"
  },
  "language_info": {
   "codemirror_mode": {
    "name": "ipython",
    "version": 3
   },
   "file_extension": ".py",
   "mimetype": "text/x-python",
   "name": "python",
   "nbconvert_exporter": "python",
   "pygments_lexer": "ipython3",
   "version": "3.10.5"
  },
  "orig_nbformat": 4,
  "vscode": {
   "interpreter": {
    "hash": "ae08cd30d92db8a1edc812f83a7627fb116745d6d213918c84c8c873d5e0dd91"
   }
  }
 },
 "nbformat": 4,
 "nbformat_minor": 2
}
