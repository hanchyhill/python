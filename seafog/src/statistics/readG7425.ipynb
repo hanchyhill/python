{
 "cells": [
  {
   "cell_type": "code",
   "execution_count": 1,
   "metadata": {},
   "outputs": [],
   "source": [
    "import pandas as pd\n",
    "import numpy as np\n",
    "import matplotlib as mpl\n",
    "import matplotlib.pyplot as plt\n",
    "plt.rcParams['font.sans-serif'] = ['SimHei']\n",
    "plt.rcParams['axes.unicode_minus'] = False  # 用来正常显示负号\n",
    "%matplotlib inline\n",
    "import os\n",
    "import glob"
   ]
  },
  {
   "cell_type": "code",
   "execution_count": 2,
   "metadata": {},
   "outputs": [],
   "source": [
    "if os.environ['COMPUTERNAME'] == 'DESKTOP-EQAO3M5':\n",
    "  computer_flag = 'home'\n",
    "else:\n",
    "  computer_flag = 'office'\n",
    "\n",
    "if computer_flag == 'home':\n",
    "  file_dir = \"F:/github/pythonScript/seafog/\"\n",
    "else:\n",
    "  file_dir = \"H:/github/python/seafog/\""
   ]
  },
  {
   "cell_type": "code",
   "execution_count": 3,
   "metadata": {},
   "outputs": [
    {
     "data": {
      "text/plain": [
       "['F:/github/pythonScript/seafog/data/G7425\\\\G7425-202012.txt',\n",
       " 'F:/github/pythonScript/seafog/data/G7425\\\\G7425-202101.txt',\n",
       " 'F:/github/pythonScript/seafog/data/G7425\\\\G7425-202102.txt',\n",
       " 'F:/github/pythonScript/seafog/data/G7425\\\\G7425-202103.txt',\n",
       " 'F:/github/pythonScript/seafog/data/G7425\\\\G7425-202104.txt',\n",
       " 'F:/github/pythonScript/seafog/data/G7425\\\\G7425-202105.txt',\n",
       " 'F:/github/pythonScript/seafog/data/G7425\\\\G7425-202106.txt',\n",
       " 'F:/github/pythonScript/seafog/data/G7425\\\\G7425-202107.txt',\n",
       " 'F:/github/pythonScript/seafog/data/G7425\\\\G7425-202108.txt',\n",
       " 'F:/github/pythonScript/seafog/data/G7425\\\\G7425-202201.txt',\n",
       " 'F:/github/pythonScript/seafog/data/G7425\\\\G7425-202202.txt',\n",
       " 'F:/github/pythonScript/seafog/data/G7425\\\\G7425-202203.txt',\n",
       " 'F:/github/pythonScript/seafog/data/G7425\\\\G7425-202204.txt',\n",
       " 'F:/github/pythonScript/seafog/data/G7425\\\\G7425-202205.txt',\n",
       " 'F:/github/pythonScript/seafog/data/G7425\\\\G7425-202206.txt',\n",
       " 'F:/github/pythonScript/seafog/data/G7425\\\\G7425-202207.txt',\n",
       " 'F:/github/pythonScript/seafog/data/G7425\\\\G7425-202208.txt',\n",
       " 'F:/github/pythonScript/seafog/data/G7425\\\\G7425-202209.txt',\n",
       " 'F:/github/pythonScript/seafog/data/G7425\\\\G7425-202210.txt',\n",
       " 'F:/github/pythonScript/seafog/data/G7425\\\\G7425-202211.txt',\n",
       " 'F:/github/pythonScript/seafog/data/G7425\\\\G7425-202212.txt',\n",
       " 'F:/github/pythonScript/seafog/data/G7425\\\\G7425-202301.txt']"
      ]
     },
     "execution_count": 3,
     "metadata": {},
     "output_type": "execute_result"
    }
   ],
   "source": [
    "globPath = file_dir+'data/G7425/*.txt'\n",
    "all_files = glob.glob(globPath)\n",
    "all_files"
   ]
  },
  {
   "cell_type": "code",
   "execution_count": 4,
   "metadata": {},
   "outputs": [
    {
     "name": "stdout",
     "output_type": "stream",
     "text": [
      "      ObserveTime  WindSpeed  WindDirect  Rain  MaxWindSpeed  MaxWindDirect  \\\n",
      "0    202012230000        3.2        38.0   0.0           4.3           56.0   \n",
      "1    202012230010        3.6        46.0   0.0           4.3           56.0   \n",
      "2    202012230020        3.3        41.0   0.0           4.4           46.0   \n",
      "3    202012230030        3.7        49.0   0.0           4.5           43.0   \n",
      "4    202012230040        3.7        56.0   0.0           4.5           46.0   \n",
      "..            ...        ...         ...   ...           ...            ...   \n",
      "727  202301311900        6.3        76.0   0.0           8.7           70.0   \n",
      "728  202301312000        6.7        78.0   0.0           8.2           83.0   \n",
      "729  202301312100        6.5        79.0   0.0           8.1           84.0   \n",
      "730  202301312200        5.6        76.0   0.0           7.3           90.0   \n",
      "731  202301312300        4.0        71.0   0.0           6.6           73.0   \n",
      "\n",
      "     Temperature  RelativeHumidity  Pressure  CurrentDirect  ...  31.2  \\\n",
      "0           18.5              80.0    1021.4            NaN  ...   NaN   \n",
      "1           18.4              81.0    1021.3            NaN  ...   NaN   \n",
      "2           18.6              81.0    1021.0            NaN  ...   NaN   \n",
      "3           18.5              82.0    1020.9            NaN  ...   NaN   \n",
      "4           18.4              82.0    1021.4            NaN  ...   NaN   \n",
      "..           ...               ...       ...            ...  ...   ...   \n",
      "727         18.8              95.0    1013.3            NaN  ...   NaN   \n",
      "728         18.7              97.0    1013.6            NaN  ...   NaN   \n",
      "729         18.7              98.0    1014.0            NaN  ...   NaN   \n",
      "730         18.6             100.0    1014.0            NaN  ...   NaN   \n",
      "731         18.4             100.0    1014.0            NaN  ...   NaN   \n",
      "\n",
      "     202108010000  5.2  157.0  6.0  142.0  30.6  1000.5  -9999.0.2  StationID  \n",
      "0             NaN  NaN    NaN  NaN    NaN   NaN     NaN        NaN        NaN  \n",
      "1             NaN  NaN    NaN  NaN    NaN   NaN     NaN        NaN        NaN  \n",
      "2             NaN  NaN    NaN  NaN    NaN   NaN     NaN        NaN        NaN  \n",
      "3             NaN  NaN    NaN  NaN    NaN   NaN     NaN        NaN        NaN  \n",
      "4             NaN  NaN    NaN  NaN    NaN   NaN     NaN        NaN        NaN  \n",
      "..            ...  ...    ...  ...    ...   ...     ...        ...        ...  \n",
      "727           NaN  NaN    NaN  NaN    NaN   NaN     NaN        NaN      G7425  \n",
      "728           NaN  NaN    NaN  NaN    NaN   NaN     NaN        NaN      G7425  \n",
      "729           NaN  NaN    NaN  NaN    NaN   NaN     NaN        NaN      G7425  \n",
      "730           NaN  NaN    NaN  NaN    NaN   NaN     NaN        NaN      G7425  \n",
      "731           NaN  NaN    NaN  NaN    NaN   NaN     NaN        NaN      G7425  \n",
      "\n",
      "[70388 rows x 69 columns]\n"
     ]
    }
   ],
   "source": [
    "ds_list = []\n",
    "for i_file in all_files:\n",
    "    ids = pd.read_csv(i_file,sep=',',na_values=[9999.0, -9999.0],dtype={\"ObserveTime\":str})\n",
    "    ds_list.append(ids)\n",
    "ds = pd.concat(ds_list)\n",
    "print(ds)"
   ]
  },
  {
   "cell_type": "code",
   "execution_count": 5,
   "metadata": {},
   "outputs": [],
   "source": [
    "ds['date'] = pd.to_datetime(ds['ObserveTime'])\n",
    "ds.index = ds['date']\n",
    "ds['ObserveTime'] = ds['date']"
   ]
  },
  {
   "cell_type": "code",
   "execution_count": 6,
   "metadata": {},
   "outputs": [
    {
     "name": "stderr",
     "output_type": "stream",
     "text": [
      "C:\\Users\\Henry\\AppData\\Local\\Temp\\ipykernel_26548\\3998362413.py:2: PerformanceWarning: \n",
      "your performance may suffer as PyTables will pickle object types that it cannot\n",
      "map directly to c-types [inferred_type->mixed,key->block2_values] [items->Index(['StationID'], dtype='object')]\n",
      "\n",
      "  ds.to_hdf(h5_store, key='G7425', mode='a')\n"
     ]
    }
   ],
   "source": [
    "h5_store = pd.HDFStore(os.path.normpath(os.path.join(file_dir, './data/G7425/G7425_202012to202301.hdf')), mode='w')\n",
    "ds.to_hdf(h5_store, key='G7425', mode='a')\n",
    "h5_store.close()\n"
   ]
  }
 ],
 "metadata": {
  "kernelspec": {
   "display_name": "Python 3.10.5 ('seafog')",
   "language": "python",
   "name": "python3"
  },
  "language_info": {
   "codemirror_mode": {
    "name": "ipython",
    "version": 3
   },
   "file_extension": ".py",
   "mimetype": "text/x-python",
   "name": "python",
   "nbconvert_exporter": "python",
   "pygments_lexer": "ipython3",
   "version": "3.10.5"
  },
  "orig_nbformat": 4,
  "vscode": {
   "interpreter": {
    "hash": "25aa29f62e92ae76799ea789abce1a506387a87d8f1f604731622aeb3dfcad13"
   }
  }
 },
 "nbformat": 4,
 "nbformat_minor": 2
}
