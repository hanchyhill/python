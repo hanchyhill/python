{
 "cells": [
  {
   "cell_type": "code",
   "execution_count": 1,
   "metadata": {},
   "outputs": [],
   "source": [
    "import pandas as pd\n",
    "import numpy as np\n",
    "import matplotlib as mpl\n",
    "import matplotlib.pyplot as plt\n",
    "plt.rcParams['font.sans-serif'] = ['SimHei']\n",
    "plt.rcParams['axes.unicode_minus'] = False  # 用来正常显示负号\n",
    "%matplotlib inline\n",
    "import os\n",
    "import glob"
   ]
  },
  {
   "cell_type": "code",
   "execution_count": 2,
   "metadata": {},
   "outputs": [],
   "source": [
    "if os.environ['COMPUTERNAME'] == 'DESKTOP-EQAO3M5':\n",
    "  computer_flag = 'home'\n",
    "else:\n",
    "  computer_flag = 'office'\n",
    "\n",
    "if computer_flag == 'home':\n",
    "  file_dir = \"F:/github/pythonScript/seafog/\"\n",
    "else:\n",
    "  file_dir = \"H:/github/python/seafog/\""
   ]
  },
  {
   "cell_type": "code",
   "execution_count": 3,
   "metadata": {},
   "outputs": [
    {
     "data": {
      "text/plain": [
       "['F:/github/pythonScript/seafog/data/G7425\\\\G7425-202012.txt',\n",
       " 'F:/github/pythonScript/seafog/data/G7425\\\\G7425-202101.txt',\n",
       " 'F:/github/pythonScript/seafog/data/G7425\\\\G7425-202102.txt',\n",
       " 'F:/github/pythonScript/seafog/data/G7425\\\\G7425-202103.txt',\n",
       " 'F:/github/pythonScript/seafog/data/G7425\\\\G7425-202104.txt',\n",
       " 'F:/github/pythonScript/seafog/data/G7425\\\\G7425-202105.txt',\n",
       " 'F:/github/pythonScript/seafog/data/G7425\\\\G7425-202106.txt',\n",
       " 'F:/github/pythonScript/seafog/data/G7425\\\\G7425-202107.txt',\n",
       " 'F:/github/pythonScript/seafog/data/G7425\\\\G7425-202108.txt',\n",
       " 'F:/github/pythonScript/seafog/data/G7425\\\\G7425-202201.txt',\n",
       " 'F:/github/pythonScript/seafog/data/G7425\\\\G7425-202202.txt',\n",
       " 'F:/github/pythonScript/seafog/data/G7425\\\\G7425-202203.txt',\n",
       " 'F:/github/pythonScript/seafog/data/G7425\\\\G7425-202204.txt',\n",
       " 'F:/github/pythonScript/seafog/data/G7425\\\\G7425-202205.txt',\n",
       " 'F:/github/pythonScript/seafog/data/G7425\\\\G7425-202206.txt',\n",
       " 'F:/github/pythonScript/seafog/data/G7425\\\\G7425-202207.txt',\n",
       " 'F:/github/pythonScript/seafog/data/G7425\\\\G7425-202208.txt',\n",
       " 'F:/github/pythonScript/seafog/data/G7425\\\\G7425-202209.txt']"
      ]
     },
     "execution_count": 3,
     "metadata": {},
     "output_type": "execute_result"
    }
   ],
   "source": [
    "globPath = file_dir+'data/G7425/*.txt'\n",
    "all_files = glob.glob(globPath)\n",
    "all_files"
   ]
  },
  {
   "cell_type": "code",
   "execution_count": 7,
   "metadata": {},
   "outputs": [
    {
     "name": "stdout",
     "output_type": "stream",
     "text": [
      "       ObserveTime  WindSpeed  WindDirect  Rain  MaxWindSpeed  MaxWindDirect  \\\n",
      "0     202012230000        3.2        38.0   0.0           4.3           56.0   \n",
      "1     202012230010        3.6        46.0   0.0           4.3           56.0   \n",
      "2     202012230020        3.3        41.0   0.0           4.4           46.0   \n",
      "3     202012230030        3.7        49.0   0.0           4.5           43.0   \n",
      "4     202012230040        3.7        56.0   0.0           4.5           46.0   \n",
      "...            ...        ...         ...   ...           ...            ...   \n",
      "3899  202209281300       11.0        90.0   0.0          14.0           90.0   \n",
      "3900  202209281310       11.6        98.0   0.0          14.2          104.0   \n",
      "3901  202209281320       11.2       103.0   0.0          14.2          104.0   \n",
      "3902  202209281330       11.5       103.0   0.0          14.7           93.0   \n",
      "3903  202209281340       10.0        98.0   0.0          14.7           93.0   \n",
      "\n",
      "      Temperature  RelativeHumidity  Pressure  CurrentDirect  ...  1004.7  \\\n",
      "0            18.5              80.0    1021.4            NaN  ...     NaN   \n",
      "1            18.4              81.0    1021.3            NaN  ...     NaN   \n",
      "2            18.6              81.0    1021.0            NaN  ...     NaN   \n",
      "3            18.5              82.0    1020.9            NaN  ...     NaN   \n",
      "4            18.4              82.0    1021.4            NaN  ...     NaN   \n",
      "...           ...               ...       ...            ...  ...     ...   \n",
      "3899         28.3              89.0    1003.9            NaN  ...     NaN   \n",
      "3900         28.0              91.0    1003.8            NaN  ...     NaN   \n",
      "3901         27.8              87.0    1003.5            NaN  ...     NaN   \n",
      "3902         26.1              94.0    1003.2            NaN  ...     NaN   \n",
      "3903         26.5              92.0    1003.2            NaN  ...     NaN   \n",
      "\n",
      "      31.2  202108010000  5.2  157.0  6.0  142.0  30.6  1000.5  -9999.0.2  \n",
      "0      NaN           NaN  NaN    NaN  NaN    NaN   NaN     NaN        NaN  \n",
      "1      NaN           NaN  NaN    NaN  NaN    NaN   NaN     NaN        NaN  \n",
      "2      NaN           NaN  NaN    NaN  NaN    NaN   NaN     NaN        NaN  \n",
      "3      NaN           NaN  NaN    NaN  NaN    NaN   NaN     NaN        NaN  \n",
      "4      NaN           NaN  NaN    NaN  NaN    NaN   NaN     NaN        NaN  \n",
      "...    ...           ...  ...    ...  ...    ...   ...     ...        ...  \n",
      "3899   NaN           NaN  NaN    NaN  NaN    NaN   NaN     NaN        NaN  \n",
      "3900   NaN           NaN  NaN    NaN  NaN    NaN   NaN     NaN        NaN  \n",
      "3901   NaN           NaN  NaN    NaN  NaN    NaN   NaN     NaN        NaN  \n",
      "3902   NaN           NaN  NaN    NaN  NaN    NaN   NaN     NaN        NaN  \n",
      "3903   NaN           NaN  NaN    NaN  NaN    NaN   NaN     NaN        NaN  \n",
      "\n",
      "[67520 rows x 68 columns]\n"
     ]
    }
   ],
   "source": [
    "ds_list = []\n",
    "for i_file in all_files:\n",
    "    ids = pd.read_csv(i_file,sep=',',na_values=[9999.0, -9999.0],dtype={\"ObserveTime\":str})\n",
    "    ds_list.append(ids)\n",
    "ds = pd.concat(ds_list)\n",
    "print(ds)"
   ]
  },
  {
   "cell_type": "code",
   "execution_count": 14,
   "metadata": {},
   "outputs": [],
   "source": [
    "ds['date'] = pd.to_datetime(ds['ObserveTime'])\n",
    "ds.index = ds['date']\n",
    "ds['ObserveTime'] = ds['date']"
   ]
  },
  {
   "cell_type": "code",
   "execution_count": 15,
   "metadata": {},
   "outputs": [],
   "source": [
    "h5_store = pd.HDFStore(os.path.normpath(os.path.join(file_dir, './data/G7425/G7425_202012to202209.hdf')), mode='w')\n",
    "ds.to_hdf(h5_store, key='G7425', mode='a')\n",
    "h5_store.close()\n"
   ]
  }
 ],
 "metadata": {
  "kernelspec": {
   "display_name": "Python 3.10.5 ('seafog')",
   "language": "python",
   "name": "python3"
  },
  "language_info": {
   "codemirror_mode": {
    "name": "ipython",
    "version": 3
   },
   "file_extension": ".py",
   "mimetype": "text/x-python",
   "name": "python",
   "nbconvert_exporter": "python",
   "pygments_lexer": "ipython3",
   "version": "3.10.5"
  },
  "orig_nbformat": 4,
  "vscode": {
   "interpreter": {
    "hash": "25aa29f62e92ae76799ea789abce1a506387a87d8f1f604731622aeb3dfcad13"
   }
  }
 },
 "nbformat": 4,
 "nbformat_minor": 2
}
