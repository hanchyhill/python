{
 "cells": [
  {
   "cell_type": "code",
   "execution_count": 4,
   "metadata": {},
   "outputs": [],
   "source": [
    "import xarray as xr\n",
    "import numpy as np\n",
    "import os\n",
    "import arrow"
   ]
  },
  {
   "cell_type": "code",
   "execution_count": 7,
   "metadata": {},
   "outputs": [],
   "source": [
    "fcHour_list = list(range(0, 72+1, 3)) + list(range(78, 240+1, 6))"
   ]
  },
  {
   "cell_type": "code",
   "execution_count": 8,
   "metadata": {},
   "outputs": [
    {
     "name": "stdout",
     "output_type": "stream",
     "text": [
      "[0, 3, 6, 9, 12, 15, 18, 21, 24, 27, 30, 33, 36, 39, 42, 45, 48, 51, 54, 57, 60, 63, 66, 69, 72, 78, 84, 90, 96, 102, 108, 114, 120, 126, 132, 138, 144, 150, 156, 162, 168, 174, 180, 186, 192, 198, 204, 210, 216, 222, 228, 234, 240]\n"
     ]
    }
   ],
   "source": [
    "print(fcHour_list)"
   ]
  },
  {
   "cell_type": "code",
   "execution_count": 15,
   "metadata": {},
   "outputs": [
    {
     "name": "stdout",
     "output_type": "stream",
     "text": [
      "2020-01-01 12\n",
      "[{'init': <Arrow [2020-01-01T12:00:00+00:00]>, 'hour': 0, 'hour_str': '000'}, {'init': <Arrow [2020-01-01T00:00:00+00:00]>, 'hour': 12, 'hour_str': '012'}, {'init': <Arrow [2019-12-31T12:00:00+00:00]>, 'hour': 24, 'hour_str': '024'}, {'init': <Arrow [2019-12-31T00:00:00+00:00]>, 'hour': 36, 'hour_str': '036'}, {'init': <Arrow [2019-12-30T12:00:00+00:00]>, 'hour': 48, 'hour_str': '048'}, {'init': <Arrow [2019-12-30T00:00:00+00:00]>, 'hour': 60, 'hour_str': '060'}, {'init': <Arrow [2019-12-29T12:00:00+00:00]>, 'hour': 72, 'hour_str': '072'}, {'init': <Arrow [2019-12-29T00:00:00+00:00]>, 'hour': 84, 'hour_str': '084'}, {'init': <Arrow [2019-12-28T12:00:00+00:00]>, 'hour': 96, 'hour_str': '096'}, {'init': <Arrow [2019-12-28T00:00:00+00:00]>, 'hour': 108, 'hour_str': '108'}, {'init': <Arrow [2019-12-27T12:00:00+00:00]>, 'hour': 120, 'hour_str': '120'}, {'init': <Arrow [2019-12-27T00:00:00+00:00]>, 'hour': 132, 'hour_str': '132'}, {'init': <Arrow [2019-12-26T12:00:00+00:00]>, 'hour': 144, 'hour_str': '144'}, {'init': <Arrow [2019-12-26T00:00:00+00:00]>, 'hour': 156, 'hour_str': '156'}, {'init': <Arrow [2019-12-25T12:00:00+00:00]>, 'hour': 168, 'hour_str': '168'}, {'init': <Arrow [2019-12-25T00:00:00+00:00]>, 'hour': 180, 'hour_str': '180'}, {'init': <Arrow [2019-12-24T12:00:00+00:00]>, 'hour': 192, 'hour_str': '192'}, {'init': <Arrow [2019-12-24T00:00:00+00:00]>, 'hour': 204, 'hour_str': '204'}, {'init': <Arrow [2019-12-23T12:00:00+00:00]>, 'hour': 216, 'hour_str': '216'}, {'init': <Arrow [2019-12-23T00:00:00+00:00]>, 'hour': 228, 'hour_str': '228'}, {'init': <Arrow [2019-12-22T12:00:00+00:00]>, 'hour': 240, 'hour_str': '240'}]\n"
     ]
    }
   ],
   "source": [
    "# 根据实况日期罗列出所有的对应起报时间和预报时效\n",
    "current_time = arrow.get(2020,1,1,12)\n",
    "print(current_time.format('YYYY-MM-DD HH'))\n",
    "available_time_list = []\n",
    "for fc_hour in fcHour_list:\n",
    "    init_time = current_time.shift(hours=-fc_hour)\n",
    "    if(init_time.hour%12 == 0):\n",
    "        available_time_list.append({'init':init_time, 'hour':fc_hour,'hour_str':'{:0>3d}'.format(fc_hour)})\n",
    "\n",
    "print(available_time_list)"
   ]
  }
 ],
 "metadata": {
  "kernelspec": {
   "display_name": "Python 3.10.4 ('satpy')",
   "language": "python",
   "name": "python3"
  },
  "language_info": {
   "codemirror_mode": {
    "name": "ipython",
    "version": 3
   },
   "file_extension": ".py",
   "mimetype": "text/x-python",
   "name": "python",
   "nbconvert_exporter": "python",
   "pygments_lexer": "ipython3",
   "version": "3.10.4"
  },
  "orig_nbformat": 4,
  "vscode": {
   "interpreter": {
    "hash": "4d12fa97ec9d87676a2ae8543350aae980e32635cb48cde6849a49b6990dfeb4"
   }
  }
 },
 "nbformat": 4,
 "nbformat_minor": 2
}
