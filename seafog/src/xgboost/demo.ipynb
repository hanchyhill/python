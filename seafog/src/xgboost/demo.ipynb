{
 "cells": [
  {
   "cell_type": "code",
   "execution_count": 1,
   "metadata": {},
   "outputs": [],
   "source": [
    "from xgboost import XGBClassifier\n",
    "# read data\n",
    "from sklearn.datasets import load_iris\n",
    "from sklearn.model_selection import train_test_split\n"
   ]
  },
  {
   "cell_type": "code",
   "execution_count": 2,
   "metadata": {},
   "outputs": [],
   "source": [
    "data = load_iris()\n",
    "X_train, X_test, y_train, y_test = train_test_split(data['data'], data['target'], test_size=.2)\n",
    "# create model instance\n",
    "bst = XGBClassifier(n_estimators=2, max_depth=2, learning_rate=1, objective='binary:logistic')\n",
    "# fit model\n",
    "bst.fit(X_train, y_train)\n",
    "# make predictions\n",
    "preds = bst.predict(X_test)"
   ]
  },
  {
   "cell_type": "code",
   "execution_count": 3,
   "metadata": {},
   "outputs": [
    {
     "name": "stdout",
     "output_type": "stream",
     "text": [
      "[2 1 0 1 1 1 2 1 2 1 2 2 0 1 2 2 1 2 2 0 1 2 0 2 1 1 2 2 2 1]\n"
     ]
    }
   ],
   "source": [
    "print(preds)"
   ]
  },
  {
   "cell_type": "code",
   "execution_count": 7,
   "metadata": {},
   "outputs": [],
   "source": [
    "from sklearn.datasets import load_diabetes\n",
    "import xgboost as xgb\n",
    "\n",
    "def test_xgb_finds_gpu(capsys):\n",
    "    \"\"\"Check if XGBoost finds the GPU.\"\"\"\n",
    "    boston = load_diabetes()\n",
    "    X = boston[\"data\"]\n",
    "    y = boston[\"target\"]\n",
    "    xgb_model = xgb.XGBRegressor(\n",
    "        # If there is no GPU, the tree_method kwarg will cause either\n",
    "        # - an error in `xgb_model.fit(X, y)` (seen with pytest) or\n",
    "        # - a warning printed to the console (seen in Spyder)\n",
    "        # It's unclear which of the two happens under what circumstances.\n",
    "        tree_method=\"gpu_hist\"\n",
    "    )\n",
    "    xgb_model.fit(X, y)\n",
    "    # Check that no warning was printed.\n",
    "    captured = capsys.readouterr()\n",
    "    assert captured.out == \"\"\n",
    "    assert captured.err == \"\"\n"
   ]
  }
 ],
 "metadata": {
  "kernelspec": {
   "display_name": "seafog",
   "language": "python",
   "name": "python3"
  },
  "language_info": {
   "codemirror_mode": {
    "name": "ipython",
    "version": 3
   },
   "file_extension": ".py",
   "mimetype": "text/x-python",
   "name": "python",
   "nbconvert_exporter": "python",
   "pygments_lexer": "ipython3",
   "version": "3.10.5"
  },
  "orig_nbformat": 4
 },
 "nbformat": 4,
 "nbformat_minor": 2
}
