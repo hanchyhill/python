{
 "cells": [
  {
   "cell_type": "code",
   "execution_count": 1,
   "metadata": {},
   "outputs": [],
   "source": [
    "import xarray as xr\n",
    "import numpy as np\n",
    "import os\n",
    "import arrow\n",
    "import pandas as pd\n",
    "import metpy.calc as mpcalc\n",
    "from metpy.units import units\n",
    "import glob\n",
    "import re"
   ]
  },
  {
   "cell_type": "code",
   "execution_count": 2,
   "metadata": {},
   "outputs": [],
   "source": [
    "latlon_pair_surface = [('110.0', '20.0'),\n",
    "                        ('110.0', '20.125'),('110.125', '20.125'),('110.25', '20.125'),('110.375', '20.125'),('110.5', '20.125'),\n",
    "                        ('110.0', '20.25'),('110.125', '20.25'),('110.25', '20.25'),('110.375', '20.25'),('110.5', '20.25')]\n",
    "\n",
    "latlon_pair_pressure = [('110.0', '20.0'),('110.25', '20.0'),('110.5', '20.0'),\n",
    "                         ('110.0', '20.25'),('110.25', '20.25'),('110.5', '20.25')]\n",
    "station_file_list = ['59754.20200101-20221031.csv','59757.20200101-20221031.csv', '59758.20200101-20221031.csv']\n",
    "if os.environ['COMPUTERNAME'] == 'DESKTOP-EQAO3M5':\n",
    "  computer_flag = 'home'\n",
    "else:\n",
    "  computer_flag = 'office'\n",
    "\n",
    "if computer_flag == 'home':\n",
    "  file_dir = \"F:/github/pythonScript/seafog/\"\n",
    "else:\n",
    "  file_dir = \"H:/github/python/seafog/\"\n",
    "\n",
    "fcHour_list = np.array(range(0, 240+1, 1))# list(range(0, 72+1, 3)) + list(range(78, 240+1, 6))\n",
    "# fcHour_list = list(range(0, 72+1, 3)) + list(range(78, 168+1, 6))\n",
    "single_level_name_list = ['visi','v100','v10m','u100','u10m','t2mm','t2md','sstk']\n",
    "multi_level_name_list = ['vwnd','uwnd','temp','rhum']\n",
    "levels_selected = [1000.0, 950.0, 925.0, 900.0, 850.0]\n",
    "\n",
    "multi_level_columns = []\n",
    "for multi_name_key in multi_level_name_list:\n",
    "    for iLevel in levels_selected:\n",
    "        multi_level_columns.append(f'{multi_name_key}{int(iLevel)}')\n",
    "\n",
    "dir_path = os.path.normpath(os.path.join(file_dir, './data/CFdata/concat/201508-202205/'))\n",
    "input_path =  os.path.normpath(os.path.join(file_dir, './data/netcdf/CFdata/fullhour/'))"
   ]
  },
  {
   "cell_type": "code",
   "execution_count": 13,
   "metadata": {},
   "outputs": [],
   "source": [
    "\n",
    "dirPath = input_path.replace('\\\\','/')\n",
    "reg =f\"{dirPath}/*.nc\"\n",
    "path_list = glob.glob(reg)\n",
    "surface_files_groups = []\n",
    "for lonlat in latlon_pair_surface:\n",
    "    surface_files = []\n",
    "    for iPath in path_list:\n",
    "        (filepath,filename) = os.path.split(iPath)\n",
    "        matched_Group = re.match(r'.*?lon(.*?)_lat(.*?)\\.(\\S{4})\\.nc', filename)\n",
    "        lon_str = matched_Group.group(1)\n",
    "        lat_str = matched_Group.group(2)\n",
    "        varname_str = matched_Group.group(3)\n",
    "        if varname_str in single_level_name_list and lon_str==lonlat[0] and lat_str==lonlat[1]:\n",
    "            file_info = {'varname':varname_str, 'lon':lon_str, 'lat':lat_str, 'file':filename, 'dirpath':filepath}\n",
    "            surface_files.append(file_info)\n",
    "    if len(surface_files) == len(single_level_name_list):\n",
    "        surface_files_groups.append(surface_files)\n",
    "\n",
    "pressure_files_groups = []\n",
    "for lonlat in latlon_pair_pressure:\n",
    "    pressure_files = []\n",
    "    for iPath in path_list:\n",
    "        (filepath,filename) = os.path.split(iPath)\n",
    "        matched_Group = re.match(r'.*?lon(.*?)_lat(.*?)\\.(\\S{4})\\.nc', filename)\n",
    "        lon_str = matched_Group.group(1)\n",
    "        lat_str = matched_Group.group(2)\n",
    "        varname_str = matched_Group.group(3)\n",
    "        if varname_str in multi_level_name_list and lon_str==lonlat[0] and lat_str==lonlat[1]:\n",
    "            file_info = {'varname':varname_str, 'lon':lon_str, 'lat':lat_str, 'file':filename, 'dirpath':filepath}\n",
    "            pressure_files.append(file_info)\n",
    "    if len(pressure_files) == len(multi_level_name_list):\n",
    "        pressure_files_groups.append(pressure_files)\n",
    "\n"
   ]
  },
  {
   "cell_type": "code",
   "execution_count": null,
   "metadata": {},
   "outputs": [],
   "source": []
  }
 ],
 "metadata": {
  "kernelspec": {
   "display_name": "Python 3.10.5 ('seafog')",
   "language": "python",
   "name": "python3"
  },
  "language_info": {
   "codemirror_mode": {
    "name": "ipython",
    "version": 3
   },
   "file_extension": ".py",
   "mimetype": "text/x-python",
   "name": "python",
   "nbconvert_exporter": "python",
   "pygments_lexer": "ipython3",
   "version": "3.10.5"
  },
  "orig_nbformat": 4,
  "vscode": {
   "interpreter": {
    "hash": "25aa29f62e92ae76799ea789abce1a506387a87d8f1f604731622aeb3dfcad13"
   }
  }
 },
 "nbformat": 4,
 "nbformat_minor": 2
}
