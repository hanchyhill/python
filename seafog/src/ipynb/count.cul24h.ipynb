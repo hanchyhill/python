{
 "cells": [
  {
   "cell_type": "code",
   "execution_count": 1,
   "metadata": {},
   "outputs": [],
   "source": [
    "import xarray as xr\n",
    "import numpy as np\n",
    "import os\n",
    "import arrow\n",
    "import pandas as pd\n",
    "import metpy.calc as mpcalc\n",
    "from metpy.units import units\n",
    "import glob\n",
    "import re"
   ]
  },
  {
   "cell_type": "code",
   "execution_count": 2,
   "metadata": {},
   "outputs": [],
   "source": [
    "if os.environ['COMPUTERNAME'] == 'DESKTOP-EQAO3M5':\n",
    "  computer_flag = 'home'\n",
    "else:\n",
    "  computer_flag = 'office'\n",
    "\n",
    "if computer_flag == 'home':\n",
    "  file_dir = \"F:/github/pythonScript/seafog/\"\n",
    "else:\n",
    "  file_dir = \"H:/github/python/seafog/\"\n",
    "file_station = os.path.normpath(os.path.join(file_dir, f'./data/station/all_stations_v2.csv'))"
   ]
  },
  {
   "cell_type": "code",
   "execution_count": 14,
   "metadata": {},
   "outputs": [
    {
     "data": {
      "text/html": [
       "<div>\n",
       "<style scoped>\n",
       "    .dataframe tbody tr th:only-of-type {\n",
       "        vertical-align: middle;\n",
       "    }\n",
       "\n",
       "    .dataframe tbody tr th {\n",
       "        vertical-align: top;\n",
       "    }\n",
       "\n",
       "    .dataframe thead th {\n",
       "        text-align: right;\n",
       "    }\n",
       "</style>\n",
       "<table border=\"1\" class=\"dataframe\">\n",
       "  <thead>\n",
       "    <tr style=\"text-align: right;\">\n",
       "      <th></th>\n",
       "      <th>DDATETIME</th>\n",
       "      <th>V20059</th>\n",
       "      <th>V13019</th>\n",
       "      <th>V13003</th>\n",
       "    </tr>\n",
       "    <tr>\n",
       "      <th>index</th>\n",
       "      <th></th>\n",
       "      <th></th>\n",
       "      <th></th>\n",
       "      <th></th>\n",
       "    </tr>\n",
       "  </thead>\n",
       "  <tbody>\n",
       "    <tr>\n",
       "      <th>2013-01-31 04:00:00</th>\n",
       "      <td>2013-01-31 04:00:00</td>\n",
       "      <td>12756.0</td>\n",
       "      <td>0.0</td>\n",
       "      <td>70.0</td>\n",
       "    </tr>\n",
       "    <tr>\n",
       "      <th>2013-01-31 05:00:00</th>\n",
       "      <td>2013-01-31 05:00:00</td>\n",
       "      <td>22272.0</td>\n",
       "      <td>0.0</td>\n",
       "      <td>64.0</td>\n",
       "    </tr>\n",
       "    <tr>\n",
       "      <th>2013-01-31 06:00:00</th>\n",
       "      <td>2013-01-31 06:00:00</td>\n",
       "      <td>24547.0</td>\n",
       "      <td>0.0</td>\n",
       "      <td>66.0</td>\n",
       "    </tr>\n",
       "    <tr>\n",
       "      <th>2013-01-31 07:00:00</th>\n",
       "      <td>2013-01-31 07:00:00</td>\n",
       "      <td>15263.0</td>\n",
       "      <td>0.0</td>\n",
       "      <td>66.0</td>\n",
       "    </tr>\n",
       "    <tr>\n",
       "      <th>2013-01-31 08:00:00</th>\n",
       "      <td>2013-01-31 08:00:00</td>\n",
       "      <td>18838.0</td>\n",
       "      <td>0.0</td>\n",
       "      <td>74.0</td>\n",
       "    </tr>\n",
       "    <tr>\n",
       "      <th>...</th>\n",
       "      <td>...</td>\n",
       "      <td>...</td>\n",
       "      <td>...</td>\n",
       "      <td>...</td>\n",
       "    </tr>\n",
       "    <tr>\n",
       "      <th>2022-10-29 20:00:00</th>\n",
       "      <td>2022-10-29 20:00:00</td>\n",
       "      <td>6622.0</td>\n",
       "      <td>0.0</td>\n",
       "      <td>83.0</td>\n",
       "    </tr>\n",
       "    <tr>\n",
       "      <th>2022-10-29 21:00:00</th>\n",
       "      <td>2022-10-29 21:00:00</td>\n",
       "      <td>9435.0</td>\n",
       "      <td>0.0</td>\n",
       "      <td>84.0</td>\n",
       "    </tr>\n",
       "    <tr>\n",
       "      <th>2022-10-29 22:00:00</th>\n",
       "      <td>2022-10-29 22:00:00</td>\n",
       "      <td>9630.0</td>\n",
       "      <td>0.0</td>\n",
       "      <td>78.0</td>\n",
       "    </tr>\n",
       "    <tr>\n",
       "      <th>2022-10-29 23:00:00</th>\n",
       "      <td>2022-10-29 23:00:00</td>\n",
       "      <td>16545.0</td>\n",
       "      <td>0.0</td>\n",
       "      <td>78.0</td>\n",
       "    </tr>\n",
       "    <tr>\n",
       "      <th>2022-10-30 00:00:00</th>\n",
       "      <td>2022-10-30 00:00:00</td>\n",
       "      <td>17840.0</td>\n",
       "      <td>0.0</td>\n",
       "      <td>76.0</td>\n",
       "    </tr>\n",
       "  </tbody>\n",
       "</table>\n",
       "<p>83381 rows × 4 columns</p>\n",
       "</div>"
      ],
      "text/plain": [
       "                              DDATETIME   V20059  V13019  V13003\n",
       "index                                                           \n",
       "2013-01-31 04:00:00 2013-01-31 04:00:00  12756.0     0.0    70.0\n",
       "2013-01-31 05:00:00 2013-01-31 05:00:00  22272.0     0.0    64.0\n",
       "2013-01-31 06:00:00 2013-01-31 06:00:00  24547.0     0.0    66.0\n",
       "2013-01-31 07:00:00 2013-01-31 07:00:00  15263.0     0.0    66.0\n",
       "2013-01-31 08:00:00 2013-01-31 08:00:00  18838.0     0.0    74.0\n",
       "...                                 ...      ...     ...     ...\n",
       "2022-10-29 20:00:00 2022-10-29 20:00:00   6622.0     0.0    83.0\n",
       "2022-10-29 21:00:00 2022-10-29 21:00:00   9435.0     0.0    84.0\n",
       "2022-10-29 22:00:00 2022-10-29 22:00:00   9630.0     0.0    78.0\n",
       "2022-10-29 23:00:00 2022-10-29 23:00:00  16545.0     0.0    78.0\n",
       "2022-10-30 00:00:00 2022-10-30 00:00:00  17840.0     0.0    76.0\n",
       "\n",
       "[83381 rows x 4 columns]"
      ]
     },
     "execution_count": 14,
     "metadata": {},
     "output_type": "execute_result"
    }
   ],
   "source": [
    "df_station = pd.read_csv(file_station,sep=',',na_values=[9999], parse_dates=['index', 'DDATETIME'],index_col=\"index\")\n",
    "df_station"
   ]
  },
  {
   "cell_type": "code",
   "execution_count": 6,
   "metadata": {},
   "outputs": [],
   "source": [
    "# df_station.insert(loc=2, column='Pre24VisMin', value=np.nan)"
   ]
  },
  {
   "cell_type": "code",
   "execution_count": 27,
   "metadata": {},
   "outputs": [],
   "source": [
    "iTime = df_station.iloc[0]"
   ]
  },
  {
   "cell_type": "code",
   "execution_count": 34,
   "metadata": {},
   "outputs": [
    {
     "data": {
      "text/plain": [
       "199.0"
      ]
     },
     "execution_count": 34,
     "metadata": {},
     "output_type": "execute_result"
    }
   ],
   "source": [
    "iTime = df_station.iloc[43]['DDATETIME']\n",
    "preTime = iTime + pd.Timedelta(-24,unit='h')\n",
    "df_station.loc[(df_station.index>preTime) & (df_station.index<=iTime), 'V20059'].min()"
   ]
  },
  {
   "cell_type": "code",
   "execution_count": 35,
   "metadata": {},
   "outputs": [],
   "source": [
    "def getVisMin24(time):\n",
    "    iTime = df_station.loc[time, 'DDATETIME']\n",
    "    preTime = iTime + pd.Timedelta(-24,unit='h')\n",
    "    minVis = df_station.loc[(df_station.index>preTime) & (df_station.index<=iTime), 'V20059'].min()\n",
    "    return minVis"
   ]
  },
  {
   "cell_type": "code",
   "execution_count": 36,
   "metadata": {},
   "outputs": [],
   "source": [
    "preVisMin = df_station['DDATETIME'].apply(getVisMin24)\n"
   ]
  },
  {
   "cell_type": "code",
   "execution_count": 38,
   "metadata": {},
   "outputs": [
    {
     "name": "stdout",
     "output_type": "stream",
     "text": [
      "                              DDATETIME   V20059  V13019  V13003  Pre24VisMin\n",
      "index                                                                        \n",
      "2013-01-31 04:00:00 2013-01-31 04:00:00  12756.0     0.0    70.0      12756.0\n",
      "2013-01-31 05:00:00 2013-01-31 05:00:00  22272.0     0.0    64.0      12756.0\n",
      "2013-01-31 06:00:00 2013-01-31 06:00:00  24547.0     0.0    66.0      12756.0\n",
      "2013-01-31 07:00:00 2013-01-31 07:00:00  15263.0     0.0    66.0      12756.0\n",
      "2013-01-31 08:00:00 2013-01-31 08:00:00  18838.0     0.0    74.0      12756.0\n",
      "...                                 ...      ...     ...     ...          ...\n",
      "2022-10-29 20:00:00 2022-10-29 20:00:00   6622.0     0.0    83.0       3795.0\n",
      "2022-10-29 21:00:00 2022-10-29 21:00:00   9435.0     0.0    84.0       3795.0\n",
      "2022-10-29 22:00:00 2022-10-29 22:00:00   9630.0     0.0    78.0       4324.0\n",
      "2022-10-29 23:00:00 2022-10-29 23:00:00  16545.0     0.0    78.0       5453.0\n",
      "2022-10-30 00:00:00 2022-10-30 00:00:00  17840.0     0.0    76.0       5752.0\n",
      "\n",
      "[83381 rows x 5 columns]\n"
     ]
    }
   ],
   "source": [
    "df_station['Pre24VisMin'] = preVisMin\n",
    "print(df_station)"
   ]
  },
  {
   "cell_type": "code",
   "execution_count": 19,
   "metadata": {},
   "outputs": [
    {
     "data": {
      "text/plain": [
       "12089.0"
      ]
     },
     "execution_count": 19,
     "metadata": {},
     "output_type": "execute_result"
    }
   ],
   "source": [
    "df_station.loc[iTime, 'V20059']"
   ]
  },
  {
   "cell_type": "code",
   "execution_count": 16,
   "metadata": {},
   "outputs": [
    {
     "data": {
      "text/plain": [
       "DatetimeIndex(['2013-01-31 04:00:00', '2013-01-31 05:00:00',\n",
       "               '2013-01-31 06:00:00', '2013-01-31 07:00:00',\n",
       "               '2013-01-31 08:00:00', '2013-01-31 09:00:00',\n",
       "               '2013-01-31 10:00:00', '2013-01-31 11:00:00',\n",
       "               '2013-01-31 12:00:00', '2013-01-31 13:00:00',\n",
       "               ...\n",
       "               '2022-10-29 15:00:00', '2022-10-29 16:00:00',\n",
       "               '2022-10-29 17:00:00', '2022-10-29 18:00:00',\n",
       "               '2022-10-29 19:00:00', '2022-10-29 20:00:00',\n",
       "               '2022-10-29 21:00:00', '2022-10-29 22:00:00',\n",
       "               '2022-10-29 23:00:00', '2022-10-30 00:00:00'],\n",
       "              dtype='datetime64[ns]', name='index', length=83381, freq=None)"
      ]
     },
     "execution_count": 16,
     "metadata": {},
     "output_type": "execute_result"
    }
   ],
   "source": [
    "df_station.index"
   ]
  }
 ],
 "metadata": {
  "kernelspec": {
   "display_name": "Python 3.10.5 ('seafog')",
   "language": "python",
   "name": "python3"
  },
  "language_info": {
   "codemirror_mode": {
    "name": "ipython",
    "version": 3
   },
   "file_extension": ".py",
   "mimetype": "text/x-python",
   "name": "python",
   "nbconvert_exporter": "python",
   "pygments_lexer": "ipython3",
   "version": "3.10.5"
  },
  "orig_nbformat": 4,
  "vscode": {
   "interpreter": {
    "hash": "25aa29f62e92ae76799ea789abce1a506387a87d8f1f604731622aeb3dfcad13"
   }
  }
 },
 "nbformat": 4,
 "nbformat_minor": 2
}
