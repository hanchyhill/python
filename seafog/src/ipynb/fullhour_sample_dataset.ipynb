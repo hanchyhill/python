{
 "cells": [
  {
   "cell_type": "code",
   "execution_count": 1,
   "metadata": {},
   "outputs": [],
   "source": [
    "import xarray as xr\n",
    "import numpy as np\n",
    "import os\n",
    "import arrow\n",
    "import pandas as pd\n",
    "import matplotlib as mpl\n",
    "import matplotlib.pyplot as plt\n",
    "import glob"
   ]
  },
  {
   "cell_type": "code",
   "execution_count": 2,
   "metadata": {},
   "outputs": [],
   "source": [
    "if os.environ['COMPUTERNAME'] == 'DESKTOP-EQAO3M5':\n",
    "  computer_flag = 'home'\n",
    "else:\n",
    "  computer_flag = 'office'\n",
    "\n",
    "if computer_flag == 'home':\n",
    "  root_dir = \"F:/github/pythonScript/seafog/\"\n",
    "else:\n",
    "  root_dir = \"H:/github/python/seafog/\"\n",
    "\n",
    "def linear_vis(x):\n",
    "    if(x <= 1000.0):\n",
    "      y = x/1000.0\n",
    "    elif(x > 1000.0 and x <= 10000.0):\n",
    "      y = (x-1000.0)/9000.0 + 1.0\n",
    "    elif( x > 10000.0  and x <= 30000.0):\n",
    "      y = (x-10000.0)/20000 + 2.0\n",
    "    else:\n",
    "      y = 3.0\n",
    "    return y\n",
    "\n",
    "# fcHour_list = list(range(0, 72+1, 1)) + list(range(78, 168+1, 6))\n",
    "fcHour_list = list(range(0, 72+1, 1)) + list(range(78, 120+1, 6))\n",
    "dir_path =  os.path.normpath(os.path.join(root_dir, './data/netcdf/CFdata/fullhour/hdf'))"
   ]
  },
  {
   "cell_type": "code",
   "execution_count": 3,
   "metadata": {},
   "outputs": [
    {
     "name": "stdout",
     "output_type": "stream",
     "text": [
      "读取F:/github/pythonScript/seafog/data/netcdf/CFdata/fullhour/hdf\\full.suf110.0_20.0_pre110.0_20.0_allstation.hdf\n",
      "读取F:/github/pythonScript/seafog/data/netcdf/CFdata/fullhour/hdf\\full.suf110.0_20.0_pre110.0_20.25_allstation.hdf\n",
      "读取F:/github/pythonScript/seafog/data/netcdf/CFdata/fullhour/hdf\\full.suf110.0_20.0_pre110.25_20.0_allstation.hdf\n",
      "读取F:/github/pythonScript/seafog/data/netcdf/CFdata/fullhour/hdf\\full.suf110.0_20.0_pre110.25_20.25_allstation.hdf\n",
      "读取F:/github/pythonScript/seafog/data/netcdf/CFdata/fullhour/hdf\\full.suf110.0_20.0_pre110.5_20.0_allstation.hdf\n",
      "读取F:/github/pythonScript/seafog/data/netcdf/CFdata/fullhour/hdf\\full.suf110.0_20.0_pre110.5_20.25_allstation.hdf\n",
      "读取F:/github/pythonScript/seafog/data/netcdf/CFdata/fullhour/hdf\\full.suf110.0_20.125_pre110.0_20.0_allstation.hdf\n",
      "读取F:/github/pythonScript/seafog/data/netcdf/CFdata/fullhour/hdf\\full.suf110.0_20.125_pre110.0_20.25_allstation.hdf\n",
      "读取F:/github/pythonScript/seafog/data/netcdf/CFdata/fullhour/hdf\\full.suf110.0_20.125_pre110.25_20.0_allstation.hdf\n",
      "读取F:/github/pythonScript/seafog/data/netcdf/CFdata/fullhour/hdf\\full.suf110.0_20.125_pre110.25_20.25_allstation.hdf\n",
      "读取F:/github/pythonScript/seafog/data/netcdf/CFdata/fullhour/hdf\\full.suf110.0_20.125_pre110.5_20.0_allstation.hdf\n",
      "读取F:/github/pythonScript/seafog/data/netcdf/CFdata/fullhour/hdf\\full.suf110.0_20.125_pre110.5_20.25_allstation.hdf\n",
      "读取F:/github/pythonScript/seafog/data/netcdf/CFdata/fullhour/hdf\\full.suf110.0_20.25_pre110.0_20.0_allstation.hdf\n",
      "读取F:/github/pythonScript/seafog/data/netcdf/CFdata/fullhour/hdf\\full.suf110.0_20.25_pre110.0_20.25_allstation.hdf\n",
      "读取F:/github/pythonScript/seafog/data/netcdf/CFdata/fullhour/hdf\\full.suf110.0_20.25_pre110.25_20.0_allstation.hdf\n",
      "读取F:/github/pythonScript/seafog/data/netcdf/CFdata/fullhour/hdf\\full.suf110.0_20.25_pre110.25_20.25_allstation.hdf\n",
      "读取F:/github/pythonScript/seafog/data/netcdf/CFdata/fullhour/hdf\\full.suf110.0_20.25_pre110.5_20.0_allstation.hdf\n",
      "读取F:/github/pythonScript/seafog/data/netcdf/CFdata/fullhour/hdf\\full.suf110.0_20.25_pre110.5_20.25_allstation.hdf\n",
      "读取F:/github/pythonScript/seafog/data/netcdf/CFdata/fullhour/hdf\\full.suf110.125_20.125_pre110.0_20.0_allstation.hdf\n",
      "读取F:/github/pythonScript/seafog/data/netcdf/CFdata/fullhour/hdf\\full.suf110.125_20.125_pre110.0_20.25_allstation.hdf\n",
      "读取F:/github/pythonScript/seafog/data/netcdf/CFdata/fullhour/hdf\\full.suf110.125_20.125_pre110.25_20.0_allstation.hdf\n",
      "读取F:/github/pythonScript/seafog/data/netcdf/CFdata/fullhour/hdf\\full.suf110.125_20.125_pre110.25_20.25_allstation.hdf\n",
      "读取F:/github/pythonScript/seafog/data/netcdf/CFdata/fullhour/hdf\\full.suf110.125_20.125_pre110.5_20.0_allstation.hdf\n",
      "读取F:/github/pythonScript/seafog/data/netcdf/CFdata/fullhour/hdf\\full.suf110.125_20.125_pre110.5_20.25_allstation.hdf\n",
      "读取F:/github/pythonScript/seafog/data/netcdf/CFdata/fullhour/hdf\\full.suf110.125_20.25_pre110.0_20.0_allstation.hdf\n",
      "读取F:/github/pythonScript/seafog/data/netcdf/CFdata/fullhour/hdf\\full.suf110.125_20.25_pre110.0_20.25_allstation.hdf\n",
      "读取F:/github/pythonScript/seafog/data/netcdf/CFdata/fullhour/hdf\\full.suf110.125_20.25_pre110.25_20.0_allstation.hdf\n",
      "读取F:/github/pythonScript/seafog/data/netcdf/CFdata/fullhour/hdf\\full.suf110.125_20.25_pre110.25_20.25_allstation.hdf\n",
      "读取F:/github/pythonScript/seafog/data/netcdf/CFdata/fullhour/hdf\\full.suf110.125_20.25_pre110.5_20.0_allstation.hdf\n",
      "读取F:/github/pythonScript/seafog/data/netcdf/CFdata/fullhour/hdf\\full.suf110.125_20.25_pre110.5_20.25_allstation.hdf\n",
      "读取F:/github/pythonScript/seafog/data/netcdf/CFdata/fullhour/hdf\\full.suf110.25_20.125_pre110.0_20.0_allstation.hdf\n",
      "读取F:/github/pythonScript/seafog/data/netcdf/CFdata/fullhour/hdf\\full.suf110.25_20.125_pre110.0_20.25_allstation.hdf\n",
      "读取F:/github/pythonScript/seafog/data/netcdf/CFdata/fullhour/hdf\\full.suf110.25_20.125_pre110.25_20.0_allstation.hdf\n",
      "读取F:/github/pythonScript/seafog/data/netcdf/CFdata/fullhour/hdf\\full.suf110.25_20.125_pre110.25_20.25_allstation.hdf\n",
      "读取F:/github/pythonScript/seafog/data/netcdf/CFdata/fullhour/hdf\\full.suf110.25_20.125_pre110.5_20.0_allstation.hdf\n",
      "读取F:/github/pythonScript/seafog/data/netcdf/CFdata/fullhour/hdf\\full.suf110.25_20.125_pre110.5_20.25_allstation.hdf\n",
      "读取F:/github/pythonScript/seafog/data/netcdf/CFdata/fullhour/hdf\\full.suf110.25_20.25_pre110.0_20.0_allstation.hdf\n",
      "读取F:/github/pythonScript/seafog/data/netcdf/CFdata/fullhour/hdf\\full.suf110.25_20.25_pre110.0_20.25_allstation.hdf\n",
      "读取F:/github/pythonScript/seafog/data/netcdf/CFdata/fullhour/hdf\\full.suf110.25_20.25_pre110.25_20.0_allstation.hdf\n",
      "读取F:/github/pythonScript/seafog/data/netcdf/CFdata/fullhour/hdf\\full.suf110.25_20.25_pre110.25_20.25_allstation.hdf\n",
      "读取F:/github/pythonScript/seafog/data/netcdf/CFdata/fullhour/hdf\\full.suf110.25_20.25_pre110.5_20.0_allstation.hdf\n",
      "读取F:/github/pythonScript/seafog/data/netcdf/CFdata/fullhour/hdf\\full.suf110.25_20.25_pre110.5_20.25_allstation.hdf\n",
      "读取F:/github/pythonScript/seafog/data/netcdf/CFdata/fullhour/hdf\\full.suf110.375_20.125_pre110.0_20.0_allstation.hdf\n",
      "读取F:/github/pythonScript/seafog/data/netcdf/CFdata/fullhour/hdf\\full.suf110.375_20.125_pre110.0_20.25_allstation.hdf\n",
      "读取F:/github/pythonScript/seafog/data/netcdf/CFdata/fullhour/hdf\\full.suf110.375_20.125_pre110.25_20.0_allstation.hdf\n",
      "读取F:/github/pythonScript/seafog/data/netcdf/CFdata/fullhour/hdf\\full.suf110.375_20.125_pre110.25_20.25_allstation.hdf\n",
      "读取F:/github/pythonScript/seafog/data/netcdf/CFdata/fullhour/hdf\\full.suf110.375_20.125_pre110.5_20.0_allstation.hdf\n",
      "读取F:/github/pythonScript/seafog/data/netcdf/CFdata/fullhour/hdf\\full.suf110.375_20.125_pre110.5_20.25_allstation.hdf\n",
      "读取F:/github/pythonScript/seafog/data/netcdf/CFdata/fullhour/hdf\\full.suf110.375_20.25_pre110.0_20.0_allstation.hdf\n",
      "读取F:/github/pythonScript/seafog/data/netcdf/CFdata/fullhour/hdf\\full.suf110.375_20.25_pre110.0_20.25_allstation.hdf\n",
      "读取F:/github/pythonScript/seafog/data/netcdf/CFdata/fullhour/hdf\\full.suf110.375_20.25_pre110.25_20.0_allstation.hdf\n",
      "读取F:/github/pythonScript/seafog/data/netcdf/CFdata/fullhour/hdf\\full.suf110.375_20.25_pre110.25_20.25_allstation.hdf\n",
      "读取F:/github/pythonScript/seafog/data/netcdf/CFdata/fullhour/hdf\\full.suf110.375_20.25_pre110.5_20.0_allstation.hdf\n",
      "读取F:/github/pythonScript/seafog/data/netcdf/CFdata/fullhour/hdf\\full.suf110.375_20.25_pre110.5_20.25_allstation.hdf\n",
      "读取F:/github/pythonScript/seafog/data/netcdf/CFdata/fullhour/hdf\\full.suf110.5_20.125_pre110.0_20.0_allstation.hdf\n",
      "读取F:/github/pythonScript/seafog/data/netcdf/CFdata/fullhour/hdf\\full.suf110.5_20.125_pre110.0_20.25_allstation.hdf\n",
      "读取F:/github/pythonScript/seafog/data/netcdf/CFdata/fullhour/hdf\\full.suf110.5_20.125_pre110.25_20.0_allstation.hdf\n",
      "读取F:/github/pythonScript/seafog/data/netcdf/CFdata/fullhour/hdf\\full.suf110.5_20.125_pre110.25_20.25_allstation.hdf\n",
      "读取F:/github/pythonScript/seafog/data/netcdf/CFdata/fullhour/hdf\\full.suf110.5_20.125_pre110.5_20.0_allstation.hdf\n",
      "读取F:/github/pythonScript/seafog/data/netcdf/CFdata/fullhour/hdf\\full.suf110.5_20.125_pre110.5_20.25_allstation.hdf\n",
      "读取F:/github/pythonScript/seafog/data/netcdf/CFdata/fullhour/hdf\\full.suf110.5_20.25_pre110.0_20.0_allstation.hdf\n",
      "读取F:/github/pythonScript/seafog/data/netcdf/CFdata/fullhour/hdf\\full.suf110.5_20.25_pre110.0_20.25_allstation.hdf\n",
      "读取F:/github/pythonScript/seafog/data/netcdf/CFdata/fullhour/hdf\\full.suf110.5_20.25_pre110.25_20.0_allstation.hdf\n",
      "读取F:/github/pythonScript/seafog/data/netcdf/CFdata/fullhour/hdf\\full.suf110.5_20.25_pre110.25_20.25_allstation.hdf\n",
      "读取F:/github/pythonScript/seafog/data/netcdf/CFdata/fullhour/hdf\\full.suf110.5_20.25_pre110.5_20.0_allstation.hdf\n",
      "读取F:/github/pythonScript/seafog/data/netcdf/CFdata/fullhour/hdf\\full.suf110.5_20.25_pre110.5_20.25_allstation.hdf\n"
     ]
    }
   ],
   "source": [
    "dirPath = dir_path.replace('\\\\','/')\n",
    "reg =f\"{dirPath}/*.hdf\"\n",
    "path_list = glob.glob(reg)\n",
    "df_list = []\n",
    "for i_path in path_list:\n",
    "  print(f'读取{i_path}')\n",
    "  try:\n",
    "    store_hdf = pd.HDFStore(i_path, mode='r')\n",
    "  except:\n",
    "    print(f'读取HDF文件异常{i_path}')\n",
    "    continue\n",
    "  for iHour in fcHour_list:\n",
    "    try:\n",
    "      i_df = store_hdf.get(f'df_{iHour:0>3d}')\n",
    "      df_list.append(i_df)\n",
    "    except:\n",
    "      continue"
   ]
  },
  {
   "cell_type": "code",
   "execution_count": 4,
   "metadata": {},
   "outputs": [
    {
     "name": "stdout",
     "output_type": "stream",
     "text": [
      "df_fog:261384  df_mist:6040210  df_clear:9671677\n"
     ]
    }
   ],
   "source": [
    "df_all = pd.concat(df_list, ignore_index=True)\n",
    "df_all.sort_values(by=['init_time','fc_hour'], inplace=True, ignore_index=True)\n",
    "df_all['station_vis_linear'] = -1.0\n",
    "df_all['station_vis_linear'] = df_all['station_vis'].apply(linear_vis)\n",
    "df_fog = df_all.loc[df_all['station_vis_cat'] == 0]\n",
    "df_mist =  df_all.loc[df_all['station_vis_cat'] == 1]\n",
    "df_clear =  df_all.loc[df_all['station_vis_cat'] == 2]\n",
    "print(f'df_fog:{len(df_fog)}  df_mist:{len(df_mist)}  df_clear:{len(df_clear)}')"
   ]
  },
  {
   "cell_type": "code",
   "execution_count": null,
   "metadata": {},
   "outputs": [],
   "source": [
    "\n",
    "plt.plot(df_all['station_vis_linear'],df_all['station_vis_linear'],'.')\n",
    "plt.show()"
   ]
  },
  {
   "cell_type": "code",
   "execution_count": 5,
   "metadata": {},
   "outputs": [
    {
     "data": {
      "text/plain": [
       "Index(['sstk', 't2md', 't2mm', 'u100', 'u10m', 'v100', 'v10m', 'visi',\n",
       "       'rhum1000', 'rhum950', 'rhum925', 'rhum900', 'rhum850', 'temp1000',\n",
       "       'temp950', 'temp925', 'temp900', 'temp850', 'theta_e1000', 'theta1000',\n",
       "       'theta_e950', 'theta950', 'theta_e925', 'theta925', 'theta_e900',\n",
       "       'theta900', 'theta_e850', 'theta850', 'actual_time', 'init_time',\n",
       "       'year', 'month', 'day', 'hour', 'year_sin', 'year_cos', 'day_sin',\n",
       "       'day_cos', 'station_vis', 'station_rain1', 'fc_hour', 'station_vis_cat',\n",
       "       'station_vis_linear'],\n",
       "      dtype='object')"
      ]
     },
     "execution_count": 5,
     "metadata": {},
     "output_type": "execute_result"
    }
   ],
   "source": [
    "df_all.keys()"
   ]
  },
  {
   "cell_type": "code",
   "execution_count": 8,
   "metadata": {},
   "outputs": [
    {
     "data": {
      "image/png": "[encoded data removed]",
      "text/plain": [
       "<Figure size 432x288 with 1 Axes>"
      ]
     },
     "metadata": {
      "needs_background": "light"
     },
     "output_type": "display_data"
    },
    {
     "data": {
      "text/plain": [
       "Timestamp('2016-09-01 00:00:00')"
      ]
     },
     "execution_count": 8,
     "metadata": {},
     "output_type": "execute_result"
    }
   ],
   "source": [
    "plt.plot(df_fog['actual_time'])\n",
    "plt.show()\n",
    "np.min(df_all['actual_time'])"
   ]
  },
  {
   "cell_type": "code",
   "execution_count": 9,
   "metadata": {},
   "outputs": [
    {
     "name": "stdout",
     "output_type": "stream",
     "text": [
      "261384\n",
      "6040210\n",
      "9671677\n"
     ]
    }
   ],
   "source": [
    "print(len(df_fog))\n",
    "print(len(df_mist))\n",
    "print(len(df_clear))"
   ]
  },
  {
   "cell_type": "code",
   "execution_count": 13,
   "metadata": {},
   "outputs": [
    {
     "name": "stdout",
     "output_type": "stream",
     "text": [
      "df_fog_train:166335  df_fog_valid:47524  df_fog_test:47525\n"
     ]
    }
   ],
   "source": [
    "partial_train = 7.0/11.0\n",
    "partial_valid = 2.0/11.0\n",
    "partial_test = 2.0/11.0\n",
    "df_fog_train = df_fog[:int(len(df_fog)*partial_train)] # 训练集\n",
    "df_fog_valid = df_fog[int(len(df_fog)*partial_train):int(len(df_fog)*partial_train)+int(len(df_fog)*partial_valid)] # 验证集\n",
    "df_fog_test  = df_fog[int(len(df_fog)*partial_train)+int(len(df_fog)*partial_valid):] # 测试集\n",
    "# 检查fog的日期\n",
    "fog_valid_sTime = df_fog_valid['actual_time'].iat[0]\n",
    "fog_test_sTime = df_fog_test['actual_time'].iat[0]\n",
    "\n",
    "df_mist_train = df_mist.loc[df_mist['actual_time'].values<fog_valid_sTime]\n",
    "df_mist_valid = df_mist.loc[(df_mist['actual_time'].values>=fog_valid_sTime) & (df_mist['actual_time'].values<fog_test_sTime)]\n",
    "df_mist_test = df_mist.loc[df_mist['actual_time'].values>=fog_test_sTime]\n",
    "\n",
    "df_clear_train = df_clear.loc[df_clear['actual_time'].values<fog_valid_sTime]\n",
    "# df_clear_valid = df_clear.loc[(df_clear['actual_time'].values>=fog_valid_sTime) & (df_clear['actual_time'].values<fog_test_sTime)]\n",
    "df_clear_valid = df_clear.loc[df_clear['actual_time'].values>=fog_valid_sTime]\n",
    "df_clear_test = df_clear.loc[df_clear['actual_time'].values>=fog_test_sTime]\n",
    "print(f'df_fog_train:{len(df_fog_train)}  df_fog_valid:{len(df_fog_valid)}  df_fog_test:{len(df_fog_test)}')"
   ]
  },
  {
   "cell_type": "code",
   "execution_count": 14,
   "metadata": {},
   "outputs": [
    {
     "data": {
      "text/plain": [
       "2991846"
      ]
     },
     "execution_count": 14,
     "metadata": {},
     "output_type": "execute_result"
    }
   ],
   "source": [
    "len(df_clear_valid)"
   ]
  },
  {
   "cell_type": "code",
   "execution_count": null,
   "metadata": {},
   "outputs": [],
   "source": [
    "fool = df_clear.loc[(df_clear['actual_time'].values>=fog_valid_sTime)]['actual_time']\n",
    "print(fool.iloc[0:10])"
   ]
  },
  {
   "cell_type": "code",
   "execution_count": null,
   "metadata": {},
   "outputs": [],
   "source": [
    "print(fog_valid_sTime)\n",
    "print(fog_test_sTime)"
   ]
  },
  {
   "cell_type": "code",
   "execution_count": null,
   "metadata": {},
   "outputs": [],
   "source": [
    "print(len(df_fog_train))\n",
    "print(len(df_fog_valid))\n",
    "print(len(df_fog_test))"
   ]
  },
  {
   "cell_type": "code",
   "execution_count": 15,
   "metadata": {},
   "outputs": [
    {
     "name": "stdout",
     "output_type": "stream",
     "text": [
      "166335\n",
      "166335\n",
      "166335\n"
     ]
    }
   ],
   "source": [
    "# 增加雾的数量\n",
    "# df_fog_train_extend = pd.concat([df_fog_train]*1, ignore_index=True)\n",
    "# df_fog_valid_extend = pd.concat([df_fog_valid]*1, ignore_index=True)\n",
    "df_fog_train_extend = df_fog_train\n",
    "df_fog_valid_extend = df_fog_valid\n",
    "# fog顺序排列, mist和clear数量保持一致\n",
    "df_mist_train = df_mist_train.sample(n=len(df_fog_train_extend), replace=True)\n",
    "df_clear_train = df_clear_train.sample(n=len(df_fog_train_extend), replace=True)\n",
    "\n",
    "df_mist_valid = df_mist_valid.sample(n=len(df_fog_valid), replace=True)\n",
    "df_clear_valid = df_clear_valid.sample(n=len(df_fog_valid), replace=True)\n",
    "\n",
    "df_mist_test = df_mist_valid.sample(n=len(df_fog_test), replace=True)\n",
    "df_clear_test = df_clear_valid.sample(n=len(df_fog_test), replace=True)\n",
    "# df_clear_sample = df_clear.sample(n=20000)\n",
    "# df_mist_sample = df_mist.sample(n=20000)\n",
    "print(len(df_mist_train))\n",
    "print(len(df_clear_train))\n",
    "print(len(df_fog_train_extend))\n"
   ]
  },
  {
   "cell_type": "code",
   "execution_count": 16,
   "metadata": {},
   "outputs": [],
   "source": [
    "df_train = pd.concat([df_fog_train_extend, df_mist_train, df_clear_train], ignore_index=True)\n",
    "df_valid = pd.concat([df_fog_valid_extend, df_mist_valid, df_clear_valid], ignore_index=True)\n",
    "df_test = pd.concat([df_fog_test, df_mist_test, df_clear_test], ignore_index=True)"
   ]
  },
  {
   "cell_type": "code",
   "execution_count": 17,
   "metadata": {},
   "outputs": [],
   "source": [
    "df_train = df_train.sample(frac=1)\n",
    "# df_valid = df_valid.sample(frac=1)\n",
    "# df_test = df_test.sample(frac=1)\n"
   ]
  },
  {
   "cell_type": "code",
   "execution_count": null,
   "metadata": {},
   "outputs": [],
   "source": [
    "print(len(df_train))\n",
    "print(len(df_valid))\n",
    "print(len(df_test))"
   ]
  },
  {
   "cell_type": "code",
   "execution_count": 18,
   "metadata": {},
   "outputs": [
    {
     "name": "stdout",
     "output_type": "stream",
     "text": [
      "59059\n"
     ]
    }
   ],
   "source": [
    "real_fcHour_list = list(range(0, 72+1, 3)) + list(range(78, 168+1, 6))\n",
    "df_test_real = df_test[df_test['fc_hour'].isin(real_fcHour_list) ]\n",
    "print(len(df_test_real))"
   ]
  },
  {
   "cell_type": "code",
   "execution_count": 19,
   "metadata": {},
   "outputs": [],
   "source": [
    "df_test_real = df_test\n",
    "df_valid_test = pd.concat([df_valid, df_test_real], ignore_index=True)"
   ]
  },
  {
   "cell_type": "code",
   "execution_count": 20,
   "metadata": {},
   "outputs": [],
   "source": [
    "fog_dataset_hdf = os.path.normpath(os.path.join(dir_path, './fog_dataset_hdf66.h5'))\n",
    "store_dataset = pd.HDFStore(fog_dataset_hdf, mode='w')\n",
    "df_train.to_hdf(store_dataset, key=f'train', mode='a')\n",
    "df_valid.to_hdf(store_dataset, key=f'valid', mode='a')\n",
    "df_test_real.to_hdf( store_dataset, key=f'test' , mode='a')\n",
    "df_valid_test.to_hdf( store_dataset, key=f'valid_test' , mode='a')\n",
    "store_dataset.close()\n"
   ]
  },
  {
   "cell_type": "code",
   "execution_count": null,
   "metadata": {},
   "outputs": [],
   "source": [
    "# 提取需要的变量组成x, 提取vis_cat作为y"
   ]
  }
 ],
 "metadata": {
  "kernelspec": {
   "display_name": "Python 3.10.5 ('seafog')",
   "language": "python",
   "name": "python3"
  },
  "language_info": {
   "codemirror_mode": {
    "name": "ipython",
    "version": 3
   },
   "file_extension": ".py",
   "mimetype": "text/x-python",
   "name": "python",
   "nbconvert_exporter": "python",
   "pygments_lexer": "ipython3",
   "version": "3.10.5"
  },
  "orig_nbformat": 4,
  "vscode": {
   "interpreter": {
    "hash": "25aa29f62e92ae76799ea789abce1a506387a87d8f1f604731622aeb3dfcad13"
   }
  }
 },
 "nbformat": 4,
 "nbformat_minor": 2
}
