{
 "cells": [
  {
   "cell_type": "code",
   "execution_count": 1,
   "metadata": {},
   "outputs": [],
   "source": [
    "import xarray as xr\n",
    "import numpy as np\n",
    "import os\n",
    "import arrow\n",
    "import pandas as pd\n",
    "import metpy.calc as mpcalc\n",
    "from metpy.units import units\n",
    "import glob\n",
    "import re"
   ]
  },
  {
   "cell_type": "code",
   "execution_count": 2,
   "metadata": {},
   "outputs": [],
   "source": [
    "station_file_list = ['59754.20130101-20221031.csv','59757.20130101-20221031.csv', '59758.20130101-20221031.csv']\n",
    "if os.environ['COMPUTERNAME'] == 'DESKTOP-EQAO3M5':\n",
    "  computer_flag = 'home'\n",
    "else:\n",
    "  computer_flag = 'office'\n",
    "\n",
    "if computer_flag == 'home':\n",
    "  root_dir = \"F:/github/pythonScript/seafog/\"\n",
    "else:\n",
    "  root_dir = \"H:/github/python/seafog/\"\n"
   ]
  },
  {
   "cell_type": "code",
   "execution_count": 3,
   "metadata": {},
   "outputs": [
    {
     "name": "stderr",
     "output_type": "stream",
     "text": [
      "C:\\Users\\Henry\\AppData\\Local\\Temp\\ipykernel_2320\\1673744826.py:4: DtypeWarning: Columns (12) have mixed types. Specify dtype option on import or set low_memory=False.\n",
      "  df_59754 = pd.read_csv(file_59754,sep=',',na_values=[9999])\n",
      "C:\\Users\\Henry\\AppData\\Local\\Temp\\ipykernel_2320\\1673744826.py:5: DtypeWarning: Columns (12,112) have mixed types. Specify dtype option on import or set low_memory=False.\n",
      "  df_59757 = pd.read_csv(file_59757,sep=',',na_values=[9999])\n",
      "C:\\Users\\Henry\\AppData\\Local\\Temp\\ipykernel_2320\\1673744826.py:6: DtypeWarning: Columns (112) have mixed types. Specify dtype option on import or set low_memory=False.\n",
      "  df_59758 = pd.read_csv(file_59758,sep=',',na_values=[9999])\n"
     ]
    }
   ],
   "source": [
    "file_59754 = os.path.normpath(os.path.join(root_dir, f'./data/station/{station_file_list[0]}'))\n",
    "file_59757 = os.path.normpath(os.path.join(root_dir, f'./data/station/{station_file_list[1]}'))\n",
    "file_59758 = os.path.normpath(os.path.join(root_dir, f'./data/station/{station_file_list[2]}'))\n",
    "df_59754 = pd.read_csv(file_59754,sep=',',na_values=[9999])\n",
    "df_59757 = pd.read_csv(file_59757,sep=',',na_values=[9999])\n",
    "df_59758 = pd.read_csv(file_59758,sep=',',na_values=[9999])"
   ]
  },
  {
   "cell_type": "code",
   "execution_count": 4,
   "metadata": {},
   "outputs": [],
   "source": [
    "df_59754[\"DDATETIME\"] = pd.to_datetime(df_59754[\"DDATETIME\"])\n",
    "df_59754.index = df_59754[\"DDATETIME\"]\n",
    "\n",
    "df_59757[\"DDATETIME\"] = pd.to_datetime(df_59757[\"DDATETIME\"])\n",
    "df_59757.index = df_59757[\"DDATETIME\"]\n",
    "\n",
    "df_59758[\"DDATETIME\"] = pd.to_datetime(df_59758[\"DDATETIME\"])\n",
    "df_59758.index = df_59758[\"DDATETIME\"]\n",
    "\n",
    "df_59754\n",
    "outerDate = pd.concat([df_59754[\"DDATETIME\"], df_59757[\"DDATETIME\"], df_59758[\"DDATETIME\"]], ignore_index=True)\n",
    "outerDate = outerDate.drop_duplicates()"
   ]
  },
  {
   "cell_type": "code",
   "execution_count": 5,
   "metadata": {},
   "outputs": [],
   "source": [
    "outerDate = outerDate.reset_index(drop=True)\n",
    "df_out = pd.DataFrame(outerDate)"
   ]
  },
  {
   "cell_type": "code",
   "execution_count": 6,
   "metadata": {},
   "outputs": [],
   "source": [
    "vis = np.full_like(outerDate, np.nan, dtype=np.float32)\n",
    "rain01 = np.full_like(outerDate, np.nan, dtype=np.float32)# 过去一小时降水\n",
    "rh =  np.full_like(outerDate, np.nan, dtype=np.float32) # 相对湿度\n"
   ]
  },
  {
   "cell_type": "code",
   "execution_count": 7,
   "metadata": {},
   "outputs": [],
   "source": [
    "for index in  range(len(vis)):\n",
    "    iTime = outerDate.iloc[index]\n",
    "    df_list = [df_59754, df_59757, df_59758]\n",
    "    for i_df in df_list:\n",
    "        if iTime in i_df.index:\n",
    "            if np.isnan(vis[index]) or (vis[index] > i_df.loc[iTime]['V20059']):\n",
    "                vis[index] = i_df.loc[iTime]['V20059']\n",
    "                rain01[index] = i_df.loc[iTime]['V13019']\n",
    "                rh[index] = i_df.loc[iTime]['V13003']\n",
    "\n",
    "## 取最小能见度"
   ]
  },
  {
   "cell_type": "code",
   "execution_count": null,
   "metadata": {},
   "outputs": [],
   "source": [
    "outerDate.iloc[83982]"
   ]
  },
  {
   "cell_type": "code",
   "execution_count": 8,
   "metadata": {},
   "outputs": [],
   "source": [
    "df_out['V20059'] = vis\n",
    "df_out['V13019'] = rain01\n",
    "df_out['V13003'] = rh"
   ]
  },
  {
   "cell_type": "code",
   "execution_count": 9,
   "metadata": {},
   "outputs": [],
   "source": [
    "\n",
    "df_out.loc[(df_out['V20059']<=1000.0) & (df_out['V13003']<=90.0),('V20059')] = np.nan # 去掉相对湿度90%的低能见度事件\n",
    "df_out.dropna(subset=['V20059'], inplace=True)\n",
    "df_out.sort_values(by=['DDATETIME'], inplace=True)\n",
    "df_out.index = df_out['DDATETIME'].values"
   ]
  },
  {
   "cell_type": "code",
   "execution_count": 10,
   "metadata": {},
   "outputs": [
    {
     "name": "stdout",
     "output_type": "stream",
     "text": [
      "                              DDATETIME   V20059  V13019  V13003\n",
      "2013-01-31 04:00:00 2013-01-31 04:00:00  12756.0     0.0    70.0\n",
      "2013-01-31 05:00:00 2013-01-31 05:00:00  22272.0     0.0    64.0\n",
      "2013-01-31 06:00:00 2013-01-31 06:00:00  24547.0     0.0    66.0\n",
      "2013-01-31 07:00:00 2013-01-31 07:00:00  15263.0     0.0    66.0\n",
      "2013-01-31 08:00:00 2013-01-31 08:00:00  18838.0     0.0    74.0\n",
      "...                                 ...      ...     ...     ...\n",
      "2022-10-29 20:00:00 2022-10-29 20:00:00   6622.0     0.0    83.0\n",
      "2022-10-29 21:00:00 2022-10-29 21:00:00   9435.0     0.0    84.0\n",
      "2022-10-29 22:00:00 2022-10-29 22:00:00   9630.0     0.0    78.0\n",
      "2022-10-29 23:00:00 2022-10-29 23:00:00  16545.0     0.0    78.0\n",
      "2022-10-30 00:00:00 2022-10-30 00:00:00  17840.0     0.0    76.0\n",
      "\n",
      "[83381 rows x 4 columns]\n"
     ]
    }
   ],
   "source": [
    "print(df_out)"
   ]
  },
  {
   "cell_type": "code",
   "execution_count": 11,
   "metadata": {},
   "outputs": [
    {
     "data": {
      "text/plain": [
       "<AxesSubplot:>"
      ]
     },
     "execution_count": 11,
     "metadata": {},
     "output_type": "execute_result"
    },
    {
     "data": {
      "image/png": "[encoded data removed]",
      "text/plain": [
       "<Figure size 432x288 with 1 Axes>"
      ]
     },
     "metadata": {
      "needs_background": "light"
     },
     "output_type": "display_data"
    }
   ],
   "source": [
    "df_out['V20059'].plot()"
   ]
  },
  {
   "cell_type": "code",
   "execution_count": 12,
   "metadata": {},
   "outputs": [
    {
     "data": {
      "text/plain": [
       "False    81532\n",
       "True      1849\n",
       "Name: V20059, dtype: int64"
      ]
     },
     "execution_count": 12,
     "metadata": {},
     "output_type": "execute_result"
    }
   ],
   "source": [
    "fog = df_out['V20059']<1000\n",
    "fog.value_counts()"
   ]
  },
  {
   "cell_type": "code",
   "execution_count": 13,
   "metadata": {},
   "outputs": [
    {
     "data": {
      "text/plain": [
       "False    82607\n",
       "True      1375\n",
       "Name: V20059, dtype: int64"
      ]
     },
     "execution_count": 13,
     "metadata": {},
     "output_type": "execute_result"
    }
   ],
   "source": [
    "fog = df_59754['V20059']<1000\n",
    "fog.value_counts()"
   ]
  },
  {
   "cell_type": "code",
   "execution_count": null,
   "metadata": {},
   "outputs": [],
   "source": [
    "df_out.to_csv('all_stations_v2.csv')"
   ]
  }
 ],
 "metadata": {
  "kernelspec": {
   "display_name": "Python 3.10.5 ('seafog')",
   "language": "python",
   "name": "python3"
  },
  "language_info": {
   "codemirror_mode": {
    "name": "ipython",
    "version": 3
   },
   "file_extension": ".py",
   "mimetype": "text/x-python",
   "name": "python",
   "nbconvert_exporter": "python",
   "pygments_lexer": "ipython3",
   "version": "3.10.5"
  },
  "orig_nbformat": 4,
  "vscode": {
   "interpreter": {
    "hash": "25aa29f62e92ae76799ea789abce1a506387a87d8f1f604731622aeb3dfcad13"
   }
  }
 },
 "nbformat": 4,
 "nbformat_minor": 2
}
