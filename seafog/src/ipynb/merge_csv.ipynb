{
 "cells": [
  {
   "cell_type": "code",
   "execution_count": 1,
   "metadata": {},
   "outputs": [],
   "source": [
    "import xarray as xr\n",
    "import numpy as np\n",
    "import os\n",
    "import arrow\n",
    "import pandas as pd\n",
    "import metpy.calc as mpcalc\n",
    "from metpy.units import units\n",
    "import glob\n",
    "import re"
   ]
  },
  {
   "cell_type": "code",
   "execution_count": 2,
   "metadata": {},
   "outputs": [],
   "source": [
    "station_file_list = ['59754.20130101-20221031.csv','59757.20130101-20221031.csv', '59758.20130101-20221031.csv']\n",
    "if os.environ['COMPUTERNAME'] == 'DESKTOP-EQAO3M5':\n",
    "  computer_flag = 'home'\n",
    "else:\n",
    "  computer_flag = 'office'\n",
    "\n",
    "if computer_flag == 'home':\n",
    "  root_dir = \"F:/github/pythonScript/seafog/\"\n",
    "else:\n",
    "  root_dir = \"H:/github/python/seafog/\"\n"
   ]
  },
  {
   "cell_type": "code",
   "execution_count": 3,
   "metadata": {},
   "outputs": [
    {
     "name": "stderr",
     "output_type": "stream",
     "text": [
      "C:\\Users\\Henry\\AppData\\Local\\Temp\\ipykernel_11616\\1673744826.py:4: DtypeWarning: Columns (12) have mixed types. Specify dtype option on import or set low_memory=False.\n",
      "  df_59754 = pd.read_csv(file_59754,sep=',',na_values=[9999])\n",
      "C:\\Users\\Henry\\AppData\\Local\\Temp\\ipykernel_11616\\1673744826.py:5: DtypeWarning: Columns (12,112) have mixed types. Specify dtype option on import or set low_memory=False.\n",
      "  df_59757 = pd.read_csv(file_59757,sep=',',na_values=[9999])\n",
      "C:\\Users\\Henry\\AppData\\Local\\Temp\\ipykernel_11616\\1673744826.py:6: DtypeWarning: Columns (112) have mixed types. Specify dtype option on import or set low_memory=False.\n",
      "  df_59758 = pd.read_csv(file_59758,sep=',',na_values=[9999])\n"
     ]
    }
   ],
   "source": [
    "file_59754 = os.path.normpath(os.path.join(root_dir, f'./data/station/{station_file_list[0]}'))\n",
    "file_59757 = os.path.normpath(os.path.join(root_dir, f'./data/station/{station_file_list[1]}'))\n",
    "file_59758 = os.path.normpath(os.path.join(root_dir, f'./data/station/{station_file_list[2]}'))\n",
    "df_59754 = pd.read_csv(file_59754,sep=',',na_values=[9999])\n",
    "df_59757 = pd.read_csv(file_59757,sep=',',na_values=[9999])\n",
    "df_59758 = pd.read_csv(file_59758,sep=',',na_values=[9999])"
   ]
  },
  {
   "cell_type": "code",
   "execution_count": 30,
   "metadata": {},
   "outputs": [],
   "source": [
    "df_59754[\"DDATETIME\"] = pd.to_datetime(df_59754[\"DDATETIME\"])\n",
    "df_59754.index = df_59754[\"DDATETIME\"]\n",
    "\n",
    "df_59757[\"DDATETIME\"] = pd.to_datetime(df_59757[\"DDATETIME\"])\n",
    "df_59757.index = df_59757[\"DDATETIME\"]\n",
    "\n",
    "df_59758[\"DDATETIME\"] = pd.to_datetime(df_59758[\"DDATETIME\"])\n",
    "df_59758.index = df_59758[\"DDATETIME\"]\n",
    "\n",
    "df_59754\n",
    "outerDate = pd.concat([df_59754[\"DDATETIME\"], df_59757[\"DDATETIME\"], df_59758[\"DDATETIME\"]], ignore_index=True)\n",
    "outerDate = outerDate.drop_duplicates()"
   ]
  },
  {
   "cell_type": "code",
   "execution_count": 48,
   "metadata": {},
   "outputs": [
    {
     "data": {
      "text/plain": [
       "0       2013-01-31 04:00:00\n",
       "1       2013-01-31 05:00:00\n",
       "2       2013-01-31 06:00:00\n",
       "3       2013-01-31 07:00:00\n",
       "4       2013-01-31 08:00:00\n",
       "                ...        \n",
       "84062   2013-03-28 20:00:00\n",
       "84063   2013-03-29 19:00:00\n",
       "84064   2013-12-06 23:00:00\n",
       "84065   2014-01-04 17:00:00\n",
       "84066   2015-09-06 04:00:00\n",
       "Name: DDATETIME, Length: 84067, dtype: datetime64[ns]"
      ]
     },
     "execution_count": 48,
     "metadata": {},
     "output_type": "execute_result"
    }
   ],
   "source": []
  },
  {
   "cell_type": "code",
   "execution_count": 49,
   "metadata": {},
   "outputs": [],
   "source": [
    "outerDate = outerDate.reset_index(drop=True)\n",
    "df_out = pd.DataFrame(outerDate)"
   ]
  },
  {
   "cell_type": "code",
   "execution_count": 56,
   "metadata": {},
   "outputs": [],
   "source": [
    "vis = np.full_like(outerDate, np.nan, dtype=np.float32)\n",
    "rain01 = np.full_like(outerDate, np.nan, dtype=np.float32)\n",
    "\n"
   ]
  },
  {
   "cell_type": "code",
   "execution_count": 57,
   "metadata": {},
   "outputs": [],
   "source": [
    "for index in  range(len(vis)):\n",
    "    iTime = outerDate.iloc[index]\n",
    "    df_list = [df_59754, df_59757, df_59758]\n",
    "    for i_df in df_list:\n",
    "        if iTime in i_df.index:\n",
    "            if np.isnan(vis[index]) or (vis[index] > i_df.loc[iTime]['V20059']):\n",
    "                vis[index] = i_df.loc[iTime]['V20059']\n",
    "                rain01[index] = i_df.loc[iTime]['V13019']\n",
    "\n"
   ]
  },
  {
   "cell_type": "code",
   "execution_count": 66,
   "metadata": {},
   "outputs": [
    {
     "data": {
      "text/plain": [
       "Timestamp('2013-02-01 21:00:00')"
      ]
     },
     "execution_count": 66,
     "metadata": {},
     "output_type": "execute_result"
    }
   ],
   "source": [
    "outerDate.iloc[83982]"
   ]
  },
  {
   "cell_type": "code",
   "execution_count": 67,
   "metadata": {},
   "outputs": [],
   "source": [
    "test = df_59758['V20059']"
   ]
  },
  {
   "cell_type": "code",
   "execution_count": 65,
   "metadata": {},
   "outputs": [
    {
     "data": {
      "text/plain": [
       "nan"
      ]
     },
     "execution_count": 65,
     "metadata": {},
     "output_type": "execute_result"
    }
   ],
   "source": [
    "iTime = outerDate.iloc[83982]\n",
    "df_59758.loc[iTime]['V20059']"
   ]
  },
  {
   "cell_type": "code",
   "execution_count": 60,
   "metadata": {},
   "outputs": [],
   "source": [
    "df_out['V20059'] = vis\n",
    "df_out['V13019'] = rain01"
   ]
  },
  {
   "cell_type": "code",
   "execution_count": 83,
   "metadata": {},
   "outputs": [
    {
     "ename": "ValueError",
     "evalue": "'DDATETIME' is both an index level and a column label, which is ambiguous.",
     "output_type": "error",
     "traceback": [
      "\u001b[1;31m---------------------------------------------------------------------------\u001b[0m",
      "\u001b[1;31mValueError\u001b[0m                                Traceback (most recent call last)",
      "\u001b[1;32mf:\\github\\pythonScript\\seafog\\src\\ipynb\\merge_csv.ipynb Cell 13\u001b[0m in \u001b[0;36m<cell line: 4>\u001b[1;34m()\u001b[0m\n\u001b[0;32m      <a href='vscode-notebook-cell:/f%3A/github/pythonScript/seafog/src/ipynb/merge_csv.ipynb#X26sZmlsZQ%3D%3D?line=0'>1</a>\u001b[0m \u001b[39m# TODO sort index\u001b[39;00m\n\u001b[0;32m      <a href='vscode-notebook-cell:/f%3A/github/pythonScript/seafog/src/ipynb/merge_csv.ipynb#X26sZmlsZQ%3D%3D?line=1'>2</a>\u001b[0m \u001b[39m# TODO drop NaN values\u001b[39;00m\n\u001b[0;32m      <a href='vscode-notebook-cell:/f%3A/github/pythonScript/seafog/src/ipynb/merge_csv.ipynb#X26sZmlsZQ%3D%3D?line=2'>3</a>\u001b[0m df_out\u001b[39m.\u001b[39mdropna(subset\u001b[39m=\u001b[39m[\u001b[39m'\u001b[39m\u001b[39mV20059\u001b[39m\u001b[39m'\u001b[39m],inplace\u001b[39m=\u001b[39m\u001b[39mTrue\u001b[39;00m)\n\u001b[1;32m----> <a href='vscode-notebook-cell:/f%3A/github/pythonScript/seafog/src/ipynb/merge_csv.ipynb#X26sZmlsZQ%3D%3D?line=3'>4</a>\u001b[0m df_out\u001b[39m.\u001b[39;49msort_values(by\u001b[39m=\u001b[39;49m[\u001b[39m'\u001b[39;49m\u001b[39mDDATETIME\u001b[39;49m\u001b[39m'\u001b[39;49m], inplace\u001b[39m=\u001b[39;49m\u001b[39mTrue\u001b[39;49;00m)\n\u001b[0;32m      <a href='vscode-notebook-cell:/f%3A/github/pythonScript/seafog/src/ipynb/merge_csv.ipynb#X26sZmlsZQ%3D%3D?line=4'>5</a>\u001b[0m df_out\u001b[39m.\u001b[39mindex \u001b[39m=\u001b[39m df_out[\u001b[39m'\u001b[39m\u001b[39mDDATETIME\u001b[39m\u001b[39m'\u001b[39m]\u001b[39m.\u001b[39mvalues\n",
      "File \u001b[1;32me:\\greenProgram\\anaconda\\envs\\seafog\\lib\\site-packages\\pandas\\util\\_decorators.py:311\u001b[0m, in \u001b[0;36mdeprecate_nonkeyword_arguments.<locals>.decorate.<locals>.wrapper\u001b[1;34m(*args, **kwargs)\u001b[0m\n\u001b[0;32m    305\u001b[0m \u001b[39mif\u001b[39;00m \u001b[39mlen\u001b[39m(args) \u001b[39m>\u001b[39m num_allow_args:\n\u001b[0;32m    306\u001b[0m     warnings\u001b[39m.\u001b[39mwarn(\n\u001b[0;32m    307\u001b[0m         msg\u001b[39m.\u001b[39mformat(arguments\u001b[39m=\u001b[39marguments),\n\u001b[0;32m    308\u001b[0m         \u001b[39mFutureWarning\u001b[39;00m,\n\u001b[0;32m    309\u001b[0m         stacklevel\u001b[39m=\u001b[39mstacklevel,\n\u001b[0;32m    310\u001b[0m     )\n\u001b[1;32m--> 311\u001b[0m \u001b[39mreturn\u001b[39;00m func(\u001b[39m*\u001b[39margs, \u001b[39m*\u001b[39m\u001b[39m*\u001b[39mkwargs)\n",
      "File \u001b[1;32me:\\greenProgram\\anaconda\\envs\\seafog\\lib\\site-packages\\pandas\\core\\frame.py:6319\u001b[0m, in \u001b[0;36mDataFrame.sort_values\u001b[1;34m(self, by, axis, ascending, inplace, kind, na_position, ignore_index, key)\u001b[0m\n\u001b[0;32m   6315\u001b[0m \u001b[39melif\u001b[39;00m \u001b[39mlen\u001b[39m(by):\n\u001b[0;32m   6316\u001b[0m     \u001b[39m# len(by) == 1\u001b[39;00m\n\u001b[0;32m   6318\u001b[0m     by \u001b[39m=\u001b[39m by[\u001b[39m0\u001b[39m]\n\u001b[1;32m-> 6319\u001b[0m     k \u001b[39m=\u001b[39m \u001b[39mself\u001b[39;49m\u001b[39m.\u001b[39;49m_get_label_or_level_values(by, axis\u001b[39m=\u001b[39;49maxis)\n\u001b[0;32m   6321\u001b[0m     \u001b[39m# need to rewrap column in Series to apply key function\u001b[39;00m\n\u001b[0;32m   6322\u001b[0m     \u001b[39mif\u001b[39;00m key \u001b[39mis\u001b[39;00m \u001b[39mnot\u001b[39;00m \u001b[39mNone\u001b[39;00m:\n\u001b[0;32m   6323\u001b[0m         \u001b[39m# error: Incompatible types in assignment (expression has type\u001b[39;00m\n\u001b[0;32m   6324\u001b[0m         \u001b[39m# \"Series\", variable has type \"ndarray\")\u001b[39;00m\n",
      "File \u001b[1;32me:\\greenProgram\\anaconda\\envs\\seafog\\lib\\site-packages\\pandas\\core\\generic.py:1835\u001b[0m, in \u001b[0;36mNDFrame._get_label_or_level_values\u001b[1;34m(self, key, axis)\u001b[0m\n\u001b[0;32m   1832\u001b[0m other_axes \u001b[39m=\u001b[39m [ax \u001b[39mfor\u001b[39;00m ax \u001b[39min\u001b[39;00m \u001b[39mrange\u001b[39m(\u001b[39mself\u001b[39m\u001b[39m.\u001b[39m_AXIS_LEN) \u001b[39mif\u001b[39;00m ax \u001b[39m!=\u001b[39m axis]\n\u001b[0;32m   1834\u001b[0m \u001b[39mif\u001b[39;00m \u001b[39mself\u001b[39m\u001b[39m.\u001b[39m_is_label_reference(key, axis\u001b[39m=\u001b[39maxis):\n\u001b[1;32m-> 1835\u001b[0m     \u001b[39mself\u001b[39;49m\u001b[39m.\u001b[39;49m_check_label_or_level_ambiguity(key, axis\u001b[39m=\u001b[39;49maxis)\n\u001b[0;32m   1836\u001b[0m     values \u001b[39m=\u001b[39m \u001b[39mself\u001b[39m\u001b[39m.\u001b[39mxs(key, axis\u001b[39m=\u001b[39mother_axes[\u001b[39m0\u001b[39m])\u001b[39m.\u001b[39m_values\n\u001b[0;32m   1837\u001b[0m \u001b[39melif\u001b[39;00m \u001b[39mself\u001b[39m\u001b[39m.\u001b[39m_is_level_reference(key, axis\u001b[39m=\u001b[39maxis):\n",
      "File \u001b[1;32me:\\greenProgram\\anaconda\\envs\\seafog\\lib\\site-packages\\pandas\\core\\generic.py:1794\u001b[0m, in \u001b[0;36mNDFrame._check_label_or_level_ambiguity\u001b[1;34m(self, key, axis)\u001b[0m\n\u001b[0;32m   1786\u001b[0m label_article, label_type \u001b[39m=\u001b[39m (\n\u001b[0;32m   1787\u001b[0m     (\u001b[39m\"\u001b[39m\u001b[39ma\u001b[39m\u001b[39m\"\u001b[39m, \u001b[39m\"\u001b[39m\u001b[39mcolumn\u001b[39m\u001b[39m\"\u001b[39m) \u001b[39mif\u001b[39;00m axis \u001b[39m==\u001b[39m \u001b[39m0\u001b[39m \u001b[39melse\u001b[39;00m (\u001b[39m\"\u001b[39m\u001b[39man\u001b[39m\u001b[39m\"\u001b[39m, \u001b[39m\"\u001b[39m\u001b[39mindex\u001b[39m\u001b[39m\"\u001b[39m)\n\u001b[0;32m   1788\u001b[0m )\n\u001b[0;32m   1790\u001b[0m msg \u001b[39m=\u001b[39m (\n\u001b[0;32m   1791\u001b[0m     \u001b[39mf\u001b[39m\u001b[39m\"\u001b[39m\u001b[39m'\u001b[39m\u001b[39m{\u001b[39;00mkey\u001b[39m}\u001b[39;00m\u001b[39m'\u001b[39m\u001b[39m is both \u001b[39m\u001b[39m{\u001b[39;00mlevel_article\u001b[39m}\u001b[39;00m\u001b[39m \u001b[39m\u001b[39m{\u001b[39;00mlevel_type\u001b[39m}\u001b[39;00m\u001b[39m level and \u001b[39m\u001b[39m\"\u001b[39m\n\u001b[0;32m   1792\u001b[0m     \u001b[39mf\u001b[39m\u001b[39m\"\u001b[39m\u001b[39m{\u001b[39;00mlabel_article\u001b[39m}\u001b[39;00m\u001b[39m \u001b[39m\u001b[39m{\u001b[39;00mlabel_type\u001b[39m}\u001b[39;00m\u001b[39m label, which is ambiguous.\u001b[39m\u001b[39m\"\u001b[39m\n\u001b[0;32m   1793\u001b[0m )\n\u001b[1;32m-> 1794\u001b[0m \u001b[39mraise\u001b[39;00m \u001b[39mValueError\u001b[39;00m(msg)\n",
      "\u001b[1;31mValueError\u001b[0m: 'DDATETIME' is both an index level and a column label, which is ambiguous."
     ]
    }
   ],
   "source": [
    "# TODO sort index\n",
    "# TODO drop NaN values\n",
    "df_out.dropna(subset=['V20059'],inplace=True)\n",
    "df_out.sort_values(by=['DDATETIME'], inplace=True)\n",
    "df_out.index = df_out['DDATETIME'].values"
   ]
  },
  {
   "cell_type": "code",
   "execution_count": 84,
   "metadata": {},
   "outputs": [
    {
     "name": "stdout",
     "output_type": "stream",
     "text": [
      "                              DDATETIME   V20059  V13019\n",
      "DDATETIME                                               \n",
      "2013-01-31 04:00:00 2013-01-31 04:00:00  12756.0     0.0\n",
      "2013-01-31 05:00:00 2013-01-31 05:00:00  22272.0     0.0\n",
      "2013-01-31 06:00:00 2013-01-31 06:00:00  24547.0     0.0\n",
      "2013-01-31 07:00:00 2013-01-31 07:00:00  15263.0     0.0\n",
      "2013-01-31 08:00:00 2013-01-31 08:00:00  18838.0     0.0\n",
      "...                                 ...      ...     ...\n",
      "2022-10-29 20:00:00 2022-10-29 20:00:00   6622.0     0.0\n",
      "2022-10-29 21:00:00 2022-10-29 21:00:00   9435.0     0.0\n",
      "2022-10-29 22:00:00 2022-10-29 22:00:00   9630.0     0.0\n",
      "2022-10-29 23:00:00 2022-10-29 23:00:00  16545.0     0.0\n",
      "2022-10-30 00:00:00 2022-10-30 00:00:00  17840.0     0.0\n",
      "\n",
      "[83517 rows x 3 columns]\n"
     ]
    }
   ],
   "source": [
    "print(df_out)"
   ]
  },
  {
   "cell_type": "code",
   "execution_count": 73,
   "metadata": {},
   "outputs": [
    {
     "data": {
      "text/plain": [
       "<AxesSubplot:xlabel='DDATETIME'>"
      ]
     },
     "execution_count": 73,
     "metadata": {},
     "output_type": "execute_result"
    },
    {
     "data": {
      "image/png": "[encoded data removed]",
      "text/plain": [
       "<Figure size 432x288 with 1 Axes>"
      ]
     },
     "metadata": {
      "needs_background": "light"
     },
     "output_type": "display_data"
    }
   ],
   "source": [
    "df_out['V20059'].plot()"
   ]
  },
  {
   "cell_type": "code",
   "execution_count": 81,
   "metadata": {},
   "outputs": [
    {
     "data": {
      "text/plain": [
       "False    81532\n",
       "True      1985\n",
       "Name: V20059, dtype: int64"
      ]
     },
     "execution_count": 81,
     "metadata": {},
     "output_type": "execute_result"
    }
   ],
   "source": [
    "fog = df_out['V20059']<1000\n",
    "fog.value_counts()"
   ]
  },
  {
   "cell_type": "code",
   "execution_count": 80,
   "metadata": {},
   "outputs": [
    {
     "data": {
      "text/plain": [
       "False    82607\n",
       "True      1375\n",
       "Name: V20059, dtype: int64"
      ]
     },
     "execution_count": 80,
     "metadata": {},
     "output_type": "execute_result"
    }
   ],
   "source": [
    "fog = df_59754['V20059']<1000\n",
    "fog.value_counts()"
   ]
  },
  {
   "cell_type": "code",
   "execution_count": 85,
   "metadata": {},
   "outputs": [],
   "source": [
    "df_out.to_csv('all_stations.csv')"
   ]
  }
 ],
 "metadata": {
  "kernelspec": {
   "display_name": "Python 3.10.5 ('seafog')",
   "language": "python",
   "name": "python3"
  },
  "language_info": {
   "codemirror_mode": {
    "name": "ipython",
    "version": 3
   },
   "file_extension": ".py",
   "mimetype": "text/x-python",
   "name": "python",
   "nbconvert_exporter": "python",
   "pygments_lexer": "ipython3",
   "version": "3.10.5"
  },
  "orig_nbformat": 4,
  "vscode": {
   "interpreter": {
    "hash": "25aa29f62e92ae76799ea789abce1a506387a87d8f1f604731622aeb3dfcad13"
   }
  }
 },
 "nbformat": 4,
 "nbformat_minor": 2
}
